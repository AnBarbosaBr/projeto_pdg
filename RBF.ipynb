{
 "cells": [
  {
   "cell_type": "code",
   "execution_count": 45,
   "metadata": {},
   "outputs": [],
   "source": [
    "import pandas as pd\n",
    "import numpy as np\n",
    "\n",
    "import sklearn.cluster\n",
    "from sklearn.model_selection import train_test_split\n",
    "from sklearn.metrics.pairwise import euclidean_distances"
   ]
  },
  {
   "cell_type": "code",
   "execution_count": 25,
   "metadata": {},
   "outputs": [],
   "source": [
    "seed = 42\n",
    "k = 6"
   ]
  },
  {
   "cell_type": "code",
   "execution_count": 26,
   "metadata": {},
   "outputs": [],
   "source": [
    "from sklearn import datasets"
   ]
  },
  {
   "cell_type": "code",
   "execution_count": 27,
   "metadata": {},
   "outputs": [],
   "source": [
    "iris = datasets.load_iris()"
   ]
  },
  {
   "cell_type": "code",
   "execution_count": 28,
   "metadata": {},
   "outputs": [],
   "source": [
    "X = iris.data\n",
    "y = iris.target"
   ]
  },
  {
   "cell_type": "code",
   "execution_count": 31,
   "metadata": {},
   "outputs": [],
   "source": [
    "X_treino, X_teste, y_treino, y_teste = train_test_split(X, y, test_size = 50, random_state = seed)"
   ]
  },
  {
   "cell_type": "code",
   "execution_count": 36,
   "metadata": {},
   "outputs": [],
   "source": [
    "kmeans = sklearn.cluster.KMeans(n_clusters = k, random_state = seed)"
   ]
  },
  {
   "cell_type": "code",
   "execution_count": 37,
   "metadata": {},
   "outputs": [
    {
     "data": {
      "text/plain": [
       "KMeans(algorithm='auto', copy_x=True, init='k-means++', max_iter=300,\n",
       "       n_clusters=6, n_init=10, n_jobs=None, precompute_distances='auto',\n",
       "       random_state=42, tol=0.0001, verbose=0)"
      ]
     },
     "execution_count": 37,
     "metadata": {},
     "output_type": "execute_result"
    }
   ],
   "source": [
    "kmeans.fit(X_treino)"
   ]
  },
  {
   "cell_type": "code",
   "execution_count": 40,
   "metadata": {
    "scrolled": true
   },
   "outputs": [
    {
     "data": {
      "text/html": [
       "<div>\n",
       "<style scoped>\n",
       "    .dataframe tbody tr th:only-of-type {\n",
       "        vertical-align: middle;\n",
       "    }\n",
       "\n",
       "    .dataframe tbody tr th {\n",
       "        vertical-align: top;\n",
       "    }\n",
       "\n",
       "    .dataframe thead th {\n",
       "        text-align: right;\n",
       "    }\n",
       "</style>\n",
       "<table border=\"1\" class=\"dataframe\">\n",
       "  <thead>\n",
       "    <tr style=\"text-align: right;\">\n",
       "      <th></th>\n",
       "      <th>0</th>\n",
       "      <th>1</th>\n",
       "      <th>2</th>\n",
       "      <th>3</th>\n",
       "    </tr>\n",
       "  </thead>\n",
       "  <tbody>\n",
       "    <tr>\n",
       "      <th>0</th>\n",
       "      <td>7.433333</td>\n",
       "      <td>3.055556</td>\n",
       "      <td>6.244444</td>\n",
       "      <td>1.977778</td>\n",
       "    </tr>\n",
       "    <tr>\n",
       "      <th>1</th>\n",
       "      <td>4.964516</td>\n",
       "      <td>3.377419</td>\n",
       "      <td>1.464516</td>\n",
       "      <td>0.248387</td>\n",
       "    </tr>\n",
       "    <tr>\n",
       "      <th>2</th>\n",
       "      <td>5.650000</td>\n",
       "      <td>2.733333</td>\n",
       "      <td>4.177778</td>\n",
       "      <td>1.311111</td>\n",
       "    </tr>\n",
       "    <tr>\n",
       "      <th>3</th>\n",
       "      <td>6.553846</td>\n",
       "      <td>3.169231</td>\n",
       "      <td>5.553846</td>\n",
       "      <td>2.200000</td>\n",
       "    </tr>\n",
       "    <tr>\n",
       "      <th>4</th>\n",
       "      <td>6.200000</td>\n",
       "      <td>2.795652</td>\n",
       "      <td>4.878261</td>\n",
       "      <td>1.652174</td>\n",
       "    </tr>\n",
       "    <tr>\n",
       "      <th>5</th>\n",
       "      <td>5.200000</td>\n",
       "      <td>2.366667</td>\n",
       "      <td>3.400000</td>\n",
       "      <td>1.033333</td>\n",
       "    </tr>\n",
       "  </tbody>\n",
       "</table>\n",
       "</div>"
      ],
      "text/plain": [
       "          0         1         2         3\n",
       "0  7.433333  3.055556  6.244444  1.977778\n",
       "1  4.964516  3.377419  1.464516  0.248387\n",
       "2  5.650000  2.733333  4.177778  1.311111\n",
       "3  6.553846  3.169231  5.553846  2.200000\n",
       "4  6.200000  2.795652  4.878261  1.652174\n",
       "5  5.200000  2.366667  3.400000  1.033333"
      ]
     },
     "execution_count": 40,
     "metadata": {},
     "output_type": "execute_result"
    }
   ],
   "source": [
    "centros = kmeans.cluster_centers_ \n",
    "# pd.DataFrame(centros)"
   ]
  },
  {
   "cell_type": "code",
   "execution_count": 47,
   "metadata": {},
   "outputs": [
    {
     "data": {
      "text/plain": [
       "array([2, 0, 2, 1, 0, 2, 1, 1, 1, 5, 4, 1, 1, 1, 2, 1, 2, 0, 1, 2, 4, 1,\n",
       "       4, 4, 2, 2, 3, 2, 1, 5, 4, 1, 1, 5, 4, 1, 4, 1, 1, 4, 5, 3, 4, 4,\n",
       "       0, 2, 1, 1, 4, 0, 1, 1, 1, 4, 3, 1, 3, 3, 1, 4, 4, 4, 4, 3, 1, 3,\n",
       "       2, 3, 5, 2, 4, 1, 4, 2, 1, 2, 0, 3, 1, 5, 3, 0, 1, 3, 1, 4, 0, 3,\n",
       "       2, 3, 4, 4, 4, 4, 1, 2, 2, 1, 2, 0])"
      ]
     },
     "execution_count": 47,
     "metadata": {},
     "output_type": "execute_result"
    }
   ],
   "source": [
    "classificados = kmeans.predict(X_treino)\n",
    "# classificados"
   ]
  },
  {
   "cell_type": "code",
   "execution_count": 76,
   "metadata": {},
   "outputs": [
    {
     "data": {
      "text/html": [
       "<div>\n",
       "<style scoped>\n",
       "    .dataframe tbody tr th:only-of-type {\n",
       "        vertical-align: middle;\n",
       "    }\n",
       "\n",
       "    .dataframe tbody tr th {\n",
       "        vertical-align: top;\n",
       "    }\n",
       "\n",
       "    .dataframe thead th {\n",
       "        text-align: right;\n",
       "    }\n",
       "</style>\n",
       "<table border=\"1\" class=\"dataframe\">\n",
       "  <thead>\n",
       "    <tr style=\"text-align: right;\">\n",
       "      <th></th>\n",
       "      <th>0</th>\n",
       "      <th>1</th>\n",
       "      <th>2</th>\n",
       "      <th>3</th>\n",
       "      <th>4</th>\n",
       "      <th>5</th>\n",
       "    </tr>\n",
       "  </thead>\n",
       "  <tbody>\n",
       "    <tr>\n",
       "      <th>0</th>\n",
       "      <td>2.769075</td>\n",
       "      <td>3.059024</td>\n",
       "      <td>0.175770</td>\n",
       "      <td>1.855920</td>\n",
       "      <td>0.919213</td>\n",
       "      <td>1.116045</td>\n",
       "    </tr>\n",
       "    <tr>\n",
       "      <th>1</th>\n",
       "      <td>0.414997</td>\n",
       "      <td>6.073704</td>\n",
       "      <td>3.219180</td>\n",
       "      <td>1.492486</td>\n",
       "      <td>2.273036</td>\n",
       "      <td>4.187946</td>\n",
       "    </tr>\n",
       "    <tr>\n",
       "      <th>2</th>\n",
       "      <td>2.575957</td>\n",
       "      <td>3.365558</td>\n",
       "      <td>0.461646</td>\n",
       "      <td>1.593441</td>\n",
       "      <td>0.753655</td>\n",
       "      <td>1.410280</td>\n",
       "    </tr>\n",
       "    <tr>\n",
       "      <th>3</th>\n",
       "      <td>5.680767</td>\n",
       "      <td>0.199714</td>\n",
       "      <td>3.137020</td>\n",
       "      <td>4.845360</td>\n",
       "      <td>3.989137</td>\n",
       "      <td>2.447221</td>\n",
       "    </tr>\n",
       "    <tr>\n",
       "      <th>4</th>\n",
       "      <td>0.586894</td>\n",
       "      <td>6.188273</td>\n",
       "      <td>3.323119</td>\n",
       "      <td>1.674416</td>\n",
       "      <td>2.385317</td>\n",
       "      <td>4.273432</td>\n",
       "    </tr>\n",
       "    <tr>\n",
       "      <th>...</th>\n",
       "      <td>...</td>\n",
       "      <td>...</td>\n",
       "      <td>...</td>\n",
       "      <td>...</td>\n",
       "      <td>...</td>\n",
       "      <td>...</td>\n",
       "    </tr>\n",
       "    <tr>\n",
       "      <th>95</th>\n",
       "      <td>2.709243</td>\n",
       "      <td>3.026104</td>\n",
       "      <td>0.488542</td>\n",
       "      <td>1.888583</td>\n",
       "      <td>0.951519</td>\n",
       "      <td>1.195361</td>\n",
       "    </tr>\n",
       "    <tr>\n",
       "      <th>96</th>\n",
       "      <td>3.137940</td>\n",
       "      <td>3.477840</td>\n",
       "      <td>0.933813</td>\n",
       "      <td>2.131588</td>\n",
       "      <td>1.386643</td>\n",
       "      <td>1.327487</td>\n",
       "    </tr>\n",
       "    <tr>\n",
       "      <th>97</th>\n",
       "      <td>5.671567</td>\n",
       "      <td>1.076081</td>\n",
       "      <td>3.424715</td>\n",
       "      <td>4.920817</td>\n",
       "      <td>4.153175</td>\n",
       "      <td>2.926128</td>\n",
       "    </tr>\n",
       "    <tr>\n",
       "      <th>98</th>\n",
       "      <td>2.918523</td>\n",
       "      <td>2.938819</td>\n",
       "      <td>0.290221</td>\n",
       "      <td>2.075270</td>\n",
       "      <td>1.083551</td>\n",
       "      <td>0.895669</td>\n",
       "    </tr>\n",
       "    <tr>\n",
       "      <th>99</th>\n",
       "      <td>0.497773</td>\n",
       "      <td>5.273019</td>\n",
       "      <td>2.400418</td>\n",
       "      <td>0.675830</td>\n",
       "      <td>1.447846</td>\n",
       "      <td>3.376224</td>\n",
       "    </tr>\n",
       "  </tbody>\n",
       "</table>\n",
       "<p>100 rows × 6 columns</p>\n",
       "</div>"
      ],
      "text/plain": [
       "           0         1         2         3         4         5\n",
       "0   2.769075  3.059024  0.175770  1.855920  0.919213  1.116045\n",
       "1   0.414997  6.073704  3.219180  1.492486  2.273036  4.187946\n",
       "2   2.575957  3.365558  0.461646  1.593441  0.753655  1.410280\n",
       "3   5.680767  0.199714  3.137020  4.845360  3.989137  2.447221\n",
       "4   0.586894  6.188273  3.323119  1.674416  2.385317  4.273432\n",
       "..       ...       ...       ...       ...       ...       ...\n",
       "95  2.709243  3.026104  0.488542  1.888583  0.951519  1.195361\n",
       "96  3.137940  3.477840  0.933813  2.131588  1.386643  1.327487\n",
       "97  5.671567  1.076081  3.424715  4.920817  4.153175  2.926128\n",
       "98  2.918523  2.938819  0.290221  2.075270  1.083551  0.895669\n",
       "99  0.497773  5.273019  2.400418  0.675830  1.447846  3.376224\n",
       "\n",
       "[100 rows x 6 columns]"
      ]
     },
     "execution_count": 76,
     "metadata": {},
     "output_type": "execute_result"
    }
   ],
   "source": [
    "distancias_para_cada_centro = euclidean_distances(X_treino, centros)\n",
    "distancias_para_cada_centro"
   ]
  },
  {
   "cell_type": "code",
   "execution_count": 235,
   "metadata": {},
   "outputs": [],
   "source": [
    "df_distancias = pd.DataFrame(distancias_para_cada_centro)\n",
    "df_distancias['classe'] = classificados"
   ]
  },
  {
   "cell_type": "code",
   "execution_count": 236,
   "metadata": {},
   "outputs": [],
   "source": [
    "distancias_medias = df_distancias.groupby('classe').mean()\n",
    "medias_por_grupo = np.diag(medias)"
   ]
  },
  {
   "cell_type": "code",
   "execution_count": 237,
   "metadata": {},
   "outputs": [],
   "source": [
    "desvios = df_distancias.groupby('classe').std()\n",
    "desvios_por_grupo = np.diag(desvios)"
   ]
  },
  {
   "cell_type": "code",
   "execution_count": 238,
   "metadata": {},
   "outputs": [],
   "source": [
    "def make_gaussian_kernel(center, sigma):\n",
    "    variance = sigma**2\n",
    "    gamma = 2*(variance)\n",
    "    reshaped_center = np.reshape(center, newshape = (1,-1))\n",
    "    def gaussian(x):\n",
    "        dist = euclidean_distances(x, reshaped_center, squared=True)\n",
    "        normalization_constant = 1/(2*np.pi*variance)\n",
    "        return  normalization_constant * np.exp(-(dist/gamma))\n",
    "    return gaussian"
   ]
  },
  {
   "cell_type": "code",
   "execution_count": 244,
   "metadata": {},
   "outputs": [],
   "source": [
    "kernels = list()\n",
    "for cluster_alvo in range(k):\n",
    "    alvos = X_treino[classificados==cluster_alvo]\n",
    "    kernel = make_gaussian_kernel(centros[cluster_alvo], desvios_por_grupo[cluster_alvo])\n",
    "    kernels.append(kernel)"
   ]
  },
  {
   "cell_type": "code",
   "execution_count": 256,
   "metadata": {},
   "outputs": [],
   "source": [
    "features = list()\n",
    "for kernel in kernels:\n",
    "    features.append(kernel(X_treino))\n",
    "\n",
    "\n",
    "\n",
    "    \n",
    "    "
   ]
  },
  {
   "cell_type": "code",
   "execution_count": 261,
   "metadata": {},
   "outputs": [],
   "source": [
    "transformed_input = pd.DataFrame(np.concatenate(features, axis = 1))"
   ]
  },
  {
   "cell_type": "code",
   "execution_count": 268,
   "metadata": {},
   "outputs": [],
   "source": [
    "regression = LogisticRegression()"
   ]
  },
  {
   "cell_type": "code",
   "execution_count": 269,
   "metadata": {},
   "outputs": [
    {
     "name": "stderr",
     "output_type": "stream",
     "text": [
      "C:\\Users\\barban01\\AppData\\Local\\Continuum\\miniconda3\\envs\\pdg\\lib\\site-packages\\sklearn\\linear_model\\logistic.py:432: FutureWarning: Default solver will be changed to 'lbfgs' in 0.22. Specify a solver to silence this warning.\n",
      "  FutureWarning)\n",
      "C:\\Users\\barban01\\AppData\\Local\\Continuum\\miniconda3\\envs\\pdg\\lib\\site-packages\\sklearn\\linear_model\\logistic.py:469: FutureWarning: Default multi_class will be changed to 'auto' in 0.22. Specify the multi_class option to silence this warning.\n",
      "  \"this warning.\", FutureWarning)\n"
     ]
    },
    {
     "data": {
      "text/plain": [
       "LogisticRegression(C=1.0, class_weight=None, dual=False, fit_intercept=True,\n",
       "                   intercept_scaling=1, l1_ratio=None, max_iter=100,\n",
       "                   multi_class='warn', n_jobs=None, penalty='l2',\n",
       "                   random_state=None, solver='warn', tol=0.0001, verbose=0,\n",
       "                   warm_start=False)"
      ]
     },
     "execution_count": 269,
     "metadata": {},
     "output_type": "execute_result"
    }
   ],
   "source": [
    "regression.fit(transformed_input, y_treino)"
   ]
  },
  {
   "cell_type": "code",
   "execution_count": 275,
   "metadata": {},
   "outputs": [],
   "source": [
    "predicoes = regression.predict(transformed_input)"
   ]
  },
  {
   "cell_type": "code",
   "execution_count": 279,
   "metadata": {},
   "outputs": [],
   "source": [
    "import sklearn.metrics\n",
    "from sklearn.linear_model import LogisticRegression"
   ]
  },
  {
   "cell_type": "code",
   "execution_count": 280,
   "metadata": {},
   "outputs": [
    {
     "data": {
      "text/plain": [
       "array([[[69,  0],\n",
       "        [ 8, 23]],\n",
       "\n",
       "       [[65,  0],\n",
       "        [17, 18]],\n",
       "\n",
       "       [[41, 25],\n",
       "        [ 0, 34]]], dtype=int64)"
      ]
     },
     "execution_count": 280,
     "metadata": {},
     "output_type": "execute_result"
    }
   ],
   "source": [
    "sklearn.metrics.multilabel_confusion_matrix(y_true = y_treino, y_pred = predicoes)"
   ]
  },
  {
   "cell_type": "code",
   "execution_count": 283,
   "metadata": {},
   "outputs": [
    {
     "data": {
      "text/plain": [
       "0.75"
      ]
     },
     "execution_count": 283,
     "metadata": {},
     "output_type": "execute_result"
    }
   ],
   "source": [
    "sklearn.metrics.accuracy_score(y_treino, predicoes)"
   ]
  },
  {
   "cell_type": "code",
   "execution_count": null,
   "metadata": {},
   "outputs": [],
   "source": []
  }
 ],
 "metadata": {
  "kernelspec": {
   "display_name": "Python 3",
   "language": "python",
   "name": "python3"
  },
  "language_info": {
   "codemirror_mode": {
    "name": "ipython",
    "version": 3
   },
   "file_extension": ".py",
   "mimetype": "text/x-python",
   "name": "python",
   "nbconvert_exporter": "python",
   "pygments_lexer": "ipython3",
   "version": "3.7.3"
  }
 },
 "nbformat": 4,
 "nbformat_minor": 2
}
