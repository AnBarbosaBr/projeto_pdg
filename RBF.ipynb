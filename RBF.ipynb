{
 "cells": [
  {
   "cell_type": "code",
   "execution_count": 65,
   "metadata": {
    "ExecuteTime": {
     "end_time": "2019-11-27T11:29:30.856681Z",
     "start_time": "2019-11-27T11:29:30.848682Z"
    }
   },
   "outputs": [],
   "source": [
    "import pandas as pd\n",
    "import numpy as np\n",
    "\n",
    "import sklearn.cluster\n",
    "from sklearn.model_selection import train_test_split\n",
    "from sklearn.metrics.pairwise import euclidean_distances\n",
    "from sklearn import datasets\n",
    "\n",
    "import sklearn.metrics\n",
    "from sklearn.linear_model import LogisticRegression"
   ]
  },
  {
   "cell_type": "code",
   "execution_count": 83,
   "metadata": {
    "ExecuteTime": {
     "end_time": "2019-11-27T11:33:05.368148Z",
     "start_time": "2019-11-27T11:33:05.359146Z"
    }
   },
   "outputs": [],
   "source": [
    "# Função geradora da função de ativação do kernel\n",
    "def make_gaussian_kernel(center, sigma):\n",
    "    variance = sigma**2\n",
    "    gamma = 2*(variance)\n",
    "    reshaped_center = np.reshape(center, newshape = (1,-1))\n",
    "    def gaussian(x):\n",
    "        dist = euclidean_distances(x, reshaped_center, squared=True)\n",
    "        normalization_constant = 1/(2*np.pi*variance)\n",
    "        return  normalization_constant * np.exp(-(dist/gamma))\n",
    "    return gaussian"
   ]
  },
  {
   "cell_type": "code",
   "execution_count": 66,
   "metadata": {
    "ExecuteTime": {
     "end_time": "2019-11-27T11:29:31.168231Z",
     "start_time": "2019-11-27T11:29:31.164268Z"
    }
   },
   "outputs": [],
   "source": [
    "# Inputs\n",
    "seed = 42\n",
    "k = 6"
   ]
  },
  {
   "cell_type": "code",
   "execution_count": 68,
   "metadata": {
    "ExecuteTime": {
     "end_time": "2019-11-27T11:29:35.173199Z",
     "start_time": "2019-11-27T11:29:35.164197Z"
    },
    "run_control": {
     "marked": true
    }
   },
   "outputs": [],
   "source": [
    "iris = datasets.load_iris()\n",
    "X = iris.data\n",
    "y = iris.target"
   ]
  },
  {
   "cell_type": "code",
   "execution_count": 69,
   "metadata": {
    "ExecuteTime": {
     "end_time": "2019-11-27T11:29:35.305199Z",
     "start_time": "2019-11-27T11:29:35.300196Z"
    }
   },
   "outputs": [],
   "source": []
  },
  {
   "cell_type": "code",
   "execution_count": 70,
   "metadata": {
    "ExecuteTime": {
     "end_time": "2019-11-27T11:29:35.453891Z",
     "start_time": "2019-11-27T11:29:35.446887Z"
    }
   },
   "outputs": [],
   "source": [
    "X_treino, X_teste, y_treino, y_teste = train_test_split(X, y, test_size = 50, random_state = seed)"
   ]
  },
  {
   "cell_type": "code",
   "execution_count": 71,
   "metadata": {
    "ExecuteTime": {
     "end_time": "2019-11-27T11:29:35.963681Z",
     "start_time": "2019-11-27T11:29:35.959683Z"
    }
   },
   "outputs": [],
   "source": [
    "kmeans = sklearn.cluster.KMeans(n_clusters = k, random_state = seed)"
   ]
  },
  {
   "cell_type": "code",
   "execution_count": 72,
   "metadata": {
    "ExecuteTime": {
     "end_time": "2019-11-27T11:29:36.548821Z",
     "start_time": "2019-11-27T11:29:36.488830Z"
    }
   },
   "outputs": [
    {
     "data": {
      "text/plain": [
       "KMeans(algorithm='auto', copy_x=True, init='k-means++', max_iter=300,\n",
       "       n_clusters=6, n_init=10, n_jobs=None, precompute_distances='auto',\n",
       "       random_state=42, tol=0.0001, verbose=0)"
      ]
     },
     "execution_count": 72,
     "metadata": {},
     "output_type": "execute_result"
    }
   ],
   "source": [
    "kmeans.fit(X_treino)"
   ]
  },
  {
   "cell_type": "code",
   "execution_count": 73,
   "metadata": {
    "ExecuteTime": {
     "end_time": "2019-11-27T11:29:36.845817Z",
     "start_time": "2019-11-27T11:29:36.842812Z"
    },
    "scrolled": true
   },
   "outputs": [],
   "source": [
    "centros = kmeans.cluster_centers_ \n",
    "# pd.DataFrame(centros)"
   ]
  },
  {
   "cell_type": "code",
   "execution_count": 74,
   "metadata": {
    "ExecuteTime": {
     "end_time": "2019-11-27T11:29:37.359705Z",
     "start_time": "2019-11-27T11:29:37.355699Z"
    }
   },
   "outputs": [],
   "source": [
    "classificados = kmeans.predict(X_treino)\n",
    "# classificados"
   ]
  },
  {
   "cell_type": "code",
   "execution_count": 82,
   "metadata": {
    "ExecuteTime": {
     "end_time": "2019-11-27T11:31:36.419539Z",
     "start_time": "2019-11-27T11:31:36.413542Z"
    }
   },
   "outputs": [],
   "source": [
    "# Calculando os desvios de cada cluster\n",
    "distancias_para_cada_centro = euclidean_distances(X_treino, centros)\n",
    "\n",
    "df_distancias = pd.DataFrame(distancias_para_cada_centro)\n",
    "df_distancias['classe'] = classificados\n",
    "\n",
    "distancias_medias = df_distancias.groupby('classe').mean()\n",
    "distancias_desvios = df_distancias.groupby('classe').std()\n",
    "\n",
    "medias_por_grupo = np.diag(distancias_medias)\n",
    "desvios_por_grupo = np.diag(distancias_desvios)"
   ]
  },
  {
   "cell_type": "code",
   "execution_count": 16,
   "metadata": {
    "ExecuteTime": {
     "end_time": "2019-11-27T11:05:07.976384Z",
     "start_time": "2019-11-27T11:05:07.971385Z"
    }
   },
   "outputs": [],
   "source": [
    "# Obtendo as funções radiais\n",
    "kernels = list()\n",
    "\n",
    "for cluster_alvo in range(k):\n",
    "    alvos = X_treino[classificados==cluster_alvo]\n",
    "    kernel = make_gaussian_kernel(centros[cluster_alvo], desvios_por_grupo[cluster_alvo])\n",
    "    kernels.append(kernel)"
   ]
  },
  {
   "cell_type": "code",
   "execution_count": 53,
   "metadata": {
    "ExecuteTime": {
     "end_time": "2019-11-27T11:18:44.101912Z",
     "start_time": "2019-11-27T11:18:44.085914Z"
    }
   },
   "outputs": [],
   "source": [
    "# Transformando o espaço de entrada\n",
    "features = [ kernel(X_treino) for kernel in kernels ]\n",
    "transformed_input = pd.DataFrame(np.concatenate(features, axis = 1))"
   ]
  },
  {
   "cell_type": "code",
   "execution_count": 268,
   "metadata": {},
   "outputs": [],
   "source": [
    "# Executando a regressão logística\n",
    "regression = LogisticRegression()\n",
    "regression.fit(transformed_input, y_treino)\n"
   ]
  },
  {
   "cell_type": "code",
   "execution_count": 279,
   "metadata": {},
   "outputs": [],
   "source": [
    "# Output \n",
    "predicoes = regression.predict(transformed_input)"
   ]
  }
 ],
 "metadata": {
  "kernelspec": {
   "display_name": "Python 3",
   "language": "python",
   "name": "python3"
  },
  "language_info": {
   "codemirror_mode": {
    "name": "ipython",
    "version": 3
   },
   "file_extension": ".py",
   "mimetype": "text/x-python",
   "name": "python",
   "nbconvert_exporter": "python",
   "pygments_lexer": "ipython3",
   "version": "3.7.3"
  },
  "latex_envs": {
   "LaTeX_envs_menu_present": true,
   "autoclose": false,
   "autocomplete": true,
   "bibliofile": "biblio.bib",
   "cite_by": "apalike",
   "current_citInitial": 1,
   "eqLabelWithNumbers": true,
   "eqNumInitial": 1,
   "hotkeys": {
    "equation": "Ctrl-E",
    "itemize": "Ctrl-I"
   },
   "labels_anchors": false,
   "latex_user_defs": false,
   "report_style_numbering": false,
   "user_envs_cfg": false
  },
  "toc": {
   "base_numbering": 1,
   "nav_menu": {},
   "number_sections": true,
   "sideBar": true,
   "skip_h1_title": false,
   "title_cell": "Table of Contents",
   "title_sidebar": "Contents",
   "toc_cell": false,
   "toc_position": {},
   "toc_section_display": true,
   "toc_window_display": false
  }
 },
 "nbformat": 4,
 "nbformat_minor": 2
}
