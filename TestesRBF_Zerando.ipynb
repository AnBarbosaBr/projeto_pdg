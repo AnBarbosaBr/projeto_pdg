{
 "cells": [
  {
   "cell_type": "code",
   "execution_count": 1,
   "metadata": {
    "ExecuteTime": {
     "end_time": "2020-01-08T12:40:03.091823Z",
     "start_time": "2020-01-08T12:39:58.093243Z"
    }
   },
   "outputs": [],
   "source": [
    "# Imports\n",
    "import pandas as pd;\n",
    "import numpy as np; \n",
    "import sklearn.model_selection;\n",
    "import sklearn.metrics;\n",
    "\n",
    "# OBS: Scikit-Learn\n",
    "# scikit-learn uses an optimised version of the CART algorithm; however, scikit-learn implementation does not support categorical variables for now.\n",
    "# https://scikit-learn.org/stable/modules/tree.html\n",
    "from sklearn.tree import DecisionTreeClassifier; # Tree\n",
    "\n",
    "\n",
    "\n",
    "# WARNING: This api is different from the SKLEARN \n",
    "import statsmodels.api as sm; # GLM\n",
    "\n",
    "\n",
    "# From Author\n",
    "from RBF import RBFClassifier\n",
    "from sklearn.linear_model import LogisticRegression\n",
    "# Auxiliar\n",
    "from collections import namedtuple\n"
   ]
  },
  {
   "cell_type": "code",
   "execution_count": 2,
   "metadata": {
    "ExecuteTime": {
     "end_time": "2020-01-08T12:40:04.494231Z",
     "start_time": "2020-01-08T12:40:04.486228Z"
    }
   },
   "outputs": [],
   "source": [
    "SEED = 42\n",
    "TRAIN_SIZE = 0.7\n",
    "data_under_analysis = \"data/car_insurance_claim.csv\"\n",
    "\n",
    "independent_variables = [\"KIDSDRIV\", \"BIRTH\", \n",
    "                            \"AGE\", \"HOMEKIDS\", \n",
    "                            \"YOJ\", \"INCOME\", \n",
    "                            \"PARENT1\", \"HOME_VAL\", \n",
    "                            \"MSTATUS\", \"GENDER\", \n",
    "                            \"EDUCATION\", \"OCCUPATION\", \n",
    "                            \"TRAVTIME\", \"CAR_USE\", \n",
    "                            \"BLUEBOOK\", \"TIF\", \n",
    "                            \"CAR_TYPE\", \"RED_CAR\", \n",
    "                            \"OLDCLAIM\",  \"REVOKED\", \n",
    "                            \"MVR_PTS\", \"CAR_AGE\"]\n",
    "\n",
    "dependent_variable_flag = [\"CLAIM_FLAG\"]\n",
    "dependent_variable_frequency = [\"CLM_FREQ\"]\n",
    "dependent_variable_value = [\"CLM_AMT\"]\n",
    "\n",
    "CV_SPLITS = 5\n",
    "\n",
    "GLM_TRESHOLD = 0.5"
   ]
  },
  {
   "cell_type": "code",
   "execution_count": 3,
   "metadata": {
    "ExecuteTime": {
     "end_time": "2020-01-08T12:40:11.180493Z",
     "start_time": "2020-01-08T12:40:11.164493Z"
    }
   },
   "outputs": [],
   "source": [
    "def score_results(y_real, y_predito, label, verbose = False):\n",
    "    \"\"\"Função personalizada que mostra os resultados de um classificador.\n",
    "\n",
    "    Arguments:\n",
    "        y_real -- O vetor com os dados esperados\n",
    "        y_predito -- O vetor com as predições\n",
    "        label -- Um título para essa análise, pode ser usado para facilitar a identificação do output.\"\"\"\n",
    "\n",
    "    matriz_de_confusao = sklearn.metrics.confusion_matrix(y_true = y_real, y_pred = y_predito)\n",
    "    try:\n",
    "        tn, fp, fn, tp = matriz_de_confusao.ravel()\n",
    "    except ValueError:\n",
    "        print(\"ValueError: Imprimindo matriz de confusão.\")\n",
    "        print(matriz_de_confusao)\n",
    "    \n",
    "    Resultados = namedtuple(\"Resultados\", [\"balanced_accuracy\",\"precision\",\"recall\", \"f1\", \"confusion_matrix\"])\n",
    "    \n",
    "    balanced_accuracy = sklearn.metrics.balanced_accuracy_score(y_true = y_real, y_pred = y_predito)\n",
    "    precision = tp/(tp+fp)\n",
    "    recall    = tp/(tp+fn)\n",
    "    f1 = 2*(precision * recall) / (precision + recall)\n",
    "    output = Resultados(balanced_accuracy = balanced_accuracy,\n",
    "                       precision = precision,\n",
    "                       recall    = recall,\n",
    "                       f1 =  f1,\n",
    "                        \n",
    "                       confusion_matrix = matriz_de_confusao)\n",
    "\n",
    "    if verbose:\n",
    "        print(f\"--- {label} ---\")\n",
    "        print(\"Matrix de Confusão\")\n",
    "        print(matriz_de_confusao)\n",
    "        print(\"Acurácia Balanceada: \", end=\" \")\n",
    "        print(f\"{100*output.balanced_accuracy :.2f} % \")\n",
    "        print(f\"Falsos Positivos: {fp}, Falsos Negativos: {fn}\\n\"+\n",
    "            f\"Verdadeiros Positivos: {tp}, Verdadeiros Negativos: {tn}\")\n",
    "        print(f\"Precisao (tp/(tp+fp)): {100* output.precision :.2f}%\")\n",
    "        print(f\"Recall (tp/(tp+fn)): {100* output.recall :.2f}  %\")\n",
    "\n",
    "        print(\"-\"*80)\n",
    "    return output\n"
   ]
  },
  {
   "cell_type": "code",
   "execution_count": 4,
   "metadata": {
    "ExecuteTime": {
     "end_time": "2020-01-08T12:40:16.154170Z",
     "start_time": "2020-01-08T12:40:16.142175Z"
    }
   },
   "outputs": [],
   "source": [
    "def imprime_matriz_de_confusao_media(test_results):\n",
    "    tns, tps, fps, fns = list(), list(), list(), list()\n",
    "    for index, result in enumerate(test_results):\n",
    "        confusion_matrix = result.confusion_matrix\n",
    "        #print(f\"Fit {index}\")\n",
    "        #print(confusion_matrix)\n",
    "        tnl, fpl, fnl, tpl = confusion_matrix.ravel()\n",
    "        tns.append(tnl)\n",
    "        fps.append(fpl)\n",
    "        fns.append(fnl)\n",
    "        tps.append(tpl)\n",
    "\n",
    "    tn = np.sum(tns)\n",
    "    tp = np.sum(tps)\n",
    "    fp = np.sum(fps)\n",
    "    fn = np.sum(fns)\n",
    "    \n",
    "    precision = tp/(tp+fp)\n",
    "    recall = tp/(tp+fn)\n",
    "    f1 = 2*(precision*recall) / (precision+recall)\n",
    "    print(\"Médias\")\n",
    "    print(f\"Total Real Positives: {tp+fn :.2f}\\nTotal Real Negatives: {tn+fp:.2f}\\n\" +\n",
    "          f\"Total Predicted Positives: {tp+fp:.2f}\\nTotal Predicted Negatives: {tn+fn:.2f}\\n\" +\n",
    "          \"\\n\"\n",
    "          f\"True Positives: {tp:.2f}\\nTrue Negatives: {tn:.2f}\\nFalse Positives: {fp:.2f}\\nFalse Negatives: {fn:.2f}\")\n",
    "    print(\"\")\n",
    "    print(f\"Precision: { precision :.2f}\\nRecall: { recall :.2f}\")\n",
    "    print(f\"Accuracy Positive(Recall): {tp/(tp+fn):.2f}\\nAccuracy Negative: {tn/(tn+fp):.2f}\")\n",
    "    print(f\"Balanced Accuracy: {((tp/(tp+fn)) + (tn/(tn+fp)))/2 :.2f}\")\n",
    "    print(f\"F1 Score: {f1 : .2f}\")\n",
    "    print(\"\")\n",
    " \n",
    "\n"
   ]
  },
  {
   "cell_type": "code",
   "execution_count": 6,
   "metadata": {
    "ExecuteTime": {
     "end_time": "2020-01-08T12:40:45.849689Z",
     "start_time": "2020-01-08T12:40:45.757690Z"
    }
   },
   "outputs": [],
   "source": [
    "data = pd.read_csv(data_under_analysis)\n",
    "X_all = data.loc[ : , independent_variables]\n",
    "y_all = data.loc[ : , dependent_variable_flag]"
   ]
  },
  {
   "cell_type": "code",
   "execution_count": 7,
   "metadata": {
    "ExecuteTime": {
     "end_time": "2020-01-08T12:40:46.283573Z",
     "start_time": "2020-01-08T12:40:46.191543Z"
    }
   },
   "outputs": [],
   "source": [
    "X_train, X_test, y_train, y_test = sklearn.model_selection.train_test_split(X_all, y_all, train_size = TRAIN_SIZE, random_state = SEED, stratify = y_all )"
   ]
  },
  {
   "cell_type": "code",
   "execution_count": 8,
   "metadata": {
    "ExecuteTime": {
     "end_time": "2020-01-08T12:40:59.174782Z",
     "start_time": "2020-01-08T12:40:59.169785Z"
    }
   },
   "outputs": [],
   "source": [
    "# Creating k_folder\n",
    "stratified_k_fold = sklearn.model_selection.StratifiedKFold(n_splits = CV_SPLITS, random_state = SEED )"
   ]
  },
  {
   "cell_type": "code",
   "execution_count": 9,
   "metadata": {
    "ExecuteTime": {
     "end_time": "2020-01-08T12:41:12.097215Z",
     "start_time": "2020-01-08T12:41:12.074213Z"
    }
   },
   "outputs": [
    {
     "name": "stdout",
     "output_type": "stream",
     "text": [
      "Selecionando apenas variáveis numéricas.\n",
      "Formato de X de (7211, 22) para (7211, 8)\n",
      "Redução de 14 variáveis.\n"
     ]
    }
   ],
   "source": [
    "numerical_X = X_train._get_numeric_data()\n",
    "print(f\"Selecionando apenas variáveis numéricas.\\nFormato de X de {X_train.shape} para {numerical_X.shape}\")\n",
    "print(f\"Redução de {X_train.shape[1] - numerical_X.shape[1]} variáveis.\")"
   ]
  },
  {
   "cell_type": "code",
   "execution_count": 13,
   "metadata": {
    "ExecuteTime": {
     "end_time": "2020-01-08T12:41:59.996869Z",
     "start_time": "2020-01-08T12:41:59.938871Z"
    }
   },
   "outputs": [
    {
     "data": {
      "text/html": [
       "<div>\n",
       "<style scoped>\n",
       "    .dataframe tbody tr th:only-of-type {\n",
       "        vertical-align: middle;\n",
       "    }\n",
       "\n",
       "    .dataframe tbody tr th {\n",
       "        vertical-align: top;\n",
       "    }\n",
       "\n",
       "    .dataframe thead th {\n",
       "        text-align: right;\n",
       "    }\n",
       "</style>\n",
       "<table border=\"1\" class=\"dataframe\">\n",
       "  <thead>\n",
       "    <tr style=\"text-align: right;\">\n",
       "      <th></th>\n",
       "      <th>INCOME</th>\n",
       "      <th>BLUEBOOK</th>\n",
       "      <th>HOME_VAL</th>\n",
       "      <th>OLDCLAIM</th>\n",
       "    </tr>\n",
       "  </thead>\n",
       "  <tbody>\n",
       "    <tr>\n",
       "      <th>878</th>\n",
       "      <td>73663.0</td>\n",
       "      <td>41310.0</td>\n",
       "      <td>268990.0</td>\n",
       "      <td>36700.0</td>\n",
       "    </tr>\n",
       "    <tr>\n",
       "      <th>5358</th>\n",
       "      <td>34669.0</td>\n",
       "      <td>8630.0</td>\n",
       "      <td>146134.0</td>\n",
       "      <td>2499.0</td>\n",
       "    </tr>\n",
       "    <tr>\n",
       "      <th>1433</th>\n",
       "      <td>23427.0</td>\n",
       "      <td>6640.0</td>\n",
       "      <td>98357.0</td>\n",
       "      <td>17308.0</td>\n",
       "    </tr>\n",
       "    <tr>\n",
       "      <th>2769</th>\n",
       "      <td>54593.0</td>\n",
       "      <td>11260.0</td>\n",
       "      <td>221267.0</td>\n",
       "      <td>1449.0</td>\n",
       "    </tr>\n",
       "    <tr>\n",
       "      <th>3326</th>\n",
       "      <td>55770.0</td>\n",
       "      <td>12380.0</td>\n",
       "      <td>163735.0</td>\n",
       "      <td>0.0</td>\n",
       "    </tr>\n",
       "    <tr>\n",
       "      <th>...</th>\n",
       "      <td>...</td>\n",
       "      <td>...</td>\n",
       "      <td>...</td>\n",
       "      <td>...</td>\n",
       "    </tr>\n",
       "    <tr>\n",
       "      <th>152</th>\n",
       "      <td>104990.0</td>\n",
       "      <td>16080.0</td>\n",
       "      <td>306540.0</td>\n",
       "      <td>0.0</td>\n",
       "    </tr>\n",
       "    <tr>\n",
       "      <th>6870</th>\n",
       "      <td>152283.0</td>\n",
       "      <td>16650.0</td>\n",
       "      <td>441904.0</td>\n",
       "      <td>0.0</td>\n",
       "    </tr>\n",
       "    <tr>\n",
       "      <th>9663</th>\n",
       "      <td>8585.0</td>\n",
       "      <td>13540.0</td>\n",
       "      <td>0.0</td>\n",
       "      <td>4451.0</td>\n",
       "    </tr>\n",
       "    <tr>\n",
       "      <th>1431</th>\n",
       "      <td>NaN</td>\n",
       "      <td>19600.0</td>\n",
       "      <td>240520.0</td>\n",
       "      <td>3220.0</td>\n",
       "    </tr>\n",
       "    <tr>\n",
       "      <th>1725</th>\n",
       "      <td>141297.0</td>\n",
       "      <td>22550.0</td>\n",
       "      <td>0.0</td>\n",
       "      <td>0.0</td>\n",
       "    </tr>\n",
       "  </tbody>\n",
       "</table>\n",
       "<p>7211 rows × 4 columns</p>\n",
       "</div>"
      ],
      "text/plain": [
       "        INCOME  BLUEBOOK  HOME_VAL  OLDCLAIM\n",
       "878    73663.0   41310.0  268990.0   36700.0\n",
       "5358   34669.0    8630.0  146134.0    2499.0\n",
       "1433   23427.0    6640.0   98357.0   17308.0\n",
       "2769   54593.0   11260.0  221267.0    1449.0\n",
       "3326   55770.0   12380.0  163735.0       0.0\n",
       "...        ...       ...       ...       ...\n",
       "152   104990.0   16080.0  306540.0       0.0\n",
       "6870  152283.0   16650.0  441904.0       0.0\n",
       "9663    8585.0   13540.0       0.0    4451.0\n",
       "1431       NaN   19600.0  240520.0    3220.0\n",
       "1725  141297.0   22550.0       0.0       0.0\n",
       "\n",
       "[7211 rows x 4 columns]"
      ]
     },
     "execution_count": 13,
     "metadata": {},
     "output_type": "execute_result"
    }
   ],
   "source": [
    "money_variables = [\"INCOME\", \"BLUEBOOK\", \"HOME_VAL\", \"OLDCLAIM\"]\n",
    "money_X =  X_train[money_variables].replace('[\\$,]', '', regex=True, inplace = False).astype(float)\n",
    "money_X"
   ]
  },
  {
   "cell_type": "code",
   "execution_count": 26,
   "metadata": {
    "ExecuteTime": {
     "end_time": "2020-01-08T12:46:00.360336Z",
     "start_time": "2020-01-08T12:46:00.351339Z"
    }
   },
   "outputs": [
    {
     "data": {
      "text/plain": [
       "INCOME      388\n",
       "BLUEBOOK      0\n",
       "HOME_VAL    409\n",
       "OLDCLAIM      0\n",
       "dtype: int64"
      ]
     },
     "execution_count": 26,
     "metadata": {},
     "output_type": "execute_result"
    }
   ],
   "source": [
    "money_X.isna().sum()"
   ]
  },
  {
   "cell_type": "code",
   "execution_count": 14,
   "metadata": {
    "ExecuteTime": {
     "end_time": "2020-01-08T12:43:35.476180Z",
     "start_time": "2020-01-08T12:43:35.466181Z"
    }
   },
   "outputs": [
    {
     "data": {
      "text/plain": [
       "<module 'RBF' from 'C:\\\\Users\\\\barban01\\\\Desktop\\\\Projetos\\\\UFABC\\\\TCC\\\\projeto_pdg\\\\RBF.py'>"
      ]
     },
     "execution_count": 14,
     "metadata": {},
     "output_type": "execute_result"
    }
   ],
   "source": [
    "import importlib\n",
    "import RBF\n",
    "importlib.reload(RBF)"
   ]
  },
  {
   "cell_type": "code",
   "execution_count": null,
   "metadata": {},
   "outputs": [],
   "source": [
    "# Replacing NULLS with the mean\n",
    "numerical_X.fillna(numerical_X.mean(), inplace=True)    \n",
    "money_X.fillna(money_X.mean(), inplace = True)"
   ]
  },
  {
   "cell_type": "markdown",
   "metadata": {
    "ExecuteTime": {
     "end_time": "2020-01-08T12:43:36.241925Z",
     "start_time": "2020-01-08T12:43:36.236959Z"
    }
   },
   "source": [
    "Variáveis BOAS(Sozinhas): \n",
    "INCOME\n",
    "BLUEBOOK\n",
    "HOME_VAL\n",
    "OLDCLAIM\n",
    "Variaveis RUINS: \n"
   ]
  },
  {
   "cell_type": "code",
   "execution_count": 65,
   "metadata": {
    "ExecuteTime": {
     "end_time": "2020-01-08T12:51:08.164010Z",
     "start_time": "2020-01-08T12:51:08.159006Z"
    }
   },
   "outputs": [],
   "source": [
    "teste = money_X[[\"BLUEBOOK\", \"OLDCLAIM\"]]\n",
    "teste = money_X[\"BLUEBOOK\"]"
   ]
  },
  {
   "cell_type": "code",
   "execution_count": 66,
   "metadata": {
    "ExecuteTime": {
     "end_time": "2020-01-08T12:51:08.417350Z",
     "start_time": "2020-01-08T12:51:08.401353Z"
    }
   },
   "outputs": [],
   "source": [
    "features_X = numerical_X.join(teste, on = None)\n",
    "#features_X = teste\n",
    "features_X.fillna(features_X.mean(), inplace = True)"
   ]
  },
  {
   "cell_type": "code",
   "execution_count": 67,
   "metadata": {
    "ExecuteTime": {
     "end_time": "2020-01-08T12:51:08.704328Z",
     "start_time": "2020-01-08T12:51:08.695330Z"
    }
   },
   "outputs": [
    {
     "name": "stdout",
     "output_type": "stream",
     "text": [
      "KIDSDRIV    0\n",
      "AGE         0\n",
      "HOMEKIDS    0\n",
      "YOJ         0\n",
      "TRAVTIME    0\n",
      "TIF         0\n",
      "MVR_PTS     0\n",
      "CAR_AGE     0\n",
      "BLUEBOOK    0\n",
      "dtype: int64\n",
      "KIDSDRIV      int64\n",
      "AGE         float64\n",
      "HOMEKIDS      int64\n",
      "YOJ         float64\n",
      "TRAVTIME      int64\n",
      "TIF           int64\n",
      "MVR_PTS       int64\n",
      "CAR_AGE     float64\n",
      "BLUEBOOK    float64\n",
      "dtype: object\n"
     ]
    }
   ],
   "source": [
    "print(features_X.isna().sum())\n",
    "print(features_X.dtypes)\n",
    "features_X.fillna(features_X.mean, inplace = True)\n"
   ]
  },
  {
   "cell_type": "code",
   "execution_count": 68,
   "metadata": {
    "ExecuteTime": {
     "end_time": "2020-01-08T12:51:09.609542Z",
     "start_time": "2020-01-08T12:51:09.604543Z"
    }
   },
   "outputs": [],
   "source": [
    "rbf_classifier = RBF.RBFClassifier(number_of_centers = 50, \n",
    "                               random_state = SEED, \n",
    "                               algorithm = LogisticRegression(class_weight=\"balanced\", solver = \"lbfgs\"))"
   ]
  },
  {
   "cell_type": "code",
   "execution_count": 69,
   "metadata": {
    "ExecuteTime": {
     "end_time": "2020-01-08T12:51:12.483091Z",
     "start_time": "2020-01-08T12:51:10.912104Z"
    }
   },
   "outputs": [
    {
     "name": "stdout",
     "output_type": "stream",
     "text": [
      "Fitting RBF Network\n"
     ]
    },
    {
     "name": "stderr",
     "output_type": "stream",
     "text": [
      "C:\\Users\\barban01\\AppData\\Local\\Continuum\\miniconda3\\envs\\pdg\\lib\\site-packages\\sklearn\\utils\\validation.py:724: DataConversionWarning: A column-vector y was passed when a 1d array was expected. Please change the shape of y to (n_samples, ), for example using ravel().\n",
      "  y = column_or_1d(y, warn=True)\n"
     ]
    }
   ],
   "source": [
    "print(\"Fitting RBF Network\")\n",
    "rbf_classifier.fit(features_X, y_train)"
   ]
  },
  {
   "cell_type": "code",
   "execution_count": 70,
   "metadata": {
    "ExecuteTime": {
     "end_time": "2020-01-08T12:51:13.427821Z",
     "start_time": "2020-01-08T12:51:13.335822Z"
    }
   },
   "outputs": [
    {
     "name": "stdout",
     "output_type": "stream",
     "text": [
      "--- RBF Network - Teste ---\n",
      "Matrix de Confusão\n",
      "[[2947 2342]\n",
      " [ 858 1064]]\n",
      "Acurácia Balanceada:  55.54 % \n",
      "Falsos Positivos: 2342, Falsos Negativos: 858\n",
      "Verdadeiros Positivos: 1064, Verdadeiros Negativos: 2947\n",
      "Precisao (tp/(tp+fp)): 31.24%\n",
      "Recall (tp/(tp+fn)): 55.36  %\n",
      "--------------------------------------------------------------------------------\n"
     ]
    }
   ],
   "source": [
    "predicted_test = rbf_classifier.predict(features_X)\n",
    "resultados = score_results(y_train, predicted_test, \"RBF Network - Teste\", verbose = True)"
   ]
  },
  {
   "cell_type": "code",
   "execution_count": null,
   "metadata": {},
   "outputs": [],
   "source": []
  }
 ],
 "metadata": {
  "kernelspec": {
   "display_name": "Python 3",
   "language": "python",
   "name": "python3"
  },
  "language_info": {
   "codemirror_mode": {
    "name": "ipython",
    "version": 3
   },
   "file_extension": ".py",
   "mimetype": "text/x-python",
   "name": "python",
   "nbconvert_exporter": "python",
   "pygments_lexer": "ipython3",
   "version": "3.7.3"
  },
  "latex_envs": {
   "LaTeX_envs_menu_present": true,
   "autoclose": false,
   "autocomplete": true,
   "bibliofile": "biblio.bib",
   "cite_by": "apalike",
   "current_citInitial": 1,
   "eqLabelWithNumbers": true,
   "eqNumInitial": 1,
   "hotkeys": {
    "equation": "Ctrl-E",
    "itemize": "Ctrl-I"
   },
   "labels_anchors": false,
   "latex_user_defs": false,
   "report_style_numbering": false,
   "user_envs_cfg": false
  },
  "toc": {
   "base_numbering": 1,
   "nav_menu": {},
   "number_sections": true,
   "sideBar": true,
   "skip_h1_title": false,
   "title_cell": "Table of Contents",
   "title_sidebar": "Contents",
   "toc_cell": false,
   "toc_position": {},
   "toc_section_display": true,
   "toc_window_display": false
  }
 },
 "nbformat": 4,
 "nbformat_minor": 2
}
