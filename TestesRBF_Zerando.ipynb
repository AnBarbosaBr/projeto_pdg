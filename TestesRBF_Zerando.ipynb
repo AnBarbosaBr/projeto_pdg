{
 "cells": [
  {
   "cell_type": "code",
   "execution_count": 63,
   "metadata": {
    "ExecuteTime": {
     "end_time": "2020-01-09T11:20:30.754800Z",
     "start_time": "2020-01-09T11:20:30.748808Z"
    }
   },
   "outputs": [],
   "source": [
    "# Imports\n",
    "import pandas as pd;\n",
    "import numpy as np; \n",
    "import sklearn.model_selection;\n",
    "import sklearn.metrics;\n",
    "import sklearn.linear_model; # LogisticRegressor\n",
    "# From Author\n",
    "import RBF\n",
    "\n",
    "# Auxiliar\n",
    "from collections import namedtuple\n"
   ]
  },
  {
   "cell_type": "code",
   "execution_count": 78,
   "metadata": {
    "ExecuteTime": {
     "end_time": "2020-01-09T11:36:51.667965Z",
     "start_time": "2020-01-09T11:36:51.663966Z"
    }
   },
   "outputs": [],
   "source": [
    "# Configurando IPython\n",
    "from IPython.display import display\n",
    "pd.options.display.max_columns = None"
   ]
  },
  {
   "cell_type": "code",
   "execution_count": 2,
   "metadata": {
    "ExecuteTime": {
     "end_time": "2020-01-09T11:04:23.908245Z",
     "start_time": "2020-01-09T11:04:23.901239Z"
    }
   },
   "outputs": [],
   "source": [
    "SEED = 42\n",
    "TRAIN_SIZE = 0.7\n",
    "data_under_analysis = \"data/car_insurance_claim.csv\"\n",
    "\n",
    "independent_variables = [\"KIDSDRIV\", \"BIRTH\", \n",
    "                            \"AGE\", \"HOMEKIDS\", \n",
    "                            \"YOJ\", \"INCOME\", \n",
    "                            \"PARENT1\", \"HOME_VAL\", \n",
    "                            \"MSTATUS\", \"GENDER\", \n",
    "                            \"EDUCATION\", \"OCCUPATION\", \n",
    "                            \"TRAVTIME\", \"CAR_USE\", \n",
    "                            \"BLUEBOOK\", \"TIF\", \n",
    "                            \"CAR_TYPE\", \"RED_CAR\", \n",
    "                            \"OLDCLAIM\",  \"REVOKED\", \n",
    "                            \"MVR_PTS\", \"CAR_AGE\"]\n",
    "\n",
    "dependent_variable_flag = [\"CLAIM_FLAG\"]\n",
    "dependent_variable_frequency = [\"CLM_FREQ\"]\n",
    "dependent_variable_value = [\"CLM_AMT\"]\n",
    "\n",
    "CV_SPLITS = 5\n",
    "\n",
    "GLM_TRESHOLD = 0.5"
   ]
  },
  {
   "cell_type": "code",
   "execution_count": 3,
   "metadata": {
    "ExecuteTime": {
     "end_time": "2020-01-09T11:04:23.935232Z",
     "start_time": "2020-01-09T11:04:23.912233Z"
    }
   },
   "outputs": [],
   "source": [
    "def score_results(y_real, y_predito, label, verbose = False):\n",
    "    \"\"\"Função personalizada que mostra os resultados de um classificador.\n",
    "\n",
    "    Arguments:\n",
    "        y_real -- O vetor com os dados esperados\n",
    "        y_predito -- O vetor com as predições\n",
    "        label -- Um título para essa análise, pode ser usado para facilitar a identificação do output.\"\"\"\n",
    "\n",
    "    matriz_de_confusao = sklearn.metrics.confusion_matrix(y_true = y_real, y_pred = y_predito)\n",
    "    try:\n",
    "        tn, fp, fn, tp = matriz_de_confusao.ravel()\n",
    "    except ValueError:\n",
    "        print(\"ValueError: Imprimindo matriz de confusão.\")\n",
    "        print(matriz_de_confusao)\n",
    "    \n",
    "    Resultados = namedtuple(\"Resultados\", [\"balanced_accuracy\",\"precision\",\"recall\", \"f1\", \"confusion_matrix\"])\n",
    "    \n",
    "    balanced_accuracy = sklearn.metrics.balanced_accuracy_score(y_true = y_real, y_pred = y_predito)\n",
    "    precision = tp/(tp+fp)\n",
    "    recall    = tp/(tp+fn)\n",
    "    f1 = 2*(precision * recall) / (precision + recall)\n",
    "    output = Resultados(balanced_accuracy = balanced_accuracy,\n",
    "                       precision = precision,\n",
    "                       recall    = recall,\n",
    "                       f1 =  f1,\n",
    "                        \n",
    "                       confusion_matrix = matriz_de_confusao)\n",
    "\n",
    "    if verbose:\n",
    "        print(f\"--- {label} ---\")\n",
    "        print(\"Matrix de Confusão\")\n",
    "        print(matriz_de_confusao)\n",
    "        print(\"Acurácia Balanceada: \", end=\" \")\n",
    "        print(f\"{100*output.balanced_accuracy :.2f} % \")\n",
    "        print(f\"Falsos Positivos: {fp}, Falsos Negativos: {fn}\\n\"+\n",
    "            f\"Verdadeiros Positivos: {tp}, Verdadeiros Negativos: {tn}\")\n",
    "        print(f\"Precisao (tp/(tp+fp)): {100* output.precision :.2f}%\")\n",
    "        print(f\"Recall (tp/(tp+fn)): {100* output.recall :.2f}  %\")\n",
    "\n",
    "        print(\"-\"*80)\n",
    "    return output\n"
   ]
  },
  {
   "cell_type": "code",
   "execution_count": 4,
   "metadata": {
    "ExecuteTime": {
     "end_time": "2020-01-09T11:04:23.970232Z",
     "start_time": "2020-01-09T11:04:23.940233Z"
    }
   },
   "outputs": [],
   "source": [
    "def imprime_matriz_de_confusao_media(test_results):\n",
    "    tns, tps, fps, fns = list(), list(), list(), list()\n",
    "    for index, result in enumerate(test_results):\n",
    "        confusion_matrix = result.confusion_matrix\n",
    "        #print(f\"Fit {index}\")\n",
    "        #print(confusion_matrix)\n",
    "        tnl, fpl, fnl, tpl = confusion_matrix.ravel()\n",
    "        tns.append(tnl)\n",
    "        fps.append(fpl)\n",
    "        fns.append(fnl)\n",
    "        tps.append(tpl)\n",
    "\n",
    "    tn = np.sum(tns)\n",
    "    tp = np.sum(tps)\n",
    "    fp = np.sum(fps)\n",
    "    fn = np.sum(fns)\n",
    "    \n",
    "    precision = tp/(tp+fp)\n",
    "    recall = tp/(tp+fn)\n",
    "    f1 = 2*(precision*recall) / (precision+recall)\n",
    "    print(\"Médias\")\n",
    "    print(f\"Total Real Positives: {tp+fn :.2f}\\nTotal Real Negatives: {tn+fp:.2f}\\n\" +\n",
    "          f\"Total Predicted Positives: {tp+fp:.2f}\\nTotal Predicted Negatives: {tn+fn:.2f}\\n\" +\n",
    "          \"\\n\"\n",
    "          f\"True Positives: {tp:.2f}\\nTrue Negatives: {tn:.2f}\\nFalse Positives: {fp:.2f}\\nFalse Negatives: {fn:.2f}\")\n",
    "    print(\"\")\n",
    "    print(f\"Precision: { precision :.2f}\\nRecall: { recall :.2f}\")\n",
    "    print(f\"Accuracy Positive(Recall): {tp/(tp+fn):.2f}\\nAccuracy Negative: {tn/(tn+fp):.2f}\")\n",
    "    print(f\"Balanced Accuracy: {((tp/(tp+fn)) + (tn/(tn+fp)))/2 :.2f}\")\n",
    "    print(f\"F1 Score: {f1 : .2f}\")\n",
    "    print(\"\")\n",
    " \n",
    "\n"
   ]
  },
  {
   "cell_type": "code",
   "execution_count": 5,
   "metadata": {
    "ExecuteTime": {
     "end_time": "2020-01-09T11:04:24.075228Z",
     "start_time": "2020-01-09T11:04:23.976235Z"
    }
   },
   "outputs": [],
   "source": [
    "data = pd.read_csv(data_under_analysis)\n",
    "X_all = data.loc[ : , independent_variables]\n",
    "y_all = data.loc[ : , dependent_variable_flag]"
   ]
  },
  {
   "cell_type": "code",
   "execution_count": 6,
   "metadata": {
    "ExecuteTime": {
     "end_time": "2020-01-09T11:04:24.160260Z",
     "start_time": "2020-01-09T11:04:24.077234Z"
    }
   },
   "outputs": [],
   "source": [
    "X_train, X_test, y_train, y_test = sklearn.model_selection.train_test_split(X_all, y_all, train_size = TRAIN_SIZE, random_state = SEED, stratify = y_all )"
   ]
  },
  {
   "cell_type": "code",
   "execution_count": 7,
   "metadata": {
    "ExecuteTime": {
     "end_time": "2020-01-09T11:04:37.539237Z",
     "start_time": "2020-01-09T11:04:37.518248Z"
    }
   },
   "outputs": [
    {
     "name": "stdout",
     "output_type": "stream",
     "text": [
      "Selecionando apenas variáveis numéricas.\n",
      "Formato de X de (7211, 22) para (7211, 8)\n",
      "Redução de 14 variáveis.\n"
     ]
    }
   ],
   "source": [
    "numerical_X = X_train._get_numeric_data()\n",
    "print(f\"Selecionando apenas variáveis numéricas.\\nFormato de X de {X_train.shape} para {numerical_X.shape}\")\n",
    "print(f\"Redução de {X_train.shape[1] - numerical_X.shape[1]} variáveis.\")"
   ]
  },
  {
   "cell_type": "code",
   "execution_count": 16,
   "metadata": {
    "ExecuteTime": {
     "end_time": "2020-01-09T11:06:43.304045Z",
     "start_time": "2020-01-09T11:06:43.232921Z"
    }
   },
   "outputs": [],
   "source": [
    "money_variables = [\"INCOME\", \"BLUEBOOK\", \"HOME_VAL\", \"OLDCLAIM\"]\n",
    "money_X =  X_train[money_variables].replace('[\\$,]', '', regex=True, inplace = False).astype(float)\n",
    "money_X.fillna(money_X.mean(), inplace = True)"
   ]
  },
  {
   "cell_type": "markdown",
   "metadata": {},
   "source": [
    "# Testando as variáveis do dinheiro numa regressão logística."
   ]
  },
  {
   "cell_type": "code",
   "execution_count": 31,
   "metadata": {
    "ExecuteTime": {
     "end_time": "2020-01-09T11:12:44.087696Z",
     "start_time": "2020-01-09T11:12:44.042697Z"
    }
   },
   "outputs": [
    {
     "name": "stderr",
     "output_type": "stream",
     "text": [
      "C:\\Users\\barban01\\AppData\\Local\\Continuum\\miniconda3\\envs\\pdg\\lib\\site-packages\\sklearn\\utils\\validation.py:724: DataConversionWarning: A column-vector y was passed when a 1d array was expected. Please change the shape of y to (n_samples, ), for example using ravel().\n",
      "  y = column_or_1d(y, warn=True)\n"
     ]
    },
    {
     "data": {
      "text/plain": [
       "LogisticRegression(C=1.0, class_weight='balanced', dual=False,\n",
       "                   fit_intercept=True, intercept_scaling=1, l1_ratio=None,\n",
       "                   max_iter=100, multi_class='warn', n_jobs=None, penalty='l2',\n",
       "                   random_state=None, solver='lbfgs', tol=0.0001, verbose=0,\n",
       "                   warm_start=False)"
      ]
     },
     "execution_count": 31,
     "metadata": {},
     "output_type": "execute_result"
    }
   ],
   "source": [
    "lr = sklearn.linear_model.LogisticRegression(class_weight=\"balanced\", solver = \"lbfgs\")\n",
    "lr.fit(money_X, y_train)"
   ]
  },
  {
   "cell_type": "code",
   "execution_count": 29,
   "metadata": {
    "ExecuteTime": {
     "end_time": "2020-01-09T11:10:47.579401Z",
     "start_time": "2020-01-09T11:10:47.551393Z"
    }
   },
   "outputs": [
    {
     "name": "stdout",
     "output_type": "stream",
     "text": [
      "Balanced Accuray: 60.58%\n",
      "Recall: 47.71%\n",
      "Precision: 39.51%\n"
     ]
    }
   ],
   "source": [
    "predictions = lr.predict(money_X)\n",
    "balanced_accuracy = sklearn.metrics.balanced_accuracy_score(y_true = y_train, y_pred = predictions)\n",
    "recall = sklearn.metrics.recall_score(y_true = y_train, y_pred = predictions)\n",
    "precision = sklearn.metrics.precision_score(y_true = y_train, y_pred = predictions)\n",
    "\n",
    "print(\"Balanced Accuray: {:.2f}%\\nRecall: {:.2f}%\\nPrecision: {:.2f}%\".format(100*balanced_accuracy, 100*recall, 100*precision))"
   ]
  },
  {
   "cell_type": "markdown",
   "metadata": {},
   "source": [
    "# Testando as variáveis do dinheiro e numéricas juntas, numa regressão logística"
   ]
  },
  {
   "cell_type": "code",
   "execution_count": 32,
   "metadata": {
    "ExecuteTime": {
     "end_time": "2020-01-09T11:13:08.624986Z",
     "start_time": "2020-01-09T11:13:08.611001Z"
    }
   },
   "outputs": [],
   "source": [
    "# Replacing NULLS with the mean\n",
    "numerical_X.fillna(numerical_X.mean(), inplace=True)    \n",
    "money_X.fillna(money_X.mean(), inplace = True)"
   ]
  },
  {
   "cell_type": "code",
   "execution_count": 36,
   "metadata": {
    "ExecuteTime": {
     "end_time": "2020-01-09T11:13:25.971347Z",
     "start_time": "2020-01-09T11:13:25.965347Z"
    }
   },
   "outputs": [],
   "source": [
    "features_X = numerical_X.join(money_X, on = None)"
   ]
  },
  {
   "cell_type": "code",
   "execution_count": 42,
   "metadata": {
    "ExecuteTime": {
     "end_time": "2020-01-09T11:14:12.759364Z",
     "start_time": "2020-01-09T11:14:12.754369Z"
    }
   },
   "outputs": [
    {
     "name": "stdout",
     "output_type": "stream",
     "text": [
      "(7211, 8)\n",
      "(7211, 4)\n",
      "(7211, 12)\n",
      "(7211, 1)\n"
     ]
    }
   ],
   "source": [
    "print(numerical_X.shape)\n",
    "print(money_X.shape)\n",
    "print(features_X.shape)\n",
    "print(y_train.shape)"
   ]
  },
  {
   "cell_type": "code",
   "execution_count": 43,
   "metadata": {
    "ExecuteTime": {
     "end_time": "2020-01-09T11:14:15.200328Z",
     "start_time": "2020-01-09T11:14:15.137366Z"
    }
   },
   "outputs": [
    {
     "name": "stderr",
     "output_type": "stream",
     "text": [
      "C:\\Users\\barban01\\AppData\\Local\\Continuum\\miniconda3\\envs\\pdg\\lib\\site-packages\\sklearn\\utils\\validation.py:724: DataConversionWarning: A column-vector y was passed when a 1d array was expected. Please change the shape of y to (n_samples, ), for example using ravel().\n",
      "  y = column_or_1d(y, warn=True)\n"
     ]
    },
    {
     "data": {
      "text/plain": [
       "LogisticRegression(C=1.0, class_weight='balanced', dual=False,\n",
       "                   fit_intercept=True, intercept_scaling=1, l1_ratio=None,\n",
       "                   max_iter=100, multi_class='warn', n_jobs=None, penalty='l2',\n",
       "                   random_state=None, solver='lbfgs', tol=0.0001, verbose=0,\n",
       "                   warm_start=False)"
      ]
     },
     "execution_count": 43,
     "metadata": {},
     "output_type": "execute_result"
    }
   ],
   "source": [
    "lr = sklearn.linear_model.LogisticRegression(class_weight=\"balanced\", solver = \"lbfgs\")\n",
    "lr.fit(features_X, y_train)\n"
   ]
  },
  {
   "cell_type": "code",
   "execution_count": 45,
   "metadata": {
    "ExecuteTime": {
     "end_time": "2020-01-09T11:14:39.068651Z",
     "start_time": "2020-01-09T11:14:39.061654Z"
    }
   },
   "outputs": [],
   "source": [
    "predictions = lr.predict(features_X)"
   ]
  },
  {
   "cell_type": "code",
   "execution_count": 46,
   "metadata": {
    "ExecuteTime": {
     "end_time": "2020-01-09T11:14:42.196355Z",
     "start_time": "2020-01-09T11:14:42.169355Z"
    }
   },
   "outputs": [
    {
     "name": "stdout",
     "output_type": "stream",
     "text": [
      "Balanced Accuray: 61.28%\n",
      "Recall: 60.35%\n",
      "Precision: 36.72%\n"
     ]
    }
   ],
   "source": [
    "balanced_accuracy = sklearn.metrics.balanced_accuracy_score(y_true = y_train, y_pred = predictions)\n",
    "recall = sklearn.metrics.recall_score(y_true = y_train, y_pred = predictions)\n",
    "precision = sklearn.metrics.precision_score(y_true = y_train, y_pred = predictions)\n",
    "\n",
    "print(\"Balanced Accuray: {:.2f}%\\nRecall: {:.2f}%\\nPrecision: {:.2f}%\".format(100*balanced_accuracy, 100*recall, 100*precision))"
   ]
  },
  {
   "cell_type": "code",
   "execution_count": 57,
   "metadata": {
    "ExecuteTime": {
     "end_time": "2020-01-09T11:18:40.684052Z",
     "start_time": "2020-01-09T11:18:40.676083Z"
    }
   },
   "outputs": [],
   "source": [
    "def testaModelo(algoritmo, variaveis_X, y):\n",
    "    algoritmo.fit(variaveis_X, y.values.ravel())\n",
    "    predictions = algoritmo.predict(variaveis_X)\n",
    "    \n",
    "    balanced_accuracy = sklearn.metrics.balanced_accuracy_score(y_true = y_train, y_pred = predictions)\n",
    "    recall = sklearn.metrics.recall_score(y_true = y_train, y_pred = predictions)\n",
    "    precision = sklearn.metrics.precision_score(y_true = y_train, y_pred = predictions)\n",
    "\n",
    "    print(\"Balanced Accuray: {:.2f}%\\nRecall: {:.2f}%\\nPrecision: {:.2f}%\".format(100*balanced_accuracy, 100*recall, 100*precision))\n",
    "    "
   ]
  },
  {
   "cell_type": "code",
   "execution_count": 61,
   "metadata": {
    "ExecuteTime": {
     "end_time": "2020-01-09T11:19:53.969770Z",
     "start_time": "2020-01-09T11:19:53.772776Z"
    }
   },
   "outputs": [
    {
     "name": "stdout",
     "output_type": "stream",
     "text": [
      "\n",
      ">> Money\n",
      "Balanced Accuray: 60.58%\n",
      "Recall: 47.71%\n",
      "Precision: 39.51%\n",
      "\n",
      ">> Numerical\n",
      "Balanced Accuray: 62.33%\n",
      "Recall: 57.44%\n",
      "Precision: 38.90%\n",
      "\n",
      ">> Features\n",
      "Balanced Accuray: 61.28%\n",
      "Recall: 60.35%\n",
      "Precision: 36.72%\n"
     ]
    },
    {
     "name": "stderr",
     "output_type": "stream",
     "text": [
      "C:\\Users\\barban01\\AppData\\Local\\Continuum\\miniconda3\\envs\\pdg\\lib\\site-packages\\sklearn\\linear_model\\logistic.py:947: ConvergenceWarning: lbfgs failed to converge. Increase the number of iterations.\n",
      "  \"of iterations.\", ConvergenceWarning)\n"
     ]
    }
   ],
   "source": [
    "lr = sklearn.linear_model.LogisticRegression(class_weight=\"balanced\", solver = \"lbfgs\")\n",
    "print(\"\\n>> Money\")\n",
    "testaModelo(lr, money_X, y_train)\n",
    "print(\"\\n>> Numerical\")\n",
    "testaModelo(lr, numerical_X, y_train)\n",
    "print(\"\\n>> Features\")\n",
    "testaModelo(lr, features_X, y_train)\n"
   ]
  },
  {
   "cell_type": "code",
   "execution_count": 65,
   "metadata": {
    "ExecuteTime": {
     "end_time": "2020-01-09T11:20:47.729938Z",
     "start_time": "2020-01-09T11:20:47.725944Z"
    }
   },
   "outputs": [],
   "source": [
    "rbf_classifier = RBF.RBFClassifier(number_of_centers = 50, \n",
    "                               random_state = SEED, \n",
    "                               algorithm = sklearn.linear_model.LogisticRegression(class_weight=\"balanced\", solver = \"lbfgs\"))"
   ]
  },
  {
   "cell_type": "code",
   "execution_count": 66,
   "metadata": {
    "ExecuteTime": {
     "end_time": "2020-01-09T11:27:05.118655Z",
     "start_time": "2020-01-09T11:26:55.358658Z"
    }
   },
   "outputs": [
    {
     "name": "stdout",
     "output_type": "stream",
     "text": [
      "\n",
      ">> Money\n"
     ]
    },
    {
     "name": "stderr",
     "output_type": "stream",
     "text": [
      "C:\\Users\\barban01\\AppData\\Local\\Continuum\\miniconda3\\envs\\pdg\\lib\\site-packages\\sklearn\\metrics\\classification.py:1437: UndefinedMetricWarning: Precision is ill-defined and being set to 0.0 due to no predicted samples.\n",
      "  'precision', 'predicted', average, warn_for)\n"
     ]
    },
    {
     "name": "stdout",
     "output_type": "stream",
     "text": [
      "Balanced Accuray: 50.00%\n",
      "Recall: 0.00%\n",
      "Precision: 0.00%\n",
      "\n",
      ">> Numerical\n",
      "Balanced Accuray: 54.74%\n",
      "Recall: 88.03%\n",
      "Precision: 28.94%\n",
      "\n",
      ">> Features\n",
      "Balanced Accuray: 50.00%\n",
      "Recall: 0.00%\n",
      "Precision: 0.00%\n"
     ]
    },
    {
     "name": "stderr",
     "output_type": "stream",
     "text": [
      "C:\\Users\\barban01\\AppData\\Local\\Continuum\\miniconda3\\envs\\pdg\\lib\\site-packages\\sklearn\\metrics\\classification.py:1437: UndefinedMetricWarning: Precision is ill-defined and being set to 0.0 due to no predicted samples.\n",
      "  'precision', 'predicted', average, warn_for)\n"
     ]
    }
   ],
   "source": [
    "print(\"\\n>> Money\")\n",
    "testaModelo(rbf_classifier, money_X, y_train)\n",
    "print(\"\\n>> Numerical\")\n",
    "testaModelo(rbf_classifier, numerical_X, y_train)\n",
    "print(\"\\n>> Features\")\n",
    "testaModelo(rbf_classifier, features_X, y_train)\n"
   ]
  },
  {
   "cell_type": "markdown",
   "metadata": {
    "ExecuteTime": {
     "end_time": "2020-01-09T11:29:07.011604Z",
     "start_time": "2020-01-09T11:29:07.004605Z"
    }
   },
   "source": [
    "Podemos perceber que a RBF está com problemas. Vamos usá-la só para transformar os dados e ver o que está acontecendo."
   ]
  },
  {
   "cell_type": "code",
   "execution_count": 81,
   "metadata": {
    "ExecuteTime": {
     "end_time": "2020-01-09T11:39:37.301681Z",
     "start_time": "2020-01-09T11:39:32.393742Z"
    }
   },
   "outputs": [
    {
     "name": "stderr",
     "output_type": "stream",
     "text": [
      "C:\\Users\\barban01\\AppData\\Local\\Continuum\\miniconda3\\envs\\pdg\\lib\\site-packages\\sklearn\\utils\\validation.py:724: DataConversionWarning: A column-vector y was passed when a 1d array was expected. Please change the shape of y to (n_samples, ), for example using ravel().\n",
      "  y = column_or_1d(y, warn=True)\n"
     ]
    }
   ],
   "source": [
    "rbf_classifierNum = RBF.RBFClassifier(number_of_centers = 50, \n",
    "                               random_state = SEED, \n",
    "                               algorithm = sklearn.linear_model.LogisticRegression(class_weight=\"balanced\", solver = \"lbfgs\"))\n",
    "rbf_classifierNum.fit(numerical_X, y_train)\n",
    "rbf_numerical_X = rbf_classifierNum._transformed_inputs(numerical_X)"
   ]
  },
  {
   "cell_type": "code",
   "execution_count": 93,
   "metadata": {
    "ExecuteTime": {
     "end_time": "2020-01-09T11:42:24.775523Z",
     "start_time": "2020-01-09T11:42:22.330541Z"
    }
   },
   "outputs": [],
   "source": [
    "rbf_classifierMon = RBF.RBFClassifier(number_of_centers = 50, \n",
    "                               random_state = SEED, \n",
    "                               algorithm = sklearn.linear_model.LogisticRegression(class_weight=\"balanced\", solver = \"lbfgs\"))\n",
    "rbf_classifierMon.fit(money_X, y_train.values.ravel())\n",
    "rbf_money_X = rbf_classifierMon._transformed_inputs(money_X)"
   ]
  },
  {
   "cell_type": "code",
   "execution_count": 94,
   "metadata": {
    "ExecuteTime": {
     "end_time": "2020-01-09T11:42:31.914691Z",
     "start_time": "2020-01-09T11:42:28.919687Z"
    }
   },
   "outputs": [],
   "source": [
    "rbf_classifierFeat = RBF.RBFClassifier(number_of_centers = 50, \n",
    "                               random_state = SEED, \n",
    "                               algorithm = sklearn.linear_model.LogisticRegression(class_weight=\"balanced\", solver = \"lbfgs\"))\n",
    "rbf_classifierFeat.fit(features_X,  y_train.values.ravel())\n",
    "rbf_features_X = rbf_classifierFeat._transformed_inputs(features_X)"
   ]
  },
  {
   "cell_type": "code",
   "execution_count": 110,
   "metadata": {
    "ExecuteTime": {
     "end_time": "2020-01-09T11:45:16.567354Z",
     "start_time": "2020-01-09T11:45:16.560361Z"
    }
   },
   "outputs": [
    {
     "name": "stdout",
     "output_type": "stream",
     "text": [
      "Numerical: \t4.33e-02\n",
      "Money:   \t1.10e-08\n",
      "Features: \t1.38e-08\n"
     ]
    }
   ],
   "source": [
    "print(f\"Numerical: \\t{rbf_numerical_X.max():.2e}\")\n",
    "print(f\"Money:   \\t{rbf_money_X.max() :.2e}\")\n",
    "print(f\"Features: \\t{rbf_features_X.max():.2e}\")"
   ]
  },
  {
   "cell_type": "markdown",
   "metadata": {},
   "source": [
    "Os máximos estão muito baixos. Money e Features podem estar sendo considerados Zeros. Vamos tentar aumentar o valor das variáveis e testar os modelos."
   ]
  },
  {
   "cell_type": "code",
   "execution_count": 114,
   "metadata": {
    "ExecuteTime": {
     "end_time": "2020-01-09T11:46:52.176667Z",
     "start_time": "2020-01-09T11:46:51.867679Z"
    }
   },
   "outputs": [
    {
     "name": "stdout",
     "output_type": "stream",
     "text": [
      "\n",
      ">> Numerical\n",
      "Balanced Accuray: 54.74%\n",
      "Recall: 88.03%\n",
      "Precision: 28.94%\n",
      "\n",
      ">> Money\n",
      "Balanced Accuray: 57.99%\n",
      "Recall: 78.41%\n",
      "Precision: 31.34%\n",
      "\n",
      ">> Features\n",
      "Balanced Accuray: 57.63%\n",
      "Recall: 77.78%\n",
      "Precision: 31.13%\n"
     ]
    },
    {
     "name": "stderr",
     "output_type": "stream",
     "text": [
      "C:\\Users\\barban01\\AppData\\Local\\Continuum\\miniconda3\\envs\\pdg\\lib\\site-packages\\sklearn\\linear_model\\logistic.py:947: ConvergenceWarning: lbfgs failed to converge. Increase the number of iterations.\n",
      "  \"of iterations.\", ConvergenceWarning)\n",
      "C:\\Users\\barban01\\AppData\\Local\\Continuum\\miniconda3\\envs\\pdg\\lib\\site-packages\\sklearn\\linear_model\\logistic.py:947: ConvergenceWarning: lbfgs failed to converge. Increase the number of iterations.\n",
      "  \"of iterations.\", ConvergenceWarning)\n"
     ]
    }
   ],
   "source": [
    "lr = sklearn.linear_model.LogisticRegression(class_weight=\"balanced\", solver = \"lbfgs\")\n",
    "print(\"\\n>> Numerical\")\n",
    "testaModelo(lr, rbf_numerical_X, y_train)\n",
    "print(\"\\n>> Money\")\n",
    "testaModelo(lr, 10e10*rbf_money_X, y_train)\n",
    "print(\"\\n>> Features\")\n",
    "testaModelo(lr, 10e10*rbf_features_X, y_train)"
   ]
  },
  {
   "cell_type": "markdown",
   "metadata": {
    "ExecuteTime": {
     "end_time": "2020-01-09T12:04:39.900543Z",
     "start_time": "2020-01-09T12:04:39.892579Z"
    }
   },
   "source": [
    "Parece que funcionou. \n",
    "\n",
    "Então precisamos aumentar o valor após a transformação RBF. Talvez se normalizarmos os dados, possamos corrigir esse problema."
   ]
  },
  {
   "cell_type": "code",
   "execution_count": 137,
   "metadata": {
    "ExecuteTime": {
     "end_time": "2020-01-09T12:05:17.137676Z",
     "start_time": "2020-01-09T12:05:17.129677Z"
    }
   },
   "outputs": [],
   "source": [
    "def testaModeloComNormalizacao(algoritmo, variaveis_X, y):\n",
    "    normalized_X = sklearn.preprocessing.normalize(money_X, norm='l2', axis=1, copy=True, return_norm=False)\n",
    "    algoritmo.fit(normalized_X, y.values.ravel())\n",
    "    predictions = algoritmo.predict(normalized_X)\n",
    "    \n",
    "    balanced_accuracy = sklearn.metrics.balanced_accuracy_score(y_true = y_train, y_pred = predictions)\n",
    "    recall = sklearn.metrics.recall_score(y_true = y_train, y_pred = predictions)\n",
    "    precision = sklearn.metrics.precision_score(y_true = y_train, y_pred = predictions)\n",
    "\n",
    "    print(\"Balanced Accuray: {:.2f}%\\nRecall: {:.2f}%\\nPrecision: {:.2f}%\".format(100*balanced_accuracy, 100*recall, 100*precision))\n",
    "    "
   ]
  },
  {
   "cell_type": "code",
   "execution_count": 138,
   "metadata": {
    "ExecuteTime": {
     "end_time": "2020-01-09T12:05:29.755314Z",
     "start_time": "2020-01-09T12:05:17.855577Z"
    }
   },
   "outputs": [
    {
     "name": "stdout",
     "output_type": "stream",
     "text": [
      "\n",
      ">> Numerical Sem Normalizacao\n",
      "Balanced Accuray: 54.74%\n",
      "Recall: 88.03%\n",
      "Precision: 28.94%\n",
      "\n",
      ">> Numerical Com Normalizacao\n"
     ]
    },
    {
     "name": "stderr",
     "output_type": "stream",
     "text": [
      "C:\\Users\\barban01\\AppData\\Local\\Continuum\\miniconda3\\envs\\pdg\\lib\\site-packages\\sklearn\\linear_model\\logistic.py:947: ConvergenceWarning: lbfgs failed to converge. Increase the number of iterations.\n",
      "  \"of iterations.\", ConvergenceWarning)\n"
     ]
    },
    {
     "name": "stdout",
     "output_type": "stream",
     "text": [
      "Balanced Accuray: 59.57%\n",
      "Recall: 66.23%\n",
      "Precision: 33.82%\n",
      "\n",
      ">> Money\n"
     ]
    },
    {
     "name": "stderr",
     "output_type": "stream",
     "text": [
      "C:\\Users\\barban01\\AppData\\Local\\Continuum\\miniconda3\\envs\\pdg\\lib\\site-packages\\sklearn\\linear_model\\logistic.py:947: ConvergenceWarning: lbfgs failed to converge. Increase the number of iterations.\n",
      "  \"of iterations.\", ConvergenceWarning)\n"
     ]
    },
    {
     "name": "stdout",
     "output_type": "stream",
     "text": [
      "Balanced Accuray: 59.57%\n",
      "Recall: 66.23%\n",
      "Precision: 33.82%\n",
      "\n",
      ">> Features\n",
      "Balanced Accuray: 59.57%\n",
      "Recall: 66.23%\n",
      "Precision: 33.82%\n"
     ]
    },
    {
     "name": "stderr",
     "output_type": "stream",
     "text": [
      "C:\\Users\\barban01\\AppData\\Local\\Continuum\\miniconda3\\envs\\pdg\\lib\\site-packages\\sklearn\\linear_model\\logistic.py:947: ConvergenceWarning: lbfgs failed to converge. Increase the number of iterations.\n",
      "  \"of iterations.\", ConvergenceWarning)\n"
     ]
    }
   ],
   "source": [
    "rbf = RBF.RBFClassifier(number_of_centers = 50, \n",
    "                               random_state = SEED, \n",
    "                               algorithm = sklearn.linear_model.LogisticRegression(class_weight=\"balanced\", solver = \"lbfgs\"))\n",
    "\n",
    "print(\"\\n>> Numerical Sem Normalizacao\")\n",
    "testaModelo(rbf, numerical_X, y_train)\n",
    "print(\"\\n>> Numerical Com Normalizacao\")\n",
    "testaModeloComNormalizacao(rbf, numerical_X, y_train)\n",
    "print(\"\\n>> Money\")\n",
    "testaModeloComNormalizacao(rbf, money_X, y_train)\n",
    "print(\"\\n>> Features\")\n",
    "testaModeloComNormalizacao(rbf, features_X, y_train)"
   ]
  },
  {
   "cell_type": "markdown",
   "metadata": {},
   "source": []
  },
  {
   "cell_type": "code",
   "execution_count": null,
   "metadata": {},
   "outputs": [],
   "source": []
  }
 ],
 "metadata": {
  "kernelspec": {
   "display_name": "Python 3",
   "language": "python",
   "name": "python3"
  },
  "language_info": {
   "codemirror_mode": {
    "name": "ipython",
    "version": 3
   },
   "file_extension": ".py",
   "mimetype": "text/x-python",
   "name": "python",
   "nbconvert_exporter": "python",
   "pygments_lexer": "ipython3",
   "version": "3.7.3"
  },
  "latex_envs": {
   "LaTeX_envs_menu_present": true,
   "autoclose": false,
   "autocomplete": true,
   "bibliofile": "biblio.bib",
   "cite_by": "apalike",
   "current_citInitial": 1,
   "eqLabelWithNumbers": true,
   "eqNumInitial": 1,
   "hotkeys": {
    "equation": "Ctrl-E",
    "itemize": "Ctrl-I"
   },
   "labels_anchors": false,
   "latex_user_defs": false,
   "report_style_numbering": false,
   "user_envs_cfg": false
  },
  "toc": {
   "base_numbering": 1,
   "nav_menu": {},
   "number_sections": true,
   "sideBar": true,
   "skip_h1_title": false,
   "title_cell": "Table of Contents",
   "title_sidebar": "Contents",
   "toc_cell": false,
   "toc_position": {},
   "toc_section_display": true,
   "toc_window_display": false
  }
 },
 "nbformat": 4,
 "nbformat_minor": 2
}
