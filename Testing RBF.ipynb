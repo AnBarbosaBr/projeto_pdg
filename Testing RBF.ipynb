{
 "cells": [
  {
   "cell_type": "code",
   "execution_count": 1,
   "metadata": {
    "ExecuteTime": {
     "end_time": "2019-11-27T12:55:04.718354Z",
     "start_time": "2019-11-27T12:55:00.841228Z"
    },
    "run_control": {
     "marked": true
    }
   },
   "outputs": [],
   "source": [
    "from RBF import RBFClassifier"
   ]
  },
  {
   "cell_type": "markdown",
   "metadata": {},
   "source": [
    "# Sugestões\n",
    "* Replicar o que ele fez usando minha implementação: \\\n",
    "http://mccormickml.com/2013/08/15/radial-basis-function-network-rbfn-tutorial/\n",
    "* Normalizar os dados antes da clusterização.\n",
    "* Normalizar os dados transformados depois da clusterização.\n"
   ]
  },
  {
   "cell_type": "markdown",
   "metadata": {
    "ExecuteTime": {
     "end_time": "2019-11-27T12:42:15.590525Z",
     "start_time": "2019-11-27T12:42:15.586535Z"
    }
   },
   "source": [
    "# Preparacoes"
   ]
  },
  {
   "cell_type": "code",
   "execution_count": 2,
   "metadata": {
    "ExecuteTime": {
     "end_time": "2019-11-27T12:55:05.723339Z",
     "start_time": "2019-11-27T12:55:04.720355Z"
    }
   },
   "outputs": [],
   "source": [
    "import pandas as pd;\n",
    "import numpy as np; \n",
    "import sklearn.model_selection;\n",
    "import sklearn.metrics;\n",
    "from sklearn.tree import DecisionTreeClassifier; # Tree\n",
    "import statsmodels.api as sm; # GLM\n"
   ]
  },
  {
   "cell_type": "code",
   "execution_count": 3,
   "metadata": {
    "ExecuteTime": {
     "end_time": "2019-11-27T12:55:05.842340Z",
     "start_time": "2019-11-27T12:55:05.726341Z"
    }
   },
   "outputs": [
    {
     "name": "stdout",
     "output_type": "stream",
     "text": [
      "10302 linhas e 27 colunas.\n",
      "X: 10302 linhas e 9 colunas.\n",
      "Y: (10302,) linhas. Valores Únicos = [0 1].\n"
     ]
    }
   ],
   "source": [
    "data = pd.read_csv(\"data/car_insurance_claim.csv\")\n",
    "print(f\"{data.shape[0]} linhas e {data.shape[1]} colunas.\")\n",
    "\n",
    "independent_variables = list(range(1,25))\n",
    "dependent_variables = 25\n",
    "\n",
    "numerical_x_train = data.iloc[ : , independent_variables]._get_numeric_data()\n",
    "numerical_x_train.fillna(numerical_x_train.mean(), inplace = True)\n",
    "\n",
    "y_train = data.iloc[ : , dependent_variables]\n",
    "\n",
    "print(f\"X: {numerical_x_train.shape[0]} linhas e {numerical_x_train.shape[1]} colunas.\")\n",
    "print(f\"Y: {y_train.shape} linhas. Valores Únicos = {y_train.unique()}.\")"
   ]
  },
  {
   "cell_type": "code",
   "execution_count": 4,
   "metadata": {
    "ExecuteTime": {
     "end_time": "2019-11-27T12:55:05.854337Z",
     "start_time": "2019-11-27T12:55:05.845336Z"
    }
   },
   "outputs": [],
   "source": [
    "def score_results(y_real, y_predito, label):\n",
    "    matriz_de_confusao = sklearn.metrics.confusion_matrix(y_true = y_real, y_pred = y_predito)\n",
    "    tn, fp, fn, tp = matriz_de_confusao.ravel()\n",
    "    \n",
    "    print(f\"--- {label} ---\")\n",
    "    print(\"Matrix de ConfusÃ£o\")\n",
    "    print(matriz_de_confusao)\n",
    "    print(\"Balanced Accuracy: \", end=\" \")\n",
    "    print(f\"{100*sklearn.metrics.balanced_accuracy_score(y_true = y_real, y_pred = y_predito):.2f}%\")\n",
    "    print(f\"Falsos Positivos: {fp}, Falsos Negativos: {fn}\\n\"+\n",
    "            f\"Verdadeiros Positivos: {tp}, Verdadeiros Negativos: {tn}\")\n",
    "    print(f\"Precisao (tp/(tp+fp)): {100*tp/(tp+fp) :.2f}%\")\n",
    "    print(f\"Recall (tp/(tp+fn)): {100*tp/(tp+fn) :.2f}%\")\n",
    "    \n",
    "    print(\"-\"*50)\n"
   ]
  },
  {
   "cell_type": "code",
   "execution_count": 5,
   "metadata": {
    "ExecuteTime": {
     "end_time": "2019-11-27T12:55:05.954334Z",
     "start_time": "2019-11-27T12:55:05.857336Z"
    }
   },
   "outputs": [
    {
     "name": "stdout",
     "output_type": "stream",
     "text": [
      "10302 linhas e 27 colunas\n"
     ]
    }
   ],
   "source": [
    "seed = 42\n",
    "data = pd.read_csv(\"data/car_insurance_claim.csv\")\n",
    "\n",
    "# Linhas / Colunas\n",
    "forma = data.shape\n",
    "print(f\"{data.shape[0]} linhas e {data.shape[1]} colunas\")\n",
    "# print(pd.DataFrame(data.columns))\n",
    "# print(data.describe())\n",
    "# print(data.describe().shape[1]) # Colunas NÃºmericas"
   ]
  },
  {
   "cell_type": "markdown",
   "metadata": {},
   "source": [
    "# RBF - Iris"
   ]
  },
  {
   "cell_type": "code",
   "execution_count": 6,
   "metadata": {
    "ExecuteTime": {
     "end_time": "2019-11-27T12:55:06.031337Z",
     "start_time": "2019-11-27T12:55:05.956335Z"
    }
   },
   "outputs": [],
   "source": [
    "from sklearn import datasets\n",
    "iris = datasets.load_iris()\n",
    "X = iris.data\n",
    "y = iris.target"
   ]
  },
  {
   "cell_type": "code",
   "execution_count": 7,
   "metadata": {
    "ExecuteTime": {
     "end_time": "2019-11-27T12:55:06.039335Z",
     "start_time": "2019-11-27T12:55:06.035334Z"
    }
   },
   "outputs": [],
   "source": [
    "rbf = RBFClassifier(number_of_centers = 6, random_state = 42)"
   ]
  },
  {
   "cell_type": "code",
   "execution_count": 8,
   "metadata": {
    "ExecuteTime": {
     "end_time": "2019-11-27T12:55:06.124339Z",
     "start_time": "2019-11-27T12:55:06.043335Z"
    }
   },
   "outputs": [
    {
     "name": "stderr",
     "output_type": "stream",
     "text": [
      "C:\\Users\\barban01\\AppData\\Local\\Continuum\\miniconda3\\envs\\pdg\\lib\\site-packages\\sklearn\\linear_model\\logistic.py:432: FutureWarning: Default solver will be changed to 'lbfgs' in 0.22. Specify a solver to silence this warning.\n",
      "  FutureWarning)\n",
      "C:\\Users\\barban01\\AppData\\Local\\Continuum\\miniconda3\\envs\\pdg\\lib\\site-packages\\sklearn\\linear_model\\logistic.py:469: FutureWarning: Default multi_class will be changed to 'auto' in 0.22. Specify the multi_class option to silence this warning.\n",
      "  \"this warning.\", FutureWarning)\n"
     ]
    },
    {
     "data": {
      "text/plain": [
       "array([0, 0, 0, 0, 0, 0, 0, 0, 0, 0, 0, 0, 0, 2, 2, 2, 0, 0, 2, 0, 0, 0,\n",
       "       2, 2, 2, 0, 0, 0, 0, 0, 0, 0, 2, 2, 0, 0, 0, 0, 0, 0, 0, 2, 0, 2,\n",
       "       2, 0, 0, 0, 0, 0, 2, 2, 2, 1, 1, 1, 2, 2, 2, 1, 2, 1, 1, 1, 1, 2,\n",
       "       2, 1, 2, 1, 2, 1, 2, 1, 2, 2, 2, 2, 1, 1, 1, 1, 1, 2, 2, 2, 2, 2,\n",
       "       1, 1, 1, 1, 1, 2, 1, 1, 1, 2, 2, 1, 2, 2, 2, 2, 2, 2, 2, 2, 2, 2,\n",
       "       2, 2, 2, 2, 2, 2, 2, 2, 2, 2, 2, 2, 2, 1, 2, 2, 1, 1, 2, 2, 2, 2,\n",
       "       2, 1, 2, 2, 2, 2, 1, 2, 2, 2, 2, 2, 2, 2, 2, 2, 2, 2])"
      ]
     },
     "execution_count": 8,
     "metadata": {},
     "output_type": "execute_result"
    }
   ],
   "source": [
    "rbf.fit(X,y)\n",
    "rbf.predict(X)"
   ]
  },
  {
   "cell_type": "code",
   "execution_count": 9,
   "metadata": {
    "ExecuteTime": {
     "end_time": "2019-11-27T12:55:06.138334Z",
     "start_time": "2019-11-27T12:55:06.127338Z"
    }
   },
   "outputs": [
    {
     "data": {
      "text/plain": [
       "array([[38,  0, 12],\n",
       "       [ 0, 26, 24],\n",
       "       [ 0,  5, 45]], dtype=int64)"
      ]
     },
     "execution_count": 9,
     "metadata": {},
     "output_type": "execute_result"
    }
   ],
   "source": [
    "sklearn.metrics.confusion_matrix(y_true = y, y_pred =  rbf.predict(X))"
   ]
  },
  {
   "cell_type": "code",
   "execution_count": 10,
   "metadata": {
    "ExecuteTime": {
     "end_time": "2019-11-27T12:55:06.179334Z",
     "start_time": "2019-11-27T12:55:06.141335Z"
    }
   },
   "outputs": [
    {
     "name": "stdout",
     "output_type": "stream",
     "text": [
      "SHAPE:  (150, 6) \n",
      "VALORES: \n",
      "\n"
     ]
    },
    {
     "data": {
      "text/html": [
       "<div>\n",
       "<style scoped>\n",
       "    .dataframe tbody tr th:only-of-type {\n",
       "        vertical-align: middle;\n",
       "    }\n",
       "\n",
       "    .dataframe tbody tr th {\n",
       "        vertical-align: top;\n",
       "    }\n",
       "\n",
       "    .dataframe thead th {\n",
       "        text-align: right;\n",
       "    }\n",
       "</style>\n",
       "<table border=\"1\" class=\"dataframe\">\n",
       "  <thead>\n",
       "    <tr style=\"text-align: right;\">\n",
       "      <th></th>\n",
       "      <th>0</th>\n",
       "      <th>1</th>\n",
       "      <th>2</th>\n",
       "      <th>3</th>\n",
       "      <th>4</th>\n",
       "      <th>5</th>\n",
       "    </tr>\n",
       "  </thead>\n",
       "  <tbody>\n",
       "    <tr>\n",
       "      <th>0</th>\n",
       "      <td>5.093012e-199</td>\n",
       "      <td>5.449745e-02</td>\n",
       "      <td>6.451152e-28</td>\n",
       "      <td>7.825245e-104</td>\n",
       "      <td>3.463640e-211</td>\n",
       "      <td>1.770657e+00</td>\n",
       "    </tr>\n",
       "    <tr>\n",
       "      <th>1</th>\n",
       "      <td>3.357470e-204</td>\n",
       "      <td>2.140315e+00</td>\n",
       "      <td>1.989657e-26</td>\n",
       "      <td>1.904048e-104</td>\n",
       "      <td>4.739463e-215</td>\n",
       "      <td>1.826954e-04</td>\n",
       "    </tr>\n",
       "    <tr>\n",
       "      <th>2</th>\n",
       "      <td>1.767789e-216</td>\n",
       "      <td>3.587837e+00</td>\n",
       "      <td>9.620697e-30</td>\n",
       "      <td>6.480938e-114</td>\n",
       "      <td>3.224404e-229</td>\n",
       "      <td>2.609394e-04</td>\n",
       "    </tr>\n",
       "    <tr>\n",
       "      <th>3</th>\n",
       "      <td>4.293419e-208</td>\n",
       "      <td>3.587837e+00</td>\n",
       "      <td>1.322720e-26</td>\n",
       "      <td>3.031612e-106</td>\n",
       "      <td>2.175278e-217</td>\n",
       "      <td>1.015419e-05</td>\n",
       "    </tr>\n",
       "    <tr>\n",
       "      <th>4</th>\n",
       "      <td>1.963044e-202</td>\n",
       "      <td>4.266805e-02</td>\n",
       "      <td>7.431763e-29</td>\n",
       "      <td>1.884761e-106</td>\n",
       "      <td>8.191883e-215</td>\n",
       "      <td>1.355269e+00</td>\n",
       "    </tr>\n",
       "    <tr>\n",
       "      <th>...</th>\n",
       "      <td>...</td>\n",
       "      <td>...</td>\n",
       "      <td>...</td>\n",
       "      <td>...</td>\n",
       "      <td>...</td>\n",
       "      <td>...</td>\n",
       "    </tr>\n",
       "    <tr>\n",
       "      <th>145</th>\n",
       "      <td>2.136455e-11</td>\n",
       "      <td>9.344493e-148</td>\n",
       "      <td>3.564441e-15</td>\n",
       "      <td>3.740128e-07</td>\n",
       "      <td>3.023605e-01</td>\n",
       "      <td>2.395721e-157</td>\n",
       "    </tr>\n",
       "    <tr>\n",
       "      <th>146</th>\n",
       "      <td>5.975278e-21</td>\n",
       "      <td>2.120152e-121</td>\n",
       "      <td>4.732290e-08</td>\n",
       "      <td>3.294963e-02</td>\n",
       "      <td>2.929409e-06</td>\n",
       "      <td>2.904010e-134</td>\n",
       "    </tr>\n",
       "    <tr>\n",
       "      <th>147</th>\n",
       "      <td>3.914926e-13</td>\n",
       "      <td>3.112494e-135</td>\n",
       "      <td>7.935221e-12</td>\n",
       "      <td>1.457011e-03</td>\n",
       "      <td>4.700911e-01</td>\n",
       "      <td>1.804970e-144</td>\n",
       "    </tr>\n",
       "    <tr>\n",
       "      <th>148</th>\n",
       "      <td>1.685973e-15</td>\n",
       "      <td>6.440729e-147</td>\n",
       "      <td>1.721996e-15</td>\n",
       "      <td>5.807888e-09</td>\n",
       "      <td>2.993938e-02</td>\n",
       "      <td>7.160280e-157</td>\n",
       "    </tr>\n",
       "    <tr>\n",
       "      <th>149</th>\n",
       "      <td>4.917437e-24</td>\n",
       "      <td>2.613163e-114</td>\n",
       "      <td>2.648346e-07</td>\n",
       "      <td>4.144173e-02</td>\n",
       "      <td>2.588905e-06</td>\n",
       "      <td>6.412136e-125</td>\n",
       "    </tr>\n",
       "  </tbody>\n",
       "</table>\n",
       "<p>150 rows × 6 columns</p>\n",
       "</div>"
      ],
      "text/plain": [
       "                 0              1             2              3              4  \\\n",
       "0    5.093012e-199   5.449745e-02  6.451152e-28  7.825245e-104  3.463640e-211   \n",
       "1    3.357470e-204   2.140315e+00  1.989657e-26  1.904048e-104  4.739463e-215   \n",
       "2    1.767789e-216   3.587837e+00  9.620697e-30  6.480938e-114  3.224404e-229   \n",
       "3    4.293419e-208   3.587837e+00  1.322720e-26  3.031612e-106  2.175278e-217   \n",
       "4    1.963044e-202   4.266805e-02  7.431763e-29  1.884761e-106  8.191883e-215   \n",
       "..             ...            ...           ...            ...            ...   \n",
       "145   2.136455e-11  9.344493e-148  3.564441e-15   3.740128e-07   3.023605e-01   \n",
       "146   5.975278e-21  2.120152e-121  4.732290e-08   3.294963e-02   2.929409e-06   \n",
       "147   3.914926e-13  3.112494e-135  7.935221e-12   1.457011e-03   4.700911e-01   \n",
       "148   1.685973e-15  6.440729e-147  1.721996e-15   5.807888e-09   2.993938e-02   \n",
       "149   4.917437e-24  2.613163e-114  2.648346e-07   4.144173e-02   2.588905e-06   \n",
       "\n",
       "                 5  \n",
       "0     1.770657e+00  \n",
       "1     1.826954e-04  \n",
       "2     2.609394e-04  \n",
       "3     1.015419e-05  \n",
       "4     1.355269e+00  \n",
       "..             ...  \n",
       "145  2.395721e-157  \n",
       "146  2.904010e-134  \n",
       "147  1.804970e-144  \n",
       "148  7.160280e-157  \n",
       "149  6.412136e-125  \n",
       "\n",
       "[150 rows x 6 columns]"
      ]
     },
     "execution_count": 10,
     "metadata": {},
     "output_type": "execute_result"
    }
   ],
   "source": [
    "print(\"SHAPE: \", rbf._transformed_inputs(X).shape, \"\\nVALORES: \\n\")\n",
    "pd.DataFrame(rbf._transformed_inputs(X))"
   ]
  },
  {
   "cell_type": "markdown",
   "metadata": {},
   "source": [
    "# RBF - My Dataset"
   ]
  },
  {
   "cell_type": "code",
   "execution_count": 11,
   "metadata": {
    "ExecuteTime": {
     "end_time": "2019-11-27T12:55:25.853145Z",
     "start_time": "2019-11-27T12:55:06.182337Z"
    }
   },
   "outputs": [
    {
     "name": "stderr",
     "output_type": "stream",
     "text": [
      "C:\\Users\\barban01\\AppData\\Local\\Continuum\\miniconda3\\envs\\pdg\\lib\\site-packages\\sklearn\\linear_model\\logistic.py:432: FutureWarning: Default solver will be changed to 'lbfgs' in 0.22. Specify a solver to silence this warning.\n",
      "  FutureWarning)\n"
     ]
    },
    {
     "data": {
      "text/plain": [
       "array([0, 0, 0, ..., 0, 0, 0], dtype=int64)"
      ]
     },
     "execution_count": 11,
     "metadata": {},
     "output_type": "execute_result"
    }
   ],
   "source": [
    "rbf_classifier = RBFClassifier(number_of_centers = 150, random_state = seed)\n",
    "rbf_classifier.fit(numerical_x_train, y_train)\n",
    "rbf_pred = rbf_classifier.predict(numerical_x_train)\n",
    "rbf_pred"
   ]
  },
  {
   "cell_type": "code",
   "execution_count": 12,
   "metadata": {
    "ExecuteTime": {
     "end_time": "2019-11-27T12:55:25.866145Z",
     "start_time": "2019-11-27T12:55:25.856141Z"
    },
    "scrolled": true
   },
   "outputs": [
    {
     "data": {
      "text/plain": [
       "0"
      ]
     },
     "execution_count": 12,
     "metadata": {},
     "output_type": "execute_result"
    }
   ],
   "source": [
    "sum(rbf_pred)"
   ]
  },
  {
   "cell_type": "code",
   "execution_count": 13,
   "metadata": {
    "ExecuteTime": {
     "end_time": "2019-11-27T12:55:26.271137Z",
     "start_time": "2019-11-27T12:55:25.870146Z"
    }
   },
   "outputs": [
    {
     "name": "stdout",
     "output_type": "stream",
     "text": [
      "SHAPE:  (10302, 150) \n",
      "VALORES: \n",
      "\n"
     ]
    },
    {
     "data": {
      "text/html": [
       "<div>\n",
       "<style scoped>\n",
       "    .dataframe tbody tr th:only-of-type {\n",
       "        vertical-align: middle;\n",
       "    }\n",
       "\n",
       "    .dataframe tbody tr th {\n",
       "        vertical-align: top;\n",
       "    }\n",
       "\n",
       "    .dataframe thead th {\n",
       "        text-align: right;\n",
       "    }\n",
       "</style>\n",
       "<table border=\"1\" class=\"dataframe\">\n",
       "  <thead>\n",
       "    <tr style=\"text-align: right;\">\n",
       "      <th></th>\n",
       "      <th>0</th>\n",
       "      <th>1</th>\n",
       "      <th>2</th>\n",
       "      <th>3</th>\n",
       "      <th>4</th>\n",
       "      <th>5</th>\n",
       "      <th>6</th>\n",
       "      <th>7</th>\n",
       "      <th>8</th>\n",
       "      <th>9</th>\n",
       "      <th>...</th>\n",
       "      <th>140</th>\n",
       "      <th>141</th>\n",
       "      <th>142</th>\n",
       "      <th>143</th>\n",
       "      <th>144</th>\n",
       "      <th>145</th>\n",
       "      <th>146</th>\n",
       "      <th>147</th>\n",
       "      <th>148</th>\n",
       "      <th>149</th>\n",
       "    </tr>\n",
       "  </thead>\n",
       "  <tbody>\n",
       "    <tr>\n",
       "      <th>0</th>\n",
       "      <td>1.164294e-84</td>\n",
       "      <td>2.024276e-84</td>\n",
       "      <td>2.978218e-23</td>\n",
       "      <td>2.009022e-153</td>\n",
       "      <td>5.486468e-38</td>\n",
       "      <td>4.640195e-148</td>\n",
       "      <td>5.687664e-211</td>\n",
       "      <td>2.855684e-197</td>\n",
       "      <td>5.634469e-32</td>\n",
       "      <td>1.558051e-61</td>\n",
       "      <td>...</td>\n",
       "      <td>2.440383e-149</td>\n",
       "      <td>5.769053e-221</td>\n",
       "      <td>7.015162e-186</td>\n",
       "      <td>4.248375e-25</td>\n",
       "      <td>5.708160e-93</td>\n",
       "      <td>1.359735e-57</td>\n",
       "      <td>3.252024e-07</td>\n",
       "      <td>5.685186e-188</td>\n",
       "      <td>2.096845e-64</td>\n",
       "      <td>1.435947e-35</td>\n",
       "    </tr>\n",
       "    <tr>\n",
       "      <th>1</th>\n",
       "      <td>6.229378e-52</td>\n",
       "      <td>1.628398e-41</td>\n",
       "      <td>1.411969e-31</td>\n",
       "      <td>7.405158e-112</td>\n",
       "      <td>2.808280e-48</td>\n",
       "      <td>1.240984e-12</td>\n",
       "      <td>7.790074e-60</td>\n",
       "      <td>2.189214e-98</td>\n",
       "      <td>4.209255e-27</td>\n",
       "      <td>3.096738e-08</td>\n",
       "      <td>...</td>\n",
       "      <td>2.685677e-85</td>\n",
       "      <td>3.765407e-125</td>\n",
       "      <td>1.012178e-144</td>\n",
       "      <td>3.330682e-36</td>\n",
       "      <td>1.578489e-20</td>\n",
       "      <td>9.992225e-38</td>\n",
       "      <td>7.858111e-37</td>\n",
       "      <td>4.498289e-80</td>\n",
       "      <td>3.220940e-25</td>\n",
       "      <td>2.043551e-18</td>\n",
       "    </tr>\n",
       "    <tr>\n",
       "      <th>2</th>\n",
       "      <td>2.709445e-69</td>\n",
       "      <td>7.106126e-20</td>\n",
       "      <td>8.500089e-25</td>\n",
       "      <td>8.614067e-84</td>\n",
       "      <td>1.763242e-17</td>\n",
       "      <td>4.263457e-28</td>\n",
       "      <td>9.955566e-52</td>\n",
       "      <td>1.073083e-87</td>\n",
       "      <td>8.743227e-09</td>\n",
       "      <td>1.994634e-15</td>\n",
       "      <td>...</td>\n",
       "      <td>1.056852e-42</td>\n",
       "      <td>2.811478e-83</td>\n",
       "      <td>3.347710e-83</td>\n",
       "      <td>6.002600e-16</td>\n",
       "      <td>5.117834e-20</td>\n",
       "      <td>1.223784e-12</td>\n",
       "      <td>5.949466e-23</td>\n",
       "      <td>7.100911e-65</td>\n",
       "      <td>1.139865e-26</td>\n",
       "      <td>6.552992e-15</td>\n",
       "    </tr>\n",
       "    <tr>\n",
       "      <th>3</th>\n",
       "      <td>3.682381e-15</td>\n",
       "      <td>1.707875e-95</td>\n",
       "      <td>1.318292e-40</td>\n",
       "      <td>1.144342e-220</td>\n",
       "      <td>7.901825e-114</td>\n",
       "      <td>6.908921e-95</td>\n",
       "      <td>1.864997e-231</td>\n",
       "      <td>6.170950e-185</td>\n",
       "      <td>6.885264e-46</td>\n",
       "      <td>4.415424e-62</td>\n",
       "      <td>...</td>\n",
       "      <td>1.971830e-246</td>\n",
       "      <td>4.350742e-320</td>\n",
       "      <td>2.737124e-321</td>\n",
       "      <td>1.149822e-91</td>\n",
       "      <td>8.381642e-71</td>\n",
       "      <td>3.565022e-73</td>\n",
       "      <td>4.088502e-46</td>\n",
       "      <td>4.902712e-236</td>\n",
       "      <td>6.283879e-38</td>\n",
       "      <td>5.314697e-22</td>\n",
       "    </tr>\n",
       "    <tr>\n",
       "      <th>4</th>\n",
       "      <td>6.107885e-126</td>\n",
       "      <td>1.742153e-23</td>\n",
       "      <td>4.654162e-50</td>\n",
       "      <td>3.359233e-55</td>\n",
       "      <td>7.458454e-14</td>\n",
       "      <td>8.869500e-33</td>\n",
       "      <td>1.283746e-28</td>\n",
       "      <td>5.062690e-73</td>\n",
       "      <td>4.967117e-28</td>\n",
       "      <td>1.777701e-16</td>\n",
       "      <td>...</td>\n",
       "      <td>6.880384e-24</td>\n",
       "      <td>1.273031e-48</td>\n",
       "      <td>8.267847e-56</td>\n",
       "      <td>8.502646e-26</td>\n",
       "      <td>5.682852e-26</td>\n",
       "      <td>1.942189e-26</td>\n",
       "      <td>4.162079e-34</td>\n",
       "      <td>1.374931e-36</td>\n",
       "      <td>1.384001e-28</td>\n",
       "      <td>1.758893e-38</td>\n",
       "    </tr>\n",
       "    <tr>\n",
       "      <th>...</th>\n",
       "      <td>...</td>\n",
       "      <td>...</td>\n",
       "      <td>...</td>\n",
       "      <td>...</td>\n",
       "      <td>...</td>\n",
       "      <td>...</td>\n",
       "      <td>...</td>\n",
       "      <td>...</td>\n",
       "      <td>...</td>\n",
       "      <td>...</td>\n",
       "      <td>...</td>\n",
       "      <td>...</td>\n",
       "      <td>...</td>\n",
       "      <td>...</td>\n",
       "      <td>...</td>\n",
       "      <td>...</td>\n",
       "      <td>...</td>\n",
       "      <td>...</td>\n",
       "      <td>...</td>\n",
       "      <td>...</td>\n",
       "      <td>...</td>\n",
       "    </tr>\n",
       "    <tr>\n",
       "      <th>10297</th>\n",
       "      <td>3.362949e-76</td>\n",
       "      <td>5.292313e-36</td>\n",
       "      <td>4.649527e-36</td>\n",
       "      <td>3.457450e-107</td>\n",
       "      <td>5.037052e-40</td>\n",
       "      <td>4.155508e-72</td>\n",
       "      <td>2.076625e-127</td>\n",
       "      <td>4.535642e-114</td>\n",
       "      <td>9.947774e-18</td>\n",
       "      <td>6.027549e-36</td>\n",
       "      <td>...</td>\n",
       "      <td>1.694680e-104</td>\n",
       "      <td>1.036029e-153</td>\n",
       "      <td>9.656611e-144</td>\n",
       "      <td>3.726142e-46</td>\n",
       "      <td>7.304925e-28</td>\n",
       "      <td>3.230205e-25</td>\n",
       "      <td>8.144031e-18</td>\n",
       "      <td>1.923543e-127</td>\n",
       "      <td>7.099408e-20</td>\n",
       "      <td>5.033876e-24</td>\n",
       "    </tr>\n",
       "    <tr>\n",
       "      <th>10298</th>\n",
       "      <td>3.133722e-160</td>\n",
       "      <td>9.711991e-26</td>\n",
       "      <td>5.992850e-79</td>\n",
       "      <td>4.386728e-47</td>\n",
       "      <td>4.981836e-33</td>\n",
       "      <td>1.314217e-19</td>\n",
       "      <td>3.912076e-10</td>\n",
       "      <td>2.964485e-51</td>\n",
       "      <td>2.853720e-48</td>\n",
       "      <td>7.958138e-21</td>\n",
       "      <td>...</td>\n",
       "      <td>4.546594e-26</td>\n",
       "      <td>1.072961e-38</td>\n",
       "      <td>5.003678e-62</td>\n",
       "      <td>3.098888e-56</td>\n",
       "      <td>1.569083e-32</td>\n",
       "      <td>6.453888e-39</td>\n",
       "      <td>8.490266e-62</td>\n",
       "      <td>8.370524e-19</td>\n",
       "      <td>8.066651e-26</td>\n",
       "      <td>4.563405e-57</td>\n",
       "    </tr>\n",
       "    <tr>\n",
       "      <th>10299</th>\n",
       "      <td>3.651692e-26</td>\n",
       "      <td>3.477776e-81</td>\n",
       "      <td>1.690379e-17</td>\n",
       "      <td>2.694632e-162</td>\n",
       "      <td>2.042629e-64</td>\n",
       "      <td>2.033597e-59</td>\n",
       "      <td>9.933454e-141</td>\n",
       "      <td>9.934824e-164</td>\n",
       "      <td>9.206673e-37</td>\n",
       "      <td>5.894979e-18</td>\n",
       "      <td>...</td>\n",
       "      <td>2.949193e-155</td>\n",
       "      <td>2.213899e-214</td>\n",
       "      <td>3.119193e-223</td>\n",
       "      <td>1.060564e-33</td>\n",
       "      <td>9.568110e-45</td>\n",
       "      <td>4.839137e-66</td>\n",
       "      <td>6.462892e-21</td>\n",
       "      <td>1.922728e-150</td>\n",
       "      <td>1.418329e-40</td>\n",
       "      <td>5.281190e-18</td>\n",
       "    </tr>\n",
       "    <tr>\n",
       "      <th>10300</th>\n",
       "      <td>3.036928e-160</td>\n",
       "      <td>1.153261e-14</td>\n",
       "      <td>1.210904e-66</td>\n",
       "      <td>2.472318e-41</td>\n",
       "      <td>2.754896e-13</td>\n",
       "      <td>8.336627e-46</td>\n",
       "      <td>7.291387e-32</td>\n",
       "      <td>2.264343e-59</td>\n",
       "      <td>1.834562e-30</td>\n",
       "      <td>8.678093e-33</td>\n",
       "      <td>...</td>\n",
       "      <td>2.074524e-12</td>\n",
       "      <td>2.538809e-33</td>\n",
       "      <td>1.860350e-34</td>\n",
       "      <td>1.009080e-40</td>\n",
       "      <td>1.109654e-38</td>\n",
       "      <td>2.389050e-19</td>\n",
       "      <td>6.973661e-46</td>\n",
       "      <td>1.427303e-31</td>\n",
       "      <td>9.836499e-30</td>\n",
       "      <td>2.994202e-50</td>\n",
       "    </tr>\n",
       "    <tr>\n",
       "      <th>10301</th>\n",
       "      <td>0.000000e+00</td>\n",
       "      <td>1.432329e-88</td>\n",
       "      <td>3.633288e-301</td>\n",
       "      <td>1.506412e-06</td>\n",
       "      <td>9.815566e-89</td>\n",
       "      <td>8.285974e-213</td>\n",
       "      <td>2.296954e-107</td>\n",
       "      <td>3.282958e-43</td>\n",
       "      <td>1.064856e-189</td>\n",
       "      <td>5.015674e-194</td>\n",
       "      <td>...</td>\n",
       "      <td>2.748621e-75</td>\n",
       "      <td>1.695821e-34</td>\n",
       "      <td>8.317533e-39</td>\n",
       "      <td>2.555144e-226</td>\n",
       "      <td>5.436812e-235</td>\n",
       "      <td>2.794953e-132</td>\n",
       "      <td>6.347765e-213</td>\n",
       "      <td>7.867638e-43</td>\n",
       "      <td>2.866224e-98</td>\n",
       "      <td>2.081021e-236</td>\n",
       "    </tr>\n",
       "  </tbody>\n",
       "</table>\n",
       "<p>10302 rows × 150 columns</p>\n",
       "</div>"
      ],
      "text/plain": [
       "                 0             1              2              3    \\\n",
       "0       1.164294e-84  2.024276e-84   2.978218e-23  2.009022e-153   \n",
       "1       6.229378e-52  1.628398e-41   1.411969e-31  7.405158e-112   \n",
       "2       2.709445e-69  7.106126e-20   8.500089e-25   8.614067e-84   \n",
       "3       3.682381e-15  1.707875e-95   1.318292e-40  1.144342e-220   \n",
       "4      6.107885e-126  1.742153e-23   4.654162e-50   3.359233e-55   \n",
       "...              ...           ...            ...            ...   \n",
       "10297   3.362949e-76  5.292313e-36   4.649527e-36  3.457450e-107   \n",
       "10298  3.133722e-160  9.711991e-26   5.992850e-79   4.386728e-47   \n",
       "10299   3.651692e-26  3.477776e-81   1.690379e-17  2.694632e-162   \n",
       "10300  3.036928e-160  1.153261e-14   1.210904e-66   2.472318e-41   \n",
       "10301   0.000000e+00  1.432329e-88  3.633288e-301   1.506412e-06   \n",
       "\n",
       "                 4              5              6              7    \\\n",
       "0       5.486468e-38  4.640195e-148  5.687664e-211  2.855684e-197   \n",
       "1       2.808280e-48   1.240984e-12   7.790074e-60   2.189214e-98   \n",
       "2       1.763242e-17   4.263457e-28   9.955566e-52   1.073083e-87   \n",
       "3      7.901825e-114   6.908921e-95  1.864997e-231  6.170950e-185   \n",
       "4       7.458454e-14   8.869500e-33   1.283746e-28   5.062690e-73   \n",
       "...              ...            ...            ...            ...   \n",
       "10297   5.037052e-40   4.155508e-72  2.076625e-127  4.535642e-114   \n",
       "10298   4.981836e-33   1.314217e-19   3.912076e-10   2.964485e-51   \n",
       "10299   2.042629e-64   2.033597e-59  9.933454e-141  9.934824e-164   \n",
       "10300   2.754896e-13   8.336627e-46   7.291387e-32   2.264343e-59   \n",
       "10301   9.815566e-89  8.285974e-213  2.296954e-107   3.282958e-43   \n",
       "\n",
       "                 8              9    ...            140            141  \\\n",
       "0       5.634469e-32   1.558051e-61  ...  2.440383e-149  5.769053e-221   \n",
       "1       4.209255e-27   3.096738e-08  ...   2.685677e-85  3.765407e-125   \n",
       "2       8.743227e-09   1.994634e-15  ...   1.056852e-42   2.811478e-83   \n",
       "3       6.885264e-46   4.415424e-62  ...  1.971830e-246  4.350742e-320   \n",
       "4       4.967117e-28   1.777701e-16  ...   6.880384e-24   1.273031e-48   \n",
       "...              ...            ...  ...            ...            ...   \n",
       "10297   9.947774e-18   6.027549e-36  ...  1.694680e-104  1.036029e-153   \n",
       "10298   2.853720e-48   7.958138e-21  ...   4.546594e-26   1.072961e-38   \n",
       "10299   9.206673e-37   5.894979e-18  ...  2.949193e-155  2.213899e-214   \n",
       "10300   1.834562e-30   8.678093e-33  ...   2.074524e-12   2.538809e-33   \n",
       "10301  1.064856e-189  5.015674e-194  ...   2.748621e-75   1.695821e-34   \n",
       "\n",
       "                 142            143            144            145  \\\n",
       "0      7.015162e-186   4.248375e-25   5.708160e-93   1.359735e-57   \n",
       "1      1.012178e-144   3.330682e-36   1.578489e-20   9.992225e-38   \n",
       "2       3.347710e-83   6.002600e-16   5.117834e-20   1.223784e-12   \n",
       "3      2.737124e-321   1.149822e-91   8.381642e-71   3.565022e-73   \n",
       "4       8.267847e-56   8.502646e-26   5.682852e-26   1.942189e-26   \n",
       "...              ...            ...            ...            ...   \n",
       "10297  9.656611e-144   3.726142e-46   7.304925e-28   3.230205e-25   \n",
       "10298   5.003678e-62   3.098888e-56   1.569083e-32   6.453888e-39   \n",
       "10299  3.119193e-223   1.060564e-33   9.568110e-45   4.839137e-66   \n",
       "10300   1.860350e-34   1.009080e-40   1.109654e-38   2.389050e-19   \n",
       "10301   8.317533e-39  2.555144e-226  5.436812e-235  2.794953e-132   \n",
       "\n",
       "                 146            147           148            149  \n",
       "0       3.252024e-07  5.685186e-188  2.096845e-64   1.435947e-35  \n",
       "1       7.858111e-37   4.498289e-80  3.220940e-25   2.043551e-18  \n",
       "2       5.949466e-23   7.100911e-65  1.139865e-26   6.552992e-15  \n",
       "3       4.088502e-46  4.902712e-236  6.283879e-38   5.314697e-22  \n",
       "4       4.162079e-34   1.374931e-36  1.384001e-28   1.758893e-38  \n",
       "...              ...            ...           ...            ...  \n",
       "10297   8.144031e-18  1.923543e-127  7.099408e-20   5.033876e-24  \n",
       "10298   8.490266e-62   8.370524e-19  8.066651e-26   4.563405e-57  \n",
       "10299   6.462892e-21  1.922728e-150  1.418329e-40   5.281190e-18  \n",
       "10300   6.973661e-46   1.427303e-31  9.836499e-30   2.994202e-50  \n",
       "10301  6.347765e-213   7.867638e-43  2.866224e-98  2.081021e-236  \n",
       "\n",
       "[10302 rows x 150 columns]"
      ]
     },
     "execution_count": 13,
     "metadata": {},
     "output_type": "execute_result"
    }
   ],
   "source": [
    "print(\"SHAPE: \", rbf_classifier._transformed_inputs(numerical_x_train).shape, \"\\nVALORES: \\n\")\n",
    "pd.DataFrame(rbf_classifier._transformed_inputs(numerical_x_train))"
   ]
  },
  {
   "cell_type": "code",
   "execution_count": 14,
   "metadata": {
    "ExecuteTime": {
     "end_time": "2019-11-27T12:55:26.463132Z",
     "start_time": "2019-11-27T12:55:26.274140Z"
    }
   },
   "outputs": [
    {
     "data": {
      "text/plain": [
       "array([[1.16429448e-084, 2.02427625e-084, 2.97821830e-023, ...,\n",
       "        5.68518584e-188, 2.09684481e-064, 1.43594727e-035],\n",
       "       [6.22937824e-052, 1.62839774e-041, 1.41196868e-031, ...,\n",
       "        4.49828887e-080, 3.22094013e-025, 2.04355061e-018],\n",
       "       [2.70944541e-069, 7.10612572e-020, 8.50008923e-025, ...,\n",
       "        7.10091150e-065, 1.13986531e-026, 6.55299203e-015],\n",
       "       ...,\n",
       "       [3.65169158e-026, 3.47777568e-081, 1.69037932e-017, ...,\n",
       "        1.92272807e-150, 1.41832912e-040, 5.28119039e-018],\n",
       "       [3.03692824e-160, 1.15326115e-014, 1.21090378e-066, ...,\n",
       "        1.42730297e-031, 9.83649885e-030, 2.99420226e-050],\n",
       "       [0.00000000e+000, 1.43232895e-088, 3.63328808e-301, ...,\n",
       "        7.86763820e-043, 2.86622379e-098, 2.08102125e-236]])"
      ]
     },
     "execution_count": 14,
     "metadata": {},
     "output_type": "execute_result"
    }
   ],
   "source": [
    "rbf_classifier._transformed_inputs(numerical_x_train)"
   ]
  }
 ],
 "metadata": {
  "kernelspec": {
   "display_name": "Python 3",
   "language": "python",
   "name": "python3"
  },
  "language_info": {
   "codemirror_mode": {
    "name": "ipython",
    "version": 3
   },
   "file_extension": ".py",
   "mimetype": "text/x-python",
   "name": "python",
   "nbconvert_exporter": "python",
   "pygments_lexer": "ipython3",
   "version": "3.7.3"
  },
  "latex_envs": {
   "LaTeX_envs_menu_present": true,
   "autoclose": false,
   "autocomplete": true,
   "bibliofile": "biblio.bib",
   "cite_by": "apalike",
   "current_citInitial": 1,
   "eqLabelWithNumbers": true,
   "eqNumInitial": 1,
   "hotkeys": {
    "equation": "Ctrl-E",
    "itemize": "Ctrl-I"
   },
   "labels_anchors": false,
   "latex_user_defs": false,
   "report_style_numbering": false,
   "user_envs_cfg": false
  },
  "toc": {
   "base_numbering": 1,
   "nav_menu": {},
   "number_sections": true,
   "sideBar": true,
   "skip_h1_title": false,
   "title_cell": "Table of Contents",
   "title_sidebar": "Contents",
   "toc_cell": false,
   "toc_position": {},
   "toc_section_display": true,
   "toc_window_display": false
  }
 },
 "nbformat": 4,
 "nbformat_minor": 2
}
