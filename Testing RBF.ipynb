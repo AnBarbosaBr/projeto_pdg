{
 "cells": [
  {
   "cell_type": "code",
   "execution_count": 49,
   "metadata": {
    "ExecuteTime": {
     "end_time": "2020-01-06T11:02:37.179193Z",
     "start_time": "2020-01-06T11:02:37.174200Z"
    },
    "run_control": {
     "marked": true
    }
   },
   "outputs": [],
   "source": [
    "from RBF import RBFClassifier"
   ]
  },
  {
   "cell_type": "markdown",
   "metadata": {},
   "source": [
    "# Sugestões\n",
    "* Replicar o que ele fez usando minha implementação: \\\n",
    "http://mccormickml.com/2013/08/15/radial-basis-function-network-rbfn-tutorial/\n",
    "* Normalizar os dados antes da clusterização.\n",
    "* Normalizar os dados transformados depois da clusterização.\n"
   ]
  },
  {
   "cell_type": "markdown",
   "metadata": {
    "ExecuteTime": {
     "end_time": "2019-11-27T12:42:15.590525Z",
     "start_time": "2019-11-27T12:42:15.586535Z"
    }
   },
   "source": [
    "# Preparacoes"
   ]
  },
  {
   "cell_type": "code",
   "execution_count": 44,
   "metadata": {
    "ExecuteTime": {
     "end_time": "2020-01-06T10:53:17.025132Z",
     "start_time": "2020-01-06T10:53:17.020130Z"
    }
   },
   "outputs": [],
   "source": [
    "import pandas as pd;\n",
    "import numpy as np; \n",
    "import sklearn.model_selection;\n",
    "import sklearn.metrics;\n",
    "from sklearn.tree import DecisionTreeClassifier; # Tree\n",
    "from sklearn.linear_model import LogisticRegression\n",
    "import statsmodels.api as sm; # GLM\n"
   ]
  },
  {
   "cell_type": "code",
   "execution_count": 9,
   "metadata": {
    "ExecuteTime": {
     "end_time": "2020-01-06T10:46:02.800752Z",
     "start_time": "2020-01-06T10:46:02.710755Z"
    }
   },
   "outputs": [
    {
     "name": "stdout",
     "output_type": "stream",
     "text": [
      "10302 linhas e 27 colunas.\n",
      "X: 10302 linhas e 9 colunas.\n",
      "Y: (10302,) linhas. Valores Únicos = [0 1].\n"
     ]
    }
   ],
   "source": [
    "data = pd.read_csv(\"data/car_insurance_claim.csv\")\n",
    "print(f\"{data.shape[0]} linhas e {data.shape[1]} colunas.\")\n",
    "\n",
    "independent_variables = list(range(1,25))\n",
    "dependent_variables = 25\n",
    "\n",
    "numerical_x_train = data.iloc[ : , independent_variables]._get_numeric_data()\n",
    "numerical_x_train.fillna(numerical_x_train.mean(), inplace = True)\n",
    "\n",
    "y_train = data.iloc[ : , dependent_variables]\n",
    "\n",
    "print(f\"X: {numerical_x_train.shape[0]} linhas e {numerical_x_train.shape[1]} colunas.\")\n",
    "print(f\"Y: {y_train.shape} linhas. Valores Únicos = {y_train.unique()}.\")"
   ]
  },
  {
   "cell_type": "code",
   "execution_count": null,
   "metadata": {},
   "outputs": [],
   "source": []
  },
  {
   "cell_type": "code",
   "execution_count": 53,
   "metadata": {
    "ExecuteTime": {
     "end_time": "2020-01-06T11:05:18.722247Z",
     "start_time": "2020-01-06T11:05:18.712240Z"
    }
   },
   "outputs": [],
   "source": [
    "def score_results(y_real, y_predito, label):\n",
    "    \"\"\"Função personalizada que scora os resultados.\n",
    "    \n",
    "    Arguments:\n",
    "        y_real -- O vetor com os dados esperados\n",
    "        y_predito -- O vetor com as predições\n",
    "        label -- Um título para essa análise, pode ser usado para facilitar a identificação do output.\"\"\"\n",
    "    matriz_de_confusao = sklearn.metrics.confusion_matrix(y_true = y_real, y_pred = y_predito)\n",
    "    tn, fp, fn, tp = matriz_de_confusao.ravel()\n",
    "    \n",
    "    print(f\"--- {label} ---\")\n",
    "    print(\"Matrix de ConfusÃ£o\")\n",
    "    print(matriz_de_confusao)\n",
    "    print(\"Balanced Accuracy: \", end=\" \")\n",
    "    print(f\"{100*sklearn.metrics.balanced_accuracy_score(y_true = y_real, y_pred = y_predito):.2f}%\")\n",
    "    print(f\"Falsos Positivos: {fp}, Falsos Negativos: {fn}\\n\"+\n",
    "            f\"Verdadeiros Positivos: {tp}, Verdadeiros Negativos: {tn}\")\n",
    "    print(f\"Precisao (tp/(tp+fp)): {100*tp/(tp+fp) :.2f}%\")\n",
    "    print(f\"Recall (tp/(tp+fn)): {100*tp/(tp+fn) :.2f}%\")\n",
    "    \n",
    "    print(\"-\"*50)\n"
   ]
  },
  {
   "cell_type": "code",
   "execution_count": 11,
   "metadata": {
    "ExecuteTime": {
     "end_time": "2020-01-06T10:46:04.008823Z",
     "start_time": "2020-01-06T10:46:03.937827Z"
    }
   },
   "outputs": [
    {
     "name": "stdout",
     "output_type": "stream",
     "text": [
      "10302 linhas e 27 colunas\n"
     ]
    }
   ],
   "source": [
    "seed = 42\n",
    "data = pd.read_csv(\"data/car_insurance_claim.csv\")\n",
    "\n",
    "# Linhas / Colunas\n",
    "forma = data.shape\n",
    "print(f\"{data.shape[0]} linhas e {data.shape[1]} colunas\")\n",
    "# print(pd.DataFrame(data.columns))\n",
    "# print(data.describe())\n",
    "# print(data.describe().shape[1]) # Colunas NÃºmericas"
   ]
  },
  {
   "cell_type": "markdown",
   "metadata": {},
   "source": [
    "# RBF - Iris"
   ]
  },
  {
   "cell_type": "code",
   "execution_count": 6,
   "metadata": {
    "ExecuteTime": {
     "end_time": "2019-11-27T12:55:06.031337Z",
     "start_time": "2019-11-27T12:55:05.956335Z"
    }
   },
   "outputs": [],
   "source": [
    "from sklearn import datasets\n",
    "iris = datasets.load_iris()\n",
    "X = iris.data\n",
    "y = iris.target"
   ]
  },
  {
   "cell_type": "code",
   "execution_count": 7,
   "metadata": {
    "ExecuteTime": {
     "end_time": "2019-11-27T12:55:06.039335Z",
     "start_time": "2019-11-27T12:55:06.035334Z"
    }
   },
   "outputs": [],
   "source": [
    "rbf = RBFClassifier(number_of_centers = 6, random_state = 42)"
   ]
  },
  {
   "cell_type": "code",
   "execution_count": 8,
   "metadata": {
    "ExecuteTime": {
     "end_time": "2019-11-27T12:55:06.124339Z",
     "start_time": "2019-11-27T12:55:06.043335Z"
    }
   },
   "outputs": [
    {
     "name": "stderr",
     "output_type": "stream",
     "text": [
      "C:\\Users\\barban01\\AppData\\Local\\Continuum\\miniconda3\\envs\\pdg\\lib\\site-packages\\sklearn\\linear_model\\logistic.py:432: FutureWarning: Default solver will be changed to 'lbfgs' in 0.22. Specify a solver to silence this warning.\n",
      "  FutureWarning)\n",
      "C:\\Users\\barban01\\AppData\\Local\\Continuum\\miniconda3\\envs\\pdg\\lib\\site-packages\\sklearn\\linear_model\\logistic.py:469: FutureWarning: Default multi_class will be changed to 'auto' in 0.22. Specify the multi_class option to silence this warning.\n",
      "  \"this warning.\", FutureWarning)\n"
     ]
    },
    {
     "data": {
      "text/plain": [
       "array([0, 0, 0, 0, 0, 0, 0, 0, 0, 0, 0, 0, 0, 2, 2, 2, 0, 0, 2, 0, 0, 0,\n",
       "       2, 2, 2, 0, 0, 0, 0, 0, 0, 0, 2, 2, 0, 0, 0, 0, 0, 0, 0, 2, 0, 2,\n",
       "       2, 0, 0, 0, 0, 0, 2, 2, 2, 1, 1, 1, 2, 2, 2, 1, 2, 1, 1, 1, 1, 2,\n",
       "       2, 1, 2, 1, 2, 1, 2, 1, 2, 2, 2, 2, 1, 1, 1, 1, 1, 2, 2, 2, 2, 2,\n",
       "       1, 1, 1, 1, 1, 2, 1, 1, 1, 2, 2, 1, 2, 2, 2, 2, 2, 2, 2, 2, 2, 2,\n",
       "       2, 2, 2, 2, 2, 2, 2, 2, 2, 2, 2, 2, 2, 1, 2, 2, 1, 1, 2, 2, 2, 2,\n",
       "       2, 1, 2, 2, 2, 2, 1, 2, 2, 2, 2, 2, 2, 2, 2, 2, 2, 2])"
      ]
     },
     "execution_count": 8,
     "metadata": {},
     "output_type": "execute_result"
    }
   ],
   "source": [
    "rbf.fit(X,y)\n",
    "rbf.predict(X)"
   ]
  },
  {
   "cell_type": "code",
   "execution_count": 9,
   "metadata": {
    "ExecuteTime": {
     "end_time": "2019-11-27T12:55:06.138334Z",
     "start_time": "2019-11-27T12:55:06.127338Z"
    }
   },
   "outputs": [
    {
     "data": {
      "text/plain": [
       "array([[38,  0, 12],\n",
       "       [ 0, 26, 24],\n",
       "       [ 0,  5, 45]], dtype=int64)"
      ]
     },
     "execution_count": 9,
     "metadata": {},
     "output_type": "execute_result"
    }
   ],
   "source": [
    "sklearn.metrics.confusion_matrix(y_true = y, y_pred =  rbf.predict(X))"
   ]
  },
  {
   "cell_type": "code",
   "execution_count": 10,
   "metadata": {
    "ExecuteTime": {
     "end_time": "2019-11-27T12:55:06.179334Z",
     "start_time": "2019-11-27T12:55:06.141335Z"
    }
   },
   "outputs": [
    {
     "name": "stdout",
     "output_type": "stream",
     "text": [
      "SHAPE:  (150, 6) \n",
      "VALORES: \n",
      "\n"
     ]
    },
    {
     "data": {
      "text/html": [
       "<div>\n",
       "<style scoped>\n",
       "    .dataframe tbody tr th:only-of-type {\n",
       "        vertical-align: middle;\n",
       "    }\n",
       "\n",
       "    .dataframe tbody tr th {\n",
       "        vertical-align: top;\n",
       "    }\n",
       "\n",
       "    .dataframe thead th {\n",
       "        text-align: right;\n",
       "    }\n",
       "</style>\n",
       "<table border=\"1\" class=\"dataframe\">\n",
       "  <thead>\n",
       "    <tr style=\"text-align: right;\">\n",
       "      <th></th>\n",
       "      <th>0</th>\n",
       "      <th>1</th>\n",
       "      <th>2</th>\n",
       "      <th>3</th>\n",
       "      <th>4</th>\n",
       "      <th>5</th>\n",
       "    </tr>\n",
       "  </thead>\n",
       "  <tbody>\n",
       "    <tr>\n",
       "      <th>0</th>\n",
       "      <td>5.093012e-199</td>\n",
       "      <td>5.449745e-02</td>\n",
       "      <td>6.451152e-28</td>\n",
       "      <td>7.825245e-104</td>\n",
       "      <td>3.463640e-211</td>\n",
       "      <td>1.770657e+00</td>\n",
       "    </tr>\n",
       "    <tr>\n",
       "      <th>1</th>\n",
       "      <td>3.357470e-204</td>\n",
       "      <td>2.140315e+00</td>\n",
       "      <td>1.989657e-26</td>\n",
       "      <td>1.904048e-104</td>\n",
       "      <td>4.739463e-215</td>\n",
       "      <td>1.826954e-04</td>\n",
       "    </tr>\n",
       "    <tr>\n",
       "      <th>2</th>\n",
       "      <td>1.767789e-216</td>\n",
       "      <td>3.587837e+00</td>\n",
       "      <td>9.620697e-30</td>\n",
       "      <td>6.480938e-114</td>\n",
       "      <td>3.224404e-229</td>\n",
       "      <td>2.609394e-04</td>\n",
       "    </tr>\n",
       "    <tr>\n",
       "      <th>3</th>\n",
       "      <td>4.293419e-208</td>\n",
       "      <td>3.587837e+00</td>\n",
       "      <td>1.322720e-26</td>\n",
       "      <td>3.031612e-106</td>\n",
       "      <td>2.175278e-217</td>\n",
       "      <td>1.015419e-05</td>\n",
       "    </tr>\n",
       "    <tr>\n",
       "      <th>4</th>\n",
       "      <td>1.963044e-202</td>\n",
       "      <td>4.266805e-02</td>\n",
       "      <td>7.431763e-29</td>\n",
       "      <td>1.884761e-106</td>\n",
       "      <td>8.191883e-215</td>\n",
       "      <td>1.355269e+00</td>\n",
       "    </tr>\n",
       "    <tr>\n",
       "      <th>...</th>\n",
       "      <td>...</td>\n",
       "      <td>...</td>\n",
       "      <td>...</td>\n",
       "      <td>...</td>\n",
       "      <td>...</td>\n",
       "      <td>...</td>\n",
       "    </tr>\n",
       "    <tr>\n",
       "      <th>145</th>\n",
       "      <td>2.136455e-11</td>\n",
       "      <td>9.344493e-148</td>\n",
       "      <td>3.564441e-15</td>\n",
       "      <td>3.740128e-07</td>\n",
       "      <td>3.023605e-01</td>\n",
       "      <td>2.395721e-157</td>\n",
       "    </tr>\n",
       "    <tr>\n",
       "      <th>146</th>\n",
       "      <td>5.975278e-21</td>\n",
       "      <td>2.120152e-121</td>\n",
       "      <td>4.732290e-08</td>\n",
       "      <td>3.294963e-02</td>\n",
       "      <td>2.929409e-06</td>\n",
       "      <td>2.904010e-134</td>\n",
       "    </tr>\n",
       "    <tr>\n",
       "      <th>147</th>\n",
       "      <td>3.914926e-13</td>\n",
       "      <td>3.112494e-135</td>\n",
       "      <td>7.935221e-12</td>\n",
       "      <td>1.457011e-03</td>\n",
       "      <td>4.700911e-01</td>\n",
       "      <td>1.804970e-144</td>\n",
       "    </tr>\n",
       "    <tr>\n",
       "      <th>148</th>\n",
       "      <td>1.685973e-15</td>\n",
       "      <td>6.440729e-147</td>\n",
       "      <td>1.721996e-15</td>\n",
       "      <td>5.807888e-09</td>\n",
       "      <td>2.993938e-02</td>\n",
       "      <td>7.160280e-157</td>\n",
       "    </tr>\n",
       "    <tr>\n",
       "      <th>149</th>\n",
       "      <td>4.917437e-24</td>\n",
       "      <td>2.613163e-114</td>\n",
       "      <td>2.648346e-07</td>\n",
       "      <td>4.144173e-02</td>\n",
       "      <td>2.588905e-06</td>\n",
       "      <td>6.412136e-125</td>\n",
       "    </tr>\n",
       "  </tbody>\n",
       "</table>\n",
       "<p>150 rows × 6 columns</p>\n",
       "</div>"
      ],
      "text/plain": [
       "                 0              1             2              3              4  \\\n",
       "0    5.093012e-199   5.449745e-02  6.451152e-28  7.825245e-104  3.463640e-211   \n",
       "1    3.357470e-204   2.140315e+00  1.989657e-26  1.904048e-104  4.739463e-215   \n",
       "2    1.767789e-216   3.587837e+00  9.620697e-30  6.480938e-114  3.224404e-229   \n",
       "3    4.293419e-208   3.587837e+00  1.322720e-26  3.031612e-106  2.175278e-217   \n",
       "4    1.963044e-202   4.266805e-02  7.431763e-29  1.884761e-106  8.191883e-215   \n",
       "..             ...            ...           ...            ...            ...   \n",
       "145   2.136455e-11  9.344493e-148  3.564441e-15   3.740128e-07   3.023605e-01   \n",
       "146   5.975278e-21  2.120152e-121  4.732290e-08   3.294963e-02   2.929409e-06   \n",
       "147   3.914926e-13  3.112494e-135  7.935221e-12   1.457011e-03   4.700911e-01   \n",
       "148   1.685973e-15  6.440729e-147  1.721996e-15   5.807888e-09   2.993938e-02   \n",
       "149   4.917437e-24  2.613163e-114  2.648346e-07   4.144173e-02   2.588905e-06   \n",
       "\n",
       "                 5  \n",
       "0     1.770657e+00  \n",
       "1     1.826954e-04  \n",
       "2     2.609394e-04  \n",
       "3     1.015419e-05  \n",
       "4     1.355269e+00  \n",
       "..             ...  \n",
       "145  2.395721e-157  \n",
       "146  2.904010e-134  \n",
       "147  1.804970e-144  \n",
       "148  7.160280e-157  \n",
       "149  6.412136e-125  \n",
       "\n",
       "[150 rows x 6 columns]"
      ]
     },
     "execution_count": 10,
     "metadata": {},
     "output_type": "execute_result"
    }
   ],
   "source": [
    "print(\"SHAPE: \", rbf._transformed_inputs(X).shape, \"\\nVALORES: \\n\")\n",
    "pd.DataFrame(rbf._transformed_inputs(X))"
   ]
  },
  {
   "cell_type": "markdown",
   "metadata": {},
   "source": [
    "# RBF - My Dataset"
   ]
  },
  {
   "cell_type": "code",
   "execution_count": 45,
   "metadata": {
    "ExecuteTime": {
     "end_time": "2020-01-06T10:53:41.687063Z",
     "start_time": "2020-01-06T10:53:26.233764Z"
    }
   },
   "outputs": [
    {
     "name": "stderr",
     "output_type": "stream",
     "text": [
      "C:\\Users\\barban01\\AppData\\Local\\Continuum\\miniconda3\\envs\\pdg\\lib\\site-packages\\sklearn\\linear_model\\logistic.py:432: FutureWarning: Default solver will be changed to 'lbfgs' in 0.22. Specify a solver to silence this warning.\n",
      "  FutureWarning)\n"
     ]
    },
    {
     "data": {
      "text/plain": [
       "array([0, 1, 0, ..., 1, 1, 1], dtype=int64)"
      ]
     },
     "execution_count": 45,
     "metadata": {},
     "output_type": "execute_result"
    }
   ],
   "source": [
    "rbf_classifier = RBFClassifier(number_of_centers = 150, \n",
    "                               random_state = seed, \n",
    "                               algorithm = LogisticRegression(class_weight=\"balanced\"))\n",
    "rbf_classifier.fit(numerical_x_train, y_train)\n",
    "rbf_pred = rbf_classifier.predict(numerical_x_train)\n",
    "rbf_pred"
   ]
  },
  {
   "cell_type": "code",
   "execution_count": 52,
   "metadata": {
    "ExecuteTime": {
     "end_time": "2020-01-06T11:03:12.140056Z",
     "start_time": "2020-01-06T11:03:12.134070Z"
    },
    "scrolled": true
   },
   "outputs": [
    {
     "name": "stdout",
     "output_type": "stream",
     "text": [
      "Object `score_results()` not found.\n"
     ]
    }
   ],
   "source": [
    "?score_results()"
   ]
  },
  {
   "cell_type": "code",
   "execution_count": 34,
   "metadata": {
    "ExecuteTime": {
     "end_time": "2020-01-06T10:50:37.774107Z",
     "start_time": "2020-01-06T10:50:37.520109Z"
    }
   },
   "outputs": [
    {
     "name": "stdout",
     "output_type": "stream",
     "text": [
      "SHAPE:  (10302, 150) \n",
      "VALORES: \n",
      "\n"
     ]
    }
   ],
   "source": [
    "print(\"SHAPE: \", rbf_classifier._transformed_inputs(numerical_x_train).shape, \"\\nVALORES: \\n\")\n",
    "transformed_X = pd.DataFrame(rbf_classifier._transformed_inputs(numerical_x_train))"
   ]
  },
  {
   "cell_type": "code",
   "execution_count": 35,
   "metadata": {
    "ExecuteTime": {
     "end_time": "2020-01-06T10:50:40.700341Z",
     "start_time": "2020-01-06T10:50:40.689343Z"
    }
   },
   "outputs": [
    {
     "data": {
      "text/plain": [
       "0.7334498155697923"
      ]
     },
     "execution_count": 35,
     "metadata": {},
     "output_type": "execute_result"
    }
   ],
   "source": [
    "rbf_classifier.algorithm.score(transformed_X, y_train)"
   ]
  },
  {
   "cell_type": "code",
   "execution_count": 64,
   "metadata": {
    "ExecuteTime": {
     "end_time": "2020-01-06T11:25:59.962209Z",
     "start_time": "2020-01-06T11:25:59.954212Z"
    }
   },
   "outputs": [],
   "source": [
    "import sklearn.dummy\n",
    "balanced_dummy = sklearn.dummy.DummyClassifier(strategy = \"stratified\").fit(numerical_x_train, y_train)\n",
    "most_frequent_dummy = sklearn.dummy.DummyClassifier(strategy = \"most_frequent\").fit(numerical_x_train, y_train)\n"
   ]
  },
  {
   "cell_type": "code",
   "execution_count": 67,
   "metadata": {
    "ExecuteTime": {
     "end_time": "2020-01-06T11:26:32.584207Z",
     "start_time": "2020-01-06T11:26:32.578209Z"
    }
   },
   "outputs": [],
   "source": [
    "balanced_predictions = balanced_dummy.predict(numerical_x_train)\n",
    "most_frequent_predictions = most_frequent_dummy.predict(numerical_x_train)\n"
   ]
  },
  {
   "cell_type": "code",
   "execution_count": 69,
   "metadata": {
    "ExecuteTime": {
     "end_time": "2020-01-06T11:26:52.087061Z",
     "start_time": "2020-01-06T11:26:51.987060Z"
    },
    "run_control": {
     "marked": false
    }
   },
   "outputs": [
    {
     "name": "stdout",
     "output_type": "stream",
     "text": [
      "--- Árvore RBF ---\n",
      "Matrix de ConfusÃ£o\n",
      "[[2066 5490]\n",
      " [ 416 2330]]\n",
      "Balanced Accuracy:  56.10%\n",
      "Falsos Positivos: 5490, Falsos Negativos: 416\n",
      "Verdadeiros Positivos: 2330, Verdadeiros Negativos: 2066\n",
      "Precisao (tp/(tp+fp)): 29.80%\n",
      "Recall (tp/(tp+fn)): 84.85%\n",
      "--------------------------------------------------\n",
      "--- Dummy - Stratified ---\n",
      "Matrix de ConfusÃ£o\n",
      "[[5586 1970]\n",
      " [1990  756]]\n",
      "Balanced Accuracy:  50.73%\n",
      "Falsos Positivos: 1970, Falsos Negativos: 1990\n",
      "Verdadeiros Positivos: 756, Verdadeiros Negativos: 5586\n",
      "Precisao (tp/(tp+fp)): 27.73%\n",
      "Recall (tp/(tp+fn)): 27.53%\n",
      "--------------------------------------------------\n",
      "--- Dummy - most_frequent ---\n",
      "Matrix de ConfusÃ£o\n",
      "[[7556    0]\n",
      " [2746    0]]\n",
      "Balanced Accuracy:  50.00%\n",
      "Falsos Positivos: 0, Falsos Negativos: 2746\n",
      "Verdadeiros Positivos: 0, Verdadeiros Negativos: 7556\n",
      "Precisao (tp/(tp+fp)): nan%\n",
      "Recall (tp/(tp+fn)): 0.00%\n",
      "--------------------------------------------------\n"
     ]
    },
    {
     "name": "stderr",
     "output_type": "stream",
     "text": [
      "C:\\Users\\barban01\\AppData\\Local\\Continuum\\miniconda3\\envs\\pdg\\lib\\site-packages\\ipykernel_launcher.py:18: RuntimeWarning: invalid value encountered in longlong_scalars\n"
     ]
    }
   ],
   "source": [
    "score_results(y_train, rbf_pred, \"Árvore RBF\")\n",
    "score_results(y_train, balanced_predictions, \"Dummy - Stratified\")\n",
    "score_results(y_train, most_frequent_predictions, \"Dummy - most_frequent\")\n"
   ]
  }
 ],
 "metadata": {
  "kernelspec": {
   "display_name": "Python 3",
   "language": "python",
   "name": "python3"
  },
  "language_info": {
   "codemirror_mode": {
    "name": "ipython",
    "version": 3
   },
   "file_extension": ".py",
   "mimetype": "text/x-python",
   "name": "python",
   "nbconvert_exporter": "python",
   "pygments_lexer": "ipython3",
   "version": "3.7.3"
  },
  "latex_envs": {
   "LaTeX_envs_menu_present": true,
   "autoclose": false,
   "autocomplete": true,
   "bibliofile": "biblio.bib",
   "cite_by": "apalike",
   "current_citInitial": 1,
   "eqLabelWithNumbers": true,
   "eqNumInitial": 1,
   "hotkeys": {
    "equation": "Ctrl-E",
    "itemize": "Ctrl-I"
   },
   "labels_anchors": false,
   "latex_user_defs": false,
   "report_style_numbering": false,
   "user_envs_cfg": false
  },
  "toc": {
   "base_numbering": 1,
   "nav_menu": {},
   "number_sections": true,
   "sideBar": true,
   "skip_h1_title": false,
   "title_cell": "Table of Contents",
   "title_sidebar": "Contents",
   "toc_cell": false,
   "toc_position": {},
   "toc_section_display": true,
   "toc_window_display": false
  }
 },
 "nbformat": 4,
 "nbformat_minor": 2
}
