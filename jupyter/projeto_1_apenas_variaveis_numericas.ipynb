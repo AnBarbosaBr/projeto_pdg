{
 "cells": [
  {
   "cell_type": "markdown",
   "metadata": {},
   "source": [
    "# Prep"
   ]
  },
  {
   "cell_type": "markdown",
   "metadata": {
    "ExecuteTime": {
     "end_time": "2020-01-06T11:10:55.839735Z",
     "start_time": "2020-01-06T11:10:55.827730Z"
    }
   },
   "source": [
    "## Imports"
   ]
  },
  {
   "cell_type": "code",
   "execution_count": 1,
   "metadata": {
    "ExecuteTime": {
     "end_time": "2020-01-08T11:49:12.680597Z",
     "start_time": "2020-01-08T11:49:00.324903Z"
    }
   },
   "outputs": [],
   "source": [
    "# Imports\n",
    "import pandas as pd;\n",
    "import numpy as np; \n",
    "import sklearn.model_selection;\n",
    "import sklearn.metrics;\n",
    "\n",
    "# OBS: Scikit-Learn\n",
    "# scikit-learn uses an optimised version of the CART algorithm; however, scikit-learn implementation does not support categorical variables for now.\n",
    "# https://scikit-learn.org/stable/modules/tree.html\n",
    "from sklearn.tree import DecisionTreeClassifier; # Tree\n",
    "\n",
    "\n",
    "\n",
    "# WARNING: This api is different from the SKLEARN \n",
    "import statsmodels.api as sm; # GLM\n",
    "\n",
    "\n",
    "# From Author\n",
    "from RBF import RBFClassifier\n",
    "from sklearn.linear_model import LogisticRegression\n",
    "# Auxiliar\n",
    "from collections import namedtuple\n"
   ]
  },
  {
   "cell_type": "markdown",
   "metadata": {},
   "source": [
    "## Parameters"
   ]
  },
  {
   "cell_type": "code",
   "execution_count": 2,
   "metadata": {
    "ExecuteTime": {
     "end_time": "2020-01-08T11:49:12.699596Z",
     "start_time": "2020-01-08T11:49:12.684598Z"
    }
   },
   "outputs": [],
   "source": [
    "SEED = 42\n",
    "TRAIN_SIZE = 0.7\n",
    "data_under_analysis = \"data/car_insurance_claim.csv\"\n",
    "\n",
    "independent_variables = [\"KIDSDRIV\", \"BIRTH\", \n",
    "                            \"AGE\", \"HOMEKIDS\", \n",
    "                            \"YOJ\", \"INCOME\", \n",
    "                            \"PARENT1\", \"HOME_VAL\", \n",
    "                            \"MSTATUS\", \"GENDER\", \n",
    "                            \"EDUCATION\", \"OCCUPATION\", \n",
    "                            \"TRAVTIME\", \"CAR_USE\", \n",
    "                            \"BLUEBOOK\", \"TIF\", \n",
    "                            \"CAR_TYPE\", \"RED_CAR\", \n",
    "                            \"OLDCLAIM\",  \"REVOKED\", \n",
    "                            \"MVR_PTS\", \"CAR_AGE\"]\n",
    "\n",
    "dependent_variable_flag = [\"CLAIM_FLAG\"]\n",
    "dependent_variable_frequency = [\"CLM_FREQ\"]\n",
    "dependent_variable_value = [\"CLM_AMT\"]\n",
    "\n",
    "CV_SPLITS = 5\n",
    "\n",
    "GLM_TRESHOLD = 0.5"
   ]
  },
  {
   "cell_type": "markdown",
   "metadata": {},
   "source": [
    "## Auxiliar Functions"
   ]
  },
  {
   "cell_type": "code",
   "execution_count": 3,
   "metadata": {
    "ExecuteTime": {
     "end_time": "2020-01-08T11:49:12.749598Z",
     "start_time": "2020-01-08T11:49:12.706595Z"
    }
   },
   "outputs": [],
   "source": [
    "def score_results(y_real, y_predito, label, verbose = False):\n",
    "    \"\"\"Função personalizada que mostra os resultados de um classificador.\n",
    "\n",
    "    Arguments:\n",
    "        y_real -- O vetor com os dados esperados\n",
    "        y_predito -- O vetor com as predições\n",
    "        label -- Um título para essa análise, pode ser usado para facilitar a identificação do output.\"\"\"\n",
    "\n",
    "    matriz_de_confusao = sklearn.metrics.confusion_matrix(y_true = y_real, y_pred = y_predito)\n",
    "    try:\n",
    "        tn, fp, fn, tp = matriz_de_confusao.ravel()\n",
    "    except ValueError:\n",
    "        print(\"ValueError: Imprimindo matriz de confusão.\")\n",
    "        print(matriz_de_confusao)\n",
    "    \n",
    "    Resultados = namedtuple(\"Resultados\", [\"balanced_accuracy\",\"precision\",\"recall\", \"f1\", \"confusion_matrix\"])\n",
    "    \n",
    "    balanced_accuracy = sklearn.metrics.balanced_accuracy_score(y_true = y_real, y_pred = y_predito)\n",
    "    precision = tp/(tp+fp)\n",
    "    recall    = tp/(tp+fn)\n",
    "    f1 = 2*(precision * recall) / (precision + recall)\n",
    "    output = Resultados(balanced_accuracy = balanced_accuracy,\n",
    "                       precision = precision,\n",
    "                       recall    = recall,\n",
    "                       f1 =  f1,\n",
    "                        \n",
    "                       confusion_matrix = matriz_de_confusao)\n",
    "\n",
    "    if verbose:\n",
    "        print(f\"--- {label} ---\")\n",
    "        print(\"Matrix de Confusão\")\n",
    "        print(matriz_de_confusao)\n",
    "        print(\"Acurácia Balanceada: \", end=\" \")\n",
    "        print(f\"{100*output.balanced_accuracy :.2f} % \")\n",
    "        print(f\"Falsos Positivos: {fp}, Falsos Negativos: {fn}\\n\"+\n",
    "            f\"Verdadeiros Positivos: {tp}, Verdadeiros Negativos: {tn}\")\n",
    "        print(f\"Precisao (tp/(tp+fp)): {100* output.precision :.2f}%\")\n",
    "        print(f\"Recall (tp/(tp+fn)): {100* output.recall :.2f}  %\")\n",
    "\n",
    "        print(\"-\"*80)\n",
    "    return output\n"
   ]
  },
  {
   "cell_type": "code",
   "execution_count": 4,
   "metadata": {
    "ExecuteTime": {
     "end_time": "2020-01-08T11:49:12.783595Z",
     "start_time": "2020-01-08T11:49:12.754596Z"
    }
   },
   "outputs": [],
   "source": [
    "def imprime_matriz_de_confusao_media(test_results):\n",
    "    tns, tps, fps, fns = list(), list(), list(), list()\n",
    "    for index, result in enumerate(test_results):\n",
    "        confusion_matrix = result.confusion_matrix\n",
    "        #print(f\"Fit {index}\")\n",
    "        #print(confusion_matrix)\n",
    "        tnl, fpl, fnl, tpl = confusion_matrix.ravel()\n",
    "        tns.append(tnl)\n",
    "        fps.append(fpl)\n",
    "        fns.append(fnl)\n",
    "        tps.append(tpl)\n",
    "\n",
    "    tn = np.sum(tns)\n",
    "    tp = np.sum(tps)\n",
    "    fp = np.sum(fps)\n",
    "    fn = np.sum(fns)\n",
    "    \n",
    "    precision = tp/(tp+fp)\n",
    "    recall = tp/(tp+fn)\n",
    "    f1 = 2*(precision*recall) / (precision+recall)\n",
    "    print(\"Médias\")\n",
    "    print(f\"Total Real Positives: {tp+fn :.2f}\\nTotal Real Negatives: {tn+fp:.2f}\\n\" +\n",
    "          f\"Total Predicted Positives: {tp+fp:.2f}\\nTotal Predicted Negatives: {tn+fn:.2f}\\n\" +\n",
    "          \"\\n\"\n",
    "          f\"True Positives: {tp:.2f}\\nTrue Negatives: {tn:.2f}\\nFalse Positives: {fp:.2f}\\nFalse Negatives: {fn:.2f}\")\n",
    "    print(\"\")\n",
    "    print(f\"Precision: { precision :.2f}\\nRecall: { recall :.2f}\")\n",
    "    print(f\"Accuracy Positive(Recall): {tp/(tp+fn):.2f}\\nAccuracy Negative: {tn/(tn+fp):.2f}\")\n",
    "    print(f\"Balanced Accuracy: {((tp/(tp+fn)) + (tn/(tn+fp)))/2 :.2f}\")\n",
    "    print(f\"F1 Score: {f1 : .2f}\")\n",
    "    print(\"\")\n",
    " \n",
    "\n"
   ]
  },
  {
   "cell_type": "markdown",
   "metadata": {},
   "source": [
    "## Loading Dataset"
   ]
  },
  {
   "cell_type": "code",
   "execution_count": 5,
   "metadata": {
    "ExecuteTime": {
     "end_time": "2020-01-08T11:49:12.896595Z",
     "start_time": "2020-01-08T11:49:12.787595Z"
    }
   },
   "outputs": [],
   "source": [
    "data = pd.read_csv(data_under_analysis)"
   ]
  },
  {
   "cell_type": "code",
   "execution_count": 6,
   "metadata": {
    "ExecuteTime": {
     "end_time": "2020-01-08T11:49:13.049595Z",
     "start_time": "2020-01-08T11:49:12.899595Z"
    }
   },
   "outputs": [
    {
     "name": "stdout",
     "output_type": "stream",
     "text": [
      "10302 linhas e 27 colunas\n",
      "             0\n",
      "0           ID\n",
      "1     KIDSDRIV\n",
      "2        BIRTH\n",
      "3          AGE\n",
      "4     HOMEKIDS\n",
      "5          YOJ\n",
      "6       INCOME\n",
      "7      PARENT1\n",
      "8     HOME_VAL\n",
      "9      MSTATUS\n",
      "10      GENDER\n",
      "11   EDUCATION\n",
      "12  OCCUPATION\n",
      "13    TRAVTIME\n",
      "14     CAR_USE\n",
      "15    BLUEBOOK\n",
      "16         TIF\n",
      "17    CAR_TYPE\n",
      "18     RED_CAR\n",
      "19    OLDCLAIM\n",
      "20    CLM_FREQ\n",
      "21     REVOKED\n",
      "22     MVR_PTS\n",
      "23     CLM_AMT\n",
      "24     CAR_AGE\n",
      "25  CLAIM_FLAG\n",
      "26  URBANICITY\n",
      "                 ID      KIDSDRIV           AGE      HOMEKIDS          YOJ  \\\n",
      "count  1.030200e+04  10302.000000  10295.000000  10302.000000  9754.000000   \n",
      "mean   4.956631e+08      0.169288     44.837397      0.720443    10.474062   \n",
      "std    2.864675e+08      0.506512      8.606445      1.116323     4.108943   \n",
      "min    6.317500e+04      0.000000     16.000000      0.000000     0.000000   \n",
      "25%    2.442869e+08      0.000000     39.000000      0.000000     9.000000   \n",
      "50%    4.970043e+08      0.000000     45.000000      0.000000    11.000000   \n",
      "75%    7.394551e+08      0.000000     51.000000      1.000000    13.000000   \n",
      "max    9.999264e+08      4.000000     81.000000      5.000000    23.000000   \n",
      "\n",
      "           TRAVTIME           TIF      CLM_FREQ       MVR_PTS      CAR_AGE  \\\n",
      "count  10302.000000  10302.000000  10302.000000  10302.000000  9663.000000   \n",
      "mean      33.416424      5.329159      0.800718      1.710153     8.298148   \n",
      "std       15.869687      4.110795      1.154079      2.159015     5.714450   \n",
      "min        5.000000      1.000000      0.000000      0.000000    -3.000000   \n",
      "25%       22.000000      1.000000      0.000000      0.000000     1.000000   \n",
      "50%       33.000000      4.000000      0.000000      1.000000     8.000000   \n",
      "75%       44.000000      7.000000      2.000000      3.000000    12.000000   \n",
      "max      142.000000     25.000000      5.000000     13.000000    28.000000   \n",
      "\n",
      "         CLAIM_FLAG  \n",
      "count  10302.000000  \n",
      "mean       0.266550  \n",
      "std        0.442177  \n",
      "min        0.000000  \n",
      "25%        0.000000  \n",
      "50%        0.000000  \n",
      "75%        1.000000  \n",
      "max        1.000000  \n",
      "11\n"
     ]
    }
   ],
   "source": [
    "# Linhas / Colunas\n",
    "print(f\"{data.shape[0]} linhas e {data.shape[1]} colunas\")\n",
    "print(pd.DataFrame(data.columns))\n",
    "print(data.describe())\n",
    "print(data.describe().shape[1]) # Colunas Númericas\n"
   ]
  },
  {
   "cell_type": "markdown",
   "metadata": {
    "ExecuteTime": {
     "end_time": "2020-01-06T11:31:52.356164Z",
     "start_time": "2020-01-06T11:31:52.350164Z"
    }
   },
   "source": [
    "## Separating Data"
   ]
  },
  {
   "cell_type": "markdown",
   "metadata": {
    "ExecuteTime": {
     "end_time": "2020-01-06T11:41:13.836364Z",
     "start_time": "2020-01-06T11:41:13.833365Z"
    }
   },
   "source": [
    "### X e y"
   ]
  },
  {
   "cell_type": "code",
   "execution_count": 7,
   "metadata": {
    "ExecuteTime": {
     "end_time": "2020-01-08T11:49:13.064595Z",
     "start_time": "2020-01-08T11:49:13.052596Z"
    }
   },
   "outputs": [],
   "source": [
    "X_all = data.loc[ : , independent_variables]\n",
    "y_all = data.loc[ : , dependent_variable_flag]"
   ]
  },
  {
   "cell_type": "markdown",
   "metadata": {},
   "source": [
    "### Test and Validation"
   ]
  },
  {
   "cell_type": "code",
   "execution_count": 8,
   "metadata": {
    "ExecuteTime": {
     "end_time": "2020-01-08T11:49:13.173597Z",
     "start_time": "2020-01-08T11:49:13.069601Z"
    }
   },
   "outputs": [],
   "source": [
    "X_train, X_test, y_train, y_test = sklearn.model_selection.train_test_split(X_all, y_all, train_size = TRAIN_SIZE, random_state = SEED, stratify = y_all )"
   ]
  },
  {
   "cell_type": "code",
   "execution_count": 9,
   "metadata": {
    "ExecuteTime": {
     "end_time": "2020-01-08T11:49:13.182600Z",
     "start_time": "2020-01-08T11:49:13.177595Z"
    }
   },
   "outputs": [],
   "source": [
    "# Creating k_folder\n",
    "stratified_k_fold = sklearn.model_selection.StratifiedKFold(n_splits = CV_SPLITS, random_state = SEED )"
   ]
  },
  {
   "cell_type": "markdown",
   "metadata": {
    "ExecuteTime": {
     "end_time": "2020-01-06T11:49:34.114029Z",
     "start_time": "2020-01-06T11:49:34.110036Z"
    }
   },
   "source": [
    "# Data Editing"
   ]
  },
  {
   "cell_type": "markdown",
   "metadata": {
    "ExecuteTime": {
     "end_time": "2020-01-07T12:22:35.192836Z",
     "start_time": "2020-01-07T12:22:35.185835Z"
    }
   },
   "source": [
    "## Variáveis Numéricas"
   ]
  },
  {
   "cell_type": "markdown",
   "metadata": {},
   "source": [
    "A implementação de árvore do Sklearn só aceita variáveis numéricas. \n",
    "\n",
    "Nessa primeira etapa vamos considerar apenas elas, mas podemos tratar as variáveis categóricas no futuro."
   ]
  },
  {
   "cell_type": "code",
   "execution_count": 10,
   "metadata": {
    "ExecuteTime": {
     "end_time": "2020-01-08T11:49:13.206595Z",
     "start_time": "2020-01-08T11:49:13.186593Z"
    }
   },
   "outputs": [
    {
     "name": "stdout",
     "output_type": "stream",
     "text": [
      "Selecionando apenas variáveis numéricas.\n",
      "Formato de X de (7211, 22) para (7211, 8)\n",
      "Redução de 14 variáveis.\n"
     ]
    }
   ],
   "source": [
    "numerical_X = X_train._get_numeric_data()\n",
    "print(f\"Selecionando apenas variáveis numéricas.\\nFormato de X de {X_train.shape} para {numerical_X.shape}\")\n",
    "print(f\"Redução de {X_train.shape[1] - numerical_X.shape[1]} variáveis.\")"
   ]
  },
  {
   "cell_type": "code",
   "execution_count": 11,
   "metadata": {
    "ExecuteTime": {
     "end_time": "2020-01-08T11:49:13.235595Z",
     "start_time": "2020-01-08T11:49:13.210593Z"
    }
   },
   "outputs": [
    {
     "data": {
      "text/plain": [
       "Index(['KIDSDRIV', 'AGE', 'HOMEKIDS', 'YOJ', 'TRAVTIME', 'TIF', 'MVR_PTS',\n",
       "       'CAR_AGE'],\n",
       "      dtype='object')"
      ]
     },
     "execution_count": 11,
     "metadata": {},
     "output_type": "execute_result"
    }
   ],
   "source": [
    "numerical_X.columns"
   ]
  },
  {
   "cell_type": "code",
   "execution_count": 12,
   "metadata": {
    "ExecuteTime": {
     "end_time": "2020-01-08T11:49:13.271595Z",
     "start_time": "2020-01-08T11:49:13.239594Z"
    },
    "scrolled": true
   },
   "outputs": [
    {
     "name": "stdout",
     "output_type": "stream",
     "text": [
      "KIDSDRIV\n",
      "[0 2 1 3 4]\n",
      "AGE\n",
      "[54. 48. 28. 43. 53. 40. 41. 50. 42. 35. 51. 52. 38. 34. 60. 49. 45. 59.\n",
      " 55. 47. 37. 58. 56. 39. 46. 22. 44. 67. 62. 36. 30. 32. 33. 31. 26. 29.\n",
      " 66. 61. 24. 73. 27. 57. 65. 69. 25. 63. 21. 20. 64. 23. 70. 17. nan 68.\n",
      " 16. 18. 19. 72. 80. 71.]\n",
      "HOMEKIDS\n",
      "[0 2 3 1 4 5]\n",
      "YOJ\n",
      "[ 6. 12. 10. 14. 11. nan 17.  5. 16.  9.  0. 13.  8. 15.  7.  3.  4. 18.\n",
      " 19.  1.  2. 23.]\n",
      "TRAVTIME\n",
      "[ 14  42  50  44  72  37  35  52  30  33  41  29  36  46  39  19  38  21\n",
      "  22  48  76  10  27  16  45  34  59  56  13  49   5  23  31  28  18  32\n",
      "  15  88  53  63  55  40  64  58  25  82  62  69   6  43  60  57  70  26\n",
      "  65  20  17  11  51   9  12  47  71  87  24   8  66   7  67  61  54  86\n",
      "  78  85 134  77  74  68  75  81  89  79  80  97  84  90 105 103  73 124\n",
      "  91  92  95]\n",
      "TIF\n",
      "[ 7  1  4  6  3  9 13 17  8 11 10 14 12  5 15 19  2 21 16 18 20 25 22]\n",
      "MVR_PTS\n",
      "[ 3  1  6  4  0  5  2  9  8  7 11 10 12 13]\n",
      "CAR_AGE\n",
      "[ 5.  1. 11. 12.  6. 10. 15.  7.  8. nan 14.  9. 17. 16. 19. -3. 13. 18.\n",
      "  4. 22.  0. 21. 20. 25.  2.  3. 26. 23. 24. 28.]\n"
     ]
    }
   ],
   "source": [
    "for col in numerical_X.columns: print (f'{col}\\n{numerical_X[col].unique()}') "
   ]
  },
  {
   "cell_type": "markdown",
   "metadata": {},
   "source": [
    "### Colunas Categóricas\n",
    "Nenhuma colunas numéricas parecem ser uma codificação de categoria.\n",
    "\n",
    "Vamos analisar as colunas que foram deixadas de lado"
   ]
  },
  {
   "cell_type": "code",
   "execution_count": 13,
   "metadata": {
    "ExecuteTime": {
     "end_time": "2020-01-08T11:49:13.431594Z",
     "start_time": "2020-01-08T11:49:13.274593Z"
    }
   },
   "outputs": [
    {
     "data": {
      "text/html": [
       "<div>\n",
       "<style scoped>\n",
       "    .dataframe tbody tr th:only-of-type {\n",
       "        vertical-align: middle;\n",
       "    }\n",
       "\n",
       "    .dataframe tbody tr th {\n",
       "        vertical-align: top;\n",
       "    }\n",
       "\n",
       "    .dataframe thead th {\n",
       "        text-align: right;\n",
       "    }\n",
       "</style>\n",
       "<table border=\"1\" class=\"dataframe\">\n",
       "  <thead>\n",
       "    <tr style=\"text-align: right;\">\n",
       "      <th></th>\n",
       "      <th>CAR_USE</th>\n",
       "      <th>PARENT1</th>\n",
       "      <th>EDUCATION</th>\n",
       "      <th>OCCUPATION</th>\n",
       "      <th>HOME_VAL</th>\n",
       "      <th>MSTATUS</th>\n",
       "      <th>RED_CAR</th>\n",
       "      <th>BIRTH</th>\n",
       "      <th>OLDCLAIM</th>\n",
       "      <th>BLUEBOOK</th>\n",
       "      <th>GENDER</th>\n",
       "      <th>REVOKED</th>\n",
       "      <th>INCOME</th>\n",
       "      <th>CAR_TYPE</th>\n",
       "    </tr>\n",
       "  </thead>\n",
       "  <tbody>\n",
       "    <tr>\n",
       "      <th>count</th>\n",
       "      <td>7211</td>\n",
       "      <td>7211</td>\n",
       "      <td>7211</td>\n",
       "      <td>6745</td>\n",
       "      <td>6802</td>\n",
       "      <td>7211</td>\n",
       "      <td>7211</td>\n",
       "      <td>7211</td>\n",
       "      <td>7211</td>\n",
       "      <td>7211</td>\n",
       "      <td>7211</td>\n",
       "      <td>7211</td>\n",
       "      <td>6823</td>\n",
       "      <td>7211</td>\n",
       "    </tr>\n",
       "    <tr>\n",
       "      <th>unique</th>\n",
       "      <td>2</td>\n",
       "      <td>2</td>\n",
       "      <td>5</td>\n",
       "      <td>8</td>\n",
       "      <td>4497</td>\n",
       "      <td>2</td>\n",
       "      <td>2</td>\n",
       "      <td>5141</td>\n",
       "      <td>2577</td>\n",
       "      <td>2671</td>\n",
       "      <td>2</td>\n",
       "      <td>2</td>\n",
       "      <td>5862</td>\n",
       "      <td>6</td>\n",
       "    </tr>\n",
       "    <tr>\n",
       "      <th>top</th>\n",
       "      <td>Private</td>\n",
       "      <td>No</td>\n",
       "      <td>z_High School</td>\n",
       "      <td>z_Blue Collar</td>\n",
       "      <td>$0</td>\n",
       "      <td>Yes</td>\n",
       "      <td>no</td>\n",
       "      <td>31JUL54</td>\n",
       "      <td>$0</td>\n",
       "      <td>$1,500</td>\n",
       "      <td>z_F</td>\n",
       "      <td>No</td>\n",
       "      <td>$0</td>\n",
       "      <td>z_SUV</td>\n",
       "    </tr>\n",
       "    <tr>\n",
       "      <th>freq</th>\n",
       "      <td>4535</td>\n",
       "      <td>6260</td>\n",
       "      <td>2069</td>\n",
       "      <td>1603</td>\n",
       "      <td>2050</td>\n",
       "      <td>4312</td>\n",
       "      <td>5130</td>\n",
       "      <td>6</td>\n",
       "      <td>4406</td>\n",
       "      <td>138</td>\n",
       "      <td>3903</td>\n",
       "      <td>6312</td>\n",
       "      <td>560</td>\n",
       "      <td>2030</td>\n",
       "    </tr>\n",
       "  </tbody>\n",
       "</table>\n",
       "</div>"
      ],
      "text/plain": [
       "        CAR_USE PARENT1      EDUCATION     OCCUPATION HOME_VAL MSTATUS  \\\n",
       "count      7211    7211           7211           6745     6802    7211   \n",
       "unique        2       2              5              8     4497       2   \n",
       "top     Private      No  z_High School  z_Blue Collar       $0     Yes   \n",
       "freq       4535    6260           2069           1603     2050    4312   \n",
       "\n",
       "       RED_CAR    BIRTH OLDCLAIM BLUEBOOK GENDER REVOKED INCOME CAR_TYPE  \n",
       "count     7211     7211     7211     7211   7211    7211   6823     7211  \n",
       "unique       2     5141     2577     2671      2       2   5862        6  \n",
       "top         no  31JUL54       $0   $1,500    z_F      No     $0    z_SUV  \n",
       "freq      5130        6     4406      138   3903    6312    560     2030  "
      ]
     },
     "execution_count": 13,
     "metadata": {},
     "output_type": "execute_result"
    }
   ],
   "source": [
    "categorical_columns = list(set(X_train.columns) - set(numerical_X.columns))\n",
    "categorical_X = X_train[categorical_columns]\n",
    "categorical_X.describe()"
   ]
  },
  {
   "cell_type": "markdown",
   "metadata": {
    "ExecuteTime": {
     "end_time": "2020-01-07T12:13:03.788717Z",
     "start_time": "2020-01-07T12:13:03.701717Z"
    }
   },
   "source": [
    "As variáveis BIRTH, INCOME, BLUEBOOK, HOME_VAL, OLDCLAIM possuem muitos valores únicos. Dessas, \n",
    "INCOME, BLUEBOOK, HOMEVAL e OLDCLAIM são, na verdade, variáveis numéricas(dinheiro)"
   ]
  },
  {
   "cell_type": "code",
   "execution_count": 34,
   "metadata": {
    "ExecuteTime": {
     "end_time": "2020-01-08T11:55:45.910908Z",
     "start_time": "2020-01-08T11:55:45.893908Z"
    }
   },
   "outputs": [
    {
     "data": {
      "text/html": [
       "<div>\n",
       "<style scoped>\n",
       "    .dataframe tbody tr th:only-of-type {\n",
       "        vertical-align: middle;\n",
       "    }\n",
       "\n",
       "    .dataframe tbody tr th {\n",
       "        vertical-align: top;\n",
       "    }\n",
       "\n",
       "    .dataframe thead th {\n",
       "        text-align: right;\n",
       "    }\n",
       "</style>\n",
       "<table border=\"1\" class=\"dataframe\">\n",
       "  <thead>\n",
       "    <tr style=\"text-align: right;\">\n",
       "      <th></th>\n",
       "      <th>INCOME</th>\n",
       "      <th>BLUEBOOK</th>\n",
       "      <th>HOME_VAL</th>\n",
       "      <th>OLDCLAIM</th>\n",
       "    </tr>\n",
       "  </thead>\n",
       "  <tbody>\n",
       "    <tr>\n",
       "      <th>878</th>\n",
       "      <td>$73,663</td>\n",
       "      <td>$41,310</td>\n",
       "      <td>$268,990</td>\n",
       "      <td>$36,700</td>\n",
       "    </tr>\n",
       "    <tr>\n",
       "      <th>5358</th>\n",
       "      <td>$34,669</td>\n",
       "      <td>$8,630</td>\n",
       "      <td>$146,134</td>\n",
       "      <td>$2,499</td>\n",
       "    </tr>\n",
       "    <tr>\n",
       "      <th>1433</th>\n",
       "      <td>$23,427</td>\n",
       "      <td>$6,640</td>\n",
       "      <td>$98,357</td>\n",
       "      <td>$17,308</td>\n",
       "    </tr>\n",
       "    <tr>\n",
       "      <th>2769</th>\n",
       "      <td>$54,593</td>\n",
       "      <td>$11,260</td>\n",
       "      <td>$221,267</td>\n",
       "      <td>$1,449</td>\n",
       "    </tr>\n",
       "    <tr>\n",
       "      <th>3326</th>\n",
       "      <td>$55,770</td>\n",
       "      <td>$12,380</td>\n",
       "      <td>$163,735</td>\n",
       "      <td>$0</td>\n",
       "    </tr>\n",
       "    <tr>\n",
       "      <th>...</th>\n",
       "      <td>...</td>\n",
       "      <td>...</td>\n",
       "      <td>...</td>\n",
       "      <td>...</td>\n",
       "    </tr>\n",
       "    <tr>\n",
       "      <th>152</th>\n",
       "      <td>$104,990</td>\n",
       "      <td>$16,080</td>\n",
       "      <td>$306,540</td>\n",
       "      <td>$0</td>\n",
       "    </tr>\n",
       "    <tr>\n",
       "      <th>6870</th>\n",
       "      <td>$152,283</td>\n",
       "      <td>$16,650</td>\n",
       "      <td>$441,904</td>\n",
       "      <td>$0</td>\n",
       "    </tr>\n",
       "    <tr>\n",
       "      <th>9663</th>\n",
       "      <td>$8,585</td>\n",
       "      <td>$13,540</td>\n",
       "      <td>$0</td>\n",
       "      <td>$4,451</td>\n",
       "    </tr>\n",
       "    <tr>\n",
       "      <th>1431</th>\n",
       "      <td>NaN</td>\n",
       "      <td>$19,600</td>\n",
       "      <td>$240,520</td>\n",
       "      <td>$3,220</td>\n",
       "    </tr>\n",
       "    <tr>\n",
       "      <th>1725</th>\n",
       "      <td>$141,297</td>\n",
       "      <td>$22,550</td>\n",
       "      <td>$0</td>\n",
       "      <td>$0</td>\n",
       "    </tr>\n",
       "  </tbody>\n",
       "</table>\n",
       "<p>7211 rows × 4 columns</p>\n",
       "</div>"
      ],
      "text/plain": [
       "        INCOME BLUEBOOK  HOME_VAL OLDCLAIM\n",
       "878    $73,663  $41,310  $268,990  $36,700\n",
       "5358   $34,669   $8,630  $146,134   $2,499\n",
       "1433   $23,427   $6,640   $98,357  $17,308\n",
       "2769   $54,593  $11,260  $221,267   $1,449\n",
       "3326   $55,770  $12,380  $163,735       $0\n",
       "...        ...      ...       ...      ...\n",
       "152   $104,990  $16,080  $306,540       $0\n",
       "6870  $152,283  $16,650  $441,904       $0\n",
       "9663    $8,585  $13,540        $0   $4,451\n",
       "1431       NaN  $19,600  $240,520   $3,220\n",
       "1725  $141,297  $22,550        $0       $0\n",
       "\n",
       "[7211 rows x 4 columns]"
      ]
     },
     "execution_count": 34,
     "metadata": {},
     "output_type": "execute_result"
    }
   ],
   "source": [
    "money_variables = [\"INCOME\", \"BLUEBOOK\", \"HOME_VAL\", \"OLDCLAIM\"]\n",
    "money_X =  categorical_X[money_variables]\n",
    "money_X"
   ]
  },
  {
   "cell_type": "code",
   "execution_count": 35,
   "metadata": {
    "ExecuteTime": {
     "end_time": "2020-01-08T11:55:48.724837Z",
     "start_time": "2020-01-08T11:55:48.637833Z"
    }
   },
   "outputs": [
    {
     "name": "stdout",
     "output_type": "stream",
     "text": [
      "(7211, 4)\n"
     ]
    },
    {
     "data": {
      "text/html": [
       "<div>\n",
       "<style scoped>\n",
       "    .dataframe tbody tr th:only-of-type {\n",
       "        vertical-align: middle;\n",
       "    }\n",
       "\n",
       "    .dataframe tbody tr th {\n",
       "        vertical-align: top;\n",
       "    }\n",
       "\n",
       "    .dataframe thead th {\n",
       "        text-align: right;\n",
       "    }\n",
       "</style>\n",
       "<table border=\"1\" class=\"dataframe\">\n",
       "  <thead>\n",
       "    <tr style=\"text-align: right;\">\n",
       "      <th></th>\n",
       "      <th>INCOME</th>\n",
       "      <th>BLUEBOOK</th>\n",
       "      <th>HOME_VAL</th>\n",
       "      <th>OLDCLAIM</th>\n",
       "    </tr>\n",
       "  </thead>\n",
       "  <tbody>\n",
       "    <tr>\n",
       "      <th>count</th>\n",
       "      <td>6823.000000</td>\n",
       "      <td>7211.000000</td>\n",
       "      <td>6802.000000</td>\n",
       "      <td>7211.000000</td>\n",
       "    </tr>\n",
       "    <tr>\n",
       "      <th>mean</th>\n",
       "      <td>61485.221603</td>\n",
       "      <td>15708.502288</td>\n",
       "      <td>154265.121729</td>\n",
       "      <td>4045.439606</td>\n",
       "    </tr>\n",
       "    <tr>\n",
       "      <th>std</th>\n",
       "      <td>47127.897336</td>\n",
       "      <td>8447.775453</td>\n",
       "      <td>128946.594306</td>\n",
       "      <td>8749.645497</td>\n",
       "    </tr>\n",
       "    <tr>\n",
       "      <th>min</th>\n",
       "      <td>0.000000</td>\n",
       "      <td>1500.000000</td>\n",
       "      <td>0.000000</td>\n",
       "      <td>0.000000</td>\n",
       "    </tr>\n",
       "    <tr>\n",
       "      <th>25%</th>\n",
       "      <td>28116.000000</td>\n",
       "      <td>9180.000000</td>\n",
       "      <td>0.000000</td>\n",
       "      <td>0.000000</td>\n",
       "    </tr>\n",
       "    <tr>\n",
       "      <th>50%</th>\n",
       "      <td>53643.000000</td>\n",
       "      <td>14430.000000</td>\n",
       "      <td>161881.500000</td>\n",
       "      <td>0.000000</td>\n",
       "    </tr>\n",
       "    <tr>\n",
       "      <th>75%</th>\n",
       "      <td>85598.000000</td>\n",
       "      <td>21015.000000</td>\n",
       "      <td>237715.750000</td>\n",
       "      <td>4637.000000</td>\n",
       "    </tr>\n",
       "    <tr>\n",
       "      <th>max</th>\n",
       "      <td>367030.000000</td>\n",
       "      <td>69740.000000</td>\n",
       "      <td>885282.000000</td>\n",
       "      <td>57037.000000</td>\n",
       "    </tr>\n",
       "  </tbody>\n",
       "</table>\n",
       "</div>"
      ],
      "text/plain": [
       "              INCOME      BLUEBOOK       HOME_VAL      OLDCLAIM\n",
       "count    6823.000000   7211.000000    6802.000000   7211.000000\n",
       "mean    61485.221603  15708.502288  154265.121729   4045.439606\n",
       "std     47127.897336   8447.775453  128946.594306   8749.645497\n",
       "min         0.000000   1500.000000       0.000000      0.000000\n",
       "25%     28116.000000   9180.000000       0.000000      0.000000\n",
       "50%     53643.000000  14430.000000  161881.500000      0.000000\n",
       "75%     85598.000000  21015.000000  237715.750000   4637.000000\n",
       "max    367030.000000  69740.000000  885282.000000  57037.000000"
      ]
     },
     "execution_count": 35,
     "metadata": {},
     "output_type": "execute_result"
    }
   ],
   "source": [
    "money_X = money_X.replace('[\\$,]', '', regex=True).astype(float)\n",
    "print(money_X.shape)\n",
    "money_X.describe()"
   ]
  },
  {
   "cell_type": "code",
   "execution_count": 36,
   "metadata": {
    "ExecuteTime": {
     "end_time": "2020-01-08T11:56:13.965570Z",
     "start_time": "2020-01-08T11:56:13.955571Z"
    }
   },
   "outputs": [],
   "source": [
    "numerical_X = numerical_X.join(money_X, on = None)"
   ]
  },
  {
   "cell_type": "code",
   "execution_count": 37,
   "metadata": {
    "ExecuteTime": {
     "end_time": "2020-01-08T11:56:18.642315Z",
     "start_time": "2020-01-08T11:56:18.571317Z"
    }
   },
   "outputs": [
    {
     "data": {
      "text/html": [
       "<div>\n",
       "<style scoped>\n",
       "    .dataframe tbody tr th:only-of-type {\n",
       "        vertical-align: middle;\n",
       "    }\n",
       "\n",
       "    .dataframe tbody tr th {\n",
       "        vertical-align: top;\n",
       "    }\n",
       "\n",
       "    .dataframe thead th {\n",
       "        text-align: right;\n",
       "    }\n",
       "</style>\n",
       "<table border=\"1\" class=\"dataframe\">\n",
       "  <thead>\n",
       "    <tr style=\"text-align: right;\">\n",
       "      <th></th>\n",
       "      <th>CAR_USE</th>\n",
       "      <th>PARENT1</th>\n",
       "      <th>EDUCATION</th>\n",
       "      <th>OCCUPATION</th>\n",
       "      <th>MSTATUS</th>\n",
       "      <th>RED_CAR</th>\n",
       "      <th>BIRTH</th>\n",
       "      <th>GENDER</th>\n",
       "      <th>REVOKED</th>\n",
       "      <th>CAR_TYPE</th>\n",
       "    </tr>\n",
       "  </thead>\n",
       "  <tbody>\n",
       "    <tr>\n",
       "      <th>count</th>\n",
       "      <td>7211</td>\n",
       "      <td>7211</td>\n",
       "      <td>7211</td>\n",
       "      <td>6745</td>\n",
       "      <td>7211</td>\n",
       "      <td>7211</td>\n",
       "      <td>7211</td>\n",
       "      <td>7211</td>\n",
       "      <td>7211</td>\n",
       "      <td>7211</td>\n",
       "    </tr>\n",
       "    <tr>\n",
       "      <th>unique</th>\n",
       "      <td>2</td>\n",
       "      <td>2</td>\n",
       "      <td>5</td>\n",
       "      <td>8</td>\n",
       "      <td>2</td>\n",
       "      <td>2</td>\n",
       "      <td>5141</td>\n",
       "      <td>2</td>\n",
       "      <td>2</td>\n",
       "      <td>6</td>\n",
       "    </tr>\n",
       "    <tr>\n",
       "      <th>top</th>\n",
       "      <td>Private</td>\n",
       "      <td>No</td>\n",
       "      <td>z_High School</td>\n",
       "      <td>z_Blue Collar</td>\n",
       "      <td>Yes</td>\n",
       "      <td>no</td>\n",
       "      <td>31JUL54</td>\n",
       "      <td>z_F</td>\n",
       "      <td>No</td>\n",
       "      <td>z_SUV</td>\n",
       "    </tr>\n",
       "    <tr>\n",
       "      <th>freq</th>\n",
       "      <td>4535</td>\n",
       "      <td>6260</td>\n",
       "      <td>2069</td>\n",
       "      <td>1603</td>\n",
       "      <td>4312</td>\n",
       "      <td>5130</td>\n",
       "      <td>6</td>\n",
       "      <td>3903</td>\n",
       "      <td>6312</td>\n",
       "      <td>2030</td>\n",
       "    </tr>\n",
       "  </tbody>\n",
       "</table>\n",
       "</div>"
      ],
      "text/plain": [
       "        CAR_USE PARENT1      EDUCATION     OCCUPATION MSTATUS RED_CAR  \\\n",
       "count      7211    7211           7211           6745    7211    7211   \n",
       "unique        2       2              5              8       2       2   \n",
       "top     Private      No  z_High School  z_Blue Collar     Yes      no   \n",
       "freq       4535    6260           2069           1603    4312    5130   \n",
       "\n",
       "          BIRTH GENDER REVOKED CAR_TYPE  \n",
       "count      7211   7211    7211     7211  \n",
       "unique     5141      2       2        6  \n",
       "top     31JUL54    z_F      No    z_SUV  \n",
       "freq          6   3903    6312     2030  "
      ]
     },
     "execution_count": 37,
     "metadata": {},
     "output_type": "execute_result"
    }
   ],
   "source": [
    "categorical_columns = list(set(X_train.columns) - set(numerical_X.columns))\n",
    "categorical_X = X_train[categorical_columns]\n",
    "categorical_X.describe()"
   ]
  },
  {
   "cell_type": "markdown",
   "metadata": {},
   "source": [
    "## Features Dataset\n",
    "\n",
    "Esse será o dataset usado em nossas análises."
   ]
  },
  {
   "cell_type": "code",
   "execution_count": 40,
   "metadata": {
    "ExecuteTime": {
     "end_time": "2020-01-08T11:56:49.548058Z",
     "start_time": "2020-01-08T11:56:49.537065Z"
    }
   },
   "outputs": [],
   "source": [
    "# Replacing NULLS with the mean\n",
    "numerical_X.fillna(numerical_X.mean(), inplace=True)    \n",
    "features_X = numerical_X"
   ]
  },
  {
   "cell_type": "code",
   "execution_count": 41,
   "metadata": {
    "ExecuteTime": {
     "end_time": "2020-01-08T11:56:50.531007Z",
     "start_time": "2020-01-08T11:56:50.499001Z"
    }
   },
   "outputs": [
    {
     "data": {
      "text/html": [
       "<div>\n",
       "<style scoped>\n",
       "    .dataframe tbody tr th:only-of-type {\n",
       "        vertical-align: middle;\n",
       "    }\n",
       "\n",
       "    .dataframe tbody tr th {\n",
       "        vertical-align: top;\n",
       "    }\n",
       "\n",
       "    .dataframe thead th {\n",
       "        text-align: right;\n",
       "    }\n",
       "</style>\n",
       "<table border=\"1\" class=\"dataframe\">\n",
       "  <thead>\n",
       "    <tr style=\"text-align: right;\">\n",
       "      <th></th>\n",
       "      <th>KIDSDRIV</th>\n",
       "      <th>AGE</th>\n",
       "      <th>HOMEKIDS</th>\n",
       "      <th>YOJ</th>\n",
       "      <th>TRAVTIME</th>\n",
       "      <th>TIF</th>\n",
       "      <th>MVR_PTS</th>\n",
       "      <th>CAR_AGE</th>\n",
       "      <th>INCOME</th>\n",
       "      <th>BLUEBOOK</th>\n",
       "      <th>HOME_VAL</th>\n",
       "      <th>OLDCLAIM</th>\n",
       "    </tr>\n",
       "  </thead>\n",
       "  <tbody>\n",
       "    <tr>\n",
       "      <th>878</th>\n",
       "      <td>0</td>\n",
       "      <td>54.0</td>\n",
       "      <td>0</td>\n",
       "      <td>6.000000</td>\n",
       "      <td>14</td>\n",
       "      <td>7</td>\n",
       "      <td>3</td>\n",
       "      <td>5.0</td>\n",
       "      <td>73663.000000</td>\n",
       "      <td>41310.0</td>\n",
       "      <td>268990.0</td>\n",
       "      <td>36700.0</td>\n",
       "    </tr>\n",
       "    <tr>\n",
       "      <th>5358</th>\n",
       "      <td>0</td>\n",
       "      <td>48.0</td>\n",
       "      <td>0</td>\n",
       "      <td>12.000000</td>\n",
       "      <td>42</td>\n",
       "      <td>1</td>\n",
       "      <td>1</td>\n",
       "      <td>1.0</td>\n",
       "      <td>34669.000000</td>\n",
       "      <td>8630.0</td>\n",
       "      <td>146134.0</td>\n",
       "      <td>2499.0</td>\n",
       "    </tr>\n",
       "    <tr>\n",
       "      <th>1433</th>\n",
       "      <td>0</td>\n",
       "      <td>28.0</td>\n",
       "      <td>2</td>\n",
       "      <td>10.000000</td>\n",
       "      <td>50</td>\n",
       "      <td>4</td>\n",
       "      <td>6</td>\n",
       "      <td>1.0</td>\n",
       "      <td>23427.000000</td>\n",
       "      <td>6640.0</td>\n",
       "      <td>98357.0</td>\n",
       "      <td>17308.0</td>\n",
       "    </tr>\n",
       "    <tr>\n",
       "      <th>2769</th>\n",
       "      <td>0</td>\n",
       "      <td>43.0</td>\n",
       "      <td>2</td>\n",
       "      <td>14.000000</td>\n",
       "      <td>14</td>\n",
       "      <td>1</td>\n",
       "      <td>4</td>\n",
       "      <td>11.0</td>\n",
       "      <td>54593.000000</td>\n",
       "      <td>11260.0</td>\n",
       "      <td>221267.0</td>\n",
       "      <td>1449.0</td>\n",
       "    </tr>\n",
       "    <tr>\n",
       "      <th>3326</th>\n",
       "      <td>0</td>\n",
       "      <td>53.0</td>\n",
       "      <td>0</td>\n",
       "      <td>14.000000</td>\n",
       "      <td>44</td>\n",
       "      <td>6</td>\n",
       "      <td>0</td>\n",
       "      <td>12.0</td>\n",
       "      <td>55770.000000</td>\n",
       "      <td>12380.0</td>\n",
       "      <td>163735.0</td>\n",
       "      <td>0.0</td>\n",
       "    </tr>\n",
       "    <tr>\n",
       "      <th>...</th>\n",
       "      <td>...</td>\n",
       "      <td>...</td>\n",
       "      <td>...</td>\n",
       "      <td>...</td>\n",
       "      <td>...</td>\n",
       "      <td>...</td>\n",
       "      <td>...</td>\n",
       "      <td>...</td>\n",
       "      <td>...</td>\n",
       "      <td>...</td>\n",
       "      <td>...</td>\n",
       "      <td>...</td>\n",
       "    </tr>\n",
       "    <tr>\n",
       "      <th>152</th>\n",
       "      <td>0</td>\n",
       "      <td>46.0</td>\n",
       "      <td>0</td>\n",
       "      <td>10.000000</td>\n",
       "      <td>40</td>\n",
       "      <td>13</td>\n",
       "      <td>0</td>\n",
       "      <td>7.0</td>\n",
       "      <td>104990.000000</td>\n",
       "      <td>16080.0</td>\n",
       "      <td>306540.0</td>\n",
       "      <td>0.0</td>\n",
       "    </tr>\n",
       "    <tr>\n",
       "      <th>6870</th>\n",
       "      <td>0</td>\n",
       "      <td>50.0</td>\n",
       "      <td>0</td>\n",
       "      <td>10.449488</td>\n",
       "      <td>12</td>\n",
       "      <td>1</td>\n",
       "      <td>0</td>\n",
       "      <td>18.0</td>\n",
       "      <td>152283.000000</td>\n",
       "      <td>16650.0</td>\n",
       "      <td>441904.0</td>\n",
       "      <td>0.0</td>\n",
       "    </tr>\n",
       "    <tr>\n",
       "      <th>9663</th>\n",
       "      <td>0</td>\n",
       "      <td>40.0</td>\n",
       "      <td>0</td>\n",
       "      <td>12.000000</td>\n",
       "      <td>34</td>\n",
       "      <td>7</td>\n",
       "      <td>0</td>\n",
       "      <td>1.0</td>\n",
       "      <td>8585.000000</td>\n",
       "      <td>13540.0</td>\n",
       "      <td>0.0</td>\n",
       "      <td>4451.0</td>\n",
       "    </tr>\n",
       "    <tr>\n",
       "      <th>1431</th>\n",
       "      <td>0</td>\n",
       "      <td>41.0</td>\n",
       "      <td>2</td>\n",
       "      <td>13.000000</td>\n",
       "      <td>25</td>\n",
       "      <td>4</td>\n",
       "      <td>0</td>\n",
       "      <td>7.0</td>\n",
       "      <td>61485.221603</td>\n",
       "      <td>19600.0</td>\n",
       "      <td>240520.0</td>\n",
       "      <td>3220.0</td>\n",
       "    </tr>\n",
       "    <tr>\n",
       "      <th>1725</th>\n",
       "      <td>0</td>\n",
       "      <td>48.0</td>\n",
       "      <td>0</td>\n",
       "      <td>11.000000</td>\n",
       "      <td>31</td>\n",
       "      <td>4</td>\n",
       "      <td>1</td>\n",
       "      <td>10.0</td>\n",
       "      <td>141297.000000</td>\n",
       "      <td>22550.0</td>\n",
       "      <td>0.0</td>\n",
       "      <td>0.0</td>\n",
       "    </tr>\n",
       "  </tbody>\n",
       "</table>\n",
       "<p>7211 rows × 12 columns</p>\n",
       "</div>"
      ],
      "text/plain": [
       "      KIDSDRIV   AGE  HOMEKIDS        YOJ  TRAVTIME  TIF  MVR_PTS  CAR_AGE  \\\n",
       "878          0  54.0         0   6.000000        14    7        3      5.0   \n",
       "5358         0  48.0         0  12.000000        42    1        1      1.0   \n",
       "1433         0  28.0         2  10.000000        50    4        6      1.0   \n",
       "2769         0  43.0         2  14.000000        14    1        4     11.0   \n",
       "3326         0  53.0         0  14.000000        44    6        0     12.0   \n",
       "...        ...   ...       ...        ...       ...  ...      ...      ...   \n",
       "152          0  46.0         0  10.000000        40   13        0      7.0   \n",
       "6870         0  50.0         0  10.449488        12    1        0     18.0   \n",
       "9663         0  40.0         0  12.000000        34    7        0      1.0   \n",
       "1431         0  41.0         2  13.000000        25    4        0      7.0   \n",
       "1725         0  48.0         0  11.000000        31    4        1     10.0   \n",
       "\n",
       "             INCOME  BLUEBOOK  HOME_VAL  OLDCLAIM  \n",
       "878    73663.000000   41310.0  268990.0   36700.0  \n",
       "5358   34669.000000    8630.0  146134.0    2499.0  \n",
       "1433   23427.000000    6640.0   98357.0   17308.0  \n",
       "2769   54593.000000   11260.0  221267.0    1449.0  \n",
       "3326   55770.000000   12380.0  163735.0       0.0  \n",
       "...             ...       ...       ...       ...  \n",
       "152   104990.000000   16080.0  306540.0       0.0  \n",
       "6870  152283.000000   16650.0  441904.0       0.0  \n",
       "9663    8585.000000   13540.0       0.0    4451.0  \n",
       "1431   61485.221603   19600.0  240520.0    3220.0  \n",
       "1725  141297.000000   22550.0       0.0       0.0  \n",
       "\n",
       "[7211 rows x 12 columns]"
      ]
     },
     "execution_count": 41,
     "metadata": {},
     "output_type": "execute_result"
    }
   ],
   "source": [
    "features_X"
   ]
  },
  {
   "cell_type": "markdown",
   "metadata": {
    "ExecuteTime": {
     "end_time": "2020-01-06T11:57:29.839299Z",
     "start_time": "2020-01-06T11:57:29.836295Z"
    }
   },
   "source": [
    "# Analysis Code"
   ]
  },
  {
   "cell_type": "markdown",
   "metadata": {
    "ExecuteTime": {
     "end_time": "2020-01-06T11:52:19.258953Z",
     "start_time": "2020-01-06T11:52:19.255951Z"
    }
   },
   "source": [
    "## Decision Tree"
   ]
  },
  {
   "cell_type": "code",
   "execution_count": 42,
   "metadata": {
    "ExecuteTime": {
     "end_time": "2020-01-08T11:56:58.972828Z",
     "start_time": "2020-01-08T11:56:58.968828Z"
    }
   },
   "outputs": [],
   "source": [
    "cartTree = DecisionTreeClassifier()"
   ]
  },
  {
   "cell_type": "code",
   "execution_count": 43,
   "metadata": {
    "ExecuteTime": {
     "end_time": "2020-01-08T11:56:59.491187Z",
     "start_time": "2020-01-08T11:56:59.485182Z"
    }
   },
   "outputs": [],
   "source": [
    "pastas = stratified_k_fold.split(features_X, y_train)"
   ]
  },
  {
   "cell_type": "code",
   "execution_count": 44,
   "metadata": {
    "ExecuteTime": {
     "end_time": "2020-01-08T11:57:00.322206Z",
     "start_time": "2020-01-08T11:56:59.967175Z"
    }
   },
   "outputs": [
    {
     "name": "stdout",
     "output_type": "stream",
     "text": [
      "--------------------------------------------------------------------------------\n",
      "K Fold - Rodada 0\n",
      "\n",
      "Fitting Tree\n",
      "--------------------------------------------------\n",
      "--------------------------------------------------------------------------------\n",
      "K Fold - Rodada 1\n",
      "\n",
      "Fitting Tree\n",
      "--------------------------------------------------\n",
      "--------------------------------------------------------------------------------\n",
      "K Fold - Rodada 2\n",
      "\n",
      "Fitting Tree\n",
      "--------------------------------------------------\n",
      "--------------------------------------------------------------------------------\n",
      "K Fold - Rodada 3\n",
      "\n",
      "Fitting Tree\n",
      "--------------------------------------------------\n",
      "--------------------------------------------------------------------------------\n",
      "K Fold - Rodada 4\n",
      "\n",
      "Fitting Tree\n",
      "--------------------------------------------------\n"
     ]
    }
   ],
   "source": [
    "tree_train_results = list()\n",
    "tree_test_results = list()\n",
    "for i, (train_index, test_index) in enumerate(pastas):\n",
    "    print(\"-\"*80)\n",
    "    print(f\"K Fold - Rodada {i}\\n\")\n",
    "    \n",
    "    X_train_cv = features_X.iloc[train_index, : ]\n",
    "    y_train_cv = y_train.iloc[train_index]\n",
    "    \n",
    "    X_test_cv = features_X.iloc[test_index, : ]\n",
    "    y_test_cv = y_train.iloc[test_index]\n",
    "    \n",
    "    print(\"Fitting Tree\")\n",
    "    cartTree.fit(X_train_cv, y_train_cv)\n",
    "    print(\"-\"*50)\n",
    "    \n",
    "    predicted_train = cartTree.predict(X_train_cv)\n",
    "    tree_train_results.append(score_results(y_train_cv, predicted_train, \"CART Tree - Treinamento\", verbose=False))\n",
    "        \n",
    "    predicted_test = cartTree.predict(X_test_cv)\n",
    "    tree_test_results.append(score_results(y_test_cv, predicted_test, \"CART Tree - Teste\", verbose=False))"
   ]
  },
  {
   "cell_type": "code",
   "execution_count": 45,
   "metadata": {
    "ExecuteTime": {
     "end_time": "2020-01-08T11:57:01.062100Z",
     "start_time": "2020-01-08T11:57:01.050103Z"
    }
   },
   "outputs": [
    {
     "name": "stdout",
     "output_type": "stream",
     "text": [
      "Train Balanced Accuraty: 100.00% \n",
      "Test Balanced Accuraty: 58.98% \n",
      "\n",
      "Train Precision: 100.00% \n",
      "Test Precision: 39.43% \n",
      "\n",
      "Train Recall: 100.00% \n",
      "Test Recall: 40.84% \n",
      "\n",
      "Train F1: 100.00% \n",
      "Test F1: 40.08% \n"
     ]
    }
   ],
   "source": [
    "print(\"Train Balanced Accuraty: {:.2f}% \".format(100*np.mean([result.balanced_accuracy for result in tree_train_results])))\n",
    "print(\"Test Balanced Accuraty: {:.2f}% \".format(100*np.mean([result.balanced_accuracy for result in tree_test_results])))\n",
    "print(\"\")\n",
    "print(\"Train Precision: {:.2f}% \".format(100*np.mean([result.precision for result in tree_train_results])))\n",
    "print(\"Test Precision: {:.2f}% \".format(100*np.mean([result.precision for result in tree_test_results])))\n",
    "print(\"\")\n",
    "print(\"Train Recall: {:.2f}% \".format(100*np.mean([result.recall for result in tree_train_results])))\n",
    "print(\"Test Recall: {:.2f}% \".format(100*np.mean([result.recall for result in tree_test_results])))\n",
    "print(\"\")\n",
    "print(\"Train F1: {:.2f}% \".format(100*np.mean([result.f1 for result in tree_train_results])))\n",
    "print(\"Test F1: {:.2f}% \".format(100*np.mean([result.f1  for result in tree_test_results])))"
   ]
  },
  {
   "cell_type": "markdown",
   "metadata": {},
   "source": [
    "## GLM\n"
   ]
  },
  {
   "cell_type": "code",
   "execution_count": 46,
   "metadata": {
    "ExecuteTime": {
     "end_time": "2020-01-08T11:57:10.131203Z",
     "start_time": "2020-01-08T11:57:10.124207Z"
    }
   },
   "outputs": [],
   "source": [
    "pastas = stratified_k_fold.split(features_X, y_train)"
   ]
  },
  {
   "cell_type": "code",
   "execution_count": 47,
   "metadata": {
    "ExecuteTime": {
     "end_time": "2020-01-08T11:57:11.394206Z",
     "start_time": "2020-01-08T11:57:10.821209Z"
    }
   },
   "outputs": [
    {
     "name": "stdout",
     "output_type": "stream",
     "text": [
      "--------------------------------------------------------------------------------\n",
      "K Fold - Rodada 0\n",
      "\n",
      "Creating GLM\n",
      "Fitting GLM\n",
      "                 Generalized Linear Model Regression Results                  \n",
      "==============================================================================\n",
      "Dep. Variable:             CLAIM_FLAG   No. Observations:                 5768\n",
      "Model:                            GLM   Df Residuals:                     5756\n",
      "Model Family:                Binomial   Df Model:                           11\n",
      "Link Function:                  logit   Scale:                          1.0000\n",
      "Method:                          IRLS   Log-Likelihood:                -3037.3\n",
      "Date:                Wed, 08 Jan 2020   Deviance:                       6074.6\n",
      "Time:                        08:57:10   Pearson chi2:                 5.79e+03\n",
      "No. Iterations:                     5                                         \n",
      "Covariance Type:            nonrobust                                         \n",
      "==============================================================================\n",
      "                 coef    std err          z      P>|z|      [0.025      0.975]\n",
      "------------------------------------------------------------------------------\n",
      "KIDSDRIV       0.3646      0.065      5.646      0.000       0.238       0.491\n",
      "AGE           -0.0131      0.003     -5.087      0.000      -0.018      -0.008\n",
      "HOMEKIDS       0.0478      0.031      1.548      0.122      -0.013       0.108\n",
      "YOJ           -0.0060      0.008     -0.752      0.452      -0.022       0.010\n",
      "TRAVTIME       0.0050      0.002      2.643      0.008       0.001       0.009\n",
      "TIF           -0.0481      0.008     -6.076      0.000      -0.064      -0.033\n",
      "MVR_PTS        0.1611      0.014     11.448      0.000       0.134       0.189\n",
      "CAR_AGE       -0.0242      0.006     -3.776      0.000      -0.037      -0.012\n",
      "INCOME     -1.833e-06   9.75e-07     -1.881      0.060   -3.74e-06    7.71e-08\n",
      "BLUEBOOK   -8.384e-06   4.24e-06     -1.977      0.048   -1.67e-05   -7.16e-08\n",
      "HOME_VAL   -2.649e-06   3.13e-07     -8.468      0.000   -3.26e-06   -2.04e-06\n",
      "OLDCLAIM    2.313e-05    3.4e-06      6.803      0.000    1.65e-05    2.98e-05\n",
      "==============================================================================\n",
      "--------------------------------------------------\n",
      "--------------------------------------------------------------------------------\n",
      "K Fold - Rodada 1\n",
      "\n",
      "Creating GLM\n",
      "Fitting GLM\n",
      "                 Generalized Linear Model Regression Results                  \n",
      "==============================================================================\n",
      "Dep. Variable:             CLAIM_FLAG   No. Observations:                 5768\n",
      "Model:                            GLM   Df Residuals:                     5756\n",
      "Model Family:                Binomial   Df Model:                           11\n",
      "Link Function:                  logit   Scale:                          1.0000\n",
      "Method:                          IRLS   Log-Likelihood:                -3032.1\n",
      "Date:                Wed, 08 Jan 2020   Deviance:                       6064.1\n",
      "Time:                        08:57:10   Pearson chi2:                 5.77e+03\n",
      "No. Iterations:                     5                                         \n",
      "Covariance Type:            nonrobust                                         \n",
      "==============================================================================\n",
      "                 coef    std err          z      P>|z|      [0.025      0.975]\n",
      "------------------------------------------------------------------------------\n",
      "KIDSDRIV       0.3790      0.063      5.969      0.000       0.255       0.503\n",
      "AGE           -0.0144      0.003     -5.545      0.000      -0.019      -0.009\n",
      "HOMEKIDS       0.0396      0.031      1.285      0.199      -0.021       0.100\n",
      "YOJ        -2.131e-05      0.008     -0.003      0.998      -0.016       0.016\n",
      "TRAVTIME       0.0036      0.002      1.889      0.059      -0.000       0.007\n",
      "TIF           -0.0486      0.008     -6.108      0.000      -0.064      -0.033\n",
      "MVR_PTS        0.1661      0.014     11.800      0.000       0.139       0.194\n",
      "CAR_AGE       -0.0169      0.006     -2.642      0.008      -0.029      -0.004\n",
      "INCOME     -1.668e-06   9.87e-07     -1.690      0.091    -3.6e-06    2.67e-07\n",
      "BLUEBOOK    -1.07e-05   4.25e-06     -2.516      0.012    -1.9e-05   -2.37e-06\n",
      "HOME_VAL   -2.748e-06   3.16e-07     -8.691      0.000   -3.37e-06   -2.13e-06\n",
      "OLDCLAIM    2.436e-05   3.31e-06      7.355      0.000    1.79e-05    3.09e-05\n",
      "==============================================================================\n",
      "--------------------------------------------------\n",
      "--------------------------------------------------------------------------------\n",
      "K Fold - Rodada 2\n",
      "\n",
      "Creating GLM\n",
      "Fitting GLM\n",
      "                 Generalized Linear Model Regression Results                  \n",
      "==============================================================================\n",
      "Dep. Variable:             CLAIM_FLAG   No. Observations:                 5769\n",
      "Model:                            GLM   Df Residuals:                     5757\n",
      "Model Family:                Binomial   Df Model:                           11\n",
      "Link Function:                  logit   Scale:                          1.0000\n",
      "Method:                          IRLS   Log-Likelihood:                -3037.2\n",
      "Date:                Wed, 08 Jan 2020   Deviance:                       6074.4\n",
      "Time:                        08:57:11   Pearson chi2:                 5.80e+03\n",
      "No. Iterations:                     5                                         \n",
      "Covariance Type:            nonrobust                                         \n",
      "==============================================================================\n",
      "                 coef    std err          z      P>|z|      [0.025      0.975]\n",
      "------------------------------------------------------------------------------\n",
      "KIDSDRIV       0.3477      0.065      5.365      0.000       0.221       0.475\n",
      "AGE           -0.0166      0.003     -6.375      0.000      -0.022      -0.011\n",
      "HOMEKIDS       0.0515      0.031      1.672      0.095      -0.009       0.112\n",
      "YOJ            0.0030      0.008      0.365      0.715      -0.013       0.019\n",
      "TRAVTIME       0.0053      0.002      2.792      0.005       0.002       0.009\n",
      "TIF           -0.0507      0.008     -6.300      0.000      -0.066      -0.035\n",
      "MVR_PTS        0.1703      0.014     12.175      0.000       0.143       0.198\n",
      "CAR_AGE       -0.0189      0.006     -2.956      0.003      -0.031      -0.006\n",
      "INCOME     -1.218e-06   9.82e-07     -1.240      0.215   -3.14e-06    7.07e-07\n",
      "BLUEBOOK   -9.844e-06   4.27e-06     -2.304      0.021   -1.82e-05   -1.47e-06\n",
      "HOME_VAL   -2.688e-06   3.13e-07     -8.583      0.000    -3.3e-06   -2.07e-06\n",
      "OLDCLAIM     2.25e-05   3.37e-06      6.677      0.000    1.59e-05    2.91e-05\n",
      "==============================================================================\n",
      "--------------------------------------------------\n",
      "--------------------------------------------------------------------------------\n",
      "K Fold - Rodada 3\n",
      "\n",
      "Creating GLM\n",
      "Fitting GLM\n",
      "                 Generalized Linear Model Regression Results                  \n",
      "==============================================================================\n",
      "Dep. Variable:             CLAIM_FLAG   No. Observations:                 5769\n",
      "Model:                            GLM   Df Residuals:                     5757\n",
      "Model Family:                Binomial   Df Model:                           11\n",
      "Link Function:                  logit   Scale:                          1.0000\n",
      "Method:                          IRLS   Log-Likelihood:                -3056.6\n",
      "Date:                Wed, 08 Jan 2020   Deviance:                       6113.3\n",
      "Time:                        08:57:11   Pearson chi2:                 5.78e+03\n",
      "No. Iterations:                     5                                         \n",
      "Covariance Type:            nonrobust                                         \n",
      "==============================================================================\n",
      "                 coef    std err          z      P>|z|      [0.025      0.975]\n",
      "------------------------------------------------------------------------------\n",
      "KIDSDRIV       0.2588      0.064      4.036      0.000       0.133       0.384\n",
      "AGE           -0.0135      0.003     -5.227      0.000      -0.019      -0.008\n",
      "HOMEKIDS       0.0658      0.031      2.139      0.032       0.006       0.126\n",
      "YOJ           -0.0055      0.008     -0.690      0.490      -0.021       0.010\n",
      "TRAVTIME       0.0049      0.002      2.624      0.009       0.001       0.009\n",
      "TIF           -0.0540      0.008     -6.810      0.000      -0.070      -0.038\n",
      "MVR_PTS        0.1651      0.014     11.922      0.000       0.138       0.192\n",
      "CAR_AGE       -0.0149      0.006     -2.338      0.019      -0.027      -0.002\n",
      "INCOME     -8.841e-07   9.67e-07     -0.914      0.361   -2.78e-06    1.01e-06\n",
      "BLUEBOOK   -1.415e-05   4.26e-06     -3.319      0.001   -2.25e-05    -5.8e-06\n",
      "HOME_VAL   -2.604e-06    3.1e-07     -8.400      0.000   -3.21e-06      -2e-06\n",
      "OLDCLAIM    2.033e-05   3.32e-06      6.116      0.000    1.38e-05    2.68e-05\n",
      "==============================================================================\n",
      "--------------------------------------------------\n"
     ]
    },
    {
     "name": "stdout",
     "output_type": "stream",
     "text": [
      "--------------------------------------------------------------------------------\n",
      "K Fold - Rodada 4\n",
      "\n",
      "Creating GLM\n",
      "Fitting GLM\n",
      "                 Generalized Linear Model Regression Results                  \n",
      "==============================================================================\n",
      "Dep. Variable:             CLAIM_FLAG   No. Observations:                 5770\n",
      "Model:                            GLM   Df Residuals:                     5758\n",
      "Model Family:                Binomial   Df Model:                           11\n",
      "Link Function:                  logit   Scale:                          1.0000\n",
      "Method:                          IRLS   Log-Likelihood:                -3043.0\n",
      "Date:                Wed, 08 Jan 2020   Deviance:                       6086.0\n",
      "Time:                        08:57:11   Pearson chi2:                 5.80e+03\n",
      "No. Iterations:                     5                                         \n",
      "Covariance Type:            nonrobust                                         \n",
      "==============================================================================\n",
      "                 coef    std err          z      P>|z|      [0.025      0.975]\n",
      "------------------------------------------------------------------------------\n",
      "KIDSDRIV       0.3985      0.064      6.192      0.000       0.272       0.525\n",
      "AGE           -0.0144      0.003     -5.542      0.000      -0.019      -0.009\n",
      "HOMEKIDS       0.0367      0.031      1.181      0.237      -0.024       0.098\n",
      "YOJ           -0.0045      0.008     -0.556      0.578      -0.020       0.011\n",
      "TRAVTIME       0.0054      0.002      2.835      0.005       0.002       0.009\n",
      "TIF           -0.0512      0.008     -6.482      0.000      -0.067      -0.036\n",
      "MVR_PTS        0.1643      0.014     11.697      0.000       0.137       0.192\n",
      "CAR_AGE       -0.0202      0.006     -3.139      0.002      -0.033      -0.008\n",
      "INCOME     -1.162e-06   9.61e-07     -1.208      0.227   -3.05e-06    7.22e-07\n",
      "BLUEBOOK   -8.625e-06   4.21e-06     -2.049      0.040   -1.69e-05   -3.74e-07\n",
      "HOME_VAL   -2.764e-06   3.11e-07     -8.893      0.000   -3.37e-06   -2.16e-06\n",
      "OLDCLAIM    2.088e-05   3.34e-06      6.260      0.000    1.43e-05    2.74e-05\n",
      "==============================================================================\n",
      "--------------------------------------------------\n"
     ]
    }
   ],
   "source": [
    "glm_train_results = list()\n",
    "glm_test_results = list()\n",
    "for i, (train_index, test_index) in enumerate(pastas):\n",
    "    print(\"-\"*80)\n",
    "    print(f\"K Fold - Rodada {i}\\n\")\n",
    "    \n",
    "    X_train_cv = features_X.iloc[train_index, : ]\n",
    "    y_train_cv = y_train.iloc[train_index]\n",
    "    \n",
    "    X_test_cv = features_X.iloc[test_index, : ]\n",
    "    y_test_cv = y_train.iloc[test_index]\n",
    "    \n",
    "    print(\"Creating GLM\")\n",
    "    glm = sm.GLM(exog = X_train_cv, endog = y_train_cv, family = sm.families.Binomial())\n",
    "    \n",
    "    print(\"Fitting GLM\")\n",
    "    predictor_glm = glm.fit()\n",
    "    print(predictor_glm.summary())\n",
    "    print(\"-\"*50)\n",
    "    \n",
    "    \n",
    "    predicted_train_probs = predictor_glm.predict(X_train_cv)\n",
    "    \n",
    "    predicted_train = (predicted_train_probs > GLM_TRESHOLD)\n",
    "    glm_train_results.append(score_results(y_train_cv, predicted_train, \"GLM - Treinamento\"))\n",
    "        \n",
    "    predicted_test_probs = predictor_glm.predict(X_test_cv)\n",
    "    predicted_test =  (predicted_test_probs > GLM_TRESHOLD )\n",
    "    glm_test_results.append(score_results(y_test_cv, predicted_test, \"GLM - Teste\", verbose = False))"
   ]
  },
  {
   "cell_type": "code",
   "execution_count": 48,
   "metadata": {
    "ExecuteTime": {
     "end_time": "2020-01-08T11:57:12.220731Z",
     "start_time": "2020-01-08T11:57:12.203727Z"
    }
   },
   "outputs": [
    {
     "name": "stdout",
     "output_type": "stream",
     "text": [
      "Train Balanced Accuraty: 56.52% \n",
      "Test Balanced Accuraty: 56.40% \n",
      "\n",
      "Train Precision: 56.78% \n",
      "Test Precision: 56.93% \n",
      "\n",
      "Train Recall: 18.03% \n",
      "Test Recall: 17.85% \n",
      "\n",
      "Train F1: 27.36% \n",
      "Test F1: 27.10% \n"
     ]
    }
   ],
   "source": [
    "print(\"Train Balanced Accuraty: {:.2f}% \".format(100*np.mean([result.balanced_accuracy for result in glm_train_results])))\n",
    "print(\"Test Balanced Accuraty: {:.2f}% \".format(100*np.mean([result.balanced_accuracy for result in glm_test_results])))\n",
    "print(\"\")\n",
    "print(\"Train Precision: {:.2f}% \".format(100*np.mean([result.precision for result in glm_train_results])))\n",
    "print(\"Test Precision: {:.2f}% \".format(100*np.mean([result.precision for result in glm_test_results])))\n",
    "print(\"\")\n",
    "print(\"Train Recall: {:.2f}% \".format(100*np.mean([result.recall for result in glm_train_results])))\n",
    "print(\"Test Recall: {:.2f}% \".format(100*np.mean([result.recall for result in glm_test_results])))\n",
    "print(\"\")\n",
    "print(\"Train F1: {:.2f}% \".format(100*np.mean([result.f1 for result in glm_train_results])))\n",
    "print(\"Test F1: {:.2f}% \".format(100*np.mean([result.f1  for result in glm_test_results])))"
   ]
  },
  {
   "cell_type": "markdown",
   "metadata": {
    "ExecuteTime": {
     "end_time": "2020-01-06T12:35:17.189393Z",
     "start_time": "2020-01-06T12:35:17.182393Z"
    }
   },
   "source": [
    "## RBF"
   ]
  },
  {
   "cell_type": "code",
   "execution_count": 59,
   "metadata": {
    "ExecuteTime": {
     "end_time": "2020-01-08T11:59:26.003200Z",
     "start_time": "2020-01-08T11:59:25.998202Z"
    }
   },
   "outputs": [],
   "source": [
    "import importlib\n",
    "import RBF"
   ]
  },
  {
   "cell_type": "code",
   "execution_count": 60,
   "metadata": {
    "ExecuteTime": {
     "end_time": "2020-01-08T11:59:26.591398Z",
     "start_time": "2020-01-08T11:59:26.568398Z"
    }
   },
   "outputs": [
    {
     "data": {
      "text/plain": [
       "<module 'RBF' from 'C:\\\\Users\\\\barban01\\\\Desktop\\\\Projetos\\\\UFABC\\\\TCC\\\\projeto_pdg\\\\RBF.py'>"
      ]
     },
     "execution_count": 60,
     "metadata": {},
     "output_type": "execute_result"
    }
   ],
   "source": [
    "importlib.reload(RBF)"
   ]
  },
  {
   "cell_type": "code",
   "execution_count": 61,
   "metadata": {
    "ExecuteTime": {
     "end_time": "2020-01-08T11:59:29.444007Z",
     "start_time": "2020-01-08T11:59:29.441006Z"
    }
   },
   "outputs": [],
   "source": [
    "rbf_classifier = RBF.RBFClassifier(number_of_centers = 50, \n",
    "                               random_state = SEED, \n",
    "                               algorithm = LogisticRegression(class_weight=\"balanced\", solver = \"lbfgs\"))"
   ]
  },
  {
   "cell_type": "code",
   "execution_count": 62,
   "metadata": {
    "ExecuteTime": {
     "end_time": "2020-01-08T11:59:29.889969Z",
     "start_time": "2020-01-08T11:59:29.885971Z"
    }
   },
   "outputs": [],
   "source": [
    "pastas = stratified_k_fold.split(features_X, y_train)"
   ]
  },
  {
   "cell_type": "code",
   "execution_count": 63,
   "metadata": {
    "ExecuteTime": {
     "end_time": "2020-01-08T11:59:43.532735Z",
     "start_time": "2020-01-08T11:59:31.583157Z"
    },
    "scrolled": true
   },
   "outputs": [
    {
     "name": "stdout",
     "output_type": "stream",
     "text": [
      "--------------------------------------------------------------------------------\n",
      "K Fold - Rodada 0\n",
      "\n",
      "Fitting RBF Network\n"
     ]
    },
    {
     "name": "stderr",
     "output_type": "stream",
     "text": [
      "C:\\Users\\barban01\\AppData\\Local\\Continuum\\miniconda3\\envs\\pdg\\lib\\site-packages\\sklearn\\utils\\validation.py:724: DataConversionWarning: A column-vector y was passed when a 1d array was expected. Please change the shape of y to (n_samples, ), for example using ravel().\n",
      "  y = column_or_1d(y, warn=True)\n",
      "C:\\Users\\barban01\\AppData\\Local\\Continuum\\miniconda3\\envs\\pdg\\lib\\site-packages\\ipykernel_launcher.py:19: RuntimeWarning: invalid value encountered in longlong_scalars\n",
      "C:\\Users\\barban01\\AppData\\Local\\Continuum\\miniconda3\\envs\\pdg\\lib\\site-packages\\ipykernel_launcher.py:19: RuntimeWarning: invalid value encountered in longlong_scalars\n"
     ]
    },
    {
     "name": "stdout",
     "output_type": "stream",
     "text": [
      "--------------------------------------------------\n",
      "--- RBF Network - Teste ---\n",
      "Matrix de Confusão\n",
      "[[1058    0]\n",
      " [ 385    0]]\n",
      "Acurácia Balanceada:  50.00 % \n",
      "Falsos Positivos: 0, Falsos Negativos: 385\n",
      "Verdadeiros Positivos: 0, Verdadeiros Negativos: 1058\n",
      "Precisao (tp/(tp+fp)): nan%\n",
      "Recall (tp/(tp+fn)): 0.00  %\n",
      "--------------------------------------------------------------------------------\n",
      "--------------------------------------------------------------------------------\n",
      "K Fold - Rodada 1\n",
      "\n",
      "Fitting RBF Network\n"
     ]
    },
    {
     "name": "stderr",
     "output_type": "stream",
     "text": [
      "C:\\Users\\barban01\\AppData\\Local\\Continuum\\miniconda3\\envs\\pdg\\lib\\site-packages\\sklearn\\utils\\validation.py:724: DataConversionWarning: A column-vector y was passed when a 1d array was expected. Please change the shape of y to (n_samples, ), for example using ravel().\n",
      "  y = column_or_1d(y, warn=True)\n",
      "C:\\Users\\barban01\\AppData\\Local\\Continuum\\miniconda3\\envs\\pdg\\lib\\site-packages\\ipykernel_launcher.py:19: RuntimeWarning: invalid value encountered in longlong_scalars\n",
      "C:\\Users\\barban01\\AppData\\Local\\Continuum\\miniconda3\\envs\\pdg\\lib\\site-packages\\ipykernel_launcher.py:19: RuntimeWarning: invalid value encountered in longlong_scalars\n"
     ]
    },
    {
     "name": "stdout",
     "output_type": "stream",
     "text": [
      "--------------------------------------------------\n",
      "--- RBF Network - Teste ---\n",
      "Matrix de Confusão\n",
      "[[1058    0]\n",
      " [ 385    0]]\n",
      "Acurácia Balanceada:  50.00 % \n",
      "Falsos Positivos: 0, Falsos Negativos: 385\n",
      "Verdadeiros Positivos: 0, Verdadeiros Negativos: 1058\n",
      "Precisao (tp/(tp+fp)): nan%\n",
      "Recall (tp/(tp+fn)): 0.00  %\n",
      "--------------------------------------------------------------------------------\n",
      "--------------------------------------------------------------------------------\n",
      "K Fold - Rodada 2\n",
      "\n",
      "Fitting RBF Network\n"
     ]
    },
    {
     "name": "stderr",
     "output_type": "stream",
     "text": [
      "C:\\Users\\barban01\\Desktop\\Projetos\\UFABC\\TCC\\projeto_pdg\\RBF.py:45: RuntimeWarning: divide by zero encountered in double_scalars\n",
      "  normalization_constant = 1/(2*np.pi*variance)\n",
      "C:\\Users\\barban01\\Desktop\\Projetos\\UFABC\\TCC\\projeto_pdg\\RBF.py:46: RuntimeWarning: divide by zero encountered in true_divide\n",
      "  return normalization_constant * np.exp(-(dist/gamma))\n",
      "C:\\Users\\barban01\\Desktop\\Projetos\\UFABC\\TCC\\projeto_pdg\\RBF.py:46: RuntimeWarning: invalid value encountered in multiply\n",
      "  return normalization_constant * np.exp(-(dist/gamma))\n",
      "C:\\Users\\barban01\\AppData\\Local\\Continuum\\miniconda3\\envs\\pdg\\lib\\site-packages\\sklearn\\utils\\validation.py:724: DataConversionWarning: A column-vector y was passed when a 1d array was expected. Please change the shape of y to (n_samples, ), for example using ravel().\n",
      "  y = column_or_1d(y, warn=True)\n",
      "C:\\Users\\barban01\\Desktop\\Projetos\\UFABC\\TCC\\projeto_pdg\\RBF.py:45: RuntimeWarning: divide by zero encountered in double_scalars\n",
      "  normalization_constant = 1/(2*np.pi*variance)\n",
      "C:\\Users\\barban01\\Desktop\\Projetos\\UFABC\\TCC\\projeto_pdg\\RBF.py:46: RuntimeWarning: divide by zero encountered in true_divide\n",
      "  return normalization_constant * np.exp(-(dist/gamma))\n",
      "C:\\Users\\barban01\\Desktop\\Projetos\\UFABC\\TCC\\projeto_pdg\\RBF.py:46: RuntimeWarning: invalid value encountered in multiply\n",
      "  return normalization_constant * np.exp(-(dist/gamma))\n",
      "C:\\Users\\barban01\\AppData\\Local\\Continuum\\miniconda3\\envs\\pdg\\lib\\site-packages\\ipykernel_launcher.py:19: RuntimeWarning: invalid value encountered in longlong_scalars\n",
      "C:\\Users\\barban01\\Desktop\\Projetos\\UFABC\\TCC\\projeto_pdg\\RBF.py:45: RuntimeWarning: divide by zero encountered in double_scalars\n",
      "  normalization_constant = 1/(2*np.pi*variance)\n",
      "C:\\Users\\barban01\\Desktop\\Projetos\\UFABC\\TCC\\projeto_pdg\\RBF.py:46: RuntimeWarning: divide by zero encountered in true_divide\n",
      "  return normalization_constant * np.exp(-(dist/gamma))\n",
      "C:\\Users\\barban01\\Desktop\\Projetos\\UFABC\\TCC\\projeto_pdg\\RBF.py:46: RuntimeWarning: invalid value encountered in multiply\n",
      "  return normalization_constant * np.exp(-(dist/gamma))\n",
      "C:\\Users\\barban01\\AppData\\Local\\Continuum\\miniconda3\\envs\\pdg\\lib\\site-packages\\ipykernel_launcher.py:19: RuntimeWarning: invalid value encountered in longlong_scalars\n"
     ]
    },
    {
     "name": "stdout",
     "output_type": "stream",
     "text": [
      "--------------------------------------------------\n",
      "--- RBF Network - Teste ---\n",
      "Matrix de Confusão\n",
      "[[1058    0]\n",
      " [ 384    0]]\n",
      "Acurácia Balanceada:  50.00 % \n",
      "Falsos Positivos: 0, Falsos Negativos: 384\n",
      "Verdadeiros Positivos: 0, Verdadeiros Negativos: 1058\n",
      "Precisao (tp/(tp+fp)): nan%\n",
      "Recall (tp/(tp+fn)): 0.00  %\n",
      "--------------------------------------------------------------------------------\n",
      "--------------------------------------------------------------------------------\n",
      "K Fold - Rodada 3\n",
      "\n",
      "Fitting RBF Network\n"
     ]
    },
    {
     "name": "stderr",
     "output_type": "stream",
     "text": [
      "C:\\Users\\barban01\\AppData\\Local\\Continuum\\miniconda3\\envs\\pdg\\lib\\site-packages\\sklearn\\utils\\validation.py:724: DataConversionWarning: A column-vector y was passed when a 1d array was expected. Please change the shape of y to (n_samples, ), for example using ravel().\n",
      "  y = column_or_1d(y, warn=True)\n",
      "C:\\Users\\barban01\\AppData\\Local\\Continuum\\miniconda3\\envs\\pdg\\lib\\site-packages\\ipykernel_launcher.py:19: RuntimeWarning: invalid value encountered in longlong_scalars\n",
      "C:\\Users\\barban01\\AppData\\Local\\Continuum\\miniconda3\\envs\\pdg\\lib\\site-packages\\ipykernel_launcher.py:19: RuntimeWarning: invalid value encountered in longlong_scalars\n"
     ]
    },
    {
     "name": "stdout",
     "output_type": "stream",
     "text": [
      "--------------------------------------------------\n",
      "--- RBF Network - Teste ---\n",
      "Matrix de Confusão\n",
      "[[1058    0]\n",
      " [ 384    0]]\n",
      "Acurácia Balanceada:  50.00 % \n",
      "Falsos Positivos: 0, Falsos Negativos: 384\n",
      "Verdadeiros Positivos: 0, Verdadeiros Negativos: 1058\n",
      "Precisao (tp/(tp+fp)): nan%\n",
      "Recall (tp/(tp+fn)): 0.00  %\n",
      "--------------------------------------------------------------------------------\n",
      "--------------------------------------------------------------------------------\n",
      "K Fold - Rodada 4\n",
      "\n",
      "Fitting RBF Network\n",
      "--------------------------------------------------\n",
      "--- RBF Network - Teste ---\n",
      "Matrix de Confusão\n",
      "[[1057    0]\n",
      " [ 384    0]]\n",
      "Acurácia Balanceada:  50.00 % \n",
      "Falsos Positivos: 0, Falsos Negativos: 384\n",
      "Verdadeiros Positivos: 0, Verdadeiros Negativos: 1057\n",
      "Precisao (tp/(tp+fp)): nan%\n",
      "Recall (tp/(tp+fn)): 0.00  %\n",
      "--------------------------------------------------------------------------------\n"
     ]
    },
    {
     "name": "stderr",
     "output_type": "stream",
     "text": [
      "C:\\Users\\barban01\\Desktop\\Projetos\\UFABC\\TCC\\projeto_pdg\\RBF.py:45: RuntimeWarning: divide by zero encountered in double_scalars\n",
      "  normalization_constant = 1/(2*np.pi*variance)\n",
      "C:\\Users\\barban01\\Desktop\\Projetos\\UFABC\\TCC\\projeto_pdg\\RBF.py:46: RuntimeWarning: divide by zero encountered in true_divide\n",
      "  return normalization_constant * np.exp(-(dist/gamma))\n",
      "C:\\Users\\barban01\\Desktop\\Projetos\\UFABC\\TCC\\projeto_pdg\\RBF.py:46: RuntimeWarning: invalid value encountered in multiply\n",
      "  return normalization_constant * np.exp(-(dist/gamma))\n",
      "C:\\Users\\barban01\\AppData\\Local\\Continuum\\miniconda3\\envs\\pdg\\lib\\site-packages\\sklearn\\utils\\validation.py:724: DataConversionWarning: A column-vector y was passed when a 1d array was expected. Please change the shape of y to (n_samples, ), for example using ravel().\n",
      "  y = column_or_1d(y, warn=True)\n",
      "C:\\Users\\barban01\\Desktop\\Projetos\\UFABC\\TCC\\projeto_pdg\\RBF.py:45: RuntimeWarning: divide by zero encountered in double_scalars\n",
      "  normalization_constant = 1/(2*np.pi*variance)\n",
      "C:\\Users\\barban01\\Desktop\\Projetos\\UFABC\\TCC\\projeto_pdg\\RBF.py:46: RuntimeWarning: divide by zero encountered in true_divide\n",
      "  return normalization_constant * np.exp(-(dist/gamma))\n",
      "C:\\Users\\barban01\\Desktop\\Projetos\\UFABC\\TCC\\projeto_pdg\\RBF.py:46: RuntimeWarning: invalid value encountered in multiply\n",
      "  return normalization_constant * np.exp(-(dist/gamma))\n",
      "C:\\Users\\barban01\\AppData\\Local\\Continuum\\miniconda3\\envs\\pdg\\lib\\site-packages\\ipykernel_launcher.py:19: RuntimeWarning: invalid value encountered in longlong_scalars\n",
      "C:\\Users\\barban01\\Desktop\\Projetos\\UFABC\\TCC\\projeto_pdg\\RBF.py:45: RuntimeWarning: divide by zero encountered in double_scalars\n",
      "  normalization_constant = 1/(2*np.pi*variance)\n",
      "C:\\Users\\barban01\\Desktop\\Projetos\\UFABC\\TCC\\projeto_pdg\\RBF.py:46: RuntimeWarning: divide by zero encountered in true_divide\n",
      "  return normalization_constant * np.exp(-(dist/gamma))\n",
      "C:\\Users\\barban01\\Desktop\\Projetos\\UFABC\\TCC\\projeto_pdg\\RBF.py:46: RuntimeWarning: invalid value encountered in multiply\n",
      "  return normalization_constant * np.exp(-(dist/gamma))\n",
      "C:\\Users\\barban01\\AppData\\Local\\Continuum\\miniconda3\\envs\\pdg\\lib\\site-packages\\ipykernel_launcher.py:19: RuntimeWarning: invalid value encountered in longlong_scalars\n"
     ]
    }
   ],
   "source": [
    "rbf_train_results = list()\n",
    "rbf_test_results = list()\n",
    "for i, (train_index, test_index) in enumerate(pastas):\n",
    "    print(\"-\"*80)\n",
    "    print(f\"K Fold - Rodada {i}\\n\")\n",
    "    \n",
    "    X_train_cv = numerical_X.iloc[train_index, : ]\n",
    "    y_train_cv = y_train.iloc[train_index]\n",
    "    \n",
    "    X_test_cv = numerical_X.iloc[test_index, : ]\n",
    "    y_test_cv = y_train.iloc[test_index]\n",
    "    \n",
    "    print(\"Fitting RBF Network\")\n",
    "    rbf_classifier.fit(X_train_cv, y_train_cv)\n",
    "    print(\"-\"*50)\n",
    "    \n",
    "    predicted_train = rbf_classifier.predict(X_train_cv)\n",
    "    rbf_train_results.append(score_results(y_train_cv, predicted_train, \"RBF Network - Treinamento\"))\n",
    "        \n",
    "    predicted_test = rbf_classifier.predict(X_test_cv)\n",
    "    rbf_test_results.append(score_results(y_test_cv, predicted_test, \"RBF Network - Teste\", verbose = True))"
   ]
  },
  {
   "cell_type": "code",
   "execution_count": 53,
   "metadata": {
    "ExecuteTime": {
     "end_time": "2020-01-08T11:57:32.440029Z",
     "start_time": "2020-01-08T11:57:20.294005Z"
    },
    "scrolled": true
   },
   "outputs": [
    {
     "name": "stdout",
     "output_type": "stream",
     "text": [
      "--------------------------------------------------------------------------------\n",
      "K Fold - Rodada 0\n",
      "\n",
      "Fitting RBF Network\n"
     ]
    },
    {
     "name": "stderr",
     "output_type": "stream",
     "text": [
      "C:\\Users\\barban01\\AppData\\Local\\Continuum\\miniconda3\\envs\\pdg\\lib\\site-packages\\sklearn\\utils\\validation.py:724: DataConversionWarning: A column-vector y was passed when a 1d array was expected. Please change the shape of y to (n_samples, ), for example using ravel().\n",
      "  y = column_or_1d(y, warn=True)\n",
      "C:\\Users\\barban01\\AppData\\Local\\Continuum\\miniconda3\\envs\\pdg\\lib\\site-packages\\ipykernel_launcher.py:19: RuntimeWarning: invalid value encountered in longlong_scalars\n",
      "C:\\Users\\barban01\\AppData\\Local\\Continuum\\miniconda3\\envs\\pdg\\lib\\site-packages\\ipykernel_launcher.py:19: RuntimeWarning: invalid value encountered in longlong_scalars\n"
     ]
    },
    {
     "name": "stdout",
     "output_type": "stream",
     "text": [
      "--------------------------------------------------\n",
      "--- RBF Network - Teste ---\n",
      "Matrix de Confusão\n",
      "[[1058    0]\n",
      " [ 385    0]]\n",
      "Acurácia Balanceada:  50.00 % \n",
      "Falsos Positivos: 0, Falsos Negativos: 385\n",
      "Verdadeiros Positivos: 0, Verdadeiros Negativos: 1058\n",
      "Precisao (tp/(tp+fp)): nan%\n",
      "Recall (tp/(tp+fn)): 0.00  %\n",
      "--------------------------------------------------------------------------------\n",
      "--------------------------------------------------------------------------------\n",
      "K Fold - Rodada 1\n",
      "\n",
      "Fitting RBF Network\n"
     ]
    },
    {
     "name": "stderr",
     "output_type": "stream",
     "text": [
      "C:\\Users\\barban01\\AppData\\Local\\Continuum\\miniconda3\\envs\\pdg\\lib\\site-packages\\sklearn\\utils\\validation.py:724: DataConversionWarning: A column-vector y was passed when a 1d array was expected. Please change the shape of y to (n_samples, ), for example using ravel().\n",
      "  y = column_or_1d(y, warn=True)\n",
      "C:\\Users\\barban01\\AppData\\Local\\Continuum\\miniconda3\\envs\\pdg\\lib\\site-packages\\ipykernel_launcher.py:19: RuntimeWarning: invalid value encountered in longlong_scalars\n",
      "C:\\Users\\barban01\\AppData\\Local\\Continuum\\miniconda3\\envs\\pdg\\lib\\site-packages\\ipykernel_launcher.py:19: RuntimeWarning: invalid value encountered in longlong_scalars\n"
     ]
    },
    {
     "name": "stdout",
     "output_type": "stream",
     "text": [
      "--------------------------------------------------\n",
      "--- RBF Network - Teste ---\n",
      "Matrix de Confusão\n",
      "[[1058    0]\n",
      " [ 385    0]]\n",
      "Acurácia Balanceada:  50.00 % \n",
      "Falsos Positivos: 0, Falsos Negativos: 385\n",
      "Verdadeiros Positivos: 0, Verdadeiros Negativos: 1058\n",
      "Precisao (tp/(tp+fp)): nan%\n",
      "Recall (tp/(tp+fn)): 0.00  %\n",
      "--------------------------------------------------------------------------------\n",
      "--------------------------------------------------------------------------------\n",
      "K Fold - Rodada 2\n",
      "\n",
      "Fitting RBF Network\n"
     ]
    },
    {
     "name": "stderr",
     "output_type": "stream",
     "text": [
      "C:\\Users\\barban01\\AppData\\Local\\Continuum\\miniconda3\\envs\\pdg\\lib\\site-packages\\sklearn\\utils\\validation.py:724: DataConversionWarning: A column-vector y was passed when a 1d array was expected. Please change the shape of y to (n_samples, ), for example using ravel().\n",
      "  y = column_or_1d(y, warn=True)\n",
      "C:\\Users\\barban01\\AppData\\Local\\Continuum\\miniconda3\\envs\\pdg\\lib\\site-packages\\ipykernel_launcher.py:19: RuntimeWarning: invalid value encountered in longlong_scalars\n",
      "C:\\Users\\barban01\\AppData\\Local\\Continuum\\miniconda3\\envs\\pdg\\lib\\site-packages\\ipykernel_launcher.py:19: RuntimeWarning: invalid value encountered in longlong_scalars\n"
     ]
    },
    {
     "name": "stdout",
     "output_type": "stream",
     "text": [
      "--------------------------------------------------\n",
      "--- RBF Network - Teste ---\n",
      "Matrix de Confusão\n",
      "[[1058    0]\n",
      " [ 384    0]]\n",
      "Acurácia Balanceada:  50.00 % \n",
      "Falsos Positivos: 0, Falsos Negativos: 384\n",
      "Verdadeiros Positivos: 0, Verdadeiros Negativos: 1058\n",
      "Precisao (tp/(tp+fp)): nan%\n",
      "Recall (tp/(tp+fn)): 0.00  %\n",
      "--------------------------------------------------------------------------------\n",
      "--------------------------------------------------------------------------------\n",
      "K Fold - Rodada 3\n",
      "\n",
      "Fitting RBF Network\n"
     ]
    },
    {
     "name": "stderr",
     "output_type": "stream",
     "text": [
      "C:\\Users\\barban01\\AppData\\Local\\Continuum\\miniconda3\\envs\\pdg\\lib\\site-packages\\sklearn\\utils\\validation.py:724: DataConversionWarning: A column-vector y was passed when a 1d array was expected. Please change the shape of y to (n_samples, ), for example using ravel().\n",
      "  y = column_or_1d(y, warn=True)\n",
      "C:\\Users\\barban01\\AppData\\Local\\Continuum\\miniconda3\\envs\\pdg\\lib\\site-packages\\ipykernel_launcher.py:19: RuntimeWarning: invalid value encountered in longlong_scalars\n",
      "C:\\Users\\barban01\\AppData\\Local\\Continuum\\miniconda3\\envs\\pdg\\lib\\site-packages\\ipykernel_launcher.py:19: RuntimeWarning: invalid value encountered in longlong_scalars\n"
     ]
    },
    {
     "name": "stdout",
     "output_type": "stream",
     "text": [
      "--------------------------------------------------\n",
      "--- RBF Network - Teste ---\n",
      "Matrix de Confusão\n",
      "[[1058    0]\n",
      " [ 384    0]]\n",
      "Acurácia Balanceada:  50.00 % \n",
      "Falsos Positivos: 0, Falsos Negativos: 384\n",
      "Verdadeiros Positivos: 0, Verdadeiros Negativos: 1058\n",
      "Precisao (tp/(tp+fp)): nan%\n",
      "Recall (tp/(tp+fn)): 0.00  %\n",
      "--------------------------------------------------------------------------------\n",
      "--------------------------------------------------------------------------------\n",
      "K Fold - Rodada 4\n",
      "\n",
      "Fitting RBF Network\n",
      "--------------------------------------------------\n",
      "--- RBF Network - Teste ---\n",
      "Matrix de Confusão\n",
      "[[1057    0]\n",
      " [ 384    0]]\n",
      "Acurácia Balanceada:  50.00 % \n",
      "Falsos Positivos: 0, Falsos Negativos: 384\n",
      "Verdadeiros Positivos: 0, Verdadeiros Negativos: 1057\n",
      "Precisao (tp/(tp+fp)): nan%\n",
      "Recall (tp/(tp+fn)): 0.00  %\n",
      "--------------------------------------------------------------------------------\n"
     ]
    },
    {
     "name": "stderr",
     "output_type": "stream",
     "text": [
      "C:\\Users\\barban01\\AppData\\Local\\Continuum\\miniconda3\\envs\\pdg\\lib\\site-packages\\sklearn\\utils\\validation.py:724: DataConversionWarning: A column-vector y was passed when a 1d array was expected. Please change the shape of y to (n_samples, ), for example using ravel().\n",
      "  y = column_or_1d(y, warn=True)\n",
      "C:\\Users\\barban01\\AppData\\Local\\Continuum\\miniconda3\\envs\\pdg\\lib\\site-packages\\ipykernel_launcher.py:19: RuntimeWarning: invalid value encountered in longlong_scalars\n",
      "C:\\Users\\barban01\\AppData\\Local\\Continuum\\miniconda3\\envs\\pdg\\lib\\site-packages\\ipykernel_launcher.py:19: RuntimeWarning: invalid value encountered in longlong_scalars\n"
     ]
    }
   ],
   "source": [
    "rbf_train_results = list()\n",
    "rbf_test_results = list()\n",
    "for i, (train_index, test_index) in enumerate(pastas):\n",
    "    print(\"-\"*80)\n",
    "    print(f\"K Fold - Rodada {i}\\n\")\n",
    "    \n",
    "    X_train_cv = features_X.iloc[train_index, : ]\n",
    "    y_train_cv = y_train.iloc[train_index]\n",
    "    \n",
    "    X_test_cv = features_X.iloc[test_index, : ]\n",
    "    y_test_cv = y_train.iloc[test_index]\n",
    "    \n",
    "    print(\"Fitting RBF Network\")\n",
    "    rbf_classifier.fit(X_train_cv, y_train_cv)\n",
    "    print(\"-\"*50)\n",
    "    \n",
    "    predicted_train = rbf_classifier.predict(X_train_cv)\n",
    "    rbf_train_results.append(score_results(y_train_cv, predicted_train, \"RBF Network - Treinamento\"))\n",
    "        \n",
    "    predicted_test = rbf_classifier.predict(X_test_cv)\n",
    "    rbf_test_results.append(score_results(y_test_cv, predicted_test, \"RBF Network - Teste\", verbose = True))"
   ]
  },
  {
   "cell_type": "code",
   "execution_count": 54,
   "metadata": {
    "ExecuteTime": {
     "end_time": "2020-01-08T11:57:32.462031Z",
     "start_time": "2020-01-08T11:57:32.444032Z"
    },
    "scrolled": true
   },
   "outputs": [
    {
     "name": "stdout",
     "output_type": "stream",
     "text": [
      "Train Balanced Accuraty: 50.00% \n",
      "Test Balanced Accuraty: 50.00% \n",
      "\n",
      "Train Precision: nan% \n",
      "Test Precision: nan% \n",
      "\n",
      "Train Recall: 0.00% \n",
      "Test Recall: 0.00% \n",
      "\n",
      "Train F1: nan% \n",
      "Test F1: nan% \n"
     ]
    }
   ],
   "source": [
    "print(\"Train Balanced Accuraty: {:.2f}% \".format(100*np.mean([result.balanced_accuracy for result in rbf_train_results])))\n",
    "print(\"Test Balanced Accuraty: {:.2f}% \".format(100*np.mean([result.balanced_accuracy for result in rbf_test_results])))\n",
    "print(\"\")\n",
    "print(\"Train Precision: {:.2f}% \".format(100*np.mean([result.precision for result in rbf_train_results])))\n",
    "print(\"Test Precision: {:.2f}% \".format(100*np.mean([result.precision for result in rbf_test_results])))\n",
    "print(\"\")\n",
    "print(\"Train Recall: {:.2f}% \".format(100*np.mean([result.recall for result in rbf_train_results])))\n",
    "print(\"Test Recall: {:.2f}% \".format(100*np.mean([result.recall for result in rbf_test_results])))\n",
    "print(\"\")\n",
    "print(\"Train F1: {:.2f}% \".format(100*np.mean([result.f1 for result in rbf_train_results])))\n",
    "print(\"Test F1: {:.2f}% \".format(100*np.mean([result.f1  for result in rbf_test_results])))"
   ]
  },
  {
   "cell_type": "markdown",
   "metadata": {
    "ExecuteTime": {
     "end_time": "2020-01-06T12:51:57.775406Z",
     "start_time": "2020-01-06T12:51:57.772403Z"
    }
   },
   "source": [
    "# Results"
   ]
  },
  {
   "cell_type": "code",
   "execution_count": 32,
   "metadata": {
    "ExecuteTime": {
     "end_time": "2020-01-08T11:49:35.550527Z",
     "start_time": "2020-01-08T11:49:35.516522Z"
    }
   },
   "outputs": [
    {
     "name": "stdout",
     "output_type": "stream",
     "text": [
      "<< TREES >>\n",
      "Balanced Accuraty: 54.97% \n",
      "Precision: 33.61% \n",
      "Recall: 35.27% \n",
      "F1: 0.34 \n",
      "<< GLM >>\n",
      "Balanced Accuraty: 55.26% \n",
      "Precision: 59.53% \n",
      "Recall: 14.10% \n",
      "F1: 0.23 \n",
      "<< RBF >>\n",
      "Balanced Accuraty: 54.27% \n",
      "Precision: 28.72% \n",
      "Recall: 88.45% \n",
      "F1: 0.43 \n"
     ]
    }
   ],
   "source": [
    "print(\"<< TREES >>\")\n",
    "print(\"Balanced Accuraty: {:.2f}% \".format(100*np.mean([result.balanced_accuracy for result in tree_test_results])))\n",
    "print(\"Precision: {:.2f}% \".format(100*np.mean([result.precision for result in tree_test_results])))\n",
    "print(\"Recall: {:.2f}% \".format(100*np.mean([result.recall for result in tree_test_results])))\n",
    "print(\"F1: {:.2f} \".format(np.mean([result.f1 for result in tree_test_results])))\n",
    "\n",
    "print(\"<< GLM >>\")\n",
    "print(\"Balanced Accuraty: {:.2f}% \".format(100*np.mean([result.balanced_accuracy for result in glm_test_results])))\n",
    "print(\"Precision: {:.2f}% \".format(100*np.mean([result.precision for result in glm_test_results])))\n",
    "print(\"Recall: {:.2f}% \".format(100*np.mean([result.recall for result in glm_test_results])))\n",
    "print(\"F1: {:.2f} \".format(np.mean([result.f1 for result in glm_test_results])))\n",
    "\n",
    "print(\"<< RBF >>\")\n",
    "print(\"Balanced Accuraty: {:.2f}% \".format(100*np.mean([result.balanced_accuracy for result in rbf_test_results])))\n",
    "print(\"Precision: {:.2f}% \".format(100*np.mean([result.precision for result in rbf_test_results])))\n",
    "print(\"Recall: {:.2f}% \".format(100*np.mean([result.recall for result in rbf_test_results])))\n",
    "print(\"F1: {:.2f} \".format(np.mean([result.f1 for result in rbf_test_results])))"
   ]
  },
  {
   "cell_type": "markdown",
   "metadata": {
    "ExecuteTime": {
     "end_time": "2020-01-07T12:28:22.055181Z",
     "start_time": "2020-01-07T12:28:22.051191Z"
    }
   },
   "source": [
    "# Análise Detalhada"
   ]
  },
  {
   "cell_type": "code",
   "execution_count": 33,
   "metadata": {
    "ExecuteTime": {
     "end_time": "2020-01-08T11:49:35.564530Z",
     "start_time": "2020-01-08T11:49:35.554524Z"
    },
    "scrolled": true
   },
   "outputs": [
    {
     "name": "stdout",
     "output_type": "stream",
     "text": [
      "<< TREE >>\n",
      "Médias\n",
      "Total Real Positives: 1922.00\n",
      "Total Real Negatives: 5289.00\n",
      "Total Predicted Positives: 2018.00\n",
      "Total Predicted Negatives: 5193.00\n",
      "\n",
      "True Positives: 678.00\n",
      "True Negatives: 3949.00\n",
      "False Positives: 1340.00\n",
      "False Negatives: 1244.00\n",
      "\n",
      "Precision: 0.34\n",
      "Recall: 0.35\n",
      "Accuracy Positive(Recall): 0.35\n",
      "Accuracy Negative: 0.75\n",
      "Balanced Accuracy: 0.55\n",
      "F1 Score:  0.34\n",
      "\n",
      "<< GLM >>\n",
      "Médias\n",
      "Total Real Positives: 1922.00\n",
      "Total Real Negatives: 5289.00\n",
      "Total Predicted Positives: 460.00\n",
      "Total Predicted Negatives: 6751.00\n",
      "\n",
      "True Positives: 271.00\n",
      "True Negatives: 5100.00\n",
      "False Positives: 189.00\n",
      "False Negatives: 1651.00\n",
      "\n",
      "Precision: 0.59\n",
      "Recall: 0.14\n",
      "Accuracy Positive(Recall): 0.14\n",
      "Accuracy Negative: 0.96\n",
      "Balanced Accuracy: 0.55\n",
      "F1 Score:  0.23\n",
      "\n",
      "<< RBF >>\n",
      "Médias\n",
      "Total Real Positives: 1922.00\n",
      "Total Real Negatives: 5289.00\n",
      "Total Predicted Positives: 5926.00\n",
      "Total Predicted Negatives: 1285.00\n",
      "\n",
      "True Positives: 1700.00\n",
      "True Negatives: 1063.00\n",
      "False Positives: 4226.00\n",
      "False Negatives: 222.00\n",
      "\n",
      "Precision: 0.29\n",
      "Recall: 0.88\n",
      "Accuracy Positive(Recall): 0.88\n",
      "Accuracy Negative: 0.20\n",
      "Balanced Accuracy: 0.54\n",
      "F1 Score:  0.43\n",
      "\n"
     ]
    }
   ],
   "source": [
    "print(\"<< TREE >>\")\n",
    "imprime_matriz_de_confusao_media(tree_test_results)\n",
    "print(\"<< GLM >>\")\n",
    "imprime_matriz_de_confusao_media(glm_test_results)\n",
    "print(\"<< RBF >>\")\n",
    "imprime_matriz_de_confusao_media(rbf_test_results)"
   ]
  },
  {
   "cell_type": "code",
   "execution_count": null,
   "metadata": {},
   "outputs": [],
   "source": []
  }
 ],
 "metadata": {
  "kernelspec": {
   "display_name": "Python 3",
   "language": "python",
   "name": "python3"
  },
  "language_info": {
   "codemirror_mode": {
    "name": "ipython",
    "version": 3
   },
   "file_extension": ".py",
   "mimetype": "text/x-python",
   "name": "python",
   "nbconvert_exporter": "python",
   "pygments_lexer": "ipython3",
   "version": "3.7.3"
  },
  "latex_envs": {
   "LaTeX_envs_menu_present": true,
   "autoclose": false,
   "autocomplete": true,
   "bibliofile": "biblio.bib",
   "cite_by": "apalike",
   "current_citInitial": 1,
   "eqLabelWithNumbers": true,
   "eqNumInitial": 1,
   "hotkeys": {
    "equation": "Ctrl-E",
    "itemize": "Ctrl-I"
   },
   "labels_anchors": false,
   "latex_user_defs": false,
   "report_style_numbering": false,
   "user_envs_cfg": false
  },
  "toc": {
   "base_numbering": 1,
   "nav_menu": {},
   "number_sections": true,
   "sideBar": true,
   "skip_h1_title": false,
   "title_cell": "Table of Contents",
   "title_sidebar": "Contents",
   "toc_cell": false,
   "toc_position": {},
   "toc_section_display": true,
   "toc_window_display": false
  }
 },
 "nbformat": 4,
 "nbformat_minor": 2
}
