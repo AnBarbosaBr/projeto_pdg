{
 "cells": [
  {
   "cell_type": "markdown",
   "metadata": {},
   "source": [
    "# Prep"
   ]
  },
  {
   "cell_type": "markdown",
   "metadata": {
    "ExecuteTime": {
     "end_time": "2020-01-06T11:10:55.839735Z",
     "start_time": "2020-01-06T11:10:55.827730Z"
    }
   },
   "source": [
    "## Imports"
   ]
  },
  {
   "cell_type": "code",
   "execution_count": 1,
   "metadata": {
    "ExecuteTime": {
     "end_time": "2020-01-06T12:46:06.912125Z",
     "start_time": "2020-01-06T12:46:01.912157Z"
    }
   },
   "outputs": [],
   "source": [
    "# Imports\n",
    "import pandas as pd;\n",
    "import numpy as np; \n",
    "import sklearn.model_selection;\n",
    "import sklearn.metrics;\n",
    "\n",
    "# OBS: Scikit-Learn\n",
    "# scikit-learn uses an optimised version of the CART algorithm; however, scikit-learn implementation does not support categorical variables for now.\n",
    "# https://scikit-learn.org/stable/modules/tree.html\n",
    "from sklearn.tree import DecisionTreeClassifier; # Tree\n",
    "\n",
    "\n",
    "\n",
    "# WARNING: This api is different from the SKLEARN \n",
    "import statsmodels.api as sm; # GLM\n",
    "\n",
    "\n",
    "# From Author\n",
    "from RBF import RBFClassifier\n",
    "from sklearn.linear_model import LogisticRegression\n",
    "# Auxiliar\n",
    "from collections import namedtuple\n"
   ]
  },
  {
   "cell_type": "markdown",
   "metadata": {},
   "source": [
    "## Parameters"
   ]
  },
  {
   "cell_type": "code",
   "execution_count": 2,
   "metadata": {
    "ExecuteTime": {
     "end_time": "2020-01-06T12:46:06.922127Z",
     "start_time": "2020-01-06T12:46:06.915131Z"
    }
   },
   "outputs": [],
   "source": [
    "SEED = 42\n",
    "TRAIN_SIZE = 0.7\n",
    "data_under_analysis = \"data/car_insurance_claim.csv\"\n",
    "\n",
    "independent_variables = list(range(1,25))\n",
    "dependent_variables = 25\n",
    "\n",
    "CV_SPLITS = 5\n",
    "\n",
    "GLM_TRESHOLD = 0.5"
   ]
  },
  {
   "cell_type": "markdown",
   "metadata": {},
   "source": [
    "## Auxiliar Functions"
   ]
  },
  {
   "cell_type": "code",
   "execution_count": 3,
   "metadata": {
    "ExecuteTime": {
     "end_time": "2020-01-06T12:46:06.948127Z",
     "start_time": "2020-01-06T12:46:06.928130Z"
    }
   },
   "outputs": [],
   "source": [
    "def score_results(y_real, y_predito, label):\n",
    "    \"\"\"Função personalizada que mostra os resultados de um classificador.\n",
    "\n",
    "    Arguments:\n",
    "        y_real -- O vetor com os dados esperados\n",
    "        y_predito -- O vetor com as predições\n",
    "        label -- Um título para essa análise, pode ser usado para facilitar a identificação do output.\"\"\"\n",
    "\n",
    "    matriz_de_confusao = sklearn.metrics.confusion_matrix(y_true = y_real, y_pred = y_predito)\n",
    "    tn, fp, fn, tp = matriz_de_confusao.ravel()\n",
    "    \n",
    "    Resultados = namedtuple(\"Resultados\", [\"balanced_accuracy\",\"precision\",\"recall\"])\n",
    "    \n",
    "    output = Resultados(balanced_accuracy = sklearn.metrics.balanced_accuracy_score(y_true = y_real, y_pred = y_predito),\n",
    "                       precision = tp/(tp+fp),\n",
    "                       recall    = tp/(tp+fn))\n",
    "\n",
    "    \n",
    "    print(f\"--- {label} ---\")\n",
    "    print(\"Matrix de Confusão\")\n",
    "    print(matriz_de_confusao)\n",
    "    print(\"Acurácia Balanceada: \", end=\" \")\n",
    "    print(f\"{100*output.balanced_accuracy :.2f} % \")\n",
    "    print(f\"Falsos Positivos: {fp}, Falsos Negativos: {fn}\\n\"+\n",
    "        f\"Verdadeiros Positivos: {tp}, Verdadeiros Negativos: {tn}\")\n",
    "    print(f\"Precisao (tp/(tp+fp)): {100* output.precision :.2f}%\")\n",
    "    print(f\"Recall (tp/(tp+fn)): {100* output.recall :.2f}  %\")\n",
    "\n",
    "    print(\"-\"*80)\n",
    "    return output\n"
   ]
  },
  {
   "cell_type": "markdown",
   "metadata": {},
   "source": [
    "## Loading Dataset"
   ]
  },
  {
   "cell_type": "code",
   "execution_count": 4,
   "metadata": {
    "ExecuteTime": {
     "end_time": "2020-01-06T12:46:07.030135Z",
     "start_time": "2020-01-06T12:46:06.952128Z"
    }
   },
   "outputs": [],
   "source": [
    "data = pd.read_csv(data_under_analysis)\n"
   ]
  },
  {
   "cell_type": "code",
   "execution_count": 5,
   "metadata": {
    "ExecuteTime": {
     "end_time": "2020-01-06T12:46:07.161128Z",
     "start_time": "2020-01-06T12:46:07.033134Z"
    }
   },
   "outputs": [
    {
     "name": "stdout",
     "output_type": "stream",
     "text": [
      "10302 linhas e 27 colunas\n",
      "             0\n",
      "0           ID\n",
      "1     KIDSDRIV\n",
      "2        BIRTH\n",
      "3          AGE\n",
      "4     HOMEKIDS\n",
      "5          YOJ\n",
      "6       INCOME\n",
      "7      PARENT1\n",
      "8     HOME_VAL\n",
      "9      MSTATUS\n",
      "10      GENDER\n",
      "11   EDUCATION\n",
      "12  OCCUPATION\n",
      "13    TRAVTIME\n",
      "14     CAR_USE\n",
      "15    BLUEBOOK\n",
      "16         TIF\n",
      "17    CAR_TYPE\n",
      "18     RED_CAR\n",
      "19    OLDCLAIM\n",
      "20    CLM_FREQ\n",
      "21     REVOKED\n",
      "22     MVR_PTS\n",
      "23     CLM_AMT\n",
      "24     CAR_AGE\n",
      "25  CLAIM_FLAG\n",
      "26  URBANICITY\n",
      "                 ID      KIDSDRIV           AGE      HOMEKIDS          YOJ  \\\n",
      "count  1.030200e+04  10302.000000  10295.000000  10302.000000  9754.000000   \n",
      "mean   4.956631e+08      0.169288     44.837397      0.720443    10.474062   \n",
      "std    2.864675e+08      0.506512      8.606445      1.116323     4.108943   \n",
      "min    6.317500e+04      0.000000     16.000000      0.000000     0.000000   \n",
      "25%    2.442869e+08      0.000000     39.000000      0.000000     9.000000   \n",
      "50%    4.970043e+08      0.000000     45.000000      0.000000    11.000000   \n",
      "75%    7.394551e+08      0.000000     51.000000      1.000000    13.000000   \n",
      "max    9.999264e+08      4.000000     81.000000      5.000000    23.000000   \n",
      "\n",
      "           TRAVTIME           TIF      CLM_FREQ       MVR_PTS      CAR_AGE  \\\n",
      "count  10302.000000  10302.000000  10302.000000  10302.000000  9663.000000   \n",
      "mean      33.416424      5.329159      0.800718      1.710153     8.298148   \n",
      "std       15.869687      4.110795      1.154079      2.159015     5.714450   \n",
      "min        5.000000      1.000000      0.000000      0.000000    -3.000000   \n",
      "25%       22.000000      1.000000      0.000000      0.000000     1.000000   \n",
      "50%       33.000000      4.000000      0.000000      1.000000     8.000000   \n",
      "75%       44.000000      7.000000      2.000000      3.000000    12.000000   \n",
      "max      142.000000     25.000000      5.000000     13.000000    28.000000   \n",
      "\n",
      "         CLAIM_FLAG  \n",
      "count  10302.000000  \n",
      "mean       0.266550  \n",
      "std        0.442177  \n",
      "min        0.000000  \n",
      "25%        0.000000  \n",
      "50%        0.000000  \n",
      "75%        1.000000  \n",
      "max        1.000000  \n",
      "11\n"
     ]
    }
   ],
   "source": [
    "# Linhas / Colunas\n",
    "print(f\"{data.shape[0]} linhas e {data.shape[1]} colunas\")\n",
    "print(pd.DataFrame(data.columns))\n",
    "print(data.describe())\n",
    "print(data.describe().shape[1]) # Colunas Númericas\n"
   ]
  },
  {
   "cell_type": "markdown",
   "metadata": {
    "ExecuteTime": {
     "end_time": "2020-01-06T11:31:52.356164Z",
     "start_time": "2020-01-06T11:31:52.350164Z"
    }
   },
   "source": [
    "## Separating Data"
   ]
  },
  {
   "cell_type": "markdown",
   "metadata": {
    "ExecuteTime": {
     "end_time": "2020-01-06T11:41:13.836364Z",
     "start_time": "2020-01-06T11:41:13.833365Z"
    }
   },
   "source": [
    "### X e y"
   ]
  },
  {
   "cell_type": "code",
   "execution_count": 6,
   "metadata": {
    "ExecuteTime": {
     "end_time": "2020-01-06T12:46:07.175127Z",
     "start_time": "2020-01-06T12:46:07.164131Z"
    }
   },
   "outputs": [],
   "source": [
    "X_all = data.iloc[ : , independent_variables]\n",
    "y_all = data.iloc[ : ,  dependent_variables ]"
   ]
  },
  {
   "cell_type": "markdown",
   "metadata": {},
   "source": [
    "### Test and Validation"
   ]
  },
  {
   "cell_type": "code",
   "execution_count": 7,
   "metadata": {
    "ExecuteTime": {
     "end_time": "2020-01-06T12:46:07.202125Z",
     "start_time": "2020-01-06T12:46:07.178128Z"
    }
   },
   "outputs": [],
   "source": [
    "X_train, X_test, y_train, y_test = sklearn.model_selection.train_test_split(X_all, y_all, train_size = TRAIN_SIZE, random_state = SEED, stratify = y_all )"
   ]
  },
  {
   "cell_type": "code",
   "execution_count": 8,
   "metadata": {
    "ExecuteTime": {
     "end_time": "2020-01-06T12:46:07.210128Z",
     "start_time": "2020-01-06T12:46:07.206126Z"
    }
   },
   "outputs": [],
   "source": [
    "# Creating k_folder\n",
    "stratified_k_fold = sklearn.model_selection.StratifiedKFold(n_splits = CV_SPLITS, random_state = SEED )"
   ]
  },
  {
   "cell_type": "markdown",
   "metadata": {
    "ExecuteTime": {
     "end_time": "2020-01-06T11:49:34.114029Z",
     "start_time": "2020-01-06T11:49:34.110036Z"
    }
   },
   "source": [
    "# Data Editing"
   ]
  },
  {
   "cell_type": "markdown",
   "metadata": {},
   "source": [
    "A implementação de árvore do Sklearn só aceita variáveis numéricas. \n",
    "\n",
    "Nessa primeira etapa vamos considerar apenas elas, mas podemos tratar as variáveis categóricas no futuro."
   ]
  },
  {
   "cell_type": "code",
   "execution_count": 9,
   "metadata": {
    "ExecuteTime": {
     "end_time": "2020-01-06T12:46:07.227131Z",
     "start_time": "2020-01-06T12:46:07.213131Z"
    }
   },
   "outputs": [
    {
     "name": "stdout",
     "output_type": "stream",
     "text": [
      "Selecionando apenas variáveis numéricas.\n",
      "Formato de X de (7211, 24) para (7211, 9)\n",
      "Redução de 15 variáveis.\n"
     ]
    }
   ],
   "source": [
    "numerical_X = X_train._get_numeric_data()\n",
    "print(f\"Selecionando apenas variáveis numéricas.\\nFormato de X de {X_train.shape} para {numerical_X.shape}\")\n",
    "print(f\"Redução de {X_train.shape[1] - numerical_X.shape[1]} variáveis.\")"
   ]
  },
  {
   "cell_type": "code",
   "execution_count": 10,
   "metadata": {
    "ExecuteTime": {
     "end_time": "2020-01-06T12:46:07.249126Z",
     "start_time": "2020-01-06T12:46:07.230128Z"
    }
   },
   "outputs": [],
   "source": [
    "# Removing nulls\n",
    "numerical_X.fillna(numerical_X.mean(), inplace=True)    "
   ]
  },
  {
   "cell_type": "markdown",
   "metadata": {
    "ExecuteTime": {
     "end_time": "2020-01-06T11:57:29.839299Z",
     "start_time": "2020-01-06T11:57:29.836295Z"
    }
   },
   "source": [
    "# Analysis Code"
   ]
  },
  {
   "cell_type": "markdown",
   "metadata": {
    "ExecuteTime": {
     "end_time": "2020-01-06T11:52:19.258953Z",
     "start_time": "2020-01-06T11:52:19.255951Z"
    }
   },
   "source": [
    "## Decision Tree"
   ]
  },
  {
   "cell_type": "code",
   "execution_count": 11,
   "metadata": {
    "ExecuteTime": {
     "end_time": "2020-01-06T12:46:07.255132Z",
     "start_time": "2020-01-06T12:46:07.251126Z"
    }
   },
   "outputs": [],
   "source": [
    "cartTree = DecisionTreeClassifier()"
   ]
  },
  {
   "cell_type": "code",
   "execution_count": 12,
   "metadata": {
    "ExecuteTime": {
     "end_time": "2020-01-06T12:46:07.268126Z",
     "start_time": "2020-01-06T12:46:07.258125Z"
    }
   },
   "outputs": [],
   "source": [
    "pastas = stratified_k_fold.split(numerical_X, y_train)"
   ]
  },
  {
   "cell_type": "code",
   "execution_count": 13,
   "metadata": {
    "ExecuteTime": {
     "end_time": "2020-01-06T12:46:07.593128Z",
     "start_time": "2020-01-06T12:46:07.271128Z"
    }
   },
   "outputs": [
    {
     "name": "stdout",
     "output_type": "stream",
     "text": [
      "--------------------------------------------------------------------------------\n",
      "K Fold - Rodada 0\n",
      "\n",
      "Fitting Tree\n",
      "--------------------------------------------------\n",
      "--- CART Tree - Treinamento ---\n",
      "Matrix de Confusão\n",
      "[[4231    0]\n",
      " [   2 1535]]\n",
      "Acurácia Balanceada:  99.93 % \n",
      "Falsos Positivos: 0, Falsos Negativos: 2\n",
      "Verdadeiros Positivos: 1535, Verdadeiros Negativos: 4231\n",
      "Precisao (tp/(tp+fp)): 100.00%\n",
      "Recall (tp/(tp+fn)): 99.87  %\n",
      "--------------------------------------------------------------------------------\n",
      "--- CART Tree - Teste ---\n",
      "Matrix de Confusão\n",
      "[[787 271]\n",
      " [246 139]]\n",
      "Acurácia Balanceada:  55.24 % \n",
      "Falsos Positivos: 271, Falsos Negativos: 246\n",
      "Verdadeiros Positivos: 139, Verdadeiros Negativos: 787\n",
      "Precisao (tp/(tp+fp)): 33.90%\n",
      "Recall (tp/(tp+fn)): 36.10  %\n",
      "--------------------------------------------------------------------------------\n",
      "--------------------------------------------------------------------------------\n",
      "K Fold - Rodada 1\n",
      "\n",
      "Fitting Tree\n",
      "--------------------------------------------------\n",
      "--- CART Tree - Treinamento ---\n",
      "Matrix de Confusão\n",
      "[[4231    0]\n",
      " [   0 1537]]\n",
      "Acurácia Balanceada:  100.00 % \n",
      "Falsos Positivos: 0, Falsos Negativos: 0\n",
      "Verdadeiros Positivos: 1537, Verdadeiros Negativos: 4231\n",
      "Precisao (tp/(tp+fp)): 100.00%\n",
      "Recall (tp/(tp+fn)): 100.00  %\n",
      "--------------------------------------------------------------------------------\n",
      "--- CART Tree - Teste ---\n",
      "Matrix de Confusão\n",
      "[[787 271]\n",
      " [241 144]]\n",
      "Acurácia Balanceada:  55.89 % \n",
      "Falsos Positivos: 271, Falsos Negativos: 241\n",
      "Verdadeiros Positivos: 144, Verdadeiros Negativos: 787\n",
      "Precisao (tp/(tp+fp)): 34.70%\n",
      "Recall (tp/(tp+fn)): 37.40  %\n",
      "--------------------------------------------------------------------------------\n",
      "--------------------------------------------------------------------------------\n",
      "K Fold - Rodada 2\n",
      "\n",
      "Fitting Tree\n",
      "--------------------------------------------------\n",
      "--- CART Tree - Treinamento ---\n",
      "Matrix de Confusão\n",
      "[[4231    0]\n",
      " [   1 1537]]\n",
      "Acurácia Balanceada:  99.97 % \n",
      "Falsos Positivos: 0, Falsos Negativos: 1\n",
      "Verdadeiros Positivos: 1537, Verdadeiros Negativos: 4231\n",
      "Precisao (tp/(tp+fp)): 100.00%\n",
      "Recall (tp/(tp+fn)): 99.93  %\n",
      "--------------------------------------------------------------------------------\n",
      "--- CART Tree - Teste ---\n",
      "Matrix de Confusão\n",
      "[[795 263]\n",
      " [229 155]]\n",
      "Acurácia Balanceada:  57.75 % \n",
      "Falsos Positivos: 263, Falsos Negativos: 229\n",
      "Verdadeiros Positivos: 155, Verdadeiros Negativos: 795\n",
      "Precisao (tp/(tp+fp)): 37.08%\n",
      "Recall (tp/(tp+fn)): 40.36  %\n",
      "--------------------------------------------------------------------------------\n",
      "--------------------------------------------------------------------------------\n",
      "K Fold - Rodada 3\n",
      "\n",
      "Fitting Tree\n",
      "--------------------------------------------------\n",
      "--- CART Tree - Treinamento ---\n",
      "Matrix de Confusão\n",
      "[[4231    0]\n",
      " [   2 1536]]\n",
      "Acurácia Balanceada:  99.93 % \n",
      "Falsos Positivos: 0, Falsos Negativos: 2\n",
      "Verdadeiros Positivos: 1536, Verdadeiros Negativos: 4231\n",
      "Precisao (tp/(tp+fp)): 100.00%\n",
      "Recall (tp/(tp+fn)): 99.87  %\n",
      "--------------------------------------------------------------------------------\n",
      "--- CART Tree - Teste ---\n",
      "Matrix de Confusão\n",
      "[[797 261]\n",
      " [233 151]]\n",
      "Acurácia Balanceada:  57.33 % \n",
      "Falsos Positivos: 261, Falsos Negativos: 233\n",
      "Verdadeiros Positivos: 151, Verdadeiros Negativos: 797\n",
      "Precisao (tp/(tp+fp)): 36.65%\n",
      "Recall (tp/(tp+fn)): 39.32  %\n",
      "--------------------------------------------------------------------------------\n",
      "--------------------------------------------------------------------------------\n",
      "K Fold - Rodada 4\n",
      "\n",
      "Fitting Tree\n",
      "--------------------------------------------------\n",
      "--- CART Tree - Treinamento ---\n",
      "Matrix de Confusão\n",
      "[[4232    0]\n",
      " [   1 1537]]\n",
      "Acurácia Balanceada:  99.97 % \n",
      "Falsos Positivos: 0, Falsos Negativos: 1\n",
      "Verdadeiros Positivos: 1537, Verdadeiros Negativos: 4232\n",
      "Precisao (tp/(tp+fp)): 100.00%\n",
      "Recall (tp/(tp+fn)): 99.93  %\n",
      "--------------------------------------------------------------------------------\n",
      "--- CART Tree - Teste ---\n",
      "Matrix de Confusão\n",
      "[[814 243]\n",
      " [246 138]]\n",
      "Acurácia Balanceada:  56.47 % \n",
      "Falsos Positivos: 243, Falsos Negativos: 246\n",
      "Verdadeiros Positivos: 138, Verdadeiros Negativos: 814\n",
      "Precisao (tp/(tp+fp)): 36.22%\n",
      "Recall (tp/(tp+fn)): 35.94  %\n",
      "--------------------------------------------------------------------------------\n"
     ]
    }
   ],
   "source": [
    "tree_train_results = list()\n",
    "tree_test_results = list()\n",
    "for i, (train_index, test_index) in enumerate(pastas):\n",
    "    print(\"-\"*80)\n",
    "    print(f\"K Fold - Rodada {i}\\n\")\n",
    "    \n",
    "    X_train_cv = numerical_X.iloc[train_index, : ]\n",
    "    y_train_cv = y_train.iloc[train_index]\n",
    "    \n",
    "    X_test_cv = numerical_X.iloc[test_index, : ]\n",
    "    y_test_cv = y_train.iloc[test_index]\n",
    "    \n",
    "    print(\"Fitting Tree\")\n",
    "    cartTree.fit(X_train_cv, y_train_cv)\n",
    "    print(\"-\"*50)\n",
    "    \n",
    "    predicted_train = cartTree.predict(X_train_cv)\n",
    "    tree_train_results.append(score_results(y_train_cv, predicted_train, \"CART Tree - Treinamento\"))\n",
    "        \n",
    "    predicted_test = cartTree.predict(X_test_cv)\n",
    "    tree_test_results.append(score_results(y_test_cv, predicted_test, \"CART Tree - Teste\"))"
   ]
  },
  {
   "cell_type": "code",
   "execution_count": 14,
   "metadata": {
    "ExecuteTime": {
     "end_time": "2020-01-06T12:46:07.609126Z",
     "start_time": "2020-01-06T12:46:07.596127Z"
    }
   },
   "outputs": [
    {
     "name": "stdout",
     "output_type": "stream",
     "text": [
      "Test Balanced Accuraty: 99.96% \n",
      "Train Balanced Accuraty: 56.54% \n",
      "\n",
      "Test Precision: 100.00% \n",
      "Train Precision: 35.71% \n",
      "\n",
      "Test Recall: 99.92% \n",
      "Train Recall: 37.83% \n"
     ]
    }
   ],
   "source": [
    "print(\"Train Balanced Accuraty: {:.2f}% \".format(100*np.mean([result.balanced_accuracy for result in tree_train_results])))\n",
    "print(\"Test Balanced Accuraty: {:.2f}% \".format(100*np.mean([result.balanced_accuracy for result in tree_test_results])))\n",
    "print(\"\")\n",
    "print(\"Train Precision: {:.2f}% \".format(100*np.mean([result.precision for result in tree_train_results])))\n",
    "print(\"Test Precision: {:.2f}% \".format(100*np.mean([result.precision for result in tree_test_results])))\n",
    "print(\"\")\n",
    "print(\"Train Recall: {:.2f}% \".format(100*np.mean([result.recall for result in tree_train_results])))\n",
    "print(\"Test Recall: {:.2f}% \".format(100*np.mean([result.recall for result in tree_test_results])))"
   ]
  },
  {
   "cell_type": "markdown",
   "metadata": {},
   "source": [
    "## GLM\n"
   ]
  },
  {
   "cell_type": "code",
   "execution_count": 15,
   "metadata": {
    "ExecuteTime": {
     "end_time": "2020-01-06T12:46:07.627129Z",
     "start_time": "2020-01-06T12:46:07.612126Z"
    }
   },
   "outputs": [],
   "source": [
    "pastas = stratified_k_fold.split(numerical_X, y_train)"
   ]
  },
  {
   "cell_type": "code",
   "execution_count": 16,
   "metadata": {
    "ExecuteTime": {
     "end_time": "2020-01-06T12:46:08.244126Z",
     "start_time": "2020-01-06T12:46:07.631125Z"
    }
   },
   "outputs": [
    {
     "name": "stdout",
     "output_type": "stream",
     "text": [
      "--------------------------------------------------------------------------------\n",
      "K Fold - Rodada 0\n",
      "\n",
      "Creating GLM\n",
      "Fitting GLM\n",
      "                 Generalized Linear Model Regression Results                  \n",
      "==============================================================================\n",
      "Dep. Variable:             CLAIM_FLAG   No. Observations:                 5768\n",
      "Model:                            GLM   Df Residuals:                     5759\n",
      "Model Family:                Binomial   Df Model:                            8\n",
      "Link Function:                  logit   Scale:                          1.0000\n",
      "Method:                          IRLS   Log-Likelihood:                -3055.6\n",
      "Date:                Mon, 06 Jan 2020   Deviance:                       6111.1\n",
      "Time:                        09:46:07   Pearson chi2:                 5.72e+03\n",
      "No. Iterations:                     4                                         \n",
      "Covariance Type:            nonrobust                                         \n",
      "==============================================================================\n",
      "                 coef    std err          z      P>|z|      [0.025      0.975]\n",
      "------------------------------------------------------------------------------\n",
      "KIDSDRIV       0.3330      0.064      5.181      0.000       0.207       0.459\n",
      "AGE           -0.0207      0.002     -8.455      0.000      -0.025      -0.016\n",
      "HOMEKIDS       0.0592      0.031      1.927      0.054      -0.001       0.119\n",
      "YOJ           -0.0324      0.008     -4.292      0.000      -0.047      -0.018\n",
      "TRAVTIME       0.0052      0.002      2.724      0.006       0.001       0.009\n",
      "TIF           -0.0485      0.008     -6.138      0.000      -0.064      -0.033\n",
      "CLM_FREQ       0.3187      0.028     11.574      0.000       0.265       0.373\n",
      "MVR_PTS        0.1259      0.015      8.596      0.000       0.097       0.155\n",
      "CAR_AGE       -0.0395      0.006     -6.664      0.000      -0.051      -0.028\n",
      "==============================================================================\n",
      "--------------------------------------------------\n",
      "--- GLM - Treinamento ---\n",
      "Matrix de Confusão\n",
      "[[4015  216]\n",
      " [1268  269]]\n",
      "Acurácia Balanceada:  56.20 % \n",
      "Falsos Positivos: 216, Falsos Negativos: 1268\n",
      "Verdadeiros Positivos: 269, Verdadeiros Negativos: 4015\n",
      "Precisao (tp/(tp+fp)): 55.46%\n",
      "Recall (tp/(tp+fn)): 17.50  %\n",
      "--------------------------------------------------------------------------------\n",
      "--- GLM - Teste ---\n",
      "Matrix de Confusão\n",
      "[[999  59]\n",
      " [320  65]]\n",
      "Acurácia Balanceada:  55.65 % \n",
      "Falsos Positivos: 59, Falsos Negativos: 320\n",
      "Verdadeiros Positivos: 65, Verdadeiros Negativos: 999\n",
      "Precisao (tp/(tp+fp)): 52.42%\n",
      "Recall (tp/(tp+fn)): 16.88  %\n",
      "--------------------------------------------------------------------------------\n",
      "--------------------------------------------------------------------------------\n",
      "K Fold - Rodada 1\n",
      "\n",
      "Creating GLM\n",
      "Fitting GLM\n",
      "                 Generalized Linear Model Regression Results                  \n",
      "==============================================================================\n",
      "Dep. Variable:             CLAIM_FLAG   No. Observations:                 5768\n",
      "Model:                            GLM   Df Residuals:                     5759\n",
      "Model Family:                Binomial   Df Model:                            8\n",
      "Link Function:                  logit   Scale:                          1.0000\n",
      "Method:                          IRLS   Log-Likelihood:                -3059.1\n",
      "Date:                Mon, 06 Jan 2020   Deviance:                       6118.3\n",
      "Time:                        09:46:07   Pearson chi2:                 5.73e+03\n",
      "No. Iterations:                     4                                         \n",
      "Covariance Type:            nonrobust                                         \n",
      "==============================================================================\n",
      "                 coef    std err          z      P>|z|      [0.025      0.975]\n",
      "------------------------------------------------------------------------------\n",
      "KIDSDRIV       0.3543      0.063      5.624      0.000       0.231       0.478\n",
      "AGE           -0.0221      0.002     -9.089      0.000      -0.027      -0.017\n",
      "HOMEKIDS       0.0499      0.031      1.633      0.103      -0.010       0.110\n",
      "YOJ           -0.0277      0.007     -3.699      0.000      -0.042      -0.013\n",
      "TRAVTIME       0.0039      0.002      2.068      0.039       0.000       0.008\n",
      "TIF           -0.0495      0.008     -6.246      0.000      -0.065      -0.034\n",
      "CLM_FREQ       0.3181      0.028     11.524      0.000       0.264       0.372\n",
      "MVR_PTS        0.1291      0.015      8.783      0.000       0.100       0.158\n",
      "CAR_AGE       -0.0328      0.006     -5.547      0.000      -0.044      -0.021\n",
      "==============================================================================\n",
      "--------------------------------------------------\n",
      "--- GLM - Treinamento ---\n",
      "Matrix de Confusão\n",
      "[[4022  209]\n",
      " [1267  270]]\n",
      "Acurácia Balanceada:  56.31 % \n",
      "Falsos Positivos: 209, Falsos Negativos: 1267\n",
      "Verdadeiros Positivos: 270, Verdadeiros Negativos: 4022\n",
      "Precisao (tp/(tp+fp)): 56.37%\n",
      "Recall (tp/(tp+fn)): 17.57  %\n",
      "--------------------------------------------------------------------------------\n",
      "--- GLM - Teste ---\n",
      "Matrix de Confusão\n",
      "[[1001   57]\n",
      " [ 324   61]]\n",
      "Acurácia Balanceada:  55.23 % \n",
      "Falsos Positivos: 57, Falsos Negativos: 324\n",
      "Verdadeiros Positivos: 61, Verdadeiros Negativos: 1001\n",
      "Precisao (tp/(tp+fp)): 51.69%\n",
      "Recall (tp/(tp+fn)): 15.84  %\n",
      "--------------------------------------------------------------------------------\n",
      "--------------------------------------------------------------------------------\n",
      "K Fold - Rodada 2\n",
      "\n",
      "Creating GLM\n",
      "Fitting GLM\n",
      "                 Generalized Linear Model Regression Results                  \n",
      "==============================================================================\n",
      "Dep. Variable:             CLAIM_FLAG   No. Observations:                 5769\n",
      "Model:                            GLM   Df Residuals:                     5760\n",
      "Model Family:                Binomial   Df Model:                            8\n",
      "Link Function:                  logit   Scale:                          1.0000\n",
      "Method:                          IRLS   Log-Likelihood:                -3049.1\n",
      "Date:                Mon, 06 Jan 2020   Deviance:                       6098.2\n",
      "Time:                        09:46:07   Pearson chi2:                 5.72e+03\n",
      "No. Iterations:                     4                                         \n",
      "Covariance Type:            nonrobust                                         \n",
      "==============================================================================\n",
      "                 coef    std err          z      P>|z|      [0.025      0.975]\n",
      "------------------------------------------------------------------------------\n",
      "KIDSDRIV       0.3231      0.064      5.010      0.000       0.197       0.450\n",
      "AGE           -0.0241      0.002     -9.743      0.000      -0.029      -0.019\n",
      "HOMEKIDS       0.0635      0.031      2.076      0.038       0.004       0.124\n",
      "YOJ           -0.0227      0.008     -2.953      0.003      -0.038      -0.008\n",
      "TRAVTIME       0.0052      0.002      2.727      0.006       0.001       0.009\n",
      "TIF           -0.0524      0.008     -6.524      0.000      -0.068      -0.037\n",
      "CLM_FREQ       0.3257      0.027     11.885      0.000       0.272       0.379\n",
      "MVR_PTS        0.1342      0.015      9.238      0.000       0.106       0.163\n",
      "CAR_AGE       -0.0340      0.006     -5.729      0.000      -0.046      -0.022\n",
      "==============================================================================\n",
      "--------------------------------------------------\n",
      "--- GLM - Treinamento ---\n",
      "Matrix de Confusão\n",
      "[[3994  237]\n",
      " [1262  276]]\n",
      "Acurácia Balanceada:  56.17 % \n",
      "Falsos Positivos: 237, Falsos Negativos: 1262\n",
      "Verdadeiros Positivos: 276, Verdadeiros Negativos: 3994\n",
      "Precisao (tp/(tp+fp)): 53.80%\n",
      "Recall (tp/(tp+fn)): 17.95  %\n",
      "--------------------------------------------------------------------------------\n",
      "--- GLM - Teste ---\n",
      "Matrix de Confusão\n",
      "[[1001   57]\n",
      " [ 310   74]]\n",
      "Acurácia Balanceada:  56.94 % \n",
      "Falsos Positivos: 57, Falsos Negativos: 310\n",
      "Verdadeiros Positivos: 74, Verdadeiros Negativos: 1001\n",
      "Precisao (tp/(tp+fp)): 56.49%\n",
      "Recall (tp/(tp+fn)): 19.27  %\n",
      "--------------------------------------------------------------------------------\n",
      "--------------------------------------------------------------------------------\n",
      "K Fold - Rodada 3\n",
      "\n",
      "Creating GLM\n",
      "Fitting GLM\n",
      "                 Generalized Linear Model Regression Results                  \n",
      "==============================================================================\n",
      "Dep. Variable:             CLAIM_FLAG   No. Observations:                 5769\n",
      "Model:                            GLM   Df Residuals:                     5760\n",
      "Model Family:                Binomial   Df Model:                            8\n",
      "Link Function:                  logit   Scale:                          1.0000\n",
      "Method:                          IRLS   Log-Likelihood:                -3082.6\n",
      "Date:                Mon, 06 Jan 2020   Deviance:                       6165.1\n",
      "Time:                        09:46:08   Pearson chi2:                 5.72e+03\n",
      "No. Iterations:                     4                                         \n",
      "Covariance Type:            nonrobust                                         \n",
      "==============================================================================\n",
      "                 coef    std err          z      P>|z|      [0.025      0.975]\n",
      "------------------------------------------------------------------------------\n",
      "KIDSDRIV       0.2436      0.064      3.833      0.000       0.119       0.368\n",
      "AGE           -0.0214      0.002     -8.767      0.000      -0.026      -0.017\n",
      "HOMEKIDS       0.0746      0.030      2.448      0.014       0.015       0.134\n",
      "YOJ           -0.0306      0.008     -4.075      0.000      -0.045      -0.016\n",
      "TRAVTIME       0.0050      0.002      2.679      0.007       0.001       0.009\n",
      "TIF           -0.0544      0.008     -6.886      0.000      -0.070      -0.039\n",
      "CLM_FREQ       0.2834      0.028     10.262      0.000       0.229       0.338\n",
      "MVR_PTS        0.1341      0.014      9.273      0.000       0.106       0.162\n",
      "CAR_AGE       -0.0310      0.006     -5.238      0.000      -0.043      -0.019\n"
     ]
    },
    {
     "name": "stdout",
     "output_type": "stream",
     "text": [
      "==============================================================================\n",
      "--------------------------------------------------\n",
      "--- GLM - Treinamento ---\n",
      "Matrix de Confusão\n",
      "[[4027  204]\n",
      " [1294  244]]\n",
      "Acurácia Balanceada:  55.52 % \n",
      "Falsos Positivos: 204, Falsos Negativos: 1294\n",
      "Verdadeiros Positivos: 244, Verdadeiros Negativos: 4027\n",
      "Precisao (tp/(tp+fp)): 54.46%\n",
      "Recall (tp/(tp+fn)): 15.86  %\n",
      "--------------------------------------------------------------------------------\n",
      "--- GLM - Teste ---\n",
      "Matrix de Confusão\n",
      "[[1024   34]\n",
      " [ 322   62]]\n",
      "Acurácia Balanceada:  56.47 % \n",
      "Falsos Positivos: 34, Falsos Negativos: 322\n",
      "Verdadeiros Positivos: 62, Verdadeiros Negativos: 1024\n",
      "Precisao (tp/(tp+fp)): 64.58%\n",
      "Recall (tp/(tp+fn)): 16.15  %\n",
      "--------------------------------------------------------------------------------\n",
      "--------------------------------------------------------------------------------\n",
      "K Fold - Rodada 4\n",
      "\n",
      "Creating GLM\n",
      "Fitting GLM\n",
      "                 Generalized Linear Model Regression Results                  \n",
      "==============================================================================\n",
      "Dep. Variable:             CLAIM_FLAG   No. Observations:                 5770\n",
      "Model:                            GLM   Df Residuals:                     5761\n",
      "Model Family:                Binomial   Df Model:                            8\n",
      "Link Function:                  logit   Scale:                          1.0000\n",
      "Method:                          IRLS   Log-Likelihood:                -3059.9\n",
      "Date:                Mon, 06 Jan 2020   Deviance:                       6119.9\n",
      "Time:                        09:46:08   Pearson chi2:                 5.73e+03\n",
      "No. Iterations:                     4                                         \n",
      "Covariance Type:            nonrobust                                         \n",
      "==============================================================================\n",
      "                 coef    std err          z      P>|z|      [0.025      0.975]\n",
      "------------------------------------------------------------------------------\n",
      "KIDSDRIV       0.3825      0.064      5.978      0.000       0.257       0.508\n",
      "AGE           -0.0217      0.002     -8.851      0.000      -0.027      -0.017\n",
      "HOMEKIDS       0.0477      0.031      1.542      0.123      -0.013       0.108\n",
      "YOJ           -0.0304      0.008     -4.022      0.000      -0.045      -0.016\n",
      "TRAVTIME       0.0055      0.002      2.919      0.004       0.002       0.009\n",
      "TIF           -0.0525      0.008     -6.646      0.000      -0.068      -0.037\n",
      "CLM_FREQ       0.3096      0.027     11.281      0.000       0.256       0.363\n",
      "MVR_PTS        0.1282      0.015      8.755      0.000       0.100       0.157\n",
      "CAR_AGE       -0.0352      0.006     -5.890      0.000      -0.047      -0.023\n",
      "==============================================================================\n",
      "--------------------------------------------------\n",
      "--- GLM - Treinamento ---\n",
      "Matrix de Confusão\n",
      "[[4023  209]\n",
      " [1266  272]]\n",
      "Acurácia Balanceada:  56.37 % \n",
      "Falsos Positivos: 209, Falsos Negativos: 1266\n",
      "Verdadeiros Positivos: 272, Verdadeiros Negativos: 4023\n",
      "Precisao (tp/(tp+fp)): 56.55%\n",
      "Recall (tp/(tp+fn)): 17.69  %\n",
      "--------------------------------------------------------------------------------\n",
      "--- GLM - Teste ---\n",
      "Matrix de Confusão\n",
      "[[991  66]\n",
      " [314  70]]\n",
      "Acurácia Balanceada:  55.99 % \n",
      "Falsos Positivos: 66, Falsos Negativos: 314\n",
      "Verdadeiros Positivos: 70, Verdadeiros Negativos: 991\n",
      "Precisao (tp/(tp+fp)): 51.47%\n",
      "Recall (tp/(tp+fn)): 18.23  %\n",
      "--------------------------------------------------------------------------------\n"
     ]
    }
   ],
   "source": [
    "glm_train_results = list()\n",
    "glm_test_results = list()\n",
    "for i, (train_index, test_index) in enumerate(pastas):\n",
    "    print(\"-\"*80)\n",
    "    print(f\"K Fold - Rodada {i}\\n\")\n",
    "    \n",
    "    X_train_cv = numerical_X.iloc[train_index, : ]\n",
    "    y_train_cv = y_train.iloc[train_index]\n",
    "    \n",
    "    X_test_cv = numerical_X.iloc[test_index, : ]\n",
    "    y_test_cv = y_train.iloc[test_index]\n",
    "    \n",
    "    print(\"Creating GLM\")\n",
    "    glm = sm.GLM(exog = X_train_cv, endog = y_train_cv, family = sm.families.Binomial())\n",
    "    \n",
    "    print(\"Fitting GLM\")\n",
    "    predictor_glm = glm.fit()\n",
    "    print(predictor_glm.summary())\n",
    "    print(\"-\"*50)\n",
    "    \n",
    "    \n",
    "    predicted_train_probs = predictor_glm.predict(X_train_cv)\n",
    "    \n",
    "    predicted_train = (predicted_train_probs > GLM_TRESHOLD)\n",
    "    glm_train_results.append(score_results(y_train_cv, predicted_train, \"GLM - Treinamento\"))\n",
    "        \n",
    "    predicted_test_probs = predictor_glm.predict(X_test_cv)\n",
    "    predicted_test =  (predicted_test_probs > GLM_TRESHOLD )\n",
    "    glm_test_results.append(score_results(y_test_cv, predicted_test, \"GLM - Teste\"))"
   ]
  },
  {
   "cell_type": "code",
   "execution_count": 18,
   "metadata": {
    "ExecuteTime": {
     "end_time": "2020-01-06T12:46:24.037408Z",
     "start_time": "2020-01-06T12:46:24.026416Z"
    }
   },
   "outputs": [
    {
     "name": "stdout",
     "output_type": "stream",
     "text": [
      "Test Balanced Accuraty: 56.12% \n",
      "Train Balanced Accuraty: 56.06% \n",
      "\n",
      "Test Precision: 55.33% \n",
      "Train Precision: 55.33% \n",
      "\n",
      "Test Recall: 17.31% \n",
      "Train Recall: 17.27% \n"
     ]
    }
   ],
   "source": [
    "print(\"Train Balanced Accuraty: {:.2f}% \".format(100*np.mean([result.balanced_accuracy for result in glm_train_results])))\n",
    "print(\"Test Balanced Accuraty: {:.2f}% \".format(100*np.mean([result.balanced_accuracy for result in glm_test_results])))\n",
    "print(\"\")\n",
    "print(\"Train Precision: {:.2f}% \".format(100*np.mean([result.precision for result in glm_train_results])))\n",
    "print(\"Test Precision: {:.2f}% \".format(100*np.mean([result.precision for result in glm_test_results])))\n",
    "print(\"\")\n",
    "print(\"Train Recall: {:.2f}% \".format(100*np.mean([result.recall for result in glm_train_results])))\n",
    "print(\"Test Recall: {:.2f}% \".format(100*np.mean([result.recall for result in glm_test_results])))"
   ]
  },
  {
   "cell_type": "markdown",
   "metadata": {
    "ExecuteTime": {
     "end_time": "2020-01-06T12:35:17.189393Z",
     "start_time": "2020-01-06T12:35:17.182393Z"
    }
   },
   "source": [
    "## RBF"
   ]
  },
  {
   "cell_type": "code",
   "execution_count": 31,
   "metadata": {
    "ExecuteTime": {
     "end_time": "2020-01-06T12:50:11.761825Z",
     "start_time": "2020-01-06T12:50:11.756834Z"
    }
   },
   "outputs": [],
   "source": [
    "import importlib\n",
    "import RBF"
   ]
  },
  {
   "cell_type": "code",
   "execution_count": 36,
   "metadata": {
    "ExecuteTime": {
     "end_time": "2020-01-06T12:50:40.400488Z",
     "start_time": "2020-01-06T12:50:40.376452Z"
    }
   },
   "outputs": [
    {
     "data": {
      "text/plain": [
       "<module 'RBF' from 'C:\\\\Users\\\\barban01\\\\Desktop\\\\Projetos\\\\UFABC\\\\TCC\\\\projeto_pdg\\\\RBF.py'>"
      ]
     },
     "execution_count": 36,
     "metadata": {},
     "output_type": "execute_result"
    }
   ],
   "source": [
    "\n",
    "importlib.reload(RBF)"
   ]
  },
  {
   "cell_type": "code",
   "execution_count": 37,
   "metadata": {
    "ExecuteTime": {
     "end_time": "2020-01-06T12:50:42.197365Z",
     "start_time": "2020-01-06T12:50:42.192363Z"
    }
   },
   "outputs": [],
   "source": [
    "rbf_classifier = RBF.RBFClassifier(number_of_centers = 150, \n",
    "                               random_state = SEED, \n",
    "                               algorithm = LogisticRegression(class_weight=\"balanced\", solver = \"lbfgs\"))"
   ]
  },
  {
   "cell_type": "code",
   "execution_count": 38,
   "metadata": {
    "ExecuteTime": {
     "end_time": "2020-01-06T12:50:42.833190Z",
     "start_time": "2020-01-06T12:50:42.829190Z"
    }
   },
   "outputs": [],
   "source": [
    "pastas = stratified_k_fold.split(numerical_X, y_train)"
   ]
  },
  {
   "cell_type": "code",
   "execution_count": 39,
   "metadata": {
    "ExecuteTime": {
     "end_time": "2020-01-06T12:51:14.787516Z",
     "start_time": "2020-01-06T12:50:43.336593Z"
    },
    "scrolled": true
   },
   "outputs": [
    {
     "name": "stdout",
     "output_type": "stream",
     "text": [
      "--------------------------------------------------------------------------------\n",
      "K Fold - Rodada 0\n",
      "\n",
      "Fitting RBF Network\n",
      "--------------------------------------------------\n",
      "--- RBF Network - Treinamento ---\n",
      "Matrix de Confusão\n",
      "[[ 856 3375]\n",
      " [ 148 1389]]\n",
      "Acurácia Balanceada:  55.30 % \n",
      "Falsos Positivos: 3375, Falsos Negativos: 148\n",
      "Verdadeiros Positivos: 1389, Verdadeiros Negativos: 856\n",
      "Precisao (tp/(tp+fp)): 29.16%\n",
      "Recall (tp/(tp+fn)): 90.37  %\n",
      "--------------------------------------------------------------------------------\n",
      "--- RBF Network - Teste ---\n",
      "Matrix de Confusão\n",
      "[[159 899]\n",
      " [ 39 346]]\n",
      "Acurácia Balanceada:  52.45 % \n",
      "Falsos Positivos: 899, Falsos Negativos: 39\n",
      "Verdadeiros Positivos: 346, Verdadeiros Negativos: 159\n",
      "Precisao (tp/(tp+fp)): 27.79%\n",
      "Recall (tp/(tp+fn)): 89.87  %\n",
      "--------------------------------------------------------------------------------\n",
      "--------------------------------------------------------------------------------\n",
      "K Fold - Rodada 1\n",
      "\n",
      "Fitting RBF Network\n",
      "--------------------------------------------------\n",
      "--- RBF Network - Treinamento ---\n",
      "Matrix de Confusão\n",
      "[[1694 2537]\n",
      " [ 382 1155]]\n",
      "Acurácia Balanceada:  57.59 % \n",
      "Falsos Positivos: 2537, Falsos Negativos: 382\n",
      "Verdadeiros Positivos: 1155, Verdadeiros Negativos: 1694\n",
      "Precisao (tp/(tp+fp)): 31.28%\n",
      "Recall (tp/(tp+fn)): 75.15  %\n",
      "--------------------------------------------------------------------------------\n",
      "--- RBF Network - Teste ---\n",
      "Matrix de Confusão\n",
      "[[411 647]\n",
      " [ 99 286]]\n",
      "Acurácia Balanceada:  56.57 % \n",
      "Falsos Positivos: 647, Falsos Negativos: 99\n",
      "Verdadeiros Positivos: 286, Verdadeiros Negativos: 411\n",
      "Precisao (tp/(tp+fp)): 30.65%\n",
      "Recall (tp/(tp+fn)): 74.29  %\n",
      "--------------------------------------------------------------------------------\n",
      "--------------------------------------------------------------------------------\n",
      "K Fold - Rodada 2\n",
      "\n",
      "Fitting RBF Network\n",
      "--------------------------------------------------\n",
      "--- RBF Network - Treinamento ---\n",
      "Matrix de Confusão\n",
      "[[ 697 3534]\n",
      " [ 115 1423]]\n",
      "Acurácia Balanceada:  54.50 % \n",
      "Falsos Positivos: 3534, Falsos Negativos: 115\n",
      "Verdadeiros Positivos: 1423, Verdadeiros Negativos: 697\n",
      "Precisao (tp/(tp+fp)): 28.71%\n",
      "Recall (tp/(tp+fn)): 92.52  %\n",
      "--------------------------------------------------------------------------------\n",
      "--- RBF Network - Teste ---\n",
      "Matrix de Confusão\n",
      "[[130 928]\n",
      " [ 29 355]]\n",
      "Acurácia Balanceada:  52.37 % \n",
      "Falsos Positivos: 928, Falsos Negativos: 29\n",
      "Verdadeiros Positivos: 355, Verdadeiros Negativos: 130\n",
      "Precisao (tp/(tp+fp)): 27.67%\n",
      "Recall (tp/(tp+fn)): 92.45  %\n",
      "--------------------------------------------------------------------------------\n",
      "--------------------------------------------------------------------------------\n",
      "K Fold - Rodada 3\n",
      "\n",
      "Fitting RBF Network\n",
      "--------------------------------------------------\n",
      "--- RBF Network - Treinamento ---\n",
      "Matrix de Confusão\n",
      "[[3627  604]\n",
      " [1224  314]]\n",
      "Acurácia Balanceada:  53.07 % \n",
      "Falsos Positivos: 604, Falsos Negativos: 1224\n",
      "Verdadeiros Positivos: 314, Verdadeiros Negativos: 3627\n",
      "Precisao (tp/(tp+fp)): 34.20%\n",
      "Recall (tp/(tp+fn)): 20.42  %\n",
      "--------------------------------------------------------------------------------\n",
      "--- RBF Network - Teste ---\n",
      "Matrix de Confusão\n",
      "[[924 134]\n",
      " [331  53]]\n",
      "Acurácia Balanceada:  50.57 % \n",
      "Falsos Positivos: 134, Falsos Negativos: 331\n",
      "Verdadeiros Positivos: 53, Verdadeiros Negativos: 924\n",
      "Precisao (tp/(tp+fp)): 28.34%\n",
      "Recall (tp/(tp+fn)): 13.80  %\n",
      "--------------------------------------------------------------------------------\n",
      "--------------------------------------------------------------------------------\n",
      "K Fold - Rodada 4\n",
      "\n",
      "Fitting RBF Network\n",
      "--------------------------------------------------\n",
      "--- RBF Network - Treinamento ---\n",
      "Matrix de Confusão\n",
      "[[ 684 3548]\n",
      " [ 111 1427]]\n",
      "Acurácia Balanceada:  54.47 % \n",
      "Falsos Positivos: 3548, Falsos Negativos: 111\n",
      "Verdadeiros Positivos: 1427, Verdadeiros Negativos: 684\n",
      "Precisao (tp/(tp+fp)): 28.68%\n",
      "Recall (tp/(tp+fn)): 92.78  %\n",
      "--------------------------------------------------------------------------------\n",
      "--- RBF Network - Teste ---\n",
      "Matrix de Confusão\n",
      "[[138 919]\n",
      " [ 26 358]]\n",
      "Acurácia Balanceada:  53.14 % \n",
      "Falsos Positivos: 919, Falsos Negativos: 26\n",
      "Verdadeiros Positivos: 358, Verdadeiros Negativos: 138\n",
      "Precisao (tp/(tp+fp)): 28.03%\n",
      "Recall (tp/(tp+fn)): 93.23  %\n",
      "--------------------------------------------------------------------------------\n"
     ]
    }
   ],
   "source": [
    "rbf_train_results = list()\n",
    "rbf_test_results = list()\n",
    "for i, (train_index, test_index) in enumerate(pastas):\n",
    "    print(\"-\"*80)\n",
    "    print(f\"K Fold - Rodada {i}\\n\")\n",
    "    \n",
    "    X_train_cv = numerical_X.iloc[train_index, : ]\n",
    "    y_train_cv = y_train.iloc[train_index]\n",
    "    \n",
    "    X_test_cv = numerical_X.iloc[test_index, : ]\n",
    "    y_test_cv = y_train.iloc[test_index]\n",
    "    \n",
    "    print(\"Fitting RBF Network\")\n",
    "    rbf_classifier.fit(X_train_cv, y_train_cv)\n",
    "    print(\"-\"*50)\n",
    "    \n",
    "    predicted_train = rbf_classifier.predict(X_train_cv)\n",
    "    rbf_train_results.append(score_results(y_train_cv, predicted_train, \"RBF Network - Treinamento\"))\n",
    "        \n",
    "    predicted_test = rbf_classifier.predict(X_test_cv)\n",
    "    rbf_test_results.append(score_results(y_test_cv, predicted_test, \"RBF Network - Teste\"))"
   ]
  },
  {
   "cell_type": "code",
   "execution_count": 43,
   "metadata": {
    "ExecuteTime": {
     "end_time": "2020-01-06T12:51:48.353103Z",
     "start_time": "2020-01-06T12:51:48.341104Z"
    }
   },
   "outputs": [
    {
     "name": "stdout",
     "output_type": "stream",
     "text": [
      "Test Balanced Accuraty: 54.99% \n",
      "Train Balanced Accuraty: 53.02% \n",
      "\n",
      "Test Precision: 30.41% \n",
      "Train Precision: 28.50% \n",
      "\n",
      "Test Recall: 74.25% \n",
      "Train Recall: 72.73% \n"
     ]
    }
   ],
   "source": [
    "print(\"Train Balanced Accuraty: {:.2f}% \".format(100*np.mean([result.balanced_accuracy for result in rbf_train_results])))\n",
    "print(\"Test Balanced Accuraty: {:.2f}% \".format(100*np.mean([result.balanced_accuracy for result in rbf_test_results])))\n",
    "print(\"\")\n",
    "print(\"Train Precision: {:.2f}% \".format(100*np.mean([result.precision for result in rbf_train_results])))\n",
    "print(\"Test Precision: {:.2f}% \".format(100*np.mean([result.precision for result in rbf_test_results])))\n",
    "print(\"\")\n",
    "print(\"Train Recall: {:.2f}% \".format(100*np.mean([result.recall for result in rbf_train_results])))\n",
    "print(\"Test Recall: {:.2f}% \".format(100*np.mean([result.recall for result in rbf_test_results])))"
   ]
  },
  {
   "cell_type": "markdown",
   "metadata": {
    "ExecuteTime": {
     "end_time": "2020-01-06T12:51:57.775406Z",
     "start_time": "2020-01-06T12:51:57.772403Z"
    }
   },
   "source": [
    "# Results"
   ]
  },
  {
   "cell_type": "code",
   "execution_count": 49,
   "metadata": {
    "ExecuteTime": {
     "end_time": "2020-01-06T12:55:17.242507Z",
     "start_time": "2020-01-06T12:55:17.226505Z"
    }
   },
   "outputs": [
    {
     "name": "stdout",
     "output_type": "stream",
     "text": [
      "TREES\n",
      "Balanced Accuraty: 56.54% \n",
      "Precision: 35.71% \n",
      "Recall: 37.83% \n",
      "GLM\n",
      "Balanced Accuraty: 56.06% \n",
      "Precision: 55.33% \n",
      "Recall: 17.27% \n",
      "RBF\n",
      "Balanced Accuraty: 53.02% \n",
      "Precision: 28.50% \n",
      "Recall: 72.73% \n"
     ]
    }
   ],
   "source": [
    "print(\"TREES\")\n",
    "print(\"Balanced Accuraty: {:.2f}% \".format(100*np.mean([result.balanced_accuracy for result in tree_test_results])))\n",
    "print(\"Precision: {:.2f}% \".format(100*np.mean([result.precision for result in tree_test_results])))\n",
    "print(\"Recall: {:.2f}% \".format(100*np.mean([result.recall for result in tree_test_results])))\n",
    "\n",
    "print(\"GLM\")\n",
    "print(\"Balanced Accuraty: {:.2f}% \".format(100*np.mean([result.balanced_accuracy for result in glm_test_results])))\n",
    "print(\"Precision: {:.2f}% \".format(100*np.mean([result.precision for result in glm_test_results])))\n",
    "print(\"Recall: {:.2f}% \".format(100*np.mean([result.recall for result in glm_test_results])))\n",
    "\n",
    "print(\"RBF\")\n",
    "print(\"Balanced Accuraty: {:.2f}% \".format(100*np.mean([result.balanced_accuracy for result in rbf_test_results])))\n",
    "print(\"Precision: {:.2f}% \".format(100*np.mean([result.precision for result in rbf_test_results])))\n",
    "print(\"Recall: {:.2f}% \".format(100*np.mean([result.recall for result in rbf_test_results])))"
   ]
  },
  {
   "cell_type": "code",
   "execution_count": null,
   "metadata": {},
   "outputs": [],
   "source": []
  },
  {
   "cell_type": "code",
   "execution_count": null,
   "metadata": {},
   "outputs": [],
   "source": []
  },
  {
   "cell_type": "code",
   "execution_count": null,
   "metadata": {},
   "outputs": [],
   "source": []
  }
 ],
 "metadata": {
  "kernelspec": {
   "display_name": "Python 3",
   "language": "python",
   "name": "python3"
  },
  "language_info": {
   "codemirror_mode": {
    "name": "ipython",
    "version": 3
   },
   "file_extension": ".py",
   "mimetype": "text/x-python",
   "name": "python",
   "nbconvert_exporter": "python",
   "pygments_lexer": "ipython3",
   "version": "3.7.3"
  },
  "latex_envs": {
   "LaTeX_envs_menu_present": true,
   "autoclose": false,
   "autocomplete": true,
   "bibliofile": "biblio.bib",
   "cite_by": "apalike",
   "current_citInitial": 1,
   "eqLabelWithNumbers": true,
   "eqNumInitial": 1,
   "hotkeys": {
    "equation": "Ctrl-E",
    "itemize": "Ctrl-I"
   },
   "labels_anchors": false,
   "latex_user_defs": false,
   "report_style_numbering": false,
   "user_envs_cfg": false
  },
  "toc": {
   "base_numbering": 1,
   "nav_menu": {},
   "number_sections": true,
   "sideBar": true,
   "skip_h1_title": false,
   "title_cell": "Table of Contents",
   "title_sidebar": "Contents",
   "toc_cell": false,
   "toc_position": {},
   "toc_section_display": true,
   "toc_window_display": false
  }
 },
 "nbformat": 4,
 "nbformat_minor": 2
}
