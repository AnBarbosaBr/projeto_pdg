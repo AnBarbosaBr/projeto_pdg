{
 "cells": [
  {
   "cell_type": "markdown",
   "metadata": {},
   "source": [
    "# Prep"
   ]
  },
  {
   "cell_type": "markdown",
   "metadata": {
    "ExecuteTime": {
     "end_time": "2020-01-06T11:10:55.839735Z",
     "start_time": "2020-01-06T11:10:55.827730Z"
    }
   },
   "source": [
    "## Imports"
   ]
  },
  {
   "cell_type": "code",
   "execution_count": 1,
   "metadata": {
    "ExecuteTime": {
     "end_time": "2020-01-07T10:47:37.307413Z",
     "start_time": "2020-01-07T10:47:26.722732Z"
    }
   },
   "outputs": [],
   "source": [
    "# Imports\n",
    "import pandas as pd;\n",
    "import numpy as np; \n",
    "import sklearn.model_selection;\n",
    "import sklearn.metrics;\n",
    "\n",
    "# OBS: Scikit-Learn\n",
    "# scikit-learn uses an optimised version of the CART algorithm; however, scikit-learn implementation does not support categorical variables for now.\n",
    "# https://scikit-learn.org/stable/modules/tree.html\n",
    "from sklearn.tree import DecisionTreeClassifier; # Tree\n",
    "\n",
    "\n",
    "\n",
    "# WARNING: This api is different from the SKLEARN \n",
    "import statsmodels.api as sm; # GLM\n",
    "\n",
    "\n",
    "# From Author\n",
    "from RBF import RBFClassifier\n",
    "from sklearn.linear_model import LogisticRegression\n",
    "# Auxiliar\n",
    "from collections import namedtuple\n"
   ]
  },
  {
   "cell_type": "markdown",
   "metadata": {},
   "source": [
    "## Parameters"
   ]
  },
  {
   "cell_type": "code",
   "execution_count": 58,
   "metadata": {
    "ExecuteTime": {
     "end_time": "2020-01-07T11:15:12.395815Z",
     "start_time": "2020-01-07T11:15:12.389813Z"
    }
   },
   "outputs": [],
   "source": [
    "SEED = 42\n",
    "TRAIN_SIZE = 0.7\n",
    "data_under_analysis = \"data/car_insurance_claim.csv\"\n",
    "\n",
    "independent_variables = [\"KIDSDRIV\", \"BIRTH\", \n",
    "                            \"AGE\", \"HOMEKIDS\", \n",
    "                            \"YOJ\", \"INCOME\", \n",
    "                            \"PARENT1\", \"HOME_VAL\", \n",
    "                            \"MSTATUS\", \"GENDER\", \n",
    "                            \"EDUCATION\", \"OCCUPATION\", \n",
    "                            \"TRAVTIME\", \"CAR_USE\", \n",
    "                            \"BLUEBOOK\", \"TIF\", \n",
    "                            \"CAR_TYPE\", \"RED_CAR\", \n",
    "                            \"OLDCLAIM\",  \"REVOKED\", \n",
    "                            \"MVR_PTS\", \"CAR_AGE\"]\n",
    "\n",
    "dependent_variable_flag = [\"CLAIM_FLAG\"]\n",
    "dependent_variable_frequency = [\"CLM_FREQ\"]\n",
    "dependent_variable_value = [\"CLM_AMT\"]\n",
    "\n",
    "CV_SPLITS = 5\n",
    "\n",
    "GLM_TRESHOLD = 0.5"
   ]
  },
  {
   "cell_type": "markdown",
   "metadata": {},
   "source": [
    "## Auxiliar Functions"
   ]
  },
  {
   "cell_type": "code",
   "execution_count": 220,
   "metadata": {
    "ExecuteTime": {
     "end_time": "2020-01-07T12:03:00.046847Z",
     "start_time": "2020-01-07T12:03:00.034842Z"
    }
   },
   "outputs": [],
   "source": [
    "def score_results(y_real, y_predito, label, verbose = False):\n",
    "    \"\"\"Função personalizada que mostra os resultados de um classificador.\n",
    "\n",
    "    Arguments:\n",
    "        y_real -- O vetor com os dados esperados\n",
    "        y_predito -- O vetor com as predições\n",
    "        label -- Um título para essa análise, pode ser usado para facilitar a identificação do output.\"\"\"\n",
    "\n",
    "    matriz_de_confusao = sklearn.metrics.confusion_matrix(y_true = y_real, y_pred = y_predito)\n",
    "    try:\n",
    "        tn, fp, fn, tp = matriz_de_confusao.ravel()\n",
    "    except ValueError:\n",
    "        print(\"ValueError: Imprimindo matriz de confusão.\")\n",
    "        print(matriz_de_confusao)\n",
    "    \n",
    "    Resultados = namedtuple(\"Resultados\", [\"balanced_accuracy\",\"precision\",\"recall\", \"f1\", \"confusion_matrix\"])\n",
    "    \n",
    "    balanced_accuracy = sklearn.metrics.balanced_accuracy_score(y_true = y_real, y_pred = y_predito)\n",
    "    precision = tp/(tp+fp)\n",
    "    recall    = tp/(tp+fn)\n",
    "    f1 = 2*(precision * recall) / (precision + recall)\n",
    "    output = Resultados(balanced_accuracy = balanced_accuracy,\n",
    "                       precision = precision,\n",
    "                       recall    = recall,\n",
    "                       f1 =  f1,\n",
    "                        \n",
    "                       confusion_matrix = matriz_de_confusao)\n",
    "\n",
    "    if verbose:\n",
    "        print(f\"--- {label} ---\")\n",
    "        print(\"Matrix de Confusão\")\n",
    "        print(matriz_de_confusao)\n",
    "        print(\"Acurácia Balanceada: \", end=\" \")\n",
    "        print(f\"{100*output.balanced_accuracy :.2f} % \")\n",
    "        print(f\"Falsos Positivos: {fp}, Falsos Negativos: {fn}\\n\"+\n",
    "            f\"Verdadeiros Positivos: {tp}, Verdadeiros Negativos: {tn}\")\n",
    "        print(f\"Precisao (tp/(tp+fp)): {100* output.precision :.2f}%\")\n",
    "        print(f\"Recall (tp/(tp+fn)): {100* output.recall :.2f}  %\")\n",
    "\n",
    "        print(\"-\"*80)\n",
    "    return output\n"
   ]
  },
  {
   "cell_type": "code",
   "execution_count": 243,
   "metadata": {
    "ExecuteTime": {
     "end_time": "2020-01-07T12:10:18.666841Z",
     "start_time": "2020-01-07T12:10:18.656843Z"
    }
   },
   "outputs": [],
   "source": [
    "def imprime_matriz_de_confusao_media(test_results):\n",
    "    tns, tps, fps, fns = list(), list(), list(), list()\n",
    "    for index, result in enumerate(test_results):\n",
    "        confusion_matrix = result.confusion_matrix\n",
    "        #print(f\"Fit {index}\")\n",
    "        #print(confusion_matrix)\n",
    "        tnl, fpl, fnl, tpl = confusion_matrix.ravel()\n",
    "        tns.append(tnl)\n",
    "        fps.append(fpl)\n",
    "        fns.append(fnl)\n",
    "        tps.append(tpl)\n",
    "\n",
    "    tn = np.sum(tns)\n",
    "    tp = np.sum(tps)\n",
    "    fp = np.sum(fps)\n",
    "    fn = np.sum(fns)\n",
    "    \n",
    "    precision = tp/(tp+fp)\n",
    "    recall = tp/(tp+fn)\n",
    "    f1 = 2*(precision*recall) / (precision+recall)\n",
    "    print(\"Médias\")\n",
    "    print(f\"Total Real Positives: {tp+fn :.2f}\\nTotal Real Negatives: {tn+fp:.2f}\\n\" +\n",
    "          f\"Total Predicted Positives: {tp+fp:.2f}\\nTotal Predicted Negatives: {tn+fn:.2f}\\n\" +\n",
    "          \"\\n\"\n",
    "          f\"True Positives: {tp:.2f}\\nTrue Negatives: {tn:.2f}\\nFalse Positives: {fp:.2f}\\nFalse Negatives: {fn:.2f}\")\n",
    "    print(\"\")\n",
    "    print(f\"Precision: { precision :.2f}\\nRecall: { recall :.2f}\")\n",
    "    print(f\"Accuracy Positive(Recall): {tp/(tp+fn):.2f}\\nAccuracy Negative: {tn/(tn+fp):.2f}\")\n",
    "    print(f\"Balanced Accuracy: {((tp/(tp+fn)) + (tn/(tn+fp)))/2 :.2f}\")\n",
    "    print(f\"F1 Score: {f1 : .2f}\")\n",
    "    print(\"\")\n",
    " \n",
    "\n"
   ]
  },
  {
   "cell_type": "markdown",
   "metadata": {},
   "source": [
    "## Loading Dataset"
   ]
  },
  {
   "cell_type": "code",
   "execution_count": 195,
   "metadata": {
    "ExecuteTime": {
     "end_time": "2020-01-07T12:00:21.874240Z",
     "start_time": "2020-01-07T12:00:21.797244Z"
    }
   },
   "outputs": [],
   "source": [
    "data = pd.read_csv(data_under_analysis)"
   ]
  },
  {
   "cell_type": "code",
   "execution_count": 196,
   "metadata": {
    "ExecuteTime": {
     "end_time": "2020-01-07T12:00:22.637480Z",
     "start_time": "2020-01-07T12:00:22.526472Z"
    }
   },
   "outputs": [
    {
     "name": "stdout",
     "output_type": "stream",
     "text": [
      "10302 linhas e 27 colunas\n",
      "             0\n",
      "0           ID\n",
      "1     KIDSDRIV\n",
      "2        BIRTH\n",
      "3          AGE\n",
      "4     HOMEKIDS\n",
      "5          YOJ\n",
      "6       INCOME\n",
      "7      PARENT1\n",
      "8     HOME_VAL\n",
      "9      MSTATUS\n",
      "10      GENDER\n",
      "11   EDUCATION\n",
      "12  OCCUPATION\n",
      "13    TRAVTIME\n",
      "14     CAR_USE\n",
      "15    BLUEBOOK\n",
      "16         TIF\n",
      "17    CAR_TYPE\n",
      "18     RED_CAR\n",
      "19    OLDCLAIM\n",
      "20    CLM_FREQ\n",
      "21     REVOKED\n",
      "22     MVR_PTS\n",
      "23     CLM_AMT\n",
      "24     CAR_AGE\n",
      "25  CLAIM_FLAG\n",
      "26  URBANICITY\n",
      "                 ID      KIDSDRIV           AGE      HOMEKIDS          YOJ  \\\n",
      "count  1.030200e+04  10302.000000  10295.000000  10302.000000  9754.000000   \n",
      "mean   4.956631e+08      0.169288     44.837397      0.720443    10.474062   \n",
      "std    2.864675e+08      0.506512      8.606445      1.116323     4.108943   \n",
      "min    6.317500e+04      0.000000     16.000000      0.000000     0.000000   \n",
      "25%    2.442869e+08      0.000000     39.000000      0.000000     9.000000   \n",
      "50%    4.970043e+08      0.000000     45.000000      0.000000    11.000000   \n",
      "75%    7.394551e+08      0.000000     51.000000      1.000000    13.000000   \n",
      "max    9.999264e+08      4.000000     81.000000      5.000000    23.000000   \n",
      "\n",
      "           TRAVTIME           TIF      CLM_FREQ       MVR_PTS      CAR_AGE  \\\n",
      "count  10302.000000  10302.000000  10302.000000  10302.000000  9663.000000   \n",
      "mean      33.416424      5.329159      0.800718      1.710153     8.298148   \n",
      "std       15.869687      4.110795      1.154079      2.159015     5.714450   \n",
      "min        5.000000      1.000000      0.000000      0.000000    -3.000000   \n",
      "25%       22.000000      1.000000      0.000000      0.000000     1.000000   \n",
      "50%       33.000000      4.000000      0.000000      1.000000     8.000000   \n",
      "75%       44.000000      7.000000      2.000000      3.000000    12.000000   \n",
      "max      142.000000     25.000000      5.000000     13.000000    28.000000   \n",
      "\n",
      "         CLAIM_FLAG  \n",
      "count  10302.000000  \n",
      "mean       0.266550  \n",
      "std        0.442177  \n",
      "min        0.000000  \n",
      "25%        0.000000  \n",
      "50%        0.000000  \n",
      "75%        1.000000  \n",
      "max        1.000000  \n",
      "11\n"
     ]
    }
   ],
   "source": [
    "# Linhas / Colunas\n",
    "print(f\"{data.shape[0]} linhas e {data.shape[1]} colunas\")\n",
    "print(pd.DataFrame(data.columns))\n",
    "print(data.describe())\n",
    "print(data.describe().shape[1]) # Colunas Númericas\n"
   ]
  },
  {
   "cell_type": "markdown",
   "metadata": {
    "ExecuteTime": {
     "end_time": "2020-01-06T11:31:52.356164Z",
     "start_time": "2020-01-06T11:31:52.350164Z"
    }
   },
   "source": [
    "## Separating Data"
   ]
  },
  {
   "cell_type": "markdown",
   "metadata": {
    "ExecuteTime": {
     "end_time": "2020-01-06T11:41:13.836364Z",
     "start_time": "2020-01-06T11:41:13.833365Z"
    }
   },
   "source": [
    "### X e y"
   ]
  },
  {
   "cell_type": "code",
   "execution_count": 197,
   "metadata": {
    "ExecuteTime": {
     "end_time": "2020-01-07T12:00:26.925415Z",
     "start_time": "2020-01-07T12:00:26.915414Z"
    }
   },
   "outputs": [],
   "source": [
    "X_all = data.loc[ : , independent_variables]\n",
    "y_all = data.loc[ : , dependent_variable_flag]"
   ]
  },
  {
   "cell_type": "markdown",
   "metadata": {},
   "source": [
    "### Test and Validation"
   ]
  },
  {
   "cell_type": "code",
   "execution_count": 198,
   "metadata": {
    "ExecuteTime": {
     "end_time": "2020-01-07T12:00:28.209739Z",
     "start_time": "2020-01-07T12:00:28.139746Z"
    }
   },
   "outputs": [],
   "source": [
    "X_train, X_test, y_train, y_test = sklearn.model_selection.train_test_split(X_all, y_all, train_size = TRAIN_SIZE, random_state = SEED, stratify = y_all )"
   ]
  },
  {
   "cell_type": "code",
   "execution_count": 199,
   "metadata": {
    "ExecuteTime": {
     "end_time": "2020-01-07T12:00:28.539779Z",
     "start_time": "2020-01-07T12:00:28.534740Z"
    }
   },
   "outputs": [],
   "source": [
    "# Creating k_folder\n",
    "stratified_k_fold = sklearn.model_selection.StratifiedKFold(n_splits = CV_SPLITS, random_state = SEED )"
   ]
  },
  {
   "cell_type": "markdown",
   "metadata": {
    "ExecuteTime": {
     "end_time": "2020-01-06T11:49:34.114029Z",
     "start_time": "2020-01-06T11:49:34.110036Z"
    }
   },
   "source": [
    "# Data Editing"
   ]
  },
  {
   "cell_type": "markdown",
   "metadata": {
    "ExecuteTime": {
     "end_time": "2020-01-07T12:22:35.192836Z",
     "start_time": "2020-01-07T12:22:35.185835Z"
    }
   },
   "source": [
    "## Variáveis Numéricas"
   ]
  },
  {
   "cell_type": "markdown",
   "metadata": {},
   "source": [
    "A implementação de árvore do Sklearn só aceita variáveis numéricas. \n",
    "\n",
    "Nessa primeira etapa vamos considerar apenas elas, mas podemos tratar as variáveis categóricas no futuro."
   ]
  },
  {
   "cell_type": "code",
   "execution_count": 200,
   "metadata": {
    "ExecuteTime": {
     "end_time": "2020-01-07T12:00:33.728791Z",
     "start_time": "2020-01-07T12:00:33.722787Z"
    }
   },
   "outputs": [
    {
     "name": "stdout",
     "output_type": "stream",
     "text": [
      "Selecionando apenas variáveis numéricas.\n",
      "Formato de X de (7211, 22) para (7211, 8)\n",
      "Redução de 14 variáveis.\n"
     ]
    }
   ],
   "source": [
    "numerical_X = X_train._get_numeric_data()\n",
    "print(f\"Selecionando apenas variáveis numéricas.\\nFormato de X de {X_train.shape} para {numerical_X.shape}\")\n",
    "print(f\"Redução de {X_train.shape[1] - numerical_X.shape[1]} variáveis.\")"
   ]
  },
  {
   "cell_type": "code",
   "execution_count": 203,
   "metadata": {
    "ExecuteTime": {
     "end_time": "2020-01-07T12:00:36.417242Z",
     "start_time": "2020-01-07T12:00:36.411244Z"
    }
   },
   "outputs": [
    {
     "data": {
      "text/plain": [
       "Index(['KIDSDRIV', 'AGE', 'HOMEKIDS', 'YOJ', 'TRAVTIME', 'TIF', 'MVR_PTS',\n",
       "       'CAR_AGE'],\n",
       "      dtype='object')"
      ]
     },
     "execution_count": 203,
     "metadata": {},
     "output_type": "execute_result"
    }
   ],
   "source": [
    "numerical_X.columns"
   ]
  },
  {
   "cell_type": "code",
   "execution_count": 204,
   "metadata": {
    "ExecuteTime": {
     "end_time": "2020-01-07T12:00:37.636505Z",
     "start_time": "2020-01-07T12:00:37.621508Z"
    },
    "scrolled": true
   },
   "outputs": [
    {
     "name": "stdout",
     "output_type": "stream",
     "text": [
      "KIDSDRIV\n",
      "[0 2 1 3 4]\n",
      "AGE\n",
      "[54.         48.         28.         43.         53.         40.\n",
      " 41.         50.         42.         35.         51.         52.\n",
      " 38.         34.         60.         49.         45.         59.\n",
      " 55.         47.         37.         58.         56.         39.\n",
      " 46.         22.         44.         67.         62.         36.\n",
      " 30.         32.         33.         31.         26.         29.\n",
      " 66.         61.         24.         73.         27.         57.\n",
      " 65.         69.         25.         63.         21.         20.\n",
      " 64.         23.         70.         17.         44.88717735 68.\n",
      " 16.         18.         19.         72.         80.         71.        ]\n",
      "HOMEKIDS\n",
      "[0 2 3 1 4 5]\n",
      "YOJ\n",
      "[ 6.         12.         10.         14.         11.         10.44948755\n",
      " 17.          5.         16.          9.          0.         13.\n",
      "  8.         15.          7.          3.          4.         18.\n",
      " 19.          1.          2.         23.        ]\n",
      "TRAVTIME\n",
      "[ 14  42  50  44  72  37  35  52  30  33  41  29  36  46  39  19  38  21\n",
      "  22  48  76  10  27  16  45  34  59  56  13  49   5  23  31  28  18  32\n",
      "  15  88  53  63  55  40  64  58  25  82  62  69   6  43  60  57  70  26\n",
      "  65  20  17  11  51   9  12  47  71  87  24   8  66   7  67  61  54  86\n",
      "  78  85 134  77  74  68  75  81  89  79  80  97  84  90 105 103  73 124\n",
      "  91  92  95]\n",
      "TIF\n",
      "[ 7  1  4  6  3  9 13 17  8 11 10 14 12  5 15 19  2 21 16 18 20 25 22]\n",
      "MVR_PTS\n",
      "[ 3  1  6  4  0  5  2  9  8  7 11 10 12 13]\n",
      "CAR_AGE\n",
      "[ 5.          1.         11.         12.          6.         10.\n",
      " 15.          7.          8.          8.29103815 14.          9.\n",
      " 17.         16.         19.         -3.         13.         18.\n",
      "  4.         22.          0.         21.         20.         25.\n",
      "  2.          3.         26.         23.         24.         28.        ]\n"
     ]
    }
   ],
   "source": [
    "for col in numerical_X.columns: print (f'{col}\\n{numerical_X[col].unique()}') "
   ]
  },
  {
   "cell_type": "markdown",
   "metadata": {},
   "source": [
    "### Colunas Categóricas\n",
    "Nenhuma colunas numéricas parecem ser uma codificação de categoria.\n",
    "\n",
    "Vamos analisar as colunas que foram deixadas de lado"
   ]
  },
  {
   "cell_type": "code",
   "execution_count": 252,
   "metadata": {
    "ExecuteTime": {
     "end_time": "2020-01-07T12:13:58.897558Z",
     "start_time": "2020-01-07T12:13:58.775560Z"
    }
   },
   "outputs": [
    {
     "data": {
      "text/html": [
       "<div>\n",
       "<style scoped>\n",
       "    .dataframe tbody tr th:only-of-type {\n",
       "        vertical-align: middle;\n",
       "    }\n",
       "\n",
       "    .dataframe tbody tr th {\n",
       "        vertical-align: top;\n",
       "    }\n",
       "\n",
       "    .dataframe thead th {\n",
       "        text-align: right;\n",
       "    }\n",
       "</style>\n",
       "<table border=\"1\" class=\"dataframe\">\n",
       "  <thead>\n",
       "    <tr style=\"text-align: right;\">\n",
       "      <th></th>\n",
       "      <th>CAR_TYPE</th>\n",
       "      <th>OCCUPATION</th>\n",
       "      <th>BIRTH</th>\n",
       "      <th>REVOKED</th>\n",
       "      <th>GENDER</th>\n",
       "      <th>INCOME</th>\n",
       "      <th>BLUEBOOK</th>\n",
       "      <th>RED_CAR</th>\n",
       "      <th>CAR_USE</th>\n",
       "      <th>EDUCATION</th>\n",
       "      <th>HOME_VAL</th>\n",
       "      <th>MSTATUS</th>\n",
       "      <th>OLDCLAIM</th>\n",
       "      <th>PARENT1</th>\n",
       "    </tr>\n",
       "  </thead>\n",
       "  <tbody>\n",
       "    <tr>\n",
       "      <th>count</th>\n",
       "      <td>7211</td>\n",
       "      <td>6745</td>\n",
       "      <td>7211</td>\n",
       "      <td>7211</td>\n",
       "      <td>7211</td>\n",
       "      <td>6823</td>\n",
       "      <td>7211</td>\n",
       "      <td>7211</td>\n",
       "      <td>7211</td>\n",
       "      <td>7211</td>\n",
       "      <td>6802</td>\n",
       "      <td>7211</td>\n",
       "      <td>7211</td>\n",
       "      <td>7211</td>\n",
       "    </tr>\n",
       "    <tr>\n",
       "      <th>unique</th>\n",
       "      <td>6</td>\n",
       "      <td>8</td>\n",
       "      <td>5141</td>\n",
       "      <td>2</td>\n",
       "      <td>2</td>\n",
       "      <td>5862</td>\n",
       "      <td>2671</td>\n",
       "      <td>2</td>\n",
       "      <td>2</td>\n",
       "      <td>5</td>\n",
       "      <td>4497</td>\n",
       "      <td>2</td>\n",
       "      <td>2577</td>\n",
       "      <td>2</td>\n",
       "    </tr>\n",
       "    <tr>\n",
       "      <th>top</th>\n",
       "      <td>z_SUV</td>\n",
       "      <td>z_Blue Collar</td>\n",
       "      <td>23AUG60</td>\n",
       "      <td>No</td>\n",
       "      <td>z_F</td>\n",
       "      <td>$0</td>\n",
       "      <td>$1,500</td>\n",
       "      <td>no</td>\n",
       "      <td>Private</td>\n",
       "      <td>z_High School</td>\n",
       "      <td>$0</td>\n",
       "      <td>Yes</td>\n",
       "      <td>$0</td>\n",
       "      <td>No</td>\n",
       "    </tr>\n",
       "    <tr>\n",
       "      <th>freq</th>\n",
       "      <td>2030</td>\n",
       "      <td>1603</td>\n",
       "      <td>6</td>\n",
       "      <td>6312</td>\n",
       "      <td>3903</td>\n",
       "      <td>560</td>\n",
       "      <td>138</td>\n",
       "      <td>5130</td>\n",
       "      <td>4535</td>\n",
       "      <td>2069</td>\n",
       "      <td>2050</td>\n",
       "      <td>4312</td>\n",
       "      <td>4406</td>\n",
       "      <td>6260</td>\n",
       "    </tr>\n",
       "  </tbody>\n",
       "</table>\n",
       "</div>"
      ],
      "text/plain": [
       "       CAR_TYPE     OCCUPATION    BIRTH REVOKED GENDER INCOME BLUEBOOK  \\\n",
       "count      7211           6745     7211    7211   7211   6823     7211   \n",
       "unique        6              8     5141       2      2   5862     2671   \n",
       "top       z_SUV  z_Blue Collar  23AUG60      No    z_F     $0   $1,500   \n",
       "freq       2030           1603        6    6312   3903    560      138   \n",
       "\n",
       "       RED_CAR  CAR_USE      EDUCATION HOME_VAL MSTATUS OLDCLAIM PARENT1  \n",
       "count     7211     7211           7211     6802    7211     7211    7211  \n",
       "unique       2        2              5     4497       2     2577       2  \n",
       "top         no  Private  z_High School       $0     Yes       $0      No  \n",
       "freq      5130     4535           2069     2050    4312     4406    6260  "
      ]
     },
     "execution_count": 252,
     "metadata": {},
     "output_type": "execute_result"
    }
   ],
   "source": [
    "categorical_columns = list(set(X_train.columns) - set(numerical_X.columns))\n",
    "categorical_X = X_train[categorical_columns]\n",
    "categorical_X.describe()"
   ]
  },
  {
   "cell_type": "markdown",
   "metadata": {
    "ExecuteTime": {
     "end_time": "2020-01-07T12:13:03.788717Z",
     "start_time": "2020-01-07T12:13:03.701717Z"
    }
   },
   "source": [
    "As variáveis BIRTH, INCOME, BLUEBOOK, HOME_VAL, OLDCLAIM possuem muitos valores únicos. Dessas, \n",
    "INCOME, BLUEBOOK, HOMEVAL e OLDCLAIM são, na verdade, variáveis numéricas(dinheiro)"
   ]
  },
  {
   "cell_type": "code",
   "execution_count": 254,
   "metadata": {
    "ExecuteTime": {
     "end_time": "2020-01-07T12:18:07.008716Z",
     "start_time": "2020-01-07T12:18:06.987715Z"
    }
   },
   "outputs": [
    {
     "data": {
      "text/html": [
       "<div>\n",
       "<style scoped>\n",
       "    .dataframe tbody tr th:only-of-type {\n",
       "        vertical-align: middle;\n",
       "    }\n",
       "\n",
       "    .dataframe tbody tr th {\n",
       "        vertical-align: top;\n",
       "    }\n",
       "\n",
       "    .dataframe thead th {\n",
       "        text-align: right;\n",
       "    }\n",
       "</style>\n",
       "<table border=\"1\" class=\"dataframe\">\n",
       "  <thead>\n",
       "    <tr style=\"text-align: right;\">\n",
       "      <th></th>\n",
       "      <th>INCOME</th>\n",
       "      <th>BLUEBOOK</th>\n",
       "      <th>HOME_VAL</th>\n",
       "      <th>OLDCLAIM</th>\n",
       "    </tr>\n",
       "  </thead>\n",
       "  <tbody>\n",
       "    <tr>\n",
       "      <th>878</th>\n",
       "      <td>$73,663</td>\n",
       "      <td>$41,310</td>\n",
       "      <td>$268,990</td>\n",
       "      <td>$36,700</td>\n",
       "    </tr>\n",
       "    <tr>\n",
       "      <th>5358</th>\n",
       "      <td>$34,669</td>\n",
       "      <td>$8,630</td>\n",
       "      <td>$146,134</td>\n",
       "      <td>$2,499</td>\n",
       "    </tr>\n",
       "    <tr>\n",
       "      <th>1433</th>\n",
       "      <td>$23,427</td>\n",
       "      <td>$6,640</td>\n",
       "      <td>$98,357</td>\n",
       "      <td>$17,308</td>\n",
       "    </tr>\n",
       "    <tr>\n",
       "      <th>2769</th>\n",
       "      <td>$54,593</td>\n",
       "      <td>$11,260</td>\n",
       "      <td>$221,267</td>\n",
       "      <td>$1,449</td>\n",
       "    </tr>\n",
       "    <tr>\n",
       "      <th>3326</th>\n",
       "      <td>$55,770</td>\n",
       "      <td>$12,380</td>\n",
       "      <td>$163,735</td>\n",
       "      <td>$0</td>\n",
       "    </tr>\n",
       "    <tr>\n",
       "      <th>...</th>\n",
       "      <td>...</td>\n",
       "      <td>...</td>\n",
       "      <td>...</td>\n",
       "      <td>...</td>\n",
       "    </tr>\n",
       "    <tr>\n",
       "      <th>152</th>\n",
       "      <td>$104,990</td>\n",
       "      <td>$16,080</td>\n",
       "      <td>$306,540</td>\n",
       "      <td>$0</td>\n",
       "    </tr>\n",
       "    <tr>\n",
       "      <th>6870</th>\n",
       "      <td>$152,283</td>\n",
       "      <td>$16,650</td>\n",
       "      <td>$441,904</td>\n",
       "      <td>$0</td>\n",
       "    </tr>\n",
       "    <tr>\n",
       "      <th>9663</th>\n",
       "      <td>$8,585</td>\n",
       "      <td>$13,540</td>\n",
       "      <td>$0</td>\n",
       "      <td>$4,451</td>\n",
       "    </tr>\n",
       "    <tr>\n",
       "      <th>1431</th>\n",
       "      <td>NaN</td>\n",
       "      <td>$19,600</td>\n",
       "      <td>$240,520</td>\n",
       "      <td>$3,220</td>\n",
       "    </tr>\n",
       "    <tr>\n",
       "      <th>1725</th>\n",
       "      <td>$141,297</td>\n",
       "      <td>$22,550</td>\n",
       "      <td>$0</td>\n",
       "      <td>$0</td>\n",
       "    </tr>\n",
       "  </tbody>\n",
       "</table>\n",
       "<p>7211 rows × 4 columns</p>\n",
       "</div>"
      ],
      "text/plain": [
       "        INCOME BLUEBOOK  HOME_VAL OLDCLAIM\n",
       "878    $73,663  $41,310  $268,990  $36,700\n",
       "5358   $34,669   $8,630  $146,134   $2,499\n",
       "1433   $23,427   $6,640   $98,357  $17,308\n",
       "2769   $54,593  $11,260  $221,267   $1,449\n",
       "3326   $55,770  $12,380  $163,735       $0\n",
       "...        ...      ...       ...      ...\n",
       "152   $104,990  $16,080  $306,540       $0\n",
       "6870  $152,283  $16,650  $441,904       $0\n",
       "9663    $8,585  $13,540        $0   $4,451\n",
       "1431       NaN  $19,600  $240,520   $3,220\n",
       "1725  $141,297  $22,550        $0       $0\n",
       "\n",
       "[7211 rows x 4 columns]"
      ]
     },
     "execution_count": 254,
     "metadata": {},
     "output_type": "execute_result"
    }
   ],
   "source": [
    "money_variables = [\"INCOME\", \"BLUEBOOK\", \"HOME_VAL\", \"OLDCLAIM\"]\n",
    "money_X =  categorical_X[possible_numerical]\n",
    "money_X"
   ]
  },
  {
   "cell_type": "code",
   "execution_count": 266,
   "metadata": {
    "ExecuteTime": {
     "end_time": "2020-01-07T12:21:07.898526Z",
     "start_time": "2020-01-07T12:21:07.821621Z"
    }
   },
   "outputs": [
    {
     "name": "stdout",
     "output_type": "stream",
     "text": [
      "(7211, 4)\n"
     ]
    },
    {
     "data": {
      "text/html": [
       "<div>\n",
       "<style scoped>\n",
       "    .dataframe tbody tr th:only-of-type {\n",
       "        vertical-align: middle;\n",
       "    }\n",
       "\n",
       "    .dataframe tbody tr th {\n",
       "        vertical-align: top;\n",
       "    }\n",
       "\n",
       "    .dataframe thead th {\n",
       "        text-align: right;\n",
       "    }\n",
       "</style>\n",
       "<table border=\"1\" class=\"dataframe\">\n",
       "  <thead>\n",
       "    <tr style=\"text-align: right;\">\n",
       "      <th></th>\n",
       "      <th>INCOME</th>\n",
       "      <th>BLUEBOOK</th>\n",
       "      <th>HOME_VAL</th>\n",
       "      <th>OLDCLAIM</th>\n",
       "    </tr>\n",
       "  </thead>\n",
       "  <tbody>\n",
       "    <tr>\n",
       "      <th>count</th>\n",
       "      <td>6823.000000</td>\n",
       "      <td>7211.000000</td>\n",
       "      <td>6802.000000</td>\n",
       "      <td>7211.000000</td>\n",
       "    </tr>\n",
       "    <tr>\n",
       "      <th>mean</th>\n",
       "      <td>61485.221603</td>\n",
       "      <td>15708.502288</td>\n",
       "      <td>154265.121729</td>\n",
       "      <td>4045.439606</td>\n",
       "    </tr>\n",
       "    <tr>\n",
       "      <th>std</th>\n",
       "      <td>47127.897336</td>\n",
       "      <td>8447.775453</td>\n",
       "      <td>128946.594306</td>\n",
       "      <td>8749.645497</td>\n",
       "    </tr>\n",
       "    <tr>\n",
       "      <th>min</th>\n",
       "      <td>0.000000</td>\n",
       "      <td>1500.000000</td>\n",
       "      <td>0.000000</td>\n",
       "      <td>0.000000</td>\n",
       "    </tr>\n",
       "    <tr>\n",
       "      <th>25%</th>\n",
       "      <td>28116.000000</td>\n",
       "      <td>9180.000000</td>\n",
       "      <td>0.000000</td>\n",
       "      <td>0.000000</td>\n",
       "    </tr>\n",
       "    <tr>\n",
       "      <th>50%</th>\n",
       "      <td>53643.000000</td>\n",
       "      <td>14430.000000</td>\n",
       "      <td>161881.500000</td>\n",
       "      <td>0.000000</td>\n",
       "    </tr>\n",
       "    <tr>\n",
       "      <th>75%</th>\n",
       "      <td>85598.000000</td>\n",
       "      <td>21015.000000</td>\n",
       "      <td>237715.750000</td>\n",
       "      <td>4637.000000</td>\n",
       "    </tr>\n",
       "    <tr>\n",
       "      <th>max</th>\n",
       "      <td>367030.000000</td>\n",
       "      <td>69740.000000</td>\n",
       "      <td>885282.000000</td>\n",
       "      <td>57037.000000</td>\n",
       "    </tr>\n",
       "  </tbody>\n",
       "</table>\n",
       "</div>"
      ],
      "text/plain": [
       "              INCOME      BLUEBOOK       HOME_VAL      OLDCLAIM\n",
       "count    6823.000000   7211.000000    6802.000000   7211.000000\n",
       "mean    61485.221603  15708.502288  154265.121729   4045.439606\n",
       "std     47127.897336   8447.775453  128946.594306   8749.645497\n",
       "min         0.000000   1500.000000       0.000000      0.000000\n",
       "25%     28116.000000   9180.000000       0.000000      0.000000\n",
       "50%     53643.000000  14430.000000  161881.500000      0.000000\n",
       "75%     85598.000000  21015.000000  237715.750000   4637.000000\n",
       "max    367030.000000  69740.000000  885282.000000  57037.000000"
      ]
     },
     "execution_count": 266,
     "metadata": {},
     "output_type": "execute_result"
    }
   ],
   "source": [
    "money_X = money_X.replace('[\\$,]', '', regex=True).astype(float)\n",
    "print(money_X.shape)\n",
    "money_X.describe()"
   ]
  },
  {
   "cell_type": "code",
   "execution_count": 270,
   "metadata": {
    "ExecuteTime": {
     "end_time": "2020-01-07T12:21:39.617115Z",
     "start_time": "2020-01-07T12:21:39.608119Z"
    }
   },
   "outputs": [
    {
     "data": {
      "text/plain": [
       "INCOME      388\n",
       "BLUEBOOK      0\n",
       "HOME_VAL    409\n",
       "OLDCLAIM      0\n",
       "dtype: int64"
      ]
     },
     "execution_count": 270,
     "metadata": {},
     "output_type": "execute_result"
    }
   ],
   "source": [
    "numerical_X = pd.concat([numerical_X, money_X], sort = True)"
   ]
  },
  {
   "cell_type": "code",
   "execution_count": 297,
   "metadata": {
    "ExecuteTime": {
     "end_time": "2020-01-07T12:30:27.238287Z",
     "start_time": "2020-01-07T12:30:27.121305Z"
    }
   },
   "outputs": [
    {
     "data": {
      "text/html": [
       "<div>\n",
       "<style scoped>\n",
       "    .dataframe tbody tr th:only-of-type {\n",
       "        vertical-align: middle;\n",
       "    }\n",
       "\n",
       "    .dataframe tbody tr th {\n",
       "        vertical-align: top;\n",
       "    }\n",
       "\n",
       "    .dataframe thead th {\n",
       "        text-align: right;\n",
       "    }\n",
       "</style>\n",
       "<table border=\"1\" class=\"dataframe\">\n",
       "  <thead>\n",
       "    <tr style=\"text-align: right;\">\n",
       "      <th></th>\n",
       "      <th>CAR_TYPE</th>\n",
       "      <th>OCCUPATION</th>\n",
       "      <th>BIRTH</th>\n",
       "      <th>REVOKED</th>\n",
       "      <th>GENDER</th>\n",
       "      <th>INCOME</th>\n",
       "      <th>BLUEBOOK</th>\n",
       "      <th>RED_CAR</th>\n",
       "      <th>CAR_USE</th>\n",
       "      <th>EDUCATION</th>\n",
       "      <th>HOME_VAL</th>\n",
       "      <th>MSTATUS</th>\n",
       "      <th>OLDCLAIM</th>\n",
       "      <th>PARENT1</th>\n",
       "    </tr>\n",
       "  </thead>\n",
       "  <tbody>\n",
       "    <tr>\n",
       "      <th>count</th>\n",
       "      <td>7211</td>\n",
       "      <td>6745</td>\n",
       "      <td>7211</td>\n",
       "      <td>7211</td>\n",
       "      <td>7211</td>\n",
       "      <td>6823</td>\n",
       "      <td>7211</td>\n",
       "      <td>7211</td>\n",
       "      <td>7211</td>\n",
       "      <td>7211</td>\n",
       "      <td>6802</td>\n",
       "      <td>7211</td>\n",
       "      <td>7211</td>\n",
       "      <td>7211</td>\n",
       "    </tr>\n",
       "    <tr>\n",
       "      <th>unique</th>\n",
       "      <td>6</td>\n",
       "      <td>8</td>\n",
       "      <td>5141</td>\n",
       "      <td>2</td>\n",
       "      <td>2</td>\n",
       "      <td>5862</td>\n",
       "      <td>2671</td>\n",
       "      <td>2</td>\n",
       "      <td>2</td>\n",
       "      <td>5</td>\n",
       "      <td>4497</td>\n",
       "      <td>2</td>\n",
       "      <td>2577</td>\n",
       "      <td>2</td>\n",
       "    </tr>\n",
       "    <tr>\n",
       "      <th>top</th>\n",
       "      <td>z_SUV</td>\n",
       "      <td>z_Blue Collar</td>\n",
       "      <td>23AUG60</td>\n",
       "      <td>No</td>\n",
       "      <td>z_F</td>\n",
       "      <td>$0</td>\n",
       "      <td>$1,500</td>\n",
       "      <td>no</td>\n",
       "      <td>Private</td>\n",
       "      <td>z_High School</td>\n",
       "      <td>$0</td>\n",
       "      <td>Yes</td>\n",
       "      <td>$0</td>\n",
       "      <td>No</td>\n",
       "    </tr>\n",
       "    <tr>\n",
       "      <th>freq</th>\n",
       "      <td>2030</td>\n",
       "      <td>1603</td>\n",
       "      <td>6</td>\n",
       "      <td>6312</td>\n",
       "      <td>3903</td>\n",
       "      <td>560</td>\n",
       "      <td>138</td>\n",
       "      <td>5130</td>\n",
       "      <td>4535</td>\n",
       "      <td>2069</td>\n",
       "      <td>2050</td>\n",
       "      <td>4312</td>\n",
       "      <td>4406</td>\n",
       "      <td>6260</td>\n",
       "    </tr>\n",
       "  </tbody>\n",
       "</table>\n",
       "</div>"
      ],
      "text/plain": [
       "       CAR_TYPE     OCCUPATION    BIRTH REVOKED GENDER INCOME BLUEBOOK  \\\n",
       "count      7211           6745     7211    7211   7211   6823     7211   \n",
       "unique        6              8     5141       2      2   5862     2671   \n",
       "top       z_SUV  z_Blue Collar  23AUG60      No    z_F     $0   $1,500   \n",
       "freq       2030           1603        6    6312   3903    560      138   \n",
       "\n",
       "       RED_CAR  CAR_USE      EDUCATION HOME_VAL MSTATUS OLDCLAIM PARENT1  \n",
       "count     7211     7211           7211     6802    7211     7211    7211  \n",
       "unique       2        2              5     4497       2     2577       2  \n",
       "top         no  Private  z_High School       $0     Yes       $0      No  \n",
       "freq      5130     4535           2069     2050    4312     4406    6260  "
      ]
     },
     "execution_count": 297,
     "metadata": {},
     "output_type": "execute_result"
    }
   ],
   "source": [
    "categorical_columns = list(set(X_train.columns) - set(numerical_X.columns))\n",
    "categorical_X = X_train[categorical_columns]\n",
    "categorical_X.describe()"
   ]
  },
  {
   "cell_type": "markdown",
   "metadata": {},
   "source": [
    "## Features Dataset\n",
    "\n",
    "Esse será o dataset usado em nossas análises."
   ]
  },
  {
   "cell_type": "code",
   "execution_count": 272,
   "metadata": {
    "ExecuteTime": {
     "end_time": "2020-01-07T12:24:12.794095Z",
     "start_time": "2020-01-07T12:24:12.773107Z"
    }
   },
   "outputs": [],
   "source": [
    "# Replacing NULLS with the mean\n",
    "numerical_X.fillna(numerical_X.mean(), inplace=True)    \n",
    "features_X = numerical_X"
   ]
  },
  {
   "cell_type": "code",
   "execution_count": null,
   "metadata": {},
   "outputs": [],
   "source": []
  },
  {
   "cell_type": "markdown",
   "metadata": {
    "ExecuteTime": {
     "end_time": "2020-01-06T11:57:29.839299Z",
     "start_time": "2020-01-06T11:57:29.836295Z"
    }
   },
   "source": [
    "# Analysis Code"
   ]
  },
  {
   "cell_type": "markdown",
   "metadata": {
    "ExecuteTime": {
     "end_time": "2020-01-06T11:52:19.258953Z",
     "start_time": "2020-01-06T11:52:19.255951Z"
    }
   },
   "source": [
    "## Decision Tree"
   ]
  },
  {
   "cell_type": "code",
   "execution_count": 273,
   "metadata": {
    "ExecuteTime": {
     "end_time": "2020-01-07T12:24:19.835470Z",
     "start_time": "2020-01-07T12:24:19.829470Z"
    }
   },
   "outputs": [],
   "source": [
    "cartTree = DecisionTreeClassifier()"
   ]
  },
  {
   "cell_type": "code",
   "execution_count": 283,
   "metadata": {
    "ExecuteTime": {
     "end_time": "2020-01-07T12:25:11.410954Z",
     "start_time": "2020-01-07T12:25:11.404960Z"
    }
   },
   "outputs": [],
   "source": [
    "pastas = stratified_k_fold.split(features_X, y_train)"
   ]
  },
  {
   "cell_type": "code",
   "execution_count": 284,
   "metadata": {
    "ExecuteTime": {
     "end_time": "2020-01-07T12:25:11.985311Z",
     "start_time": "2020-01-07T12:25:11.759672Z"
    }
   },
   "outputs": [
    {
     "name": "stdout",
     "output_type": "stream",
     "text": [
      "--------------------------------------------------------------------------------\n",
      "K Fold - Rodada 0\n",
      "\n",
      "Fitting Tree\n",
      "--------------------------------------------------\n",
      "--------------------------------------------------------------------------------\n",
      "K Fold - Rodada 1\n",
      "\n",
      "Fitting Tree\n",
      "--------------------------------------------------\n",
      "--------------------------------------------------------------------------------\n",
      "K Fold - Rodada 2\n",
      "\n",
      "Fitting Tree\n",
      "--------------------------------------------------\n",
      "--------------------------------------------------------------------------------\n",
      "K Fold - Rodada 3\n",
      "\n",
      "Fitting Tree\n",
      "--------------------------------------------------\n",
      "--------------------------------------------------------------------------------\n",
      "K Fold - Rodada 4\n",
      "\n",
      "Fitting Tree\n",
      "--------------------------------------------------\n"
     ]
    }
   ],
   "source": [
    "tree_train_results = list()\n",
    "tree_test_results = list()\n",
    "for i, (train_index, test_index) in enumerate(pastas):\n",
    "    print(\"-\"*80)\n",
    "    print(f\"K Fold - Rodada {i}\\n\")\n",
    "    \n",
    "    X_train_cv = features_X.iloc[train_index, : ]\n",
    "    y_train_cv = y_train.iloc[train_index]\n",
    "    \n",
    "    X_test_cv = features_X.iloc[test_index, : ]\n",
    "    y_test_cv = y_train.iloc[test_index]\n",
    "    \n",
    "    print(\"Fitting Tree\")\n",
    "    cartTree.fit(X_train_cv, y_train_cv)\n",
    "    print(\"-\"*50)\n",
    "    \n",
    "    predicted_train = cartTree.predict(X_train_cv)\n",
    "    tree_train_results.append(score_results(y_train_cv, predicted_train, \"CART Tree - Treinamento\", verbose=False))\n",
    "        \n",
    "    predicted_test = cartTree.predict(X_test_cv)\n",
    "    tree_test_results.append(score_results(y_test_cv, predicted_test, \"CART Tree - Teste\", verbose=False))"
   ]
  },
  {
   "cell_type": "code",
   "execution_count": 285,
   "metadata": {
    "ExecuteTime": {
     "end_time": "2020-01-07T12:25:14.113534Z",
     "start_time": "2020-01-07T12:25:14.099531Z"
    }
   },
   "outputs": [
    {
     "name": "stdout",
     "output_type": "stream",
     "text": [
      "Train Balanced Accuraty: 99.92% \n",
      "Test Balanced Accuraty: 54.50% \n",
      "\n",
      "Train Precision: 100.00% \n",
      "Test Precision: 32.94% \n",
      "\n",
      "Train Recall: 99.84% \n",
      "Test Recall: 34.60% \n",
      "\n",
      "Train F1: 99.92% \n",
      "Test F1: 33.75% \n"
     ]
    }
   ],
   "source": [
    "print(\"Train Balanced Accuraty: {:.2f}% \".format(100*np.mean([result.balanced_accuracy for result in tree_train_results])))\n",
    "print(\"Test Balanced Accuraty: {:.2f}% \".format(100*np.mean([result.balanced_accuracy for result in tree_test_results])))\n",
    "print(\"\")\n",
    "print(\"Train Precision: {:.2f}% \".format(100*np.mean([result.precision for result in tree_train_results])))\n",
    "print(\"Test Precision: {:.2f}% \".format(100*np.mean([result.precision for result in tree_test_results])))\n",
    "print(\"\")\n",
    "print(\"Train Recall: {:.2f}% \".format(100*np.mean([result.recall for result in tree_train_results])))\n",
    "print(\"Test Recall: {:.2f}% \".format(100*np.mean([result.recall for result in tree_test_results])))\n",
    "print(\"\")\n",
    "print(\"Train F1: {:.2f}% \".format(100*np.mean([result.f1 for result in tree_train_results])))\n",
    "print(\"Test F1: {:.2f}% \".format(100*np.mean([result.f1  for result in tree_test_results])))"
   ]
  },
  {
   "cell_type": "markdown",
   "metadata": {},
   "source": [
    "## GLM\n"
   ]
  },
  {
   "cell_type": "code",
   "execution_count": 286,
   "metadata": {
    "ExecuteTime": {
     "end_time": "2020-01-07T12:25:23.356404Z",
     "start_time": "2020-01-07T12:25:23.350401Z"
    }
   },
   "outputs": [],
   "source": [
    "pastas = stratified_k_fold.split(features_X, y_train)"
   ]
  },
  {
   "cell_type": "code",
   "execution_count": 287,
   "metadata": {
    "ExecuteTime": {
     "end_time": "2020-01-07T12:25:24.297596Z",
     "start_time": "2020-01-07T12:25:23.878942Z"
    }
   },
   "outputs": [
    {
     "name": "stdout",
     "output_type": "stream",
     "text": [
      "--------------------------------------------------------------------------------\n",
      "K Fold - Rodada 0\n",
      "\n",
      "Creating GLM\n",
      "Fitting GLM\n",
      "                 Generalized Linear Model Regression Results                  \n",
      "==============================================================================\n",
      "Dep. Variable:             CLAIM_FLAG   No. Observations:                 5768\n",
      "Model:                            GLM   Df Residuals:                     5760\n",
      "Model Family:                Binomial   Df Model:                            7\n",
      "Link Function:                  logit   Scale:                          1.0000\n",
      "Method:                          IRLS   Log-Likelihood:                -3121.4\n",
      "Date:                Tue, 07 Jan 2020   Deviance:                       6242.9\n",
      "Time:                        09:25:23   Pearson chi2:                 5.77e+03\n",
      "No. Iterations:                     4                                         \n",
      "Covariance Type:            nonrobust                                         \n",
      "==============================================================================\n",
      "                 coef    std err          z      P>|z|      [0.025      0.975]\n",
      "------------------------------------------------------------------------------\n",
      "KIDSDRIV       0.3340      0.063      5.279      0.000       0.210       0.458\n",
      "AGE           -0.0178      0.002     -7.426      0.000      -0.023      -0.013\n",
      "HOMEKIDS       0.0698      0.030      2.306      0.021       0.010       0.129\n",
      "YOJ           -0.0316      0.007     -4.246      0.000      -0.046      -0.017\n",
      "TRAVTIME       0.0053      0.002      2.844      0.004       0.002       0.009\n",
      "TIF           -0.0470      0.008     -6.023      0.000      -0.062      -0.032\n",
      "MVR_PTS        0.1914      0.014     14.172      0.000       0.165       0.218\n",
      "CAR_AGE       -0.0382      0.006     -6.533      0.000      -0.050      -0.027\n",
      "==============================================================================\n",
      "--------------------------------------------------\n",
      "--- GLM - Teste ---\n",
      "Matrix de Confusão\n",
      "[[1024   34]\n",
      " [ 329   56]]\n",
      "Acurácia Balanceada:  55.67 % \n",
      "Falsos Positivos: 34, Falsos Negativos: 329\n",
      "Verdadeiros Positivos: 56, Verdadeiros Negativos: 1024\n",
      "Precisao (tp/(tp+fp)): 62.22%\n",
      "Recall (tp/(tp+fn)): 14.55  %\n",
      "--------------------------------------------------------------------------------\n",
      "--------------------------------------------------------------------------------\n",
      "K Fold - Rodada 1\n",
      "\n",
      "Creating GLM\n",
      "Fitting GLM\n",
      "                 Generalized Linear Model Regression Results                  \n",
      "==============================================================================\n",
      "Dep. Variable:             CLAIM_FLAG   No. Observations:                 5768\n",
      "Model:                            GLM   Df Residuals:                     5760\n",
      "Model Family:                Binomial   Df Model:                            7\n",
      "Link Function:                  logit   Scale:                          1.0000\n",
      "Method:                          IRLS   Log-Likelihood:                -3124.4\n",
      "Date:                Tue, 07 Jan 2020   Deviance:                       6248.9\n",
      "Time:                        09:25:23   Pearson chi2:                 5.78e+03\n",
      "No. Iterations:                     4                                         \n",
      "Covariance Type:            nonrobust                                         \n",
      "==============================================================================\n",
      "                 coef    std err          z      P>|z|      [0.025      0.975]\n",
      "------------------------------------------------------------------------------\n",
      "KIDSDRIV       0.3488      0.062      5.614      0.000       0.227       0.471\n",
      "AGE           -0.0195      0.002     -8.150      0.000      -0.024      -0.015\n",
      "HOMEKIDS       0.0612      0.030      2.031      0.042       0.002       0.120\n",
      "YOJ           -0.0264      0.007     -3.563      0.000      -0.041      -0.012\n",
      "TRAVTIME       0.0041      0.002      2.195      0.028       0.000       0.008\n",
      "TIF           -0.0470      0.008     -6.004      0.000      -0.062      -0.032\n",
      "MVR_PTS        0.1962      0.014     14.507      0.000       0.170       0.223\n",
      "CAR_AGE       -0.0321      0.006     -5.497      0.000      -0.044      -0.021\n",
      "==============================================================================\n",
      "--------------------------------------------------\n",
      "--- GLM - Teste ---\n",
      "Matrix de Confusão\n",
      "[[1020   38]\n",
      " [ 334   51]]\n",
      "Acurácia Balanceada:  54.83 % \n",
      "Falsos Positivos: 38, Falsos Negativos: 334\n",
      "Verdadeiros Positivos: 51, Verdadeiros Negativos: 1020\n",
      "Precisao (tp/(tp+fp)): 57.30%\n",
      "Recall (tp/(tp+fn)): 13.25  %\n",
      "--------------------------------------------------------------------------------\n",
      "--------------------------------------------------------------------------------\n",
      "K Fold - Rodada 2\n",
      "\n",
      "Creating GLM\n",
      "Fitting GLM\n",
      "                 Generalized Linear Model Regression Results                  \n",
      "==============================================================================\n",
      "Dep. Variable:             CLAIM_FLAG   No. Observations:                 5769\n",
      "Model:                            GLM   Df Residuals:                     5761\n",
      "Model Family:                Binomial   Df Model:                            7\n",
      "Link Function:                  logit   Scale:                          1.0000\n",
      "Method:                          IRLS   Log-Likelihood:                -3118.6\n",
      "Date:                Tue, 07 Jan 2020   Deviance:                       6237.1\n",
      "Time:                        09:25:24   Pearson chi2:                 5.78e+03\n",
      "No. Iterations:                     4                                         \n",
      "Covariance Type:            nonrobust                                         \n",
      "==============================================================================\n",
      "                 coef    std err          z      P>|z|      [0.025      0.975]\n",
      "------------------------------------------------------------------------------\n",
      "KIDSDRIV       0.3261      0.064      5.136      0.000       0.202       0.451\n",
      "AGE           -0.0213      0.002     -8.786      0.000      -0.026      -0.017\n",
      "HOMEKIDS       0.0726      0.030      2.407      0.016       0.013       0.132\n",
      "YOJ           -0.0210      0.008     -2.767      0.006      -0.036      -0.006\n",
      "TRAVTIME       0.0054      0.002      2.901      0.004       0.002       0.009\n",
      "TIF           -0.0496      0.008     -6.268      0.000      -0.065      -0.034\n",
      "MVR_PTS        0.1992      0.013     14.764      0.000       0.173       0.226\n",
      "CAR_AGE       -0.0333      0.006     -5.691      0.000      -0.045      -0.022\n",
      "==============================================================================\n",
      "--------------------------------------------------\n",
      "--- GLM - Teste ---\n",
      "Matrix de Confusão\n",
      "[[1013   45]\n",
      " [ 322   62]]\n",
      "Acurácia Balanceada:  55.95 % \n",
      "Falsos Positivos: 45, Falsos Negativos: 322\n",
      "Verdadeiros Positivos: 62, Verdadeiros Negativos: 1013\n",
      "Precisao (tp/(tp+fp)): 57.94%\n",
      "Recall (tp/(tp+fn)): 16.15  %\n",
      "--------------------------------------------------------------------------------\n",
      "--------------------------------------------------------------------------------\n",
      "K Fold - Rodada 3\n",
      "\n",
      "Creating GLM\n",
      "Fitting GLM\n",
      "                 Generalized Linear Model Regression Results                  \n",
      "==============================================================================\n",
      "Dep. Variable:             CLAIM_FLAG   No. Observations:                 5769\n",
      "Model:                            GLM   Df Residuals:                     5761\n",
      "Model Family:                Binomial   Df Model:                            7\n",
      "Link Function:                  logit   Scale:                          1.0000\n",
      "Method:                          IRLS   Log-Likelihood:                -3134.2\n",
      "Date:                Tue, 07 Jan 2020   Deviance:                       6268.4\n",
      "Time:                        09:25:24   Pearson chi2:                 5.78e+03\n",
      "No. Iterations:                     4                                         \n",
      "Covariance Type:            nonrobust                                         \n",
      "==============================================================================\n",
      "                 coef    std err          z      P>|z|      [0.025      0.975]\n",
      "------------------------------------------------------------------------------\n",
      "KIDSDRIV       0.2452      0.063      3.897      0.000       0.122       0.369\n",
      "AGE           -0.0193      0.002     -8.028      0.000      -0.024      -0.015\n",
      "HOMEKIDS       0.0800      0.030      2.655      0.008       0.021       0.139\n",
      "YOJ           -0.0287      0.007     -3.857      0.000      -0.043      -0.014\n",
      "TRAVTIME       0.0053      0.002      2.864      0.004       0.002       0.009\n",
      "TIF           -0.0529      0.008     -6.764      0.000      -0.068      -0.038\n",
      "MVR_PTS        0.1924      0.013     14.428      0.000       0.166       0.219\n",
      "CAR_AGE       -0.0295      0.006     -5.044      0.000      -0.041      -0.018\n",
      "==============================================================================\n",
      "--------------------------------------------------\n",
      "--- GLM - Teste ---\n",
      "Matrix de Confusão\n",
      "[[1036   22]\n",
      " [ 331   53]]\n",
      "Acurácia Balanceada:  55.86 % \n",
      "Falsos Positivos: 22, Falsos Negativos: 331\n",
      "Verdadeiros Positivos: 53, Verdadeiros Negativos: 1036\n",
      "Precisao (tp/(tp+fp)): 70.67%\n",
      "Recall (tp/(tp+fn)): 13.80  %\n",
      "--------------------------------------------------------------------------------\n",
      "--------------------------------------------------------------------------------\n",
      "K Fold - Rodada 4\n",
      "\n",
      "Creating GLM\n",
      "Fitting GLM\n",
      "                 Generalized Linear Model Regression Results                  \n",
      "==============================================================================\n",
      "Dep. Variable:             CLAIM_FLAG   No. Observations:                 5770\n",
      "Model:                            GLM   Df Residuals:                     5762\n",
      "Model Family:                Binomial   Df Model:                            7\n",
      "Link Function:                  logit   Scale:                          1.0000\n",
      "Method:                          IRLS   Log-Likelihood:                -3122.5\n",
      "Date:                Tue, 07 Jan 2020   Deviance:                       6244.9\n",
      "Time:                        09:25:24   Pearson chi2:                 5.77e+03\n",
      "No. Iterations:                     4                                         \n",
      "Covariance Type:            nonrobust                                         \n",
      "==============================================================================\n",
      "                 coef    std err          z      P>|z|      [0.025      0.975]\n",
      "------------------------------------------------------------------------------\n",
      "KIDSDRIV       0.3736      0.063      5.907      0.000       0.250       0.498\n",
      "AGE           -0.0195      0.002     -8.047      0.000      -0.024      -0.015\n",
      "HOMEKIDS       0.0559      0.031      1.833      0.067      -0.004       0.116\n",
      "YOJ           -0.0283      0.007     -3.800      0.000      -0.043      -0.014\n",
      "TRAVTIME       0.0058      0.002      3.086      0.002       0.002       0.009\n",
      "TIF           -0.0500      0.008     -6.422      0.000      -0.065      -0.035\n",
      "MVR_PTS        0.1926      0.014     14.254      0.000       0.166       0.219\n",
      "CAR_AGE       -0.0337      0.006     -5.727      0.000      -0.045      -0.022\n",
      "==============================================================================\n",
      "--------------------------------------------------\n"
     ]
    },
    {
     "name": "stdout",
     "output_type": "stream",
     "text": [
      "--- GLM - Teste ---\n",
      "Matrix de Confusão\n",
      "[[1007   50]\n",
      " [ 335   49]]\n",
      "Acurácia Balanceada:  54.02 % \n",
      "Falsos Positivos: 50, Falsos Negativos: 335\n",
      "Verdadeiros Positivos: 49, Verdadeiros Negativos: 1007\n",
      "Precisao (tp/(tp+fp)): 49.49%\n",
      "Recall (tp/(tp+fn)): 12.76  %\n",
      "--------------------------------------------------------------------------------\n"
     ]
    }
   ],
   "source": [
    "glm_train_results = list()\n",
    "glm_test_results = list()\n",
    "for i, (train_index, test_index) in enumerate(pastas):\n",
    "    print(\"-\"*80)\n",
    "    print(f\"K Fold - Rodada {i}\\n\")\n",
    "    \n",
    "    X_train_cv = features_X.iloc[train_index, : ]\n",
    "    y_train_cv = y_train.iloc[train_index]\n",
    "    \n",
    "    X_test_cv = features_X.iloc[test_index, : ]\n",
    "    y_test_cv = y_train.iloc[test_index]\n",
    "    \n",
    "    print(\"Creating GLM\")\n",
    "    glm = sm.GLM(exog = X_train_cv, endog = y_train_cv, family = sm.families.Binomial())\n",
    "    \n",
    "    print(\"Fitting GLM\")\n",
    "    predictor_glm = glm.fit()\n",
    "    print(predictor_glm.summary())\n",
    "    print(\"-\"*50)\n",
    "    \n",
    "    \n",
    "    predicted_train_probs = predictor_glm.predict(X_train_cv)\n",
    "    \n",
    "    predicted_train = (predicted_train_probs > GLM_TRESHOLD)\n",
    "    glm_train_results.append(score_results(y_train_cv, predicted_train, \"GLM - Treinamento\"))\n",
    "        \n",
    "    predicted_test_probs = predictor_glm.predict(X_test_cv)\n",
    "    predicted_test =  (predicted_test_probs > GLM_TRESHOLD )\n",
    "    glm_test_results.append(score_results(y_test_cv, predicted_test, \"GLM - Teste\", verbose = False))"
   ]
  },
  {
   "cell_type": "code",
   "execution_count": 288,
   "metadata": {
    "ExecuteTime": {
     "end_time": "2020-01-07T12:25:50.148822Z",
     "start_time": "2020-01-07T12:25:50.130823Z"
    }
   },
   "outputs": [
    {
     "name": "stdout",
     "output_type": "stream",
     "text": [
      "Train Balanced Accuraty: 55.27% \n",
      "Test Balanced Accuraty: 55.26% \n",
      "\n",
      "Train Precision: 58.90% \n",
      "Test Precision: 59.53% \n",
      "\n",
      "Train Recall: 14.11% \n",
      "Test Recall: 14.10% \n",
      "\n",
      "Train F1: 22.77% \n",
      "Test F1: 22.75% \n"
     ]
    }
   ],
   "source": [
    "print(\"Train Balanced Accuraty: {:.2f}% \".format(100*np.mean([result.balanced_accuracy for result in glm_train_results])))\n",
    "print(\"Test Balanced Accuraty: {:.2f}% \".format(100*np.mean([result.balanced_accuracy for result in glm_test_results])))\n",
    "print(\"\")\n",
    "print(\"Train Precision: {:.2f}% \".format(100*np.mean([result.precision for result in glm_train_results])))\n",
    "print(\"Test Precision: {:.2f}% \".format(100*np.mean([result.precision for result in glm_test_results])))\n",
    "print(\"\")\n",
    "print(\"Train Recall: {:.2f}% \".format(100*np.mean([result.recall for result in glm_train_results])))\n",
    "print(\"Test Recall: {:.2f}% \".format(100*np.mean([result.recall for result in glm_test_results])))\n",
    "print(\"\")\n",
    "print(\"Train F1: {:.2f}% \".format(100*np.mean([result.f1 for result in glm_train_results])))\n",
    "print(\"Test F1: {:.2f}% \".format(100*np.mean([result.f1  for result in glm_test_results])))"
   ]
  },
  {
   "cell_type": "markdown",
   "metadata": {
    "ExecuteTime": {
     "end_time": "2020-01-06T12:35:17.189393Z",
     "start_time": "2020-01-06T12:35:17.182393Z"
    }
   },
   "source": [
    "## RBF"
   ]
  },
  {
   "cell_type": "code",
   "execution_count": 289,
   "metadata": {
    "ExecuteTime": {
     "end_time": "2020-01-07T12:25:53.768573Z",
     "start_time": "2020-01-07T12:25:53.764571Z"
    }
   },
   "outputs": [],
   "source": [
    "import importlib\n",
    "import RBF"
   ]
  },
  {
   "cell_type": "code",
   "execution_count": 229,
   "metadata": {
    "ExecuteTime": {
     "end_time": "2020-01-07T12:03:21.209054Z",
     "start_time": "2020-01-07T12:03:21.198054Z"
    }
   },
   "outputs": [
    {
     "data": {
      "text/plain": [
       "<module 'RBF' from 'C:\\\\Users\\\\barban01\\\\Desktop\\\\Projetos\\\\UFABC\\\\TCC\\\\projeto_pdg\\\\RBF.py'>"
      ]
     },
     "execution_count": 229,
     "metadata": {},
     "output_type": "execute_result"
    }
   ],
   "source": [
    "# importlib.reload(RBF)"
   ]
  },
  {
   "cell_type": "code",
   "execution_count": 316,
   "metadata": {
    "ExecuteTime": {
     "end_time": "2020-01-07T12:36:40.622184Z",
     "start_time": "2020-01-07T12:36:40.618184Z"
    }
   },
   "outputs": [],
   "source": [
    "rbf_classifier = RBF.RBFClassifier(number_of_centers = 50, \n",
    "                               random_state = SEED, \n",
    "                               algorithm = LogisticRegression(class_weight=\"balanced\", solver = \"lbfgs\"))"
   ]
  },
  {
   "cell_type": "code",
   "execution_count": 317,
   "metadata": {
    "ExecuteTime": {
     "end_time": "2020-01-07T12:36:40.987610Z",
     "start_time": "2020-01-07T12:36:40.982608Z"
    }
   },
   "outputs": [],
   "source": [
    "pastas = stratified_k_fold.split(features_X, y_train)"
   ]
  },
  {
   "cell_type": "code",
   "execution_count": 318,
   "metadata": {
    "ExecuteTime": {
     "end_time": "2020-01-07T12:37:04.941604Z",
     "start_time": "2020-01-07T12:36:41.377444Z"
    },
    "scrolled": true
   },
   "outputs": [
    {
     "name": "stdout",
     "output_type": "stream",
     "text": [
      "--------------------------------------------------------------------------------\n",
      "K Fold - Rodada 0\n",
      "\n",
      "Fitting RBF Network\n"
     ]
    },
    {
     "name": "stderr",
     "output_type": "stream",
     "text": [
      "C:\\Users\\barban01\\AppData\\Local\\Continuum\\miniconda3\\envs\\pdg\\lib\\site-packages\\sklearn\\utils\\validation.py:724: DataConversionWarning: A column-vector y was passed when a 1d array was expected. Please change the shape of y to (n_samples, ), for example using ravel().\n",
      "  y = column_or_1d(y, warn=True)\n"
     ]
    },
    {
     "name": "stdout",
     "output_type": "stream",
     "text": [
      "--------------------------------------------------\n",
      "--- RBF Network - Teste ---\n",
      "Matrix de Confusão\n",
      "[[137 921]\n",
      " [ 39 346]]\n",
      "Acurácia Balanceada:  51.41 % \n",
      "Falsos Positivos: 921, Falsos Negativos: 39\n",
      "Verdadeiros Positivos: 346, Verdadeiros Negativos: 137\n",
      "Precisao (tp/(tp+fp)): 27.31%\n",
      "Recall (tp/(tp+fn)): 89.87  %\n",
      "--------------------------------------------------------------------------------\n",
      "--------------------------------------------------------------------------------\n",
      "K Fold - Rodada 1\n",
      "\n",
      "Fitting RBF Network\n"
     ]
    },
    {
     "name": "stderr",
     "output_type": "stream",
     "text": [
      "C:\\Users\\barban01\\Desktop\\Projetos\\UFABC\\TCC\\projeto_pdg\\RBF.py:43: RuntimeWarning: divide by zero encountered in double_scalars\n",
      "  normalization_constant = 1/(2*np.pi*variance)\n",
      "C:\\Users\\barban01\\Desktop\\Projetos\\UFABC\\TCC\\projeto_pdg\\RBF.py:44: RuntimeWarning: divide by zero encountered in true_divide\n",
      "  return normalization_constant * np.exp(-(dist/gamma))\n",
      "C:\\Users\\barban01\\Desktop\\Projetos\\UFABC\\TCC\\projeto_pdg\\RBF.py:44: RuntimeWarning: invalid value encountered in multiply\n",
      "  return normalization_constant * np.exp(-(dist/gamma))\n",
      "C:\\Users\\barban01\\AppData\\Local\\Continuum\\miniconda3\\envs\\pdg\\lib\\site-packages\\sklearn\\utils\\validation.py:724: DataConversionWarning: A column-vector y was passed when a 1d array was expected. Please change the shape of y to (n_samples, ), for example using ravel().\n",
      "  y = column_or_1d(y, warn=True)\n",
      "C:\\Users\\barban01\\Desktop\\Projetos\\UFABC\\TCC\\projeto_pdg\\RBF.py:43: RuntimeWarning: divide by zero encountered in double_scalars\n",
      "  normalization_constant = 1/(2*np.pi*variance)\n",
      "C:\\Users\\barban01\\Desktop\\Projetos\\UFABC\\TCC\\projeto_pdg\\RBF.py:44: RuntimeWarning: divide by zero encountered in true_divide\n",
      "  return normalization_constant * np.exp(-(dist/gamma))\n",
      "C:\\Users\\barban01\\Desktop\\Projetos\\UFABC\\TCC\\projeto_pdg\\RBF.py:44: RuntimeWarning: invalid value encountered in multiply\n",
      "  return normalization_constant * np.exp(-(dist/gamma))\n",
      "C:\\Users\\barban01\\Desktop\\Projetos\\UFABC\\TCC\\projeto_pdg\\RBF.py:43: RuntimeWarning: divide by zero encountered in double_scalars\n",
      "  normalization_constant = 1/(2*np.pi*variance)\n",
      "C:\\Users\\barban01\\Desktop\\Projetos\\UFABC\\TCC\\projeto_pdg\\RBF.py:44: RuntimeWarning: divide by zero encountered in true_divide\n",
      "  return normalization_constant * np.exp(-(dist/gamma))\n",
      "C:\\Users\\barban01\\Desktop\\Projetos\\UFABC\\TCC\\projeto_pdg\\RBF.py:44: RuntimeWarning: invalid value encountered in multiply\n",
      "  return normalization_constant * np.exp(-(dist/gamma))\n"
     ]
    },
    {
     "name": "stdout",
     "output_type": "stream",
     "text": [
      "--------------------------------------------------\n",
      "--- RBF Network - Teste ---\n",
      "Matrix de Confusão\n",
      "[[202 856]\n",
      " [ 40 345]]\n",
      "Acurácia Balanceada:  54.35 % \n",
      "Falsos Positivos: 856, Falsos Negativos: 40\n",
      "Verdadeiros Positivos: 345, Verdadeiros Negativos: 202\n",
      "Precisao (tp/(tp+fp)): 28.73%\n",
      "Recall (tp/(tp+fn)): 89.61  %\n",
      "--------------------------------------------------------------------------------\n",
      "--------------------------------------------------------------------------------\n",
      "K Fold - Rodada 2\n",
      "\n",
      "Fitting RBF Network\n"
     ]
    },
    {
     "name": "stderr",
     "output_type": "stream",
     "text": [
      "C:\\Users\\barban01\\AppData\\Local\\Continuum\\miniconda3\\envs\\pdg\\lib\\site-packages\\sklearn\\utils\\validation.py:724: DataConversionWarning: A column-vector y was passed when a 1d array was expected. Please change the shape of y to (n_samples, ), for example using ravel().\n",
      "  y = column_or_1d(y, warn=True)\n"
     ]
    },
    {
     "name": "stdout",
     "output_type": "stream",
     "text": [
      "--------------------------------------------------\n",
      "--- RBF Network - Teste ---\n",
      "Matrix de Confusão\n",
      "[[278 780]\n",
      " [ 57 327]]\n",
      "Acurácia Balanceada:  55.72 % \n",
      "Falsos Positivos: 780, Falsos Negativos: 57\n",
      "Verdadeiros Positivos: 327, Verdadeiros Negativos: 278\n",
      "Precisao (tp/(tp+fp)): 29.54%\n",
      "Recall (tp/(tp+fn)): 85.16  %\n",
      "--------------------------------------------------------------------------------\n",
      "--------------------------------------------------------------------------------\n",
      "K Fold - Rodada 3\n",
      "\n",
      "Fitting RBF Network\n"
     ]
    },
    {
     "name": "stderr",
     "output_type": "stream",
     "text": [
      "C:\\Users\\barban01\\AppData\\Local\\Continuum\\miniconda3\\envs\\pdg\\lib\\site-packages\\sklearn\\utils\\validation.py:724: DataConversionWarning: A column-vector y was passed when a 1d array was expected. Please change the shape of y to (n_samples, ), for example using ravel().\n",
      "  y = column_or_1d(y, warn=True)\n"
     ]
    },
    {
     "name": "stdout",
     "output_type": "stream",
     "text": [
      "--------------------------------------------------\n",
      "--- RBF Network - Teste ---\n",
      "Matrix de Confusão\n",
      "[[224 834]\n",
      " [ 45 339]]\n",
      "Acurácia Balanceada:  54.73 % \n",
      "Falsos Positivos: 834, Falsos Negativos: 45\n",
      "Verdadeiros Positivos: 339, Verdadeiros Negativos: 224\n",
      "Precisao (tp/(tp+fp)): 28.90%\n",
      "Recall (tp/(tp+fn)): 88.28  %\n",
      "--------------------------------------------------------------------------------\n",
      "--------------------------------------------------------------------------------\n",
      "K Fold - Rodada 4\n",
      "\n",
      "Fitting RBF Network\n",
      "--------------------------------------------------\n",
      "--- RBF Network - Teste ---\n",
      "Matrix de Confusão\n",
      "[[222 835]\n",
      " [ 41 343]]\n",
      "Acurácia Balanceada:  55.16 % \n",
      "Falsos Positivos: 835, Falsos Negativos: 41\n",
      "Verdadeiros Positivos: 343, Verdadeiros Negativos: 222\n",
      "Precisao (tp/(tp+fp)): 29.12%\n",
      "Recall (tp/(tp+fn)): 89.32  %\n",
      "--------------------------------------------------------------------------------\n"
     ]
    },
    {
     "name": "stderr",
     "output_type": "stream",
     "text": [
      "C:\\Users\\barban01\\AppData\\Local\\Continuum\\miniconda3\\envs\\pdg\\lib\\site-packages\\sklearn\\utils\\validation.py:724: DataConversionWarning: A column-vector y was passed when a 1d array was expected. Please change the shape of y to (n_samples, ), for example using ravel().\n",
      "  y = column_or_1d(y, warn=True)\n"
     ]
    }
   ],
   "source": [
    "rbf_train_results = list()\n",
    "rbf_test_results = list()\n",
    "for i, (train_index, test_index) in enumerate(pastas):\n",
    "    print(\"-\"*80)\n",
    "    print(f\"K Fold - Rodada {i}\\n\")\n",
    "    \n",
    "    X_train_cv = features_X.iloc[train_index, : ]\n",
    "    y_train_cv = y_train.iloc[train_index]\n",
    "    \n",
    "    X_test_cv = features_X.iloc[test_index, : ]\n",
    "    y_test_cv = y_train.iloc[test_index]\n",
    "    \n",
    "    print(\"Fitting RBF Network\")\n",
    "    rbf_classifier.fit(X_train_cv, y_train_cv)\n",
    "    print(\"-\"*50)\n",
    "    \n",
    "    predicted_train = rbf_classifier.predict(X_train_cv)\n",
    "    rbf_train_results.append(score_results(y_train_cv, predicted_train, \"RBF Network - Treinamento\"))\n",
    "        \n",
    "    predicted_test = rbf_classifier.predict(X_test_cv)\n",
    "    rbf_test_results.append(score_results(y_test_cv, predicted_test, \"RBF Network - Teste\", verbose = True))"
   ]
  },
  {
   "cell_type": "code",
   "execution_count": 319,
   "metadata": {
    "ExecuteTime": {
     "end_time": "2020-01-07T12:37:04.962621Z",
     "start_time": "2020-01-07T12:37:04.946622Z"
    },
    "scrolled": true
   },
   "outputs": [
    {
     "name": "stdout",
     "output_type": "stream",
     "text": [
      "Train Balanced Accuraty: 55.16% \n",
      "Test Balanced Accuraty: 54.27% \n",
      "\n",
      "Train Precision: 29.17% \n",
      "Test Precision: 28.72% \n",
      "\n",
      "Train Recall: 88.18% \n",
      "Test Recall: 88.45% \n",
      "\n",
      "Train F1: 43.82% \n",
      "Test F1: 43.34% \n"
     ]
    }
   ],
   "source": [
    "print(\"Train Balanced Accuraty: {:.2f}% \".format(100*np.mean([result.balanced_accuracy for result in rbf_train_results])))\n",
    "print(\"Test Balanced Accuraty: {:.2f}% \".format(100*np.mean([result.balanced_accuracy for result in rbf_test_results])))\n",
    "print(\"\")\n",
    "print(\"Train Precision: {:.2f}% \".format(100*np.mean([result.precision for result in rbf_train_results])))\n",
    "print(\"Test Precision: {:.2f}% \".format(100*np.mean([result.precision for result in rbf_test_results])))\n",
    "print(\"\")\n",
    "print(\"Train Recall: {:.2f}% \".format(100*np.mean([result.recall for result in rbf_train_results])))\n",
    "print(\"Test Recall: {:.2f}% \".format(100*np.mean([result.recall for result in rbf_test_results])))\n",
    "print(\"\")\n",
    "print(\"Train F1: {:.2f}% \".format(100*np.mean([result.f1 for result in rbf_train_results])))\n",
    "print(\"Test F1: {:.2f}% \".format(100*np.mean([result.f1  for result in rbf_test_results])))"
   ]
  },
  {
   "cell_type": "markdown",
   "metadata": {
    "ExecuteTime": {
     "end_time": "2020-01-06T12:51:57.775406Z",
     "start_time": "2020-01-06T12:51:57.772403Z"
    }
   },
   "source": [
    "# Results"
   ]
  },
  {
   "cell_type": "code",
   "execution_count": 320,
   "metadata": {
    "ExecuteTime": {
     "end_time": "2020-01-07T12:37:05.242620Z",
     "start_time": "2020-01-07T12:37:04.966630Z"
    }
   },
   "outputs": [
    {
     "name": "stdout",
     "output_type": "stream",
     "text": [
      "<< TREES >>\n",
      "Balanced Accuraty: 54.50% \n",
      "Precision: 32.94% \n",
      "Recall: 34.60% \n",
      "F1: 0.34 \n",
      "<< GLM >>\n",
      "Balanced Accuraty: 55.26% \n",
      "Precision: 59.53% \n",
      "Recall: 14.10% \n",
      "F1: 0.23 \n",
      "<< RBF >>\n",
      "Balanced Accuraty: 54.27% \n",
      "Precision: 28.72% \n",
      "Recall: 88.45% \n",
      "F1: 0.43 \n"
     ]
    }
   ],
   "source": [
    "print(\"<< TREES >>\")\n",
    "print(\"Balanced Accuraty: {:.2f}% \".format(100*np.mean([result.balanced_accuracy for result in tree_test_results])))\n",
    "print(\"Precision: {:.2f}% \".format(100*np.mean([result.precision for result in tree_test_results])))\n",
    "print(\"Recall: {:.2f}% \".format(100*np.mean([result.recall for result in tree_test_results])))\n",
    "print(\"F1: {:.2f} \".format(np.mean([result.f1 for result in tree_test_results])))\n",
    "\n",
    "print(\"<< GLM >>\")\n",
    "print(\"Balanced Accuraty: {:.2f}% \".format(100*np.mean([result.balanced_accuracy for result in glm_test_results])))\n",
    "print(\"Precision: {:.2f}% \".format(100*np.mean([result.precision for result in glm_test_results])))\n",
    "print(\"Recall: {:.2f}% \".format(100*np.mean([result.recall for result in glm_test_results])))\n",
    "print(\"F1: {:.2f} \".format(np.mean([result.f1 for result in glm_test_results])))\n",
    "\n",
    "print(\"<< RBF >>\")\n",
    "print(\"Balanced Accuraty: {:.2f}% \".format(100*np.mean([result.balanced_accuracy for result in rbf_test_results])))\n",
    "print(\"Precision: {:.2f}% \".format(100*np.mean([result.precision for result in rbf_test_results])))\n",
    "print(\"Recall: {:.2f}% \".format(100*np.mean([result.recall for result in rbf_test_results])))\n",
    "print(\"F1: {:.2f} \".format(np.mean([result.f1 for result in rbf_test_results])))"
   ]
  },
  {
   "cell_type": "markdown",
   "metadata": {
    "ExecuteTime": {
     "end_time": "2020-01-07T12:28:22.055181Z",
     "start_time": "2020-01-07T12:28:22.051191Z"
    }
   },
   "source": [
    "# Análise Detalhada"
   ]
  },
  {
   "cell_type": "code",
   "execution_count": 321,
   "metadata": {
    "ExecuteTime": {
     "end_time": "2020-01-07T12:37:05.259620Z",
     "start_time": "2020-01-07T12:37:05.247639Z"
    },
    "scrolled": true
   },
   "outputs": [
    {
     "name": "stdout",
     "output_type": "stream",
     "text": [
      "<< TREE >>\n",
      "Médias\n",
      "Total Real Positives: 1922.00\n",
      "Total Real Negatives: 5289.00\n",
      "Total Predicted Positives: 2019.00\n",
      "Total Predicted Negatives: 5192.00\n",
      "\n",
      "True Positives: 665.00\n",
      "True Negatives: 3935.00\n",
      "False Positives: 1354.00\n",
      "False Negatives: 1257.00\n",
      "\n",
      "Precision: 0.33\n",
      "Recall: 0.35\n",
      "Accuracy Positive(Recall): 0.35\n",
      "Accuracy Negative: 0.74\n",
      "Balanced Accuracy: 0.54\n",
      "F1 Score:  0.34\n",
      "\n",
      "<< GLM >>\n",
      "Médias\n",
      "Total Real Positives: 1922.00\n",
      "Total Real Negatives: 5289.00\n",
      "Total Predicted Positives: 460.00\n",
      "Total Predicted Negatives: 6751.00\n",
      "\n",
      "True Positives: 271.00\n",
      "True Negatives: 5100.00\n",
      "False Positives: 189.00\n",
      "False Negatives: 1651.00\n",
      "\n",
      "Precision: 0.59\n",
      "Recall: 0.14\n",
      "Accuracy Positive(Recall): 0.14\n",
      "Accuracy Negative: 0.96\n",
      "Balanced Accuracy: 0.55\n",
      "F1 Score:  0.23\n",
      "\n",
      "<< RBF >>\n",
      "Médias\n",
      "Total Real Positives: 1922.00\n",
      "Total Real Negatives: 5289.00\n",
      "Total Predicted Positives: 5926.00\n",
      "Total Predicted Negatives: 1285.00\n",
      "\n",
      "True Positives: 1700.00\n",
      "True Negatives: 1063.00\n",
      "False Positives: 4226.00\n",
      "False Negatives: 222.00\n",
      "\n",
      "Precision: 0.29\n",
      "Recall: 0.88\n",
      "Accuracy Positive(Recall): 0.88\n",
      "Accuracy Negative: 0.20\n",
      "Balanced Accuracy: 0.54\n",
      "F1 Score:  0.43\n",
      "\n"
     ]
    }
   ],
   "source": [
    "print(\"<< TREE >>\")\n",
    "imprime_matriz_de_confusao_media(tree_test_results)\n",
    "print(\"<< GLM >>\")\n",
    "imprime_matriz_de_confusao_media(glm_test_results)\n",
    "print(\"<< RBF >>\")\n",
    "imprime_matriz_de_confusao_media(rbf_test_results)"
   ]
  },
  {
   "cell_type": "code",
   "execution_count": null,
   "metadata": {},
   "outputs": [],
   "source": []
  }
 ],
 "metadata": {
  "kernelspec": {
   "display_name": "Python 3",
   "language": "python",
   "name": "python3"
  },
  "language_info": {
   "codemirror_mode": {
    "name": "ipython",
    "version": 3
   },
   "file_extension": ".py",
   "mimetype": "text/x-python",
   "name": "python",
   "nbconvert_exporter": "python",
   "pygments_lexer": "ipython3",
   "version": "3.7.3"
  },
  "latex_envs": {
   "LaTeX_envs_menu_present": true,
   "autoclose": false,
   "autocomplete": true,
   "bibliofile": "biblio.bib",
   "cite_by": "apalike",
   "current_citInitial": 1,
   "eqLabelWithNumbers": true,
   "eqNumInitial": 1,
   "hotkeys": {
    "equation": "Ctrl-E",
    "itemize": "Ctrl-I"
   },
   "labels_anchors": false,
   "latex_user_defs": false,
   "report_style_numbering": false,
   "user_envs_cfg": false
  },
  "toc": {
   "base_numbering": 1,
   "nav_menu": {},
   "number_sections": true,
   "sideBar": true,
   "skip_h1_title": false,
   "title_cell": "Table of Contents",
   "title_sidebar": "Contents",
   "toc_cell": false,
   "toc_position": {},
   "toc_section_display": true,
   "toc_window_display": false
  }
 },
 "nbformat": 4,
 "nbformat_minor": 2
}
