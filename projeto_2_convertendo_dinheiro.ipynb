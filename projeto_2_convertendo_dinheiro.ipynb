{
 "cells": [
  {
   "cell_type": "markdown",
   "metadata": {},
   "source": [
    "# Prep"
   ]
  },
  {
   "cell_type": "markdown",
   "metadata": {
    "ExecuteTime": {
     "end_time": "2020-01-06T11:10:55.839735Z",
     "start_time": "2020-01-06T11:10:55.827730Z"
    }
   },
   "source": [
    "## Imports"
   ]
  },
  {
   "cell_type": "code",
   "execution_count": 1,
   "metadata": {
    "ExecuteTime": {
     "end_time": "2020-01-09T12:25:42.413631Z",
     "start_time": "2020-01-09T12:25:36.179605Z"
    }
   },
   "outputs": [],
   "source": [
    "# Imports\n",
    "import pandas as pd;\n",
    "import numpy as np; \n",
    "\n",
    "import sklearn.preprocessing\n",
    "import sklearn.model_selection;\n",
    "import sklearn.metrics;\n",
    "from sklearn.linear_model import LogisticRegression\n",
    "\n",
    "# OBS: Scikit-Learn\n",
    "# scikit-learn uses an optimised version of the CART algorithm; however, scikit-learn implementation does not support categorical variables for now.\n",
    "# https://scikit-learn.org/stable/modules/tree.html\n",
    "from sklearn.tree import DecisionTreeClassifier; # Tree\n",
    "\n",
    "\n",
    "\n",
    "# WARNING: This api is different from the SKLEARN \n",
    "import statsmodels.api as sm; # GLM\n",
    "\n",
    "\n",
    "# Auxiliar\n",
    "from collections import namedtuple\n",
    "import importlib\n",
    "\n",
    "# From Author\n",
    "import RBF\n"
   ]
  },
  {
   "cell_type": "markdown",
   "metadata": {},
   "source": [
    "## Parameters"
   ]
  },
  {
   "cell_type": "code",
   "execution_count": 2,
   "metadata": {
    "ExecuteTime": {
     "end_time": "2020-01-09T12:25:42.424630Z",
     "start_time": "2020-01-09T12:25:42.417665Z"
    }
   },
   "outputs": [],
   "source": [
    "SEED = 42\n",
    "TRAIN_SIZE = 0.7\n",
    "data_under_analysis = \"data/car_insurance_claim.csv\"\n",
    "\n",
    "independent_variables = [\"KIDSDRIV\", \"BIRTH\", \n",
    "                            \"AGE\", \"HOMEKIDS\", \n",
    "                            \"YOJ\", \"INCOME\", \n",
    "                            \"PARENT1\", \"HOME_VAL\", \n",
    "                            \"MSTATUS\", \"GENDER\", \n",
    "                            \"EDUCATION\", \"OCCUPATION\", \n",
    "                            \"TRAVTIME\", \"CAR_USE\", \n",
    "                            \"BLUEBOOK\", \"TIF\", \n",
    "                            \"CAR_TYPE\", \"RED_CAR\", \n",
    "                            \"OLDCLAIM\",  \"REVOKED\", \n",
    "                            \"MVR_PTS\", \"CAR_AGE\"]\n",
    "\n",
    "dependent_variable_flag = [\"CLAIM_FLAG\"]\n",
    "dependent_variable_frequency = [\"CLM_FREQ\"]\n",
    "dependent_variable_value = [\"CLM_AMT\"]\n",
    "\n",
    "CV_SPLITS = 5\n",
    "\n",
    "GLM_TRESHOLD = 0.5"
   ]
  },
  {
   "cell_type": "markdown",
   "metadata": {},
   "source": [
    "## Auxiliar Functions"
   ]
  },
  {
   "cell_type": "code",
   "execution_count": 3,
   "metadata": {
    "ExecuteTime": {
     "end_time": "2020-01-09T12:25:42.449630Z",
     "start_time": "2020-01-09T12:25:42.428631Z"
    }
   },
   "outputs": [],
   "source": [
    "def score_results(y_real, y_predito, label, verbose = False):\n",
    "    \"\"\"Função personalizada que mostra os resultados de um classificador.\n",
    "\n",
    "    Arguments:\n",
    "        y_real -- O vetor com os dados esperados\n",
    "        y_predito -- O vetor com as predições\n",
    "        label -- Um título para essa análise, pode ser usado para facilitar a identificação do output.\"\"\"\n",
    "\n",
    "    matriz_de_confusao = sklearn.metrics.confusion_matrix(y_true = y_real, y_pred = y_predito)\n",
    "    try:\n",
    "        tn, fp, fn, tp = matriz_de_confusao.ravel()\n",
    "    except ValueError:\n",
    "        print(\"ValueError: Imprimindo matriz de confusão.\")\n",
    "        print(matriz_de_confusao)\n",
    "    \n",
    "    Resultados = namedtuple(\"Resultados\", [\"balanced_accuracy\",\"precision\",\"recall\", \"f1\", \"confusion_matrix\"])\n",
    "    \n",
    "    balanced_accuracy = sklearn.metrics.balanced_accuracy_score(y_true = y_real, y_pred = y_predito)\n",
    "    precision = tp/(tp+fp)\n",
    "    recall    = tp/(tp+fn)\n",
    "    f1 = 2*(precision * recall) / (precision + recall)\n",
    "    output = Resultados(balanced_accuracy = balanced_accuracy,\n",
    "                       precision = precision,\n",
    "                       recall    = recall,\n",
    "                       f1 =  f1,\n",
    "                        \n",
    "                       confusion_matrix = matriz_de_confusao)\n",
    "\n",
    "    if verbose:\n",
    "        print(f\"--- {label} ---\")\n",
    "        print(\"Matrix de Confusão\")\n",
    "        print(matriz_de_confusao)\n",
    "        print(\"Acurácia Balanceada: \", end=\" \")\n",
    "        print(f\"{100*output.balanced_accuracy :.2f} % \")\n",
    "        print(f\"Falsos Positivos: {fp}, Falsos Negativos: {fn}\\n\"+\n",
    "            f\"Verdadeiros Positivos: {tp}, Verdadeiros Negativos: {tn}\")\n",
    "        print(f\"Precisao (tp/(tp+fp)): {100* output.precision :.2f}%\")\n",
    "        print(f\"Recall (tp/(tp+fn)): {100* output.recall :.2f}  %\")\n",
    "\n",
    "        print(\"-\"*80)\n",
    "    return output\n"
   ]
  },
  {
   "cell_type": "code",
   "execution_count": 4,
   "metadata": {
    "ExecuteTime": {
     "end_time": "2020-01-09T12:25:42.471631Z",
     "start_time": "2020-01-09T12:25:42.453640Z"
    }
   },
   "outputs": [],
   "source": [
    "def imprime_matriz_de_confusao_media(test_results):\n",
    "    tns, tps, fps, fns = list(), list(), list(), list()\n",
    "    for index, result in enumerate(test_results):\n",
    "        confusion_matrix = result.confusion_matrix\n",
    "        #print(f\"Fit {index}\")\n",
    "        #print(confusion_matrix)\n",
    "        tnl, fpl, fnl, tpl = confusion_matrix.ravel()\n",
    "        tns.append(tnl)\n",
    "        fps.append(fpl)\n",
    "        fns.append(fnl)\n",
    "        tps.append(tpl)\n",
    "\n",
    "    tn = np.sum(tns)\n",
    "    tp = np.sum(tps)\n",
    "    fp = np.sum(fps)\n",
    "    fn = np.sum(fns)\n",
    "    \n",
    "    precision = tp/(tp+fp)\n",
    "    recall = tp/(tp+fn)\n",
    "    f1 = 2*(precision*recall) / (precision+recall)\n",
    "    print(\"Médias\")\n",
    "    print(f\"Total Real Positives: {tp+fn :.2f}\\nTotal Real Negatives: {tn+fp:.2f}\\n\" +\n",
    "          f\"Total Predicted Positives: {tp+fp:.2f}\\nTotal Predicted Negatives: {tn+fn:.2f}\\n\" +\n",
    "          \"\\n\"\n",
    "          f\"True Positives: {tp:.2f}\\nTrue Negatives: {tn:.2f}\\nFalse Positives: {fp:.2f}\\nFalse Negatives: {fn:.2f}\")\n",
    "    print(\"\")\n",
    "    print(f\"Precision: { precision :.2f}\\nRecall: { recall :.2f}\")\n",
    "    print(f\"Accuracy Positive(Recall): {tp/(tp+fn):.2f}\\nAccuracy Negative: {tn/(tn+fp):.2f}\")\n",
    "    print(f\"Balanced Accuracy: {((tp/(tp+fn)) + (tn/(tn+fp)))/2 :.2f}\")\n",
    "    print(f\"F1 Score: {f1 : .2f}\")\n",
    "    print(\"\")\n",
    " \n",
    "\n"
   ]
  },
  {
   "cell_type": "markdown",
   "metadata": {},
   "source": [
    "## Loading Dataset"
   ]
  },
  {
   "cell_type": "code",
   "execution_count": 5,
   "metadata": {
    "ExecuteTime": {
     "end_time": "2020-01-09T12:25:42.564626Z",
     "start_time": "2020-01-09T12:25:42.475646Z"
    }
   },
   "outputs": [],
   "source": [
    "data = pd.read_csv(data_under_analysis)"
   ]
  },
  {
   "cell_type": "code",
   "execution_count": 6,
   "metadata": {
    "ExecuteTime": {
     "end_time": "2020-01-09T12:25:42.708631Z",
     "start_time": "2020-01-09T12:25:42.566635Z"
    }
   },
   "outputs": [
    {
     "name": "stdout",
     "output_type": "stream",
     "text": [
      "10302 linhas e 27 colunas\n",
      "             0\n",
      "0           ID\n",
      "1     KIDSDRIV\n",
      "2        BIRTH\n",
      "3          AGE\n",
      "4     HOMEKIDS\n",
      "5          YOJ\n",
      "6       INCOME\n",
      "7      PARENT1\n",
      "8     HOME_VAL\n",
      "9      MSTATUS\n",
      "10      GENDER\n",
      "11   EDUCATION\n",
      "12  OCCUPATION\n",
      "13    TRAVTIME\n",
      "14     CAR_USE\n",
      "15    BLUEBOOK\n",
      "16         TIF\n",
      "17    CAR_TYPE\n",
      "18     RED_CAR\n",
      "19    OLDCLAIM\n",
      "20    CLM_FREQ\n",
      "21     REVOKED\n",
      "22     MVR_PTS\n",
      "23     CLM_AMT\n",
      "24     CAR_AGE\n",
      "25  CLAIM_FLAG\n",
      "26  URBANICITY\n",
      "                 ID      KIDSDRIV           AGE      HOMEKIDS          YOJ  \\\n",
      "count  1.030200e+04  10302.000000  10295.000000  10302.000000  9754.000000   \n",
      "mean   4.956631e+08      0.169288     44.837397      0.720443    10.474062   \n",
      "std    2.864675e+08      0.506512      8.606445      1.116323     4.108943   \n",
      "min    6.317500e+04      0.000000     16.000000      0.000000     0.000000   \n",
      "25%    2.442869e+08      0.000000     39.000000      0.000000     9.000000   \n",
      "50%    4.970043e+08      0.000000     45.000000      0.000000    11.000000   \n",
      "75%    7.394551e+08      0.000000     51.000000      1.000000    13.000000   \n",
      "max    9.999264e+08      4.000000     81.000000      5.000000    23.000000   \n",
      "\n",
      "           TRAVTIME           TIF      CLM_FREQ       MVR_PTS      CAR_AGE  \\\n",
      "count  10302.000000  10302.000000  10302.000000  10302.000000  9663.000000   \n",
      "mean      33.416424      5.329159      0.800718      1.710153     8.298148   \n",
      "std       15.869687      4.110795      1.154079      2.159015     5.714450   \n",
      "min        5.000000      1.000000      0.000000      0.000000    -3.000000   \n",
      "25%       22.000000      1.000000      0.000000      0.000000     1.000000   \n",
      "50%       33.000000      4.000000      0.000000      1.000000     8.000000   \n",
      "75%       44.000000      7.000000      2.000000      3.000000    12.000000   \n",
      "max      142.000000     25.000000      5.000000     13.000000    28.000000   \n",
      "\n",
      "         CLAIM_FLAG  \n",
      "count  10302.000000  \n",
      "mean       0.266550  \n",
      "std        0.442177  \n",
      "min        0.000000  \n",
      "25%        0.000000  \n",
      "50%        0.000000  \n",
      "75%        1.000000  \n",
      "max        1.000000  \n",
      "11\n"
     ]
    }
   ],
   "source": [
    "# Linhas / Colunas\n",
    "print(f\"{data.shape[0]} linhas e {data.shape[1]} colunas\")\n",
    "print(pd.DataFrame(data.columns))\n",
    "print(data.describe())\n",
    "print(data.describe().shape[1]) # Colunas Númericas\n"
   ]
  },
  {
   "cell_type": "markdown",
   "metadata": {
    "ExecuteTime": {
     "end_time": "2020-01-06T11:31:52.356164Z",
     "start_time": "2020-01-06T11:31:52.350164Z"
    }
   },
   "source": [
    "## Separating Data"
   ]
  },
  {
   "cell_type": "markdown",
   "metadata": {
    "ExecuteTime": {
     "end_time": "2020-01-06T11:41:13.836364Z",
     "start_time": "2020-01-06T11:41:13.833365Z"
    }
   },
   "source": [
    "### X e y"
   ]
  },
  {
   "cell_type": "code",
   "execution_count": 7,
   "metadata": {
    "ExecuteTime": {
     "end_time": "2020-01-09T12:25:42.721636Z",
     "start_time": "2020-01-09T12:25:42.710629Z"
    }
   },
   "outputs": [],
   "source": [
    "X_all = data.loc[ : , independent_variables]\n",
    "y_all = data.loc[ : , dependent_variable_flag]"
   ]
  },
  {
   "cell_type": "markdown",
   "metadata": {},
   "source": [
    "### Test and Validation"
   ]
  },
  {
   "cell_type": "code",
   "execution_count": 8,
   "metadata": {
    "ExecuteTime": {
     "end_time": "2020-01-09T12:25:42.799632Z",
     "start_time": "2020-01-09T12:25:42.725638Z"
    }
   },
   "outputs": [],
   "source": [
    "X_train, X_test, y_train, y_test = sklearn.model_selection.train_test_split(X_all, y_all, train_size = TRAIN_SIZE, random_state = SEED, stratify = y_all )"
   ]
  },
  {
   "cell_type": "code",
   "execution_count": 9,
   "metadata": {
    "ExecuteTime": {
     "end_time": "2020-01-09T12:25:42.805637Z",
     "start_time": "2020-01-09T12:25:42.802635Z"
    }
   },
   "outputs": [],
   "source": [
    "# Creating k_folder\n",
    "stratified_k_fold = sklearn.model_selection.StratifiedKFold(n_splits = CV_SPLITS, random_state = SEED )"
   ]
  },
  {
   "cell_type": "markdown",
   "metadata": {
    "ExecuteTime": {
     "end_time": "2020-01-06T11:49:34.114029Z",
     "start_time": "2020-01-06T11:49:34.110036Z"
    }
   },
   "source": [
    "# Data Editing"
   ]
  },
  {
   "cell_type": "markdown",
   "metadata": {
    "ExecuteTime": {
     "end_time": "2020-01-07T12:22:35.192836Z",
     "start_time": "2020-01-07T12:22:35.185835Z"
    }
   },
   "source": [
    "## Variáveis Numéricas"
   ]
  },
  {
   "cell_type": "markdown",
   "metadata": {},
   "source": [
    "A implementação de árvore do Sklearn só aceita variáveis numéricas. \n",
    "\n",
    "Nessa primeira etapa vamos considerar apenas elas, mas podemos tratar as variáveis categóricas no futuro."
   ]
  },
  {
   "cell_type": "code",
   "execution_count": 10,
   "metadata": {
    "ExecuteTime": {
     "end_time": "2020-01-09T12:25:42.822631Z",
     "start_time": "2020-01-09T12:25:42.808633Z"
    }
   },
   "outputs": [
    {
     "name": "stdout",
     "output_type": "stream",
     "text": [
      "Selecionando apenas variáveis numéricas.\n",
      "Formato de X de (7211, 22) para (7211, 8)\n",
      "Redução de 14 variáveis.\n"
     ]
    }
   ],
   "source": [
    "numerical_X = X_train._get_numeric_data()\n",
    "print(f\"Selecionando apenas variáveis numéricas.\\nFormato de X de {X_train.shape} para {numerical_X.shape}\")\n",
    "print(f\"Redução de {X_train.shape[1] - numerical_X.shape[1]} variáveis.\")"
   ]
  },
  {
   "cell_type": "code",
   "execution_count": 11,
   "metadata": {
    "ExecuteTime": {
     "end_time": "2020-01-09T12:25:42.839640Z",
     "start_time": "2020-01-09T12:25:42.825638Z"
    }
   },
   "outputs": [
    {
     "data": {
      "text/plain": [
       "Index(['KIDSDRIV', 'AGE', 'HOMEKIDS', 'YOJ', 'TRAVTIME', 'TIF', 'MVR_PTS',\n",
       "       'CAR_AGE'],\n",
       "      dtype='object')"
      ]
     },
     "execution_count": 11,
     "metadata": {},
     "output_type": "execute_result"
    }
   ],
   "source": [
    "numerical_X.columns"
   ]
  },
  {
   "cell_type": "code",
   "execution_count": 12,
   "metadata": {
    "ExecuteTime": {
     "end_time": "2020-01-09T12:25:42.863631Z",
     "start_time": "2020-01-09T12:25:42.842633Z"
    },
    "scrolled": true
   },
   "outputs": [
    {
     "name": "stdout",
     "output_type": "stream",
     "text": [
      "KIDSDRIV\n",
      "[0 2 1 3 4]\n",
      "AGE\n",
      "[54. 48. 28. 43. 53. 40. 41. 50. 42. 35. 51. 52. 38. 34. 60. 49. 45. 59.\n",
      " 55. 47. 37. 58. 56. 39. 46. 22. 44. 67. 62. 36. 30. 32. 33. 31. 26. 29.\n",
      " 66. 61. 24. 73. 27. 57. 65. 69. 25. 63. 21. 20. 64. 23. 70. 17. nan 68.\n",
      " 16. 18. 19. 72. 80. 71.]\n",
      "HOMEKIDS\n",
      "[0 2 3 1 4 5]\n",
      "YOJ\n",
      "[ 6. 12. 10. 14. 11. nan 17.  5. 16.  9.  0. 13.  8. 15.  7.  3.  4. 18.\n",
      " 19.  1.  2. 23.]\n",
      "TRAVTIME\n",
      "[ 14  42  50  44  72  37  35  52  30  33  41  29  36  46  39  19  38  21\n",
      "  22  48  76  10  27  16  45  34  59  56  13  49   5  23  31  28  18  32\n",
      "  15  88  53  63  55  40  64  58  25  82  62  69   6  43  60  57  70  26\n",
      "  65  20  17  11  51   9  12  47  71  87  24   8  66   7  67  61  54  86\n",
      "  78  85 134  77  74  68  75  81  89  79  80  97  84  90 105 103  73 124\n",
      "  91  92  95]\n",
      "TIF\n",
      "[ 7  1  4  6  3  9 13 17  8 11 10 14 12  5 15 19  2 21 16 18 20 25 22]\n",
      "MVR_PTS\n",
      "[ 3  1  6  4  0  5  2  9  8  7 11 10 12 13]\n",
      "CAR_AGE\n",
      "[ 5.  1. 11. 12.  6. 10. 15.  7.  8. nan 14.  9. 17. 16. 19. -3. 13. 18.\n",
      "  4. 22.  0. 21. 20. 25.  2.  3. 26. 23. 24. 28.]\n"
     ]
    }
   ],
   "source": [
    "for col in numerical_X.columns: print (f'{col}\\n{numerical_X[col].unique()}') "
   ]
  },
  {
   "cell_type": "markdown",
   "metadata": {},
   "source": [
    "### Colunas Categóricas\n",
    "Nenhuma colunas numéricas parecem ser uma codificação de categoria.\n",
    "\n",
    "Vamos analisar as colunas que foram deixadas de lado"
   ]
  },
  {
   "cell_type": "code",
   "execution_count": 13,
   "metadata": {
    "ExecuteTime": {
     "end_time": "2020-01-09T12:25:42.956632Z",
     "start_time": "2020-01-09T12:25:42.865633Z"
    }
   },
   "outputs": [
    {
     "data": {
      "text/html": [
       "<div>\n",
       "<style scoped>\n",
       "    .dataframe tbody tr th:only-of-type {\n",
       "        vertical-align: middle;\n",
       "    }\n",
       "\n",
       "    .dataframe tbody tr th {\n",
       "        vertical-align: top;\n",
       "    }\n",
       "\n",
       "    .dataframe thead th {\n",
       "        text-align: right;\n",
       "    }\n",
       "</style>\n",
       "<table border=\"1\" class=\"dataframe\">\n",
       "  <thead>\n",
       "    <tr style=\"text-align: right;\">\n",
       "      <th></th>\n",
       "      <th>CAR_USE</th>\n",
       "      <th>CAR_TYPE</th>\n",
       "      <th>PARENT1</th>\n",
       "      <th>OLDCLAIM</th>\n",
       "      <th>EDUCATION</th>\n",
       "      <th>MSTATUS</th>\n",
       "      <th>RED_CAR</th>\n",
       "      <th>GENDER</th>\n",
       "      <th>INCOME</th>\n",
       "      <th>HOME_VAL</th>\n",
       "      <th>OCCUPATION</th>\n",
       "      <th>BIRTH</th>\n",
       "      <th>REVOKED</th>\n",
       "      <th>BLUEBOOK</th>\n",
       "    </tr>\n",
       "  </thead>\n",
       "  <tbody>\n",
       "    <tr>\n",
       "      <th>count</th>\n",
       "      <td>7211</td>\n",
       "      <td>7211</td>\n",
       "      <td>7211</td>\n",
       "      <td>7211</td>\n",
       "      <td>7211</td>\n",
       "      <td>7211</td>\n",
       "      <td>7211</td>\n",
       "      <td>7211</td>\n",
       "      <td>6823</td>\n",
       "      <td>6802</td>\n",
       "      <td>6745</td>\n",
       "      <td>7211</td>\n",
       "      <td>7211</td>\n",
       "      <td>7211</td>\n",
       "    </tr>\n",
       "    <tr>\n",
       "      <th>unique</th>\n",
       "      <td>2</td>\n",
       "      <td>6</td>\n",
       "      <td>2</td>\n",
       "      <td>2577</td>\n",
       "      <td>5</td>\n",
       "      <td>2</td>\n",
       "      <td>2</td>\n",
       "      <td>2</td>\n",
       "      <td>5862</td>\n",
       "      <td>4497</td>\n",
       "      <td>8</td>\n",
       "      <td>5141</td>\n",
       "      <td>2</td>\n",
       "      <td>2671</td>\n",
       "    </tr>\n",
       "    <tr>\n",
       "      <th>top</th>\n",
       "      <td>Private</td>\n",
       "      <td>z_SUV</td>\n",
       "      <td>No</td>\n",
       "      <td>$0</td>\n",
       "      <td>z_High School</td>\n",
       "      <td>Yes</td>\n",
       "      <td>no</td>\n",
       "      <td>z_F</td>\n",
       "      <td>$0</td>\n",
       "      <td>$0</td>\n",
       "      <td>z_Blue Collar</td>\n",
       "      <td>23AUG60</td>\n",
       "      <td>No</td>\n",
       "      <td>$1,500</td>\n",
       "    </tr>\n",
       "    <tr>\n",
       "      <th>freq</th>\n",
       "      <td>4535</td>\n",
       "      <td>2030</td>\n",
       "      <td>6260</td>\n",
       "      <td>4406</td>\n",
       "      <td>2069</td>\n",
       "      <td>4312</td>\n",
       "      <td>5130</td>\n",
       "      <td>3903</td>\n",
       "      <td>560</td>\n",
       "      <td>2050</td>\n",
       "      <td>1603</td>\n",
       "      <td>6</td>\n",
       "      <td>6312</td>\n",
       "      <td>138</td>\n",
       "    </tr>\n",
       "  </tbody>\n",
       "</table>\n",
       "</div>"
      ],
      "text/plain": [
       "        CAR_USE CAR_TYPE PARENT1 OLDCLAIM      EDUCATION MSTATUS RED_CAR  \\\n",
       "count      7211     7211    7211     7211           7211    7211    7211   \n",
       "unique        2        6       2     2577              5       2       2   \n",
       "top     Private    z_SUV      No       $0  z_High School     Yes      no   \n",
       "freq       4535     2030    6260     4406           2069    4312    5130   \n",
       "\n",
       "       GENDER INCOME HOME_VAL     OCCUPATION    BIRTH REVOKED BLUEBOOK  \n",
       "count    7211   6823     6802           6745     7211    7211     7211  \n",
       "unique      2   5862     4497              8     5141       2     2671  \n",
       "top       z_F     $0       $0  z_Blue Collar  23AUG60      No   $1,500  \n",
       "freq     3903    560     2050           1603        6    6312      138  "
      ]
     },
     "execution_count": 13,
     "metadata": {},
     "output_type": "execute_result"
    }
   ],
   "source": [
    "categorical_columns = list(set(X_train.columns) - set(numerical_X.columns))\n",
    "categorical_X = X_train[categorical_columns]\n",
    "categorical_X.describe()"
   ]
  },
  {
   "cell_type": "markdown",
   "metadata": {},
   "source": [
    "Note que possuímos a variável AGE nas nossas variáveis numéricas. AGE está diretamente relacionada à BIRTH, por isso podemos excluir essa variável"
   ]
  },
  {
   "cell_type": "code",
   "execution_count": 14,
   "metadata": {
    "ExecuteTime": {
     "end_time": "2020-01-09T12:25:42.967639Z",
     "start_time": "2020-01-09T12:25:42.959634Z"
    }
   },
   "outputs": [],
   "source": [
    "categorical_X = categorical_X.drop(\"BIRTH\", axis = 1, inplace = False)"
   ]
  },
  {
   "cell_type": "markdown",
   "metadata": {
    "ExecuteTime": {
     "end_time": "2020-01-07T12:13:03.788717Z",
     "start_time": "2020-01-07T12:13:03.701717Z"
    }
   },
   "source": [
    "As variáveis BIRTH, INCOME, BLUEBOOK, HOME_VAL, OLDCLAIM possuem muitos valores únicos. Dessas, \n",
    "INCOME, BLUEBOOK, HOMEVAL e OLDCLAIM são, na verdade, variáveis numéricas(dinheiro)"
   ]
  },
  {
   "cell_type": "code",
   "execution_count": 15,
   "metadata": {
    "ExecuteTime": {
     "end_time": "2020-01-09T12:25:42.993632Z",
     "start_time": "2020-01-09T12:25:42.970636Z"
    }
   },
   "outputs": [
    {
     "data": {
      "text/html": [
       "<div>\n",
       "<style scoped>\n",
       "    .dataframe tbody tr th:only-of-type {\n",
       "        vertical-align: middle;\n",
       "    }\n",
       "\n",
       "    .dataframe tbody tr th {\n",
       "        vertical-align: top;\n",
       "    }\n",
       "\n",
       "    .dataframe thead th {\n",
       "        text-align: right;\n",
       "    }\n",
       "</style>\n",
       "<table border=\"1\" class=\"dataframe\">\n",
       "  <thead>\n",
       "    <tr style=\"text-align: right;\">\n",
       "      <th></th>\n",
       "      <th>INCOME</th>\n",
       "      <th>BLUEBOOK</th>\n",
       "      <th>HOME_VAL</th>\n",
       "      <th>OLDCLAIM</th>\n",
       "    </tr>\n",
       "  </thead>\n",
       "  <tbody>\n",
       "    <tr>\n",
       "      <th>878</th>\n",
       "      <td>$73,663</td>\n",
       "      <td>$41,310</td>\n",
       "      <td>$268,990</td>\n",
       "      <td>$36,700</td>\n",
       "    </tr>\n",
       "    <tr>\n",
       "      <th>5358</th>\n",
       "      <td>$34,669</td>\n",
       "      <td>$8,630</td>\n",
       "      <td>$146,134</td>\n",
       "      <td>$2,499</td>\n",
       "    </tr>\n",
       "    <tr>\n",
       "      <th>1433</th>\n",
       "      <td>$23,427</td>\n",
       "      <td>$6,640</td>\n",
       "      <td>$98,357</td>\n",
       "      <td>$17,308</td>\n",
       "    </tr>\n",
       "    <tr>\n",
       "      <th>2769</th>\n",
       "      <td>$54,593</td>\n",
       "      <td>$11,260</td>\n",
       "      <td>$221,267</td>\n",
       "      <td>$1,449</td>\n",
       "    </tr>\n",
       "    <tr>\n",
       "      <th>3326</th>\n",
       "      <td>$55,770</td>\n",
       "      <td>$12,380</td>\n",
       "      <td>$163,735</td>\n",
       "      <td>$0</td>\n",
       "    </tr>\n",
       "    <tr>\n",
       "      <th>...</th>\n",
       "      <td>...</td>\n",
       "      <td>...</td>\n",
       "      <td>...</td>\n",
       "      <td>...</td>\n",
       "    </tr>\n",
       "    <tr>\n",
       "      <th>152</th>\n",
       "      <td>$104,990</td>\n",
       "      <td>$16,080</td>\n",
       "      <td>$306,540</td>\n",
       "      <td>$0</td>\n",
       "    </tr>\n",
       "    <tr>\n",
       "      <th>6870</th>\n",
       "      <td>$152,283</td>\n",
       "      <td>$16,650</td>\n",
       "      <td>$441,904</td>\n",
       "      <td>$0</td>\n",
       "    </tr>\n",
       "    <tr>\n",
       "      <th>9663</th>\n",
       "      <td>$8,585</td>\n",
       "      <td>$13,540</td>\n",
       "      <td>$0</td>\n",
       "      <td>$4,451</td>\n",
       "    </tr>\n",
       "    <tr>\n",
       "      <th>1431</th>\n",
       "      <td>NaN</td>\n",
       "      <td>$19,600</td>\n",
       "      <td>$240,520</td>\n",
       "      <td>$3,220</td>\n",
       "    </tr>\n",
       "    <tr>\n",
       "      <th>1725</th>\n",
       "      <td>$141,297</td>\n",
       "      <td>$22,550</td>\n",
       "      <td>$0</td>\n",
       "      <td>$0</td>\n",
       "    </tr>\n",
       "  </tbody>\n",
       "</table>\n",
       "<p>7211 rows × 4 columns</p>\n",
       "</div>"
      ],
      "text/plain": [
       "        INCOME BLUEBOOK  HOME_VAL OLDCLAIM\n",
       "878    $73,663  $41,310  $268,990  $36,700\n",
       "5358   $34,669   $8,630  $146,134   $2,499\n",
       "1433   $23,427   $6,640   $98,357  $17,308\n",
       "2769   $54,593  $11,260  $221,267   $1,449\n",
       "3326   $55,770  $12,380  $163,735       $0\n",
       "...        ...      ...       ...      ...\n",
       "152   $104,990  $16,080  $306,540       $0\n",
       "6870  $152,283  $16,650  $441,904       $0\n",
       "9663    $8,585  $13,540        $0   $4,451\n",
       "1431       NaN  $19,600  $240,520   $3,220\n",
       "1725  $141,297  $22,550        $0       $0\n",
       "\n",
       "[7211 rows x 4 columns]"
      ]
     },
     "execution_count": 15,
     "metadata": {},
     "output_type": "execute_result"
    }
   ],
   "source": [
    "money_variables = [\"INCOME\", \"BLUEBOOK\", \"HOME_VAL\", \"OLDCLAIM\"]\n",
    "money_X =  categorical_X[money_variables]\n",
    "money_X"
   ]
  },
  {
   "cell_type": "code",
   "execution_count": 16,
   "metadata": {
    "ExecuteTime": {
     "end_time": "2020-01-09T12:25:43.065634Z",
     "start_time": "2020-01-09T12:25:42.996637Z"
    }
   },
   "outputs": [
    {
     "name": "stdout",
     "output_type": "stream",
     "text": [
      "(7211, 4)\n"
     ]
    },
    {
     "data": {
      "text/html": [
       "<div>\n",
       "<style scoped>\n",
       "    .dataframe tbody tr th:only-of-type {\n",
       "        vertical-align: middle;\n",
       "    }\n",
       "\n",
       "    .dataframe tbody tr th {\n",
       "        vertical-align: top;\n",
       "    }\n",
       "\n",
       "    .dataframe thead th {\n",
       "        text-align: right;\n",
       "    }\n",
       "</style>\n",
       "<table border=\"1\" class=\"dataframe\">\n",
       "  <thead>\n",
       "    <tr style=\"text-align: right;\">\n",
       "      <th></th>\n",
       "      <th>INCOME</th>\n",
       "      <th>BLUEBOOK</th>\n",
       "      <th>HOME_VAL</th>\n",
       "      <th>OLDCLAIM</th>\n",
       "    </tr>\n",
       "  </thead>\n",
       "  <tbody>\n",
       "    <tr>\n",
       "      <th>count</th>\n",
       "      <td>6823.000000</td>\n",
       "      <td>7211.000000</td>\n",
       "      <td>6802.000000</td>\n",
       "      <td>7211.000000</td>\n",
       "    </tr>\n",
       "    <tr>\n",
       "      <th>mean</th>\n",
       "      <td>61485.221603</td>\n",
       "      <td>15708.502288</td>\n",
       "      <td>154265.121729</td>\n",
       "      <td>4045.439606</td>\n",
       "    </tr>\n",
       "    <tr>\n",
       "      <th>std</th>\n",
       "      <td>47127.897336</td>\n",
       "      <td>8447.775453</td>\n",
       "      <td>128946.594306</td>\n",
       "      <td>8749.645497</td>\n",
       "    </tr>\n",
       "    <tr>\n",
       "      <th>min</th>\n",
       "      <td>0.000000</td>\n",
       "      <td>1500.000000</td>\n",
       "      <td>0.000000</td>\n",
       "      <td>0.000000</td>\n",
       "    </tr>\n",
       "    <tr>\n",
       "      <th>25%</th>\n",
       "      <td>28116.000000</td>\n",
       "      <td>9180.000000</td>\n",
       "      <td>0.000000</td>\n",
       "      <td>0.000000</td>\n",
       "    </tr>\n",
       "    <tr>\n",
       "      <th>50%</th>\n",
       "      <td>53643.000000</td>\n",
       "      <td>14430.000000</td>\n",
       "      <td>161881.500000</td>\n",
       "      <td>0.000000</td>\n",
       "    </tr>\n",
       "    <tr>\n",
       "      <th>75%</th>\n",
       "      <td>85598.000000</td>\n",
       "      <td>21015.000000</td>\n",
       "      <td>237715.750000</td>\n",
       "      <td>4637.000000</td>\n",
       "    </tr>\n",
       "    <tr>\n",
       "      <th>max</th>\n",
       "      <td>367030.000000</td>\n",
       "      <td>69740.000000</td>\n",
       "      <td>885282.000000</td>\n",
       "      <td>57037.000000</td>\n",
       "    </tr>\n",
       "  </tbody>\n",
       "</table>\n",
       "</div>"
      ],
      "text/plain": [
       "              INCOME      BLUEBOOK       HOME_VAL      OLDCLAIM\n",
       "count    6823.000000   7211.000000    6802.000000   7211.000000\n",
       "mean    61485.221603  15708.502288  154265.121729   4045.439606\n",
       "std     47127.897336   8447.775453  128946.594306   8749.645497\n",
       "min         0.000000   1500.000000       0.000000      0.000000\n",
       "25%     28116.000000   9180.000000       0.000000      0.000000\n",
       "50%     53643.000000  14430.000000  161881.500000      0.000000\n",
       "75%     85598.000000  21015.000000  237715.750000   4637.000000\n",
       "max    367030.000000  69740.000000  885282.000000  57037.000000"
      ]
     },
     "execution_count": 16,
     "metadata": {},
     "output_type": "execute_result"
    }
   ],
   "source": [
    "money_X = money_X.replace('[\\$,]', '', regex=True).astype(float)\n",
    "print(money_X.shape)\n",
    "money_X.describe()"
   ]
  },
  {
   "cell_type": "code",
   "execution_count": 17,
   "metadata": {
    "ExecuteTime": {
     "end_time": "2020-01-09T12:25:43.078639Z",
     "start_time": "2020-01-09T12:25:43.068634Z"
    }
   },
   "outputs": [
    {
     "name": "stdout",
     "output_type": "stream",
     "text": [
      "Alterado de (7211, 8) para (7211, 12)\n"
     ]
    }
   ],
   "source": [
    "before = numerical_X.shape\n",
    "numerical_X = numerical_X.join(money_X, on = None)\n",
    "after = numerical_X.shape\n",
    "print(f\"Alterado de {str(before)} para {str(after)}\")"
   ]
  },
  {
   "cell_type": "code",
   "execution_count": 18,
   "metadata": {
    "ExecuteTime": {
     "end_time": "2020-01-09T12:25:43.141634Z",
     "start_time": "2020-01-09T12:25:43.082635Z"
    }
   },
   "outputs": [
    {
     "data": {
      "text/html": [
       "<div>\n",
       "<style scoped>\n",
       "    .dataframe tbody tr th:only-of-type {\n",
       "        vertical-align: middle;\n",
       "    }\n",
       "\n",
       "    .dataframe tbody tr th {\n",
       "        vertical-align: top;\n",
       "    }\n",
       "\n",
       "    .dataframe thead th {\n",
       "        text-align: right;\n",
       "    }\n",
       "</style>\n",
       "<table border=\"1\" class=\"dataframe\">\n",
       "  <thead>\n",
       "    <tr style=\"text-align: right;\">\n",
       "      <th></th>\n",
       "      <th>CAR_TYPE</th>\n",
       "      <th>CAR_USE</th>\n",
       "      <th>PARENT1</th>\n",
       "      <th>EDUCATION</th>\n",
       "      <th>MSTATUS</th>\n",
       "      <th>RED_CAR</th>\n",
       "      <th>GENDER</th>\n",
       "      <th>OCCUPATION</th>\n",
       "      <th>REVOKED</th>\n",
       "    </tr>\n",
       "  </thead>\n",
       "  <tbody>\n",
       "    <tr>\n",
       "      <th>count</th>\n",
       "      <td>7211</td>\n",
       "      <td>7211</td>\n",
       "      <td>7211</td>\n",
       "      <td>7211</td>\n",
       "      <td>7211</td>\n",
       "      <td>7211</td>\n",
       "      <td>7211</td>\n",
       "      <td>6745</td>\n",
       "      <td>7211</td>\n",
       "    </tr>\n",
       "    <tr>\n",
       "      <th>unique</th>\n",
       "      <td>6</td>\n",
       "      <td>2</td>\n",
       "      <td>2</td>\n",
       "      <td>5</td>\n",
       "      <td>2</td>\n",
       "      <td>2</td>\n",
       "      <td>2</td>\n",
       "      <td>8</td>\n",
       "      <td>2</td>\n",
       "    </tr>\n",
       "    <tr>\n",
       "      <th>top</th>\n",
       "      <td>z_SUV</td>\n",
       "      <td>Private</td>\n",
       "      <td>No</td>\n",
       "      <td>z_High School</td>\n",
       "      <td>Yes</td>\n",
       "      <td>no</td>\n",
       "      <td>z_F</td>\n",
       "      <td>z_Blue Collar</td>\n",
       "      <td>No</td>\n",
       "    </tr>\n",
       "    <tr>\n",
       "      <th>freq</th>\n",
       "      <td>2030</td>\n",
       "      <td>4535</td>\n",
       "      <td>6260</td>\n",
       "      <td>2069</td>\n",
       "      <td>4312</td>\n",
       "      <td>5130</td>\n",
       "      <td>3903</td>\n",
       "      <td>1603</td>\n",
       "      <td>6312</td>\n",
       "    </tr>\n",
       "  </tbody>\n",
       "</table>\n",
       "</div>"
      ],
      "text/plain": [
       "       CAR_TYPE  CAR_USE PARENT1      EDUCATION MSTATUS RED_CAR GENDER  \\\n",
       "count      7211     7211    7211           7211    7211    7211   7211   \n",
       "unique        6        2       2              5       2       2      2   \n",
       "top       z_SUV  Private      No  z_High School     Yes      no    z_F   \n",
       "freq       2030     4535    6260           2069    4312    5130   3903   \n",
       "\n",
       "           OCCUPATION REVOKED  \n",
       "count            6745    7211  \n",
       "unique              8       2  \n",
       "top     z_Blue Collar      No  \n",
       "freq             1603    6312  "
      ]
     },
     "execution_count": 18,
     "metadata": {},
     "output_type": "execute_result"
    }
   ],
   "source": [
    "categorical_columns = list(set(categorical_X.columns) - set(numerical_X.columns))\n",
    "categorical_X = X_train[categorical_columns]\n",
    "categorical_X.describe()"
   ]
  },
  {
   "cell_type": "markdown",
   "metadata": {},
   "source": [
    "Existem valores null?"
   ]
  },
  {
   "cell_type": "code",
   "execution_count": 19,
   "metadata": {
    "ExecuteTime": {
     "end_time": "2020-01-09T12:25:43.156636Z",
     "start_time": "2020-01-09T12:25:43.143634Z"
    }
   },
   "outputs": [
    {
     "data": {
      "text/plain": [
       "CAR_TYPE        0\n",
       "CAR_USE         0\n",
       "PARENT1         0\n",
       "EDUCATION       0\n",
       "MSTATUS         0\n",
       "RED_CAR         0\n",
       "GENDER          0\n",
       "OCCUPATION    466\n",
       "REVOKED         0\n",
       "dtype: int64"
      ]
     },
     "execution_count": 19,
     "metadata": {},
     "output_type": "execute_result"
    }
   ],
   "source": [
    "categorical_X.isnull().sum()"
   ]
  },
  {
   "cell_type": "code",
   "execution_count": 20,
   "metadata": {
    "ExecuteTime": {
     "end_time": "2020-01-09T12:25:43.167639Z",
     "start_time": "2020-01-09T12:25:43.159635Z"
    }
   },
   "outputs": [
    {
     "data": {
      "text/plain": [
       "array(['Professional', 'Clerical', 'Lawyer', 'z_Blue Collar', 'Doctor',\n",
       "       'Home Maker', 'Manager', nan, 'Student'], dtype=object)"
      ]
     },
     "execution_count": 20,
     "metadata": {},
     "output_type": "execute_result"
    }
   ],
   "source": [
    "categorical_X[\"OCCUPATION\"].unique()"
   ]
  },
  {
   "cell_type": "code",
   "execution_count": 21,
   "metadata": {
    "ExecuteTime": {
     "end_time": "2020-01-09T12:25:43.188637Z",
     "start_time": "2020-01-09T12:25:43.170634Z"
    }
   },
   "outputs": [
    {
     "name": "stderr",
     "output_type": "stream",
     "text": [
      "C:\\Users\\barban01\\AppData\\Local\\Continuum\\miniconda3\\envs\\pdg\\lib\\site-packages\\pandas\\core\\indexing.py:576: SettingWithCopyWarning: \n",
      "A value is trying to be set on a copy of a slice from a DataFrame.\n",
      "Try using .loc[row_indexer,col_indexer] = value instead\n",
      "\n",
      "See the caveats in the documentation: http://pandas.pydata.org/pandas-docs/stable/user_guide/indexing.html#returning-a-view-versus-a-copy\n",
      "  self.obj[item_labels[indexer[info_axis]]] = value\n"
     ]
    },
    {
     "data": {
      "text/plain": [
       "array(['Professional', 'Clerical', 'Lawyer', 'z_Blue Collar', 'Doctor',\n",
       "       'Home Maker', 'Manager', 'Unknown', 'Student'], dtype=object)"
      ]
     },
     "execution_count": 21,
     "metadata": {},
     "output_type": "execute_result"
    }
   ],
   "source": [
    "categorical_X.loc[ : , \"OCCUPATION\"] = categorical_X.loc[ : , \"OCCUPATION\"].fillna(value = \"Unknown\", inplace = False)\n",
    "categorical_X[\"OCCUPATION\"].unique()"
   ]
  },
  {
   "cell_type": "markdown",
   "metadata": {
    "ExecuteTime": {
     "end_time": "2020-01-08T11:06:23.411005Z",
     "start_time": "2020-01-08T11:06:23.406042Z"
    }
   },
   "source": [
    "Agora podemos transformar essas variáveis categóricas em numéricas. Para isso vamos usar o OneHotEncoder"
   ]
  },
  {
   "cell_type": "code",
   "execution_count": 22,
   "metadata": {
    "ExecuteTime": {
     "end_time": "2020-01-09T12:25:43.203636Z",
     "start_time": "2020-01-09T12:25:43.191636Z"
    }
   },
   "outputs": [
    {
     "data": {
      "text/plain": [
       "array(['x0_Panel Truck', 'x0_Pickup', 'x0_Sports Car', 'x0_Van',\n",
       "       'x0_z_SUV', 'x1_Private', 'x2_Yes', 'x3_Bachelors', 'x3_Masters',\n",
       "       'x3_PhD', 'x3_z_High School', 'x4_z_No', 'x5_yes', 'x6_z_F',\n",
       "       'x7_Doctor', 'x7_Home Maker', 'x7_Lawyer', 'x7_Manager',\n",
       "       'x7_Professional', 'x7_Student', 'x7_Unknown', 'x7_z_Blue Collar',\n",
       "       'x8_Yes'], dtype=object)"
      ]
     },
     "execution_count": 22,
     "metadata": {},
     "output_type": "execute_result"
    }
   ],
   "source": [
    "encoder = sklearn.preprocessing.OneHotEncoder(categories = \"auto\", drop = \"first\", handle_unknown = \"error\", sparse = False)\n",
    "encoder.fit(categorical_X)\n",
    "encoder.categories_\n",
    "encoder.get_feature_names()"
   ]
  },
  {
   "cell_type": "code",
   "execution_count": 23,
   "metadata": {
    "ExecuteTime": {
     "end_time": "2020-01-09T12:25:43.241629Z",
     "start_time": "2020-01-09T12:25:43.209631Z"
    }
   },
   "outputs": [],
   "source": [
    "encoded_X = pd.DataFrame(encoder.transform(categorical_X))\n",
    "encoded_X.index = categorical_X.index"
   ]
  },
  {
   "cell_type": "code",
   "execution_count": 24,
   "metadata": {
    "ExecuteTime": {
     "end_time": "2020-01-09T12:25:43.292638Z",
     "start_time": "2020-01-09T12:25:43.244634Z"
    }
   },
   "outputs": [
    {
     "data": {
      "text/html": [
       "<div>\n",
       "<style scoped>\n",
       "    .dataframe tbody tr th:only-of-type {\n",
       "        vertical-align: middle;\n",
       "    }\n",
       "\n",
       "    .dataframe tbody tr th {\n",
       "        vertical-align: top;\n",
       "    }\n",
       "\n",
       "    .dataframe thead th {\n",
       "        text-align: right;\n",
       "    }\n",
       "</style>\n",
       "<table border=\"1\" class=\"dataframe\">\n",
       "  <thead>\n",
       "    <tr style=\"text-align: right;\">\n",
       "      <th></th>\n",
       "      <th>0</th>\n",
       "      <th>1</th>\n",
       "      <th>2</th>\n",
       "      <th>3</th>\n",
       "      <th>4</th>\n",
       "      <th>5</th>\n",
       "      <th>6</th>\n",
       "      <th>7</th>\n",
       "      <th>8</th>\n",
       "      <th>9</th>\n",
       "      <th>...</th>\n",
       "      <th>13</th>\n",
       "      <th>14</th>\n",
       "      <th>15</th>\n",
       "      <th>16</th>\n",
       "      <th>17</th>\n",
       "      <th>18</th>\n",
       "      <th>19</th>\n",
       "      <th>20</th>\n",
       "      <th>21</th>\n",
       "      <th>22</th>\n",
       "    </tr>\n",
       "  </thead>\n",
       "  <tbody>\n",
       "    <tr>\n",
       "      <th>878</th>\n",
       "      <td>1.0</td>\n",
       "      <td>0.0</td>\n",
       "      <td>0.0</td>\n",
       "      <td>0.0</td>\n",
       "      <td>0.0</td>\n",
       "      <td>0.0</td>\n",
       "      <td>0.0</td>\n",
       "      <td>1.0</td>\n",
       "      <td>0.0</td>\n",
       "      <td>0.0</td>\n",
       "      <td>...</td>\n",
       "      <td>0.0</td>\n",
       "      <td>0.0</td>\n",
       "      <td>0.0</td>\n",
       "      <td>0.0</td>\n",
       "      <td>0.0</td>\n",
       "      <td>1.0</td>\n",
       "      <td>0.0</td>\n",
       "      <td>0.0</td>\n",
       "      <td>0.0</td>\n",
       "      <td>1.0</td>\n",
       "    </tr>\n",
       "    <tr>\n",
       "      <th>5358</th>\n",
       "      <td>0.0</td>\n",
       "      <td>1.0</td>\n",
       "      <td>0.0</td>\n",
       "      <td>0.0</td>\n",
       "      <td>0.0</td>\n",
       "      <td>0.0</td>\n",
       "      <td>0.0</td>\n",
       "      <td>0.0</td>\n",
       "      <td>0.0</td>\n",
       "      <td>0.0</td>\n",
       "      <td>...</td>\n",
       "      <td>0.0</td>\n",
       "      <td>0.0</td>\n",
       "      <td>0.0</td>\n",
       "      <td>0.0</td>\n",
       "      <td>0.0</td>\n",
       "      <td>0.0</td>\n",
       "      <td>0.0</td>\n",
       "      <td>0.0</td>\n",
       "      <td>0.0</td>\n",
       "      <td>0.0</td>\n",
       "    </tr>\n",
       "    <tr>\n",
       "      <th>1433</th>\n",
       "      <td>0.0</td>\n",
       "      <td>0.0</td>\n",
       "      <td>0.0</td>\n",
       "      <td>0.0</td>\n",
       "      <td>1.0</td>\n",
       "      <td>1.0</td>\n",
       "      <td>0.0</td>\n",
       "      <td>0.0</td>\n",
       "      <td>0.0</td>\n",
       "      <td>0.0</td>\n",
       "      <td>...</td>\n",
       "      <td>1.0</td>\n",
       "      <td>0.0</td>\n",
       "      <td>0.0</td>\n",
       "      <td>0.0</td>\n",
       "      <td>0.0</td>\n",
       "      <td>0.0</td>\n",
       "      <td>0.0</td>\n",
       "      <td>0.0</td>\n",
       "      <td>0.0</td>\n",
       "      <td>1.0</td>\n",
       "    </tr>\n",
       "    <tr>\n",
       "      <th>2769</th>\n",
       "      <td>0.0</td>\n",
       "      <td>0.0</td>\n",
       "      <td>1.0</td>\n",
       "      <td>0.0</td>\n",
       "      <td>0.0</td>\n",
       "      <td>1.0</td>\n",
       "      <td>0.0</td>\n",
       "      <td>1.0</td>\n",
       "      <td>0.0</td>\n",
       "      <td>0.0</td>\n",
       "      <td>...</td>\n",
       "      <td>1.0</td>\n",
       "      <td>0.0</td>\n",
       "      <td>0.0</td>\n",
       "      <td>0.0</td>\n",
       "      <td>0.0</td>\n",
       "      <td>0.0</td>\n",
       "      <td>0.0</td>\n",
       "      <td>0.0</td>\n",
       "      <td>0.0</td>\n",
       "      <td>0.0</td>\n",
       "    </tr>\n",
       "    <tr>\n",
       "      <th>3326</th>\n",
       "      <td>0.0</td>\n",
       "      <td>0.0</td>\n",
       "      <td>0.0</td>\n",
       "      <td>0.0</td>\n",
       "      <td>0.0</td>\n",
       "      <td>1.0</td>\n",
       "      <td>0.0</td>\n",
       "      <td>0.0</td>\n",
       "      <td>1.0</td>\n",
       "      <td>0.0</td>\n",
       "      <td>...</td>\n",
       "      <td>0.0</td>\n",
       "      <td>0.0</td>\n",
       "      <td>0.0</td>\n",
       "      <td>1.0</td>\n",
       "      <td>0.0</td>\n",
       "      <td>0.0</td>\n",
       "      <td>0.0</td>\n",
       "      <td>0.0</td>\n",
       "      <td>0.0</td>\n",
       "      <td>0.0</td>\n",
       "    </tr>\n",
       "    <tr>\n",
       "      <th>...</th>\n",
       "      <td>...</td>\n",
       "      <td>...</td>\n",
       "      <td>...</td>\n",
       "      <td>...</td>\n",
       "      <td>...</td>\n",
       "      <td>...</td>\n",
       "      <td>...</td>\n",
       "      <td>...</td>\n",
       "      <td>...</td>\n",
       "      <td>...</td>\n",
       "      <td>...</td>\n",
       "      <td>...</td>\n",
       "      <td>...</td>\n",
       "      <td>...</td>\n",
       "      <td>...</td>\n",
       "      <td>...</td>\n",
       "      <td>...</td>\n",
       "      <td>...</td>\n",
       "      <td>...</td>\n",
       "      <td>...</td>\n",
       "      <td>...</td>\n",
       "    </tr>\n",
       "    <tr>\n",
       "      <th>152</th>\n",
       "      <td>0.0</td>\n",
       "      <td>0.0</td>\n",
       "      <td>0.0</td>\n",
       "      <td>0.0</td>\n",
       "      <td>1.0</td>\n",
       "      <td>1.0</td>\n",
       "      <td>0.0</td>\n",
       "      <td>1.0</td>\n",
       "      <td>0.0</td>\n",
       "      <td>0.0</td>\n",
       "      <td>...</td>\n",
       "      <td>1.0</td>\n",
       "      <td>0.0</td>\n",
       "      <td>0.0</td>\n",
       "      <td>0.0</td>\n",
       "      <td>0.0</td>\n",
       "      <td>1.0</td>\n",
       "      <td>0.0</td>\n",
       "      <td>0.0</td>\n",
       "      <td>0.0</td>\n",
       "      <td>0.0</td>\n",
       "    </tr>\n",
       "    <tr>\n",
       "      <th>6870</th>\n",
       "      <td>0.0</td>\n",
       "      <td>0.0</td>\n",
       "      <td>0.0</td>\n",
       "      <td>0.0</td>\n",
       "      <td>1.0</td>\n",
       "      <td>1.0</td>\n",
       "      <td>0.0</td>\n",
       "      <td>0.0</td>\n",
       "      <td>0.0</td>\n",
       "      <td>1.0</td>\n",
       "      <td>...</td>\n",
       "      <td>1.0</td>\n",
       "      <td>0.0</td>\n",
       "      <td>0.0</td>\n",
       "      <td>0.0</td>\n",
       "      <td>1.0</td>\n",
       "      <td>0.0</td>\n",
       "      <td>0.0</td>\n",
       "      <td>0.0</td>\n",
       "      <td>0.0</td>\n",
       "      <td>0.0</td>\n",
       "    </tr>\n",
       "    <tr>\n",
       "      <th>9663</th>\n",
       "      <td>0.0</td>\n",
       "      <td>0.0</td>\n",
       "      <td>0.0</td>\n",
       "      <td>0.0</td>\n",
       "      <td>0.0</td>\n",
       "      <td>0.0</td>\n",
       "      <td>0.0</td>\n",
       "      <td>0.0</td>\n",
       "      <td>0.0</td>\n",
       "      <td>0.0</td>\n",
       "      <td>...</td>\n",
       "      <td>0.0</td>\n",
       "      <td>0.0</td>\n",
       "      <td>0.0</td>\n",
       "      <td>0.0</td>\n",
       "      <td>0.0</td>\n",
       "      <td>0.0</td>\n",
       "      <td>1.0</td>\n",
       "      <td>0.0</td>\n",
       "      <td>0.0</td>\n",
       "      <td>0.0</td>\n",
       "    </tr>\n",
       "    <tr>\n",
       "      <th>1431</th>\n",
       "      <td>0.0</td>\n",
       "      <td>0.0</td>\n",
       "      <td>1.0</td>\n",
       "      <td>0.0</td>\n",
       "      <td>0.0</td>\n",
       "      <td>1.0</td>\n",
       "      <td>1.0</td>\n",
       "      <td>1.0</td>\n",
       "      <td>0.0</td>\n",
       "      <td>0.0</td>\n",
       "      <td>...</td>\n",
       "      <td>1.0</td>\n",
       "      <td>0.0</td>\n",
       "      <td>0.0</td>\n",
       "      <td>0.0</td>\n",
       "      <td>0.0</td>\n",
       "      <td>1.0</td>\n",
       "      <td>0.0</td>\n",
       "      <td>0.0</td>\n",
       "      <td>0.0</td>\n",
       "      <td>0.0</td>\n",
       "    </tr>\n",
       "    <tr>\n",
       "      <th>1725</th>\n",
       "      <td>1.0</td>\n",
       "      <td>0.0</td>\n",
       "      <td>0.0</td>\n",
       "      <td>0.0</td>\n",
       "      <td>0.0</td>\n",
       "      <td>0.0</td>\n",
       "      <td>0.0</td>\n",
       "      <td>0.0</td>\n",
       "      <td>1.0</td>\n",
       "      <td>0.0</td>\n",
       "      <td>...</td>\n",
       "      <td>0.0</td>\n",
       "      <td>0.0</td>\n",
       "      <td>0.0</td>\n",
       "      <td>0.0</td>\n",
       "      <td>0.0</td>\n",
       "      <td>0.0</td>\n",
       "      <td>0.0</td>\n",
       "      <td>1.0</td>\n",
       "      <td>0.0</td>\n",
       "      <td>0.0</td>\n",
       "    </tr>\n",
       "  </tbody>\n",
       "</table>\n",
       "<p>7211 rows × 23 columns</p>\n",
       "</div>"
      ],
      "text/plain": [
       "       0    1    2    3    4    5    6    7    8    9   ...   13   14   15  \\\n",
       "878   1.0  0.0  0.0  0.0  0.0  0.0  0.0  1.0  0.0  0.0  ...  0.0  0.0  0.0   \n",
       "5358  0.0  1.0  0.0  0.0  0.0  0.0  0.0  0.0  0.0  0.0  ...  0.0  0.0  0.0   \n",
       "1433  0.0  0.0  0.0  0.0  1.0  1.0  0.0  0.0  0.0  0.0  ...  1.0  0.0  0.0   \n",
       "2769  0.0  0.0  1.0  0.0  0.0  1.0  0.0  1.0  0.0  0.0  ...  1.0  0.0  0.0   \n",
       "3326  0.0  0.0  0.0  0.0  0.0  1.0  0.0  0.0  1.0  0.0  ...  0.0  0.0  0.0   \n",
       "...   ...  ...  ...  ...  ...  ...  ...  ...  ...  ...  ...  ...  ...  ...   \n",
       "152   0.0  0.0  0.0  0.0  1.0  1.0  0.0  1.0  0.0  0.0  ...  1.0  0.0  0.0   \n",
       "6870  0.0  0.0  0.0  0.0  1.0  1.0  0.0  0.0  0.0  1.0  ...  1.0  0.0  0.0   \n",
       "9663  0.0  0.0  0.0  0.0  0.0  0.0  0.0  0.0  0.0  0.0  ...  0.0  0.0  0.0   \n",
       "1431  0.0  0.0  1.0  0.0  0.0  1.0  1.0  1.0  0.0  0.0  ...  1.0  0.0  0.0   \n",
       "1725  1.0  0.0  0.0  0.0  0.0  0.0  0.0  0.0  1.0  0.0  ...  0.0  0.0  0.0   \n",
       "\n",
       "       16   17   18   19   20   21   22  \n",
       "878   0.0  0.0  1.0  0.0  0.0  0.0  1.0  \n",
       "5358  0.0  0.0  0.0  0.0  0.0  0.0  0.0  \n",
       "1433  0.0  0.0  0.0  0.0  0.0  0.0  1.0  \n",
       "2769  0.0  0.0  0.0  0.0  0.0  0.0  0.0  \n",
       "3326  1.0  0.0  0.0  0.0  0.0  0.0  0.0  \n",
       "...   ...  ...  ...  ...  ...  ...  ...  \n",
       "152   0.0  0.0  1.0  0.0  0.0  0.0  0.0  \n",
       "6870  0.0  1.0  0.0  0.0  0.0  0.0  0.0  \n",
       "9663  0.0  0.0  0.0  1.0  0.0  0.0  0.0  \n",
       "1431  0.0  0.0  1.0  0.0  0.0  0.0  0.0  \n",
       "1725  0.0  0.0  0.0  0.0  1.0  0.0  0.0  \n",
       "\n",
       "[7211 rows x 23 columns]"
      ]
     },
     "execution_count": 24,
     "metadata": {},
     "output_type": "execute_result"
    }
   ],
   "source": [
    "encoded_X"
   ]
  },
  {
   "cell_type": "markdown",
   "metadata": {},
   "source": [
    "## Features Dataset\n",
    "\n",
    "Esse será o dataset usado em nossas análises."
   ]
  },
  {
   "cell_type": "code",
   "execution_count": 25,
   "metadata": {
    "ExecuteTime": {
     "end_time": "2020-01-09T12:25:43.371633Z",
     "start_time": "2020-01-09T12:25:43.296633Z"
    }
   },
   "outputs": [
    {
     "data": {
      "text/html": [
       "<div>\n",
       "<style scoped>\n",
       "    .dataframe tbody tr th:only-of-type {\n",
       "        vertical-align: middle;\n",
       "    }\n",
       "\n",
       "    .dataframe tbody tr th {\n",
       "        vertical-align: top;\n",
       "    }\n",
       "\n",
       "    .dataframe thead th {\n",
       "        text-align: right;\n",
       "    }\n",
       "</style>\n",
       "<table border=\"1\" class=\"dataframe\">\n",
       "  <thead>\n",
       "    <tr style=\"text-align: right;\">\n",
       "      <th></th>\n",
       "      <th>KIDSDRIV</th>\n",
       "      <th>AGE</th>\n",
       "      <th>HOMEKIDS</th>\n",
       "      <th>YOJ</th>\n",
       "      <th>TRAVTIME</th>\n",
       "      <th>TIF</th>\n",
       "      <th>MVR_PTS</th>\n",
       "      <th>CAR_AGE</th>\n",
       "      <th>INCOME</th>\n",
       "      <th>BLUEBOOK</th>\n",
       "      <th>...</th>\n",
       "      <th>13</th>\n",
       "      <th>14</th>\n",
       "      <th>15</th>\n",
       "      <th>16</th>\n",
       "      <th>17</th>\n",
       "      <th>18</th>\n",
       "      <th>19</th>\n",
       "      <th>20</th>\n",
       "      <th>21</th>\n",
       "      <th>22</th>\n",
       "    </tr>\n",
       "  </thead>\n",
       "  <tbody>\n",
       "    <tr>\n",
       "      <th>878</th>\n",
       "      <td>0</td>\n",
       "      <td>54.0</td>\n",
       "      <td>0</td>\n",
       "      <td>6.000000</td>\n",
       "      <td>14</td>\n",
       "      <td>7</td>\n",
       "      <td>3</td>\n",
       "      <td>5.0</td>\n",
       "      <td>73663.000000</td>\n",
       "      <td>41310.0</td>\n",
       "      <td>...</td>\n",
       "      <td>0.0</td>\n",
       "      <td>0.0</td>\n",
       "      <td>0.0</td>\n",
       "      <td>0.0</td>\n",
       "      <td>0.0</td>\n",
       "      <td>1.0</td>\n",
       "      <td>0.0</td>\n",
       "      <td>0.0</td>\n",
       "      <td>0.0</td>\n",
       "      <td>1.0</td>\n",
       "    </tr>\n",
       "    <tr>\n",
       "      <th>5358</th>\n",
       "      <td>0</td>\n",
       "      <td>48.0</td>\n",
       "      <td>0</td>\n",
       "      <td>12.000000</td>\n",
       "      <td>42</td>\n",
       "      <td>1</td>\n",
       "      <td>1</td>\n",
       "      <td>1.0</td>\n",
       "      <td>34669.000000</td>\n",
       "      <td>8630.0</td>\n",
       "      <td>...</td>\n",
       "      <td>0.0</td>\n",
       "      <td>0.0</td>\n",
       "      <td>0.0</td>\n",
       "      <td>0.0</td>\n",
       "      <td>0.0</td>\n",
       "      <td>0.0</td>\n",
       "      <td>0.0</td>\n",
       "      <td>0.0</td>\n",
       "      <td>0.0</td>\n",
       "      <td>0.0</td>\n",
       "    </tr>\n",
       "    <tr>\n",
       "      <th>1433</th>\n",
       "      <td>0</td>\n",
       "      <td>28.0</td>\n",
       "      <td>2</td>\n",
       "      <td>10.000000</td>\n",
       "      <td>50</td>\n",
       "      <td>4</td>\n",
       "      <td>6</td>\n",
       "      <td>1.0</td>\n",
       "      <td>23427.000000</td>\n",
       "      <td>6640.0</td>\n",
       "      <td>...</td>\n",
       "      <td>1.0</td>\n",
       "      <td>0.0</td>\n",
       "      <td>0.0</td>\n",
       "      <td>0.0</td>\n",
       "      <td>0.0</td>\n",
       "      <td>0.0</td>\n",
       "      <td>0.0</td>\n",
       "      <td>0.0</td>\n",
       "      <td>0.0</td>\n",
       "      <td>1.0</td>\n",
       "    </tr>\n",
       "    <tr>\n",
       "      <th>2769</th>\n",
       "      <td>0</td>\n",
       "      <td>43.0</td>\n",
       "      <td>2</td>\n",
       "      <td>14.000000</td>\n",
       "      <td>14</td>\n",
       "      <td>1</td>\n",
       "      <td>4</td>\n",
       "      <td>11.0</td>\n",
       "      <td>54593.000000</td>\n",
       "      <td>11260.0</td>\n",
       "      <td>...</td>\n",
       "      <td>1.0</td>\n",
       "      <td>0.0</td>\n",
       "      <td>0.0</td>\n",
       "      <td>0.0</td>\n",
       "      <td>0.0</td>\n",
       "      <td>0.0</td>\n",
       "      <td>0.0</td>\n",
       "      <td>0.0</td>\n",
       "      <td>0.0</td>\n",
       "      <td>0.0</td>\n",
       "    </tr>\n",
       "    <tr>\n",
       "      <th>3326</th>\n",
       "      <td>0</td>\n",
       "      <td>53.0</td>\n",
       "      <td>0</td>\n",
       "      <td>14.000000</td>\n",
       "      <td>44</td>\n",
       "      <td>6</td>\n",
       "      <td>0</td>\n",
       "      <td>12.0</td>\n",
       "      <td>55770.000000</td>\n",
       "      <td>12380.0</td>\n",
       "      <td>...</td>\n",
       "      <td>0.0</td>\n",
       "      <td>0.0</td>\n",
       "      <td>0.0</td>\n",
       "      <td>1.0</td>\n",
       "      <td>0.0</td>\n",
       "      <td>0.0</td>\n",
       "      <td>0.0</td>\n",
       "      <td>0.0</td>\n",
       "      <td>0.0</td>\n",
       "      <td>0.0</td>\n",
       "    </tr>\n",
       "    <tr>\n",
       "      <th>...</th>\n",
       "      <td>...</td>\n",
       "      <td>...</td>\n",
       "      <td>...</td>\n",
       "      <td>...</td>\n",
       "      <td>...</td>\n",
       "      <td>...</td>\n",
       "      <td>...</td>\n",
       "      <td>...</td>\n",
       "      <td>...</td>\n",
       "      <td>...</td>\n",
       "      <td>...</td>\n",
       "      <td>...</td>\n",
       "      <td>...</td>\n",
       "      <td>...</td>\n",
       "      <td>...</td>\n",
       "      <td>...</td>\n",
       "      <td>...</td>\n",
       "      <td>...</td>\n",
       "      <td>...</td>\n",
       "      <td>...</td>\n",
       "      <td>...</td>\n",
       "    </tr>\n",
       "    <tr>\n",
       "      <th>152</th>\n",
       "      <td>0</td>\n",
       "      <td>46.0</td>\n",
       "      <td>0</td>\n",
       "      <td>10.000000</td>\n",
       "      <td>40</td>\n",
       "      <td>13</td>\n",
       "      <td>0</td>\n",
       "      <td>7.0</td>\n",
       "      <td>104990.000000</td>\n",
       "      <td>16080.0</td>\n",
       "      <td>...</td>\n",
       "      <td>1.0</td>\n",
       "      <td>0.0</td>\n",
       "      <td>0.0</td>\n",
       "      <td>0.0</td>\n",
       "      <td>0.0</td>\n",
       "      <td>1.0</td>\n",
       "      <td>0.0</td>\n",
       "      <td>0.0</td>\n",
       "      <td>0.0</td>\n",
       "      <td>0.0</td>\n",
       "    </tr>\n",
       "    <tr>\n",
       "      <th>6870</th>\n",
       "      <td>0</td>\n",
       "      <td>50.0</td>\n",
       "      <td>0</td>\n",
       "      <td>10.449488</td>\n",
       "      <td>12</td>\n",
       "      <td>1</td>\n",
       "      <td>0</td>\n",
       "      <td>18.0</td>\n",
       "      <td>152283.000000</td>\n",
       "      <td>16650.0</td>\n",
       "      <td>...</td>\n",
       "      <td>1.0</td>\n",
       "      <td>0.0</td>\n",
       "      <td>0.0</td>\n",
       "      <td>0.0</td>\n",
       "      <td>1.0</td>\n",
       "      <td>0.0</td>\n",
       "      <td>0.0</td>\n",
       "      <td>0.0</td>\n",
       "      <td>0.0</td>\n",
       "      <td>0.0</td>\n",
       "    </tr>\n",
       "    <tr>\n",
       "      <th>9663</th>\n",
       "      <td>0</td>\n",
       "      <td>40.0</td>\n",
       "      <td>0</td>\n",
       "      <td>12.000000</td>\n",
       "      <td>34</td>\n",
       "      <td>7</td>\n",
       "      <td>0</td>\n",
       "      <td>1.0</td>\n",
       "      <td>8585.000000</td>\n",
       "      <td>13540.0</td>\n",
       "      <td>...</td>\n",
       "      <td>0.0</td>\n",
       "      <td>0.0</td>\n",
       "      <td>0.0</td>\n",
       "      <td>0.0</td>\n",
       "      <td>0.0</td>\n",
       "      <td>0.0</td>\n",
       "      <td>1.0</td>\n",
       "      <td>0.0</td>\n",
       "      <td>0.0</td>\n",
       "      <td>0.0</td>\n",
       "    </tr>\n",
       "    <tr>\n",
       "      <th>1431</th>\n",
       "      <td>0</td>\n",
       "      <td>41.0</td>\n",
       "      <td>2</td>\n",
       "      <td>13.000000</td>\n",
       "      <td>25</td>\n",
       "      <td>4</td>\n",
       "      <td>0</td>\n",
       "      <td>7.0</td>\n",
       "      <td>61485.221603</td>\n",
       "      <td>19600.0</td>\n",
       "      <td>...</td>\n",
       "      <td>1.0</td>\n",
       "      <td>0.0</td>\n",
       "      <td>0.0</td>\n",
       "      <td>0.0</td>\n",
       "      <td>0.0</td>\n",
       "      <td>1.0</td>\n",
       "      <td>0.0</td>\n",
       "      <td>0.0</td>\n",
       "      <td>0.0</td>\n",
       "      <td>0.0</td>\n",
       "    </tr>\n",
       "    <tr>\n",
       "      <th>1725</th>\n",
       "      <td>0</td>\n",
       "      <td>48.0</td>\n",
       "      <td>0</td>\n",
       "      <td>11.000000</td>\n",
       "      <td>31</td>\n",
       "      <td>4</td>\n",
       "      <td>1</td>\n",
       "      <td>10.0</td>\n",
       "      <td>141297.000000</td>\n",
       "      <td>22550.0</td>\n",
       "      <td>...</td>\n",
       "      <td>0.0</td>\n",
       "      <td>0.0</td>\n",
       "      <td>0.0</td>\n",
       "      <td>0.0</td>\n",
       "      <td>0.0</td>\n",
       "      <td>0.0</td>\n",
       "      <td>0.0</td>\n",
       "      <td>1.0</td>\n",
       "      <td>0.0</td>\n",
       "      <td>0.0</td>\n",
       "    </tr>\n",
       "  </tbody>\n",
       "</table>\n",
       "<p>7211 rows × 35 columns</p>\n",
       "</div>"
      ],
      "text/plain": [
       "      KIDSDRIV   AGE  HOMEKIDS        YOJ  TRAVTIME  TIF  MVR_PTS  CAR_AGE  \\\n",
       "878          0  54.0         0   6.000000        14    7        3      5.0   \n",
       "5358         0  48.0         0  12.000000        42    1        1      1.0   \n",
       "1433         0  28.0         2  10.000000        50    4        6      1.0   \n",
       "2769         0  43.0         2  14.000000        14    1        4     11.0   \n",
       "3326         0  53.0         0  14.000000        44    6        0     12.0   \n",
       "...        ...   ...       ...        ...       ...  ...      ...      ...   \n",
       "152          0  46.0         0  10.000000        40   13        0      7.0   \n",
       "6870         0  50.0         0  10.449488        12    1        0     18.0   \n",
       "9663         0  40.0         0  12.000000        34    7        0      1.0   \n",
       "1431         0  41.0         2  13.000000        25    4        0      7.0   \n",
       "1725         0  48.0         0  11.000000        31    4        1     10.0   \n",
       "\n",
       "             INCOME  BLUEBOOK  ...   13   14   15   16   17   18   19   20  \\\n",
       "878    73663.000000   41310.0  ...  0.0  0.0  0.0  0.0  0.0  1.0  0.0  0.0   \n",
       "5358   34669.000000    8630.0  ...  0.0  0.0  0.0  0.0  0.0  0.0  0.0  0.0   \n",
       "1433   23427.000000    6640.0  ...  1.0  0.0  0.0  0.0  0.0  0.0  0.0  0.0   \n",
       "2769   54593.000000   11260.0  ...  1.0  0.0  0.0  0.0  0.0  0.0  0.0  0.0   \n",
       "3326   55770.000000   12380.0  ...  0.0  0.0  0.0  1.0  0.0  0.0  0.0  0.0   \n",
       "...             ...       ...  ...  ...  ...  ...  ...  ...  ...  ...  ...   \n",
       "152   104990.000000   16080.0  ...  1.0  0.0  0.0  0.0  0.0  1.0  0.0  0.0   \n",
       "6870  152283.000000   16650.0  ...  1.0  0.0  0.0  0.0  1.0  0.0  0.0  0.0   \n",
       "9663    8585.000000   13540.0  ...  0.0  0.0  0.0  0.0  0.0  0.0  1.0  0.0   \n",
       "1431   61485.221603   19600.0  ...  1.0  0.0  0.0  0.0  0.0  1.0  0.0  0.0   \n",
       "1725  141297.000000   22550.0  ...  0.0  0.0  0.0  0.0  0.0  0.0  0.0  1.0   \n",
       "\n",
       "       21   22  \n",
       "878   0.0  1.0  \n",
       "5358  0.0  0.0  \n",
       "1433  0.0  1.0  \n",
       "2769  0.0  0.0  \n",
       "3326  0.0  0.0  \n",
       "...   ...  ...  \n",
       "152   0.0  0.0  \n",
       "6870  0.0  0.0  \n",
       "9663  0.0  0.0  \n",
       "1431  0.0  0.0  \n",
       "1725  0.0  0.0  \n",
       "\n",
       "[7211 rows x 35 columns]"
      ]
     },
     "execution_count": 25,
     "metadata": {},
     "output_type": "execute_result"
    }
   ],
   "source": [
    "# Replacing NULLS with the mean\n",
    "numerical_X.fillna(numerical_X.mean(), inplace=True)    \n",
    "features_X = numerical_X.join(encoded_X, on = None)\n",
    "features_X"
   ]
  },
  {
   "cell_type": "markdown",
   "metadata": {
    "ExecuteTime": {
     "end_time": "2020-01-06T11:57:29.839299Z",
     "start_time": "2020-01-06T11:57:29.836295Z"
    }
   },
   "source": [
    "# Analysis Code - Without Normalization"
   ]
  },
  {
   "cell_type": "code",
   "execution_count": 26,
   "metadata": {
    "ExecuteTime": {
     "end_time": "2020-01-09T12:25:43.378634Z",
     "start_time": "2020-01-09T12:25:43.373632Z"
    },
    "scrolled": true
   },
   "outputs": [],
   "source": [
    "features_X_old = features_X"
   ]
  },
  {
   "cell_type": "markdown",
   "metadata": {
    "ExecuteTime": {
     "end_time": "2020-01-06T11:52:19.258953Z",
     "start_time": "2020-01-06T11:52:19.255951Z"
    },
    "heading_collapsed": true
   },
   "source": [
    "## Decision Tree"
   ]
  },
  {
   "cell_type": "code",
   "execution_count": 27,
   "metadata": {
    "ExecuteTime": {
     "end_time": "2020-01-09T12:25:43.391634Z",
     "start_time": "2020-01-09T12:25:43.381634Z"
    },
    "hidden": true
   },
   "outputs": [],
   "source": [
    "cartTree = DecisionTreeClassifier()"
   ]
  },
  {
   "cell_type": "code",
   "execution_count": 28,
   "metadata": {
    "ExecuteTime": {
     "end_time": "2020-01-09T12:25:44.312172Z",
     "start_time": "2020-01-09T12:25:43.394637Z"
    },
    "hidden": true
   },
   "outputs": [
    {
     "name": "stdout",
     "output_type": "stream",
     "text": [
      "--------------------------------------------------------------------------------\n",
      "K Fold - Rodada 0\n",
      "\n",
      "Fitting Tree\n",
      "--------------------------------------------------\n",
      "--------------------------------------------------------------------------------\n",
      "K Fold - Rodada 1\n",
      "\n",
      "Fitting Tree\n",
      "--------------------------------------------------\n",
      "--------------------------------------------------------------------------------\n",
      "K Fold - Rodada 2\n",
      "\n",
      "Fitting Tree\n",
      "--------------------------------------------------\n",
      "--------------------------------------------------------------------------------\n",
      "K Fold - Rodada 3\n",
      "\n",
      "Fitting Tree\n",
      "--------------------------------------------------\n",
      "--------------------------------------------------------------------------------\n",
      "K Fold - Rodada 4\n",
      "\n",
      "Fitting Tree\n",
      "--------------------------------------------------\n"
     ]
    }
   ],
   "source": [
    "tree_train_results = list()\n",
    "tree_test_results = list()\n",
    "pastas = stratified_k_fold.split(features_X, y_train)\n",
    "\n",
    "for i, (train_index, test_index) in enumerate(pastas):\n",
    "    print(\"-\"*80)\n",
    "    print(f\"K Fold - Rodada {i}\\n\")\n",
    "    \n",
    "    X_train_cv = features_X.iloc[train_index, : ]\n",
    "    y_train_cv = y_train.iloc[train_index]\n",
    "    \n",
    "    X_test_cv = features_X.iloc[test_index, : ]\n",
    "    y_test_cv = y_train.iloc[test_index]\n",
    "    \n",
    "    print(\"Fitting Tree\")\n",
    "    cartTree.fit(X_train_cv, y_train_cv)\n",
    "    print(\"-\"*50)\n",
    "    \n",
    "    predicted_train = cartTree.predict(X_train_cv)\n",
    "    tree_train_results.append(score_results(y_train_cv, predicted_train, \"CART Tree - Treinamento\", verbose=False))\n",
    "        \n",
    "    predicted_test = cartTree.predict(X_test_cv)\n",
    "    tree_test_results.append(score_results(y_test_cv, predicted_test, \"CART Tree - Teste\", verbose=False))"
   ]
  },
  {
   "cell_type": "code",
   "execution_count": 29,
   "metadata": {
    "ExecuteTime": {
     "end_time": "2020-01-09T12:25:44.347175Z",
     "start_time": "2020-01-09T12:25:44.318175Z"
    },
    "hidden": true
   },
   "outputs": [
    {
     "name": "stdout",
     "output_type": "stream",
     "text": [
      "Train Balanced Accuraty: 100.00% \n",
      "Test Balanced Accuraty: 60.10% \n",
      "\n",
      "Train Precision: 100.00% \n",
      "Test Precision: 41.07% \n",
      "\n",
      "Train Recall: 100.00% \n",
      "Test Recall: 42.30% \n",
      "\n",
      "Train F1: 100.00% \n",
      "Test F1: 41.64% \n"
     ]
    }
   ],
   "source": [
    "print(\"Train Balanced Accuraty: {:.2f}% \".format(100*np.mean([result.balanced_accuracy for result in tree_train_results])))\n",
    "print(\"Test Balanced Accuraty: {:.2f}% \".format(100*np.mean([result.balanced_accuracy for result in tree_test_results])))\n",
    "print(\"\")\n",
    "print(\"Train Precision: {:.2f}% \".format(100*np.mean([result.precision for result in tree_train_results])))\n",
    "print(\"Test Precision: {:.2f}% \".format(100*np.mean([result.precision for result in tree_test_results])))\n",
    "print(\"\")\n",
    "print(\"Train Recall: {:.2f}% \".format(100*np.mean([result.recall for result in tree_train_results])))\n",
    "print(\"Test Recall: {:.2f}% \".format(100*np.mean([result.recall for result in tree_test_results])))\n",
    "print(\"\")\n",
    "print(\"Train F1: {:.2f}% \".format(100*np.mean([result.f1 for result in tree_train_results])))\n",
    "print(\"Test F1: {:.2f}% \".format(100*np.mean([result.f1  for result in tree_test_results])))"
   ]
  },
  {
   "cell_type": "markdown",
   "metadata": {
    "heading_collapsed": true
   },
   "source": [
    "## GLM -> TODO: CORRIGIR ERRO DE INDICES\n"
   ]
  },
  {
   "cell_type": "code",
   "execution_count": 30,
   "metadata": {
    "ExecuteTime": {
     "end_time": "2020-01-09T12:25:45.292173Z",
     "start_time": "2020-01-09T12:25:44.353173Z"
    },
    "hidden": true
   },
   "outputs": [
    {
     "name": "stdout",
     "output_type": "stream",
     "text": [
      "--------------------------------------------------------------------------------\n",
      "K Fold - Rodada 0\n",
      "\n",
      "Creating GLM\n",
      "Fitting GLM\n",
      "                 Generalized Linear Model Regression Results                  \n",
      "==============================================================================\n",
      "Dep. Variable:             CLAIM_FLAG   No. Observations:                 5768\n",
      "Model:                            GLM   Df Residuals:                     5733\n",
      "Model Family:                Binomial   Df Model:                           34\n",
      "Link Function:                  logit   Scale:                          1.0000\n",
      "Method:                          IRLS   Log-Likelihood:                -2860.0\n",
      "Date:                Thu, 09 Jan 2020   Deviance:                       5719.9\n",
      "Time:                        09:25:44   Pearson chi2:                 5.77e+03\n",
      "No. Iterations:                     5                                         \n",
      "Covariance Type:            nonrobust                                         \n",
      "==============================================================================\n",
      "                 coef    std err          z      P>|z|      [0.025      0.975]\n",
      "------------------------------------------------------------------------------\n",
      "KIDSDRIV       0.3826      0.068      5.613      0.000       0.249       0.516\n",
      "AGE           -0.0077      0.004     -2.106      0.035      -0.015      -0.001\n",
      "HOMEKIDS       0.0060      0.039      0.152      0.879      -0.071       0.083\n",
      "YOJ           -0.0101      0.009     -1.104      0.269      -0.028       0.008\n",
      "TRAVTIME       0.0044      0.002      2.177      0.029       0.000       0.008\n",
      "TIF           -0.0490      0.008     -5.946      0.000      -0.065      -0.033\n",
      "MVR_PTS        0.1556      0.015     10.540      0.000       0.127       0.185\n",
      "CAR_AGE       -0.0050      0.009     -0.584      0.559      -0.022       0.012\n",
      "INCOME     -3.666e-06   1.27e-06     -2.896      0.004   -6.15e-06   -1.19e-06\n",
      "BLUEBOOK   -1.886e-05   5.85e-06     -3.223      0.001   -3.03e-05   -7.39e-06\n",
      "HOME_VAL   -1.881e-06   3.93e-07     -4.789      0.000   -2.65e-06   -1.11e-06\n",
      "OLDCLAIM    1.002e-05   3.95e-06      2.537      0.011    2.28e-06    1.78e-05\n",
      "0              0.5453      0.176      3.090      0.002       0.199       0.891\n",
      "1              0.2908      0.108      2.689      0.007       0.079       0.503\n",
      "2              0.8239      0.146      5.629      0.000       0.537       1.111\n",
      "3              0.5284      0.141      3.741      0.000       0.252       0.805\n",
      "4              0.6166      0.125      4.937      0.000       0.372       0.861\n",
      "5             -0.8091      0.096     -8.433      0.000      -0.997      -0.621\n",
      "6              0.3703      0.122      3.025      0.002       0.130       0.610\n",
      "7             -0.2784      0.125     -2.220      0.026      -0.524      -0.033\n",
      "8             -0.3219      0.206     -1.563      0.118      -0.725       0.082\n",
      "9             -0.2096      0.247     -0.850      0.395      -0.693       0.274\n",
      "10            -0.0673      0.100     -0.676      0.499      -0.263       0.128\n",
      "11             0.2454      0.093      2.641      0.008       0.063       0.427\n",
      "12            -0.0460      0.095     -0.485      0.628      -0.232       0.140\n",
      "13            -0.1493      0.126     -1.189      0.235      -0.396       0.097\n",
      "14            -0.3355      0.348     -0.965      0.334      -1.017       0.346\n",
      "15            -0.1444      0.154     -0.938      0.348      -0.446       0.157\n",
      "16             0.1492      0.217      0.686      0.493      -0.277       0.575\n",
      "17            -0.4890      0.167     -2.936      0.003      -0.815      -0.163\n",
      "18             0.1449      0.138      1.053      0.292      -0.125       0.415\n",
      "19            -0.2611      0.137     -1.909      0.056      -0.529       0.007\n",
      "20             0.1201      0.226      0.530      0.596      -0.324       0.564\n",
      "21             0.0555      0.113      0.491      0.624      -0.166       0.277\n",
      "22             0.7969      0.101      7.892      0.000       0.599       0.995\n",
      "==============================================================================\n",
      "--------------------------------------------------\n",
      "--------------------------------------------------------------------------------\n",
      "K Fold - Rodada 1\n",
      "\n",
      "Creating GLM\n",
      "Fitting GLM\n",
      "                 Generalized Linear Model Regression Results                  \n",
      "==============================================================================\n",
      "Dep. Variable:             CLAIM_FLAG   No. Observations:                 5768\n",
      "Model:                            GLM   Df Residuals:                     5733\n",
      "Model Family:                Binomial   Df Model:                           34\n",
      "Link Function:                  logit   Scale:                          1.0000\n",
      "Method:                          IRLS   Log-Likelihood:                -2866.6\n",
      "Date:                Thu, 09 Jan 2020   Deviance:                       5733.2\n",
      "Time:                        09:25:44   Pearson chi2:                 5.73e+03\n",
      "No. Iterations:                     5                                         \n",
      "Covariance Type:            nonrobust                                         \n",
      "==============================================================================\n",
      "                 coef    std err          z      P>|z|      [0.025      0.975]\n",
      "------------------------------------------------------------------------------\n",
      "KIDSDRIV       0.3967      0.067      5.926      0.000       0.265       0.528\n",
      "AGE           -0.0094      0.004     -2.592      0.010      -0.017      -0.002\n",
      "HOMEKIDS       0.0055      0.039      0.140      0.889      -0.071       0.082\n",
      "YOJ           -0.0065      0.009     -0.710      0.478      -0.025       0.011\n",
      "TRAVTIME       0.0028      0.002      1.415      0.157      -0.001       0.007\n",
      "TIF           -0.0514      0.008     -6.213      0.000      -0.068      -0.035\n",
      "MVR_PTS        0.1670      0.015     11.322      0.000       0.138       0.196\n",
      "CAR_AGE        0.0018      0.009      0.215      0.830      -0.015       0.019\n",
      "INCOME     -3.596e-06   1.28e-06     -2.810      0.005    -6.1e-06   -1.09e-06\n",
      "BLUEBOOK   -1.968e-05   5.84e-06     -3.371      0.001   -3.11e-05   -8.24e-06\n",
      "HOME_VAL   -1.962e-06   3.96e-07     -4.961      0.000   -2.74e-06   -1.19e-06\n",
      "OLDCLAIM    1.084e-05   3.87e-06      2.800      0.005    3.25e-06    1.84e-05\n",
      "0              0.5947      0.177      3.356      0.001       0.247       0.942\n",
      "1              0.3437      0.107      3.207      0.001       0.134       0.554\n",
      "2              0.8226      0.145      5.664      0.000       0.538       1.107\n",
      "3              0.3932      0.143      2.758      0.006       0.114       0.673\n",
      "4              0.6979      0.124      5.614      0.000       0.454       0.942\n",
      "5             -0.7172      0.095     -7.530      0.000      -0.904      -0.531\n",
      "6              0.3361      0.122      2.749      0.006       0.096       0.576\n",
      "7             -0.2814      0.127     -2.211      0.027      -0.531      -0.032\n",
      "8             -0.2866      0.204     -1.402      0.161      -0.687       0.114\n",
      "9             -0.2153      0.248     -0.869      0.385      -0.701       0.270\n",
      "10            -0.0164      0.100     -0.164      0.870      -0.212       0.180\n",
      "11             0.2539      0.092      2.745      0.006       0.073       0.435\n",
      "12            -0.0349      0.095     -0.368      0.713      -0.221       0.151\n",
      "13            -0.2005      0.125     -1.601      0.109      -0.446       0.045\n",
      "14            -0.4207      0.362     -1.162      0.245      -1.130       0.289\n",
      "15            -0.2774      0.157     -1.765      0.078      -0.586       0.031\n",
      "16             0.1121      0.215      0.522      0.602      -0.309       0.533\n",
      "17            -0.5235      0.167     -3.131      0.002      -0.851      -0.196\n",
      "18             0.1113      0.137      0.813      0.416      -0.157       0.380\n",
      "19            -0.3747      0.135     -2.767      0.006      -0.640      -0.109\n",
      "20             0.1709      0.227      0.755      0.451      -0.273       0.615\n",
      "21            -0.0103      0.113     -0.091      0.928      -0.232       0.212\n",
      "22             0.8027      0.101      7.956      0.000       0.605       1.000\n",
      "==============================================================================\n",
      "--------------------------------------------------\n"
     ]
    },
    {
     "name": "stdout",
     "output_type": "stream",
     "text": [
      "--------------------------------------------------------------------------------\n",
      "K Fold - Rodada 2\n",
      "\n",
      "Creating GLM\n",
      "Fitting GLM\n",
      "                 Generalized Linear Model Regression Results                  \n",
      "==============================================================================\n",
      "Dep. Variable:             CLAIM_FLAG   No. Observations:                 5769\n",
      "Model:                            GLM   Df Residuals:                     5734\n",
      "Model Family:                Binomial   Df Model:                           34\n",
      "Link Function:                  logit   Scale:                          1.0000\n",
      "Method:                          IRLS   Log-Likelihood:                -2876.6\n",
      "Date:                Thu, 09 Jan 2020   Deviance:                       5753.1\n",
      "Time:                        09:25:44   Pearson chi2:                 5.76e+03\n",
      "No. Iterations:                     5                                         \n",
      "Covariance Type:            nonrobust                                         \n",
      "==============================================================================\n",
      "                 coef    std err          z      P>|z|      [0.025      0.975]\n",
      "------------------------------------------------------------------------------\n",
      "KIDSDRIV       0.3542      0.068      5.215      0.000       0.221       0.487\n",
      "AGE           -0.0123      0.004     -3.360      0.001      -0.019      -0.005\n",
      "HOMEKIDS       0.0327      0.039      0.840      0.401      -0.044       0.109\n",
      "YOJ           -0.0045      0.009     -0.478      0.632      -0.023       0.014\n",
      "TRAVTIME       0.0048      0.002      2.412      0.016       0.001       0.009\n",
      "TIF           -0.0534      0.008     -6.361      0.000      -0.070      -0.037\n",
      "MVR_PTS        0.1689      0.015     11.513      0.000       0.140       0.198\n",
      "CAR_AGE       -0.0025      0.009     -0.295      0.768      -0.019       0.014\n",
      "INCOME     -3.159e-06   1.27e-06     -2.496      0.013   -5.64e-06   -6.79e-07\n",
      "BLUEBOOK   -1.833e-05    5.9e-06     -3.105      0.002   -2.99e-05   -6.76e-06\n",
      "HOME_VAL   -1.879e-06   3.93e-07     -4.784      0.000   -2.65e-06   -1.11e-06\n",
      "OLDCLAIM    1.094e-05   3.95e-06      2.771      0.006     3.2e-06    1.87e-05\n",
      "0              0.5356      0.179      2.996      0.003       0.185       0.886\n",
      "1              0.3452      0.107      3.232      0.001       0.136       0.555\n",
      "2              0.7809      0.145      5.371      0.000       0.496       1.066\n",
      "3              0.4945      0.141      3.502      0.000       0.218       0.771\n",
      "4              0.6718      0.124      5.439      0.000       0.430       0.914\n",
      "5             -0.7584      0.094     -8.030      0.000      -0.943      -0.573\n",
      "6              0.2435      0.123      1.983      0.047       0.003       0.484\n",
      "7             -0.1488      0.125     -1.192      0.233      -0.393       0.096\n",
      "8             -0.3316      0.205     -1.614      0.107      -0.734       0.071\n",
      "9             -0.2154      0.246     -0.875      0.382      -0.698       0.267\n",
      "10            -0.0377      0.100     -0.378      0.705      -0.233       0.158\n",
      "11             0.3085      0.092      3.341      0.001       0.128       0.489\n",
      "12            -0.0493      0.095     -0.520      0.603      -0.235       0.136\n",
      "13            -0.1758      0.126     -1.400      0.162      -0.422       0.070\n",
      "14            -0.3019      0.348     -0.868      0.386      -0.984       0.380\n",
      "15            -0.2167      0.158     -1.372      0.170      -0.526       0.093\n",
      "16             0.2851      0.217      1.317      0.188      -0.139       0.710\n",
      "17            -0.4783      0.162     -2.957      0.003      -0.795      -0.161\n",
      "18             0.0519      0.136      0.382      0.702      -0.214       0.318\n",
      "19            -0.3188      0.136     -2.344      0.019      -0.585      -0.052\n",
      "20             0.1504      0.226      0.667      0.505      -0.292       0.592\n",
      "21             0.0256      0.112      0.229      0.819      -0.193       0.245\n",
      "22             0.7145      0.101      7.065      0.000       0.516       0.913\n",
      "==============================================================================\n",
      "--------------------------------------------------\n",
      "--------------------------------------------------------------------------------\n",
      "K Fold - Rodada 3\n",
      "\n",
      "Creating GLM\n",
      "Fitting GLM\n",
      "                 Generalized Linear Model Regression Results                  \n",
      "==============================================================================\n",
      "Dep. Variable:             CLAIM_FLAG   No. Observations:                 5769\n",
      "Model:                            GLM   Df Residuals:                     5734\n",
      "Model Family:                Binomial   Df Model:                           34\n",
      "Link Function:                  logit   Scale:                          1.0000\n",
      "Method:                          IRLS   Log-Likelihood:                -2886.8\n",
      "Date:                Thu, 09 Jan 2020   Deviance:                       5773.6\n",
      "Time:                        09:25:45   Pearson chi2:                 5.74e+03\n",
      "No. Iterations:                     5                                         \n",
      "Covariance Type:            nonrobust                                         \n",
      "==============================================================================\n",
      "                 coef    std err          z      P>|z|      [0.025      0.975]\n",
      "------------------------------------------------------------------------------\n",
      "KIDSDRIV       0.2720      0.068      4.021      0.000       0.139       0.405\n",
      "AGE           -0.0078      0.004     -2.135      0.033      -0.015      -0.001\n",
      "HOMEKIDS       0.0231      0.039      0.591      0.554      -0.054       0.100\n",
      "YOJ           -0.0133      0.009     -1.442      0.149      -0.031       0.005\n",
      "TRAVTIME       0.0048      0.002      2.429      0.015       0.001       0.009\n",
      "TIF           -0.0569      0.008     -6.887      0.000      -0.073      -0.041\n",
      "MVR_PTS        0.1652      0.015     11.367      0.000       0.137       0.194\n",
      "CAR_AGE        0.0074      0.009      0.868      0.386      -0.009       0.024\n",
      "INCOME     -2.732e-06   1.26e-06     -2.162      0.031   -5.21e-06   -2.56e-07\n",
      "BLUEBOOK   -2.757e-05   5.85e-06     -4.711      0.000    -3.9e-05   -1.61e-05\n",
      "HOME_VAL   -1.878e-06   3.89e-07     -4.821      0.000   -2.64e-06   -1.11e-06\n",
      "OLDCLAIM     7.36e-06   3.89e-06      1.894      0.058   -2.55e-07     1.5e-05\n",
      "0              0.7187      0.180      3.987      0.000       0.365       1.072\n",
      "1              0.3054      0.107      2.851      0.004       0.095       0.515\n",
      "2              0.7877      0.144      5.480      0.000       0.506       1.069\n",
      "3              0.5773      0.141      4.087      0.000       0.300       0.854\n",
      "4              0.6340      0.124      5.102      0.000       0.390       0.878\n",
      "5             -0.7649      0.095     -8.040      0.000      -0.951      -0.578\n",
      "6              0.3611      0.123      2.940      0.003       0.120       0.602\n",
      "7             -0.2488      0.125     -1.992      0.046      -0.494      -0.004\n",
      "8             -0.4414      0.208     -2.121      0.034      -0.849      -0.034\n",
      "9             -0.3461      0.251     -1.378      0.168      -0.838       0.146\n",
      "10            -0.0163      0.100     -0.163      0.871      -0.212       0.180\n",
      "11             0.2369      0.092      2.566      0.010       0.056       0.418\n",
      "12            -0.0679      0.095     -0.713      0.476      -0.255       0.119\n",
      "13            -0.0665      0.126     -0.527      0.598      -0.314       0.181\n",
      "14            -0.0204      0.338     -0.060      0.952      -0.683       0.643\n",
      "15            -0.3033      0.154     -1.966      0.049      -0.606      -0.001\n",
      "16             0.1665      0.219      0.761      0.447      -0.262       0.595\n",
      "17            -0.4379      0.160     -2.731      0.006      -0.752      -0.124\n",
      "18             0.0947      0.138      0.688      0.492      -0.175       0.364\n",
      "19            -0.4117      0.135     -3.039      0.002      -0.677      -0.146\n",
      "20             0.1974      0.227      0.871      0.384      -0.247       0.642\n",
      "21            -0.0037      0.113     -0.033      0.974      -0.225       0.218\n",
      "22             0.7560      0.101      7.502      0.000       0.558       0.953\n",
      "==============================================================================\n",
      "--------------------------------------------------\n",
      "--------------------------------------------------------------------------------\n",
      "K Fold - Rodada 4\n",
      "\n",
      "Creating GLM\n",
      "Fitting GLM\n",
      "                 Generalized Linear Model Regression Results                  \n",
      "==============================================================================\n",
      "Dep. Variable:             CLAIM_FLAG   No. Observations:                 5770\n",
      "Model:                            GLM   Df Residuals:                     5735\n",
      "Model Family:                Binomial   Df Model:                           34\n",
      "Link Function:                  logit   Scale:                          1.0000\n",
      "Method:                          IRLS   Log-Likelihood:                -2827.0\n",
      "Date:                Thu, 09 Jan 2020   Deviance:                       5654.0\n",
      "Time:                        09:25:45   Pearson chi2:                 5.81e+03\n",
      "No. Iterations:                     5                                         \n",
      "Covariance Type:            nonrobust                                         \n",
      "==============================================================================\n",
      "                 coef    std err          z      P>|z|      [0.025      0.975]\n",
      "------------------------------------------------------------------------------\n",
      "KIDSDRIV       0.4174      0.069      6.082      0.000       0.283       0.552\n",
      "AGE           -0.0088      0.004     -2.383      0.017      -0.016      -0.002\n",
      "HOMEKIDS      -0.0016      0.040     -0.041      0.967      -0.080       0.077\n",
      "YOJ           -0.0127      0.009     -1.362      0.173      -0.031       0.006\n",
      "TRAVTIME       0.0046      0.002      2.287      0.022       0.001       0.009\n",
      "TIF           -0.0555      0.008     -6.689      0.000      -0.072      -0.039\n",
      "MVR_PTS        0.1618      0.015     10.873      0.000       0.133       0.191\n",
      "CAR_AGE        0.0059      0.009      0.683      0.495      -0.011       0.023\n",
      "INCOME     -3.209e-06   1.26e-06     -2.537      0.011   -5.69e-06    -7.3e-07\n",
      "BLUEBOOK    -2.22e-05   5.86e-06     -3.792      0.000   -3.37e-05   -1.07e-05\n",
      "HOME_VAL   -1.744e-06   3.89e-07     -4.479      0.000   -2.51e-06   -9.81e-07\n",
      "OLDCLAIM    8.108e-06   3.93e-06      2.063      0.039    4.05e-07    1.58e-05\n",
      "0              0.6955      0.178      3.902      0.000       0.346       1.045\n",
      "1              0.3423      0.108      3.168      0.002       0.131       0.554\n",
      "2              0.9031      0.144      6.258      0.000       0.620       1.186\n",
      "3              0.6537      0.143      4.562      0.000       0.373       0.935\n",
      "4              0.5778      0.124      4.647      0.000       0.334       0.822\n",
      "5             -0.8231      0.096     -8.549      0.000      -1.012      -0.634\n",
      "6              0.3453      0.124      2.782      0.005       0.102       0.589\n",
      "7             -0.3615      0.128     -2.835      0.005      -0.611      -0.112\n",
      "8             -0.5150      0.206     -2.497      0.013      -0.919      -0.111\n",
      "9             -0.2871      0.245     -1.173      0.241      -0.767       0.193\n",
      "10            -0.0615      0.101     -0.608      0.543      -0.260       0.137\n",
      "11             0.3433      0.093      3.707      0.000       0.162       0.525\n",
      "12            -0.0994      0.096     -1.035      0.301      -0.288       0.089\n",
      "13            -0.0660      0.126     -0.525      0.600      -0.313       0.181\n",
      "14            -0.5335      0.357     -1.493      0.135      -1.234       0.167\n",
      "15            -0.2583      0.158     -1.632      0.103      -0.569       0.052\n",
      "16             0.1702      0.220      0.773      0.440      -0.261       0.602\n",
      "17            -0.6173      0.169     -3.662      0.000      -0.948      -0.287\n",
      "18             0.1404      0.137      1.022      0.307      -0.129       0.410\n",
      "19            -0.3660      0.139     -2.634      0.008      -0.638      -0.094\n",
      "20             0.1942      0.227      0.856      0.392      -0.250       0.639\n",
      "21             0.0418      0.113      0.369      0.712      -0.180       0.264\n",
      "22             0.8762      0.101      8.697      0.000       0.679       1.074\n",
      "==============================================================================\n",
      "--------------------------------------------------\n"
     ]
    }
   ],
   "source": [
    "glm_train_results = list()\n",
    "glm_test_results = list()\n",
    "pastas = stratified_k_fold.split(features_X, y_train)\n",
    "\n",
    "for i, (train_index, test_index) in enumerate(pastas):\n",
    "    print(\"-\"*80)\n",
    "    print(f\"K Fold - Rodada {i}\\n\")\n",
    "    \n",
    "    X_train_cv = features_X.iloc[train_index, : ]\n",
    "    y_train_cv = y_train.iloc[train_index]\n",
    "    \n",
    "    X_test_cv = features_X.iloc[test_index, : ]\n",
    "    y_test_cv = y_train.iloc[test_index]\n",
    "    \n",
    "    print(\"Creating GLM\")\n",
    "    glm = sm.GLM(exog = X_train_cv, endog = y_train_cv, family = sm.families.Binomial())\n",
    "    \n",
    "    print(\"Fitting GLM\")\n",
    "    predictor_glm = glm.fit()\n",
    "    print(predictor_glm.summary())\n",
    "    print(\"-\"*50)\n",
    "    \n",
    "    \n",
    "    predicted_train_probs = predictor_glm.predict(X_train_cv)\n",
    "    \n",
    "    predicted_train = (predicted_train_probs > GLM_TRESHOLD)\n",
    "    glm_train_results.append(score_results(y_train_cv, predicted_train, \"GLM - Treinamento\"))\n",
    "        \n",
    "    predicted_test_probs = predictor_glm.predict(X_test_cv)\n",
    "    predicted_test =  (predicted_test_probs > GLM_TRESHOLD )\n",
    "    glm_test_results.append(score_results(y_test_cv, predicted_test, \"GLM - Teste\", verbose = False))"
   ]
  },
  {
   "cell_type": "code",
   "execution_count": 31,
   "metadata": {
    "ExecuteTime": {
     "end_time": "2020-01-09T12:25:45.314176Z",
     "start_time": "2020-01-09T12:25:45.294172Z"
    },
    "hidden": true
   },
   "outputs": [
    {
     "name": "stdout",
     "output_type": "stream",
     "text": [
      "Train Balanced Accuraty: 60.96% \n",
      "Test Balanced Accuraty: 60.51% \n",
      "\n",
      "Train Precision: 62.19% \n",
      "Test Precision: 60.86% \n",
      "\n",
      "Train Recall: 28.12% \n",
      "Test Recall: 27.52% \n",
      "\n",
      "Train F1: 38.72% \n",
      "Test F1: 37.87% \n"
     ]
    }
   ],
   "source": [
    "print(\"Train Balanced Accuraty: {:.2f}% \".format(100*np.mean([result.balanced_accuracy for result in glm_train_results])))\n",
    "print(\"Test Balanced Accuraty: {:.2f}% \".format(100*np.mean([result.balanced_accuracy for result in glm_test_results])))\n",
    "print(\"\")\n",
    "print(\"Train Precision: {:.2f}% \".format(100*np.mean([result.precision for result in glm_train_results])))\n",
    "print(\"Test Precision: {:.2f}% \".format(100*np.mean([result.precision for result in glm_test_results])))\n",
    "print(\"\")\n",
    "print(\"Train Recall: {:.2f}% \".format(100*np.mean([result.recall for result in glm_train_results])))\n",
    "print(\"Test Recall: {:.2f}% \".format(100*np.mean([result.recall for result in glm_test_results])))\n",
    "print(\"\")\n",
    "print(\"Train F1: {:.2f}% \".format(100*np.mean([result.f1 for result in glm_train_results])))\n",
    "print(\"Test F1: {:.2f}% \".format(100*np.mean([result.f1  for result in glm_test_results])))"
   ]
  },
  {
   "cell_type": "markdown",
   "metadata": {
    "ExecuteTime": {
     "end_time": "2020-01-06T12:35:17.189393Z",
     "start_time": "2020-01-06T12:35:17.182393Z"
    }
   },
   "source": [
    "## RBF"
   ]
  },
  {
   "cell_type": "code",
   "execution_count": 32,
   "metadata": {
    "ExecuteTime": {
     "end_time": "2020-01-09T12:25:45.326172Z",
     "start_time": "2020-01-09T12:25:45.318175Z"
    }
   },
   "outputs": [],
   "source": [
    "# importlib.reload(RBF)"
   ]
  },
  {
   "cell_type": "code",
   "execution_count": 37,
   "metadata": {
    "ExecuteTime": {
     "end_time": "2020-01-09T12:27:50.211922Z",
     "start_time": "2020-01-09T12:27:50.208916Z"
    }
   },
   "outputs": [],
   "source": [
    "rbf_classifier = RBF.RBFClassifier(number_of_centers = 50, \n",
    "                               random_state = SEED, \n",
    "                               algorithm = LogisticRegression(class_weight=\"balanced\", solver = \"lbfgs\"))"
   ]
  },
  {
   "cell_type": "code",
   "execution_count": 38,
   "metadata": {
    "ExecuteTime": {
     "end_time": "2020-01-09T12:28:07.256439Z",
     "start_time": "2020-01-09T12:27:50.729423Z"
    },
    "scrolled": true
   },
   "outputs": [
    {
     "name": "stdout",
     "output_type": "stream",
     "text": [
      "--------------------------------------------------------------------------------\n",
      "K Fold - Rodada 0\n",
      "\n",
      "Fitting RBF Network\n"
     ]
    },
    {
     "name": "stderr",
     "output_type": "stream",
     "text": [
      "C:\\Users\\barban01\\AppData\\Local\\Continuum\\miniconda3\\envs\\pdg\\lib\\site-packages\\sklearn\\utils\\validation.py:724: DataConversionWarning: A column-vector y was passed when a 1d array was expected. Please change the shape of y to (n_samples, ), for example using ravel().\n",
      "  y = column_or_1d(y, warn=True)\n",
      "C:\\Users\\barban01\\AppData\\Local\\Continuum\\miniconda3\\envs\\pdg\\lib\\site-packages\\ipykernel_launcher.py:19: RuntimeWarning: invalid value encountered in longlong_scalars\n",
      "C:\\Users\\barban01\\AppData\\Local\\Continuum\\miniconda3\\envs\\pdg\\lib\\site-packages\\ipykernel_launcher.py:19: RuntimeWarning: invalid value encountered in longlong_scalars\n"
     ]
    },
    {
     "name": "stdout",
     "output_type": "stream",
     "text": [
      "--------------------------------------------------\n",
      "--- RBF Network - Teste ---\n",
      "Matrix de Confusão\n",
      "[[1058    0]\n",
      " [ 385    0]]\n",
      "Acurácia Balanceada:  50.00 % \n",
      "Falsos Positivos: 0, Falsos Negativos: 385\n",
      "Verdadeiros Positivos: 0, Verdadeiros Negativos: 1058\n",
      "Precisao (tp/(tp+fp)): nan%\n",
      "Recall (tp/(tp+fn)): 0.00  %\n",
      "--------------------------------------------------------------------------------\n",
      "--------------------------------------------------------------------------------\n",
      "K Fold - Rodada 1\n",
      "\n",
      "Fitting RBF Network\n"
     ]
    },
    {
     "name": "stderr",
     "output_type": "stream",
     "text": [
      "C:\\Users\\barban01\\AppData\\Local\\Continuum\\miniconda3\\envs\\pdg\\lib\\site-packages\\sklearn\\utils\\validation.py:724: DataConversionWarning: A column-vector y was passed when a 1d array was expected. Please change the shape of y to (n_samples, ), for example using ravel().\n",
      "  y = column_or_1d(y, warn=True)\n",
      "C:\\Users\\barban01\\AppData\\Local\\Continuum\\miniconda3\\envs\\pdg\\lib\\site-packages\\ipykernel_launcher.py:19: RuntimeWarning: invalid value encountered in longlong_scalars\n",
      "C:\\Users\\barban01\\AppData\\Local\\Continuum\\miniconda3\\envs\\pdg\\lib\\site-packages\\ipykernel_launcher.py:19: RuntimeWarning: invalid value encountered in longlong_scalars\n"
     ]
    },
    {
     "name": "stdout",
     "output_type": "stream",
     "text": [
      "--------------------------------------------------\n",
      "--- RBF Network - Teste ---\n",
      "Matrix de Confusão\n",
      "[[1058    0]\n",
      " [ 385    0]]\n",
      "Acurácia Balanceada:  50.00 % \n",
      "Falsos Positivos: 0, Falsos Negativos: 385\n",
      "Verdadeiros Positivos: 0, Verdadeiros Negativos: 1058\n",
      "Precisao (tp/(tp+fp)): nan%\n",
      "Recall (tp/(tp+fn)): 0.00  %\n",
      "--------------------------------------------------------------------------------\n",
      "--------------------------------------------------------------------------------\n",
      "K Fold - Rodada 2\n",
      "\n",
      "Fitting RBF Network\n"
     ]
    },
    {
     "name": "stderr",
     "output_type": "stream",
     "text": [
      "C:\\Users\\barban01\\AppData\\Local\\Continuum\\miniconda3\\envs\\pdg\\lib\\site-packages\\sklearn\\utils\\validation.py:724: DataConversionWarning: A column-vector y was passed when a 1d array was expected. Please change the shape of y to (n_samples, ), for example using ravel().\n",
      "  y = column_or_1d(y, warn=True)\n",
      "C:\\Users\\barban01\\AppData\\Local\\Continuum\\miniconda3\\envs\\pdg\\lib\\site-packages\\ipykernel_launcher.py:19: RuntimeWarning: invalid value encountered in longlong_scalars\n",
      "C:\\Users\\barban01\\AppData\\Local\\Continuum\\miniconda3\\envs\\pdg\\lib\\site-packages\\ipykernel_launcher.py:19: RuntimeWarning: invalid value encountered in longlong_scalars\n"
     ]
    },
    {
     "name": "stdout",
     "output_type": "stream",
     "text": [
      "--------------------------------------------------\n",
      "--- RBF Network - Teste ---\n",
      "Matrix de Confusão\n",
      "[[1058    0]\n",
      " [ 384    0]]\n",
      "Acurácia Balanceada:  50.00 % \n",
      "Falsos Positivos: 0, Falsos Negativos: 384\n",
      "Verdadeiros Positivos: 0, Verdadeiros Negativos: 1058\n",
      "Precisao (tp/(tp+fp)): nan%\n",
      "Recall (tp/(tp+fn)): 0.00  %\n",
      "--------------------------------------------------------------------------------\n",
      "--------------------------------------------------------------------------------\n",
      "K Fold - Rodada 3\n",
      "\n",
      "Fitting RBF Network\n"
     ]
    },
    {
     "name": "stderr",
     "output_type": "stream",
     "text": [
      "C:\\Users\\barban01\\AppData\\Local\\Continuum\\miniconda3\\envs\\pdg\\lib\\site-packages\\sklearn\\utils\\validation.py:724: DataConversionWarning: A column-vector y was passed when a 1d array was expected. Please change the shape of y to (n_samples, ), for example using ravel().\n",
      "  y = column_or_1d(y, warn=True)\n",
      "C:\\Users\\barban01\\AppData\\Local\\Continuum\\miniconda3\\envs\\pdg\\lib\\site-packages\\ipykernel_launcher.py:19: RuntimeWarning: invalid value encountered in longlong_scalars\n",
      "C:\\Users\\barban01\\AppData\\Local\\Continuum\\miniconda3\\envs\\pdg\\lib\\site-packages\\ipykernel_launcher.py:19: RuntimeWarning: invalid value encountered in longlong_scalars\n"
     ]
    },
    {
     "name": "stdout",
     "output_type": "stream",
     "text": [
      "--------------------------------------------------\n",
      "--- RBF Network - Teste ---\n",
      "Matrix de Confusão\n",
      "[[1058    0]\n",
      " [ 384    0]]\n",
      "Acurácia Balanceada:  50.00 % \n",
      "Falsos Positivos: 0, Falsos Negativos: 384\n",
      "Verdadeiros Positivos: 0, Verdadeiros Negativos: 1058\n",
      "Precisao (tp/(tp+fp)): nan%\n",
      "Recall (tp/(tp+fn)): 0.00  %\n",
      "--------------------------------------------------------------------------------\n",
      "--------------------------------------------------------------------------------\n",
      "K Fold - Rodada 4\n",
      "\n",
      "Fitting RBF Network\n",
      "--------------------------------------------------\n",
      "--- RBF Network - Teste ---\n",
      "Matrix de Confusão\n",
      "[[1057    0]\n",
      " [ 384    0]]\n",
      "Acurácia Balanceada:  50.00 % \n",
      "Falsos Positivos: 0, Falsos Negativos: 384\n",
      "Verdadeiros Positivos: 0, Verdadeiros Negativos: 1057\n",
      "Precisao (tp/(tp+fp)): nan%\n",
      "Recall (tp/(tp+fn)): 0.00  %\n",
      "--------------------------------------------------------------------------------\n"
     ]
    },
    {
     "name": "stderr",
     "output_type": "stream",
     "text": [
      "C:\\Users\\barban01\\AppData\\Local\\Continuum\\miniconda3\\envs\\pdg\\lib\\site-packages\\sklearn\\utils\\validation.py:724: DataConversionWarning: A column-vector y was passed when a 1d array was expected. Please change the shape of y to (n_samples, ), for example using ravel().\n",
      "  y = column_or_1d(y, warn=True)\n",
      "C:\\Users\\barban01\\AppData\\Local\\Continuum\\miniconda3\\envs\\pdg\\lib\\site-packages\\ipykernel_launcher.py:19: RuntimeWarning: invalid value encountered in longlong_scalars\n",
      "C:\\Users\\barban01\\AppData\\Local\\Continuum\\miniconda3\\envs\\pdg\\lib\\site-packages\\ipykernel_launcher.py:19: RuntimeWarning: invalid value encountered in longlong_scalars\n"
     ]
    }
   ],
   "source": [
    "rbf_train_results = list()\n",
    "rbf_test_results = list()\n",
    "pastas = stratified_k_fold.split(features_X, y_train)\n",
    "\n",
    "for i, (train_index, test_index) in enumerate(pastas):\n",
    "    print(\"-\"*80)\n",
    "    print(f\"K Fold - Rodada {i}\\n\")\n",
    "    \n",
    "    X_train_cv = features_X.iloc[train_index, : ]\n",
    "    y_train_cv = y_train.iloc[train_index]\n",
    "    \n",
    "    X_test_cv = features_X.iloc[test_index, : ]\n",
    "    y_test_cv = y_train.iloc[test_index]\n",
    "    \n",
    "    print(\"Fitting RBF Network\")\n",
    "    rbf_classifier.fit(X_train_cv, y_train_cv)\n",
    "    print(\"-\"*50)\n",
    "    \n",
    "    predicted_train = rbf_classifier.predict(X_train_cv)\n",
    "    rbf_train_results.append(score_results(y_train_cv, predicted_train, \"RBF Network - Treinamento\"))\n",
    "        \n",
    "    predicted_test = rbf_classifier.predict(X_test_cv)\n",
    "    rbf_test_results.append(score_results(y_test_cv, predicted_test, \"RBF Network - Teste\", verbose = True))\n"
   ]
  },
  {
   "cell_type": "code",
   "execution_count": 39,
   "metadata": {
    "ExecuteTime": {
     "end_time": "2020-01-09T12:28:07.275444Z",
     "start_time": "2020-01-09T12:28:07.259444Z"
    },
    "scrolled": true
   },
   "outputs": [
    {
     "name": "stdout",
     "output_type": "stream",
     "text": [
      "Train Balanced Accuraty: 50.00% \n",
      "Test Balanced Accuraty: 50.00% \n",
      "\n",
      "Train Precision: nan% \n",
      "Test Precision: nan% \n",
      "\n",
      "Train Recall: 0.00% \n",
      "Test Recall: 0.00% \n",
      "\n",
      "Train F1: nan% \n",
      "Test F1: nan% \n"
     ]
    }
   ],
   "source": [
    "print(\"Train Balanced Accuraty: {:.2f}% \".format(100*np.mean([result.balanced_accuracy for result in rbf_train_results])))\n",
    "print(\"Test Balanced Accuraty: {:.2f}% \".format(100*np.mean([result.balanced_accuracy for result in rbf_test_results])))\n",
    "print(\"\")\n",
    "print(\"Train Precision: {:.2f}% \".format(100*np.mean([result.precision for result in rbf_train_results])))\n",
    "print(\"Test Precision: {:.2f}% \".format(100*np.mean([result.precision for result in rbf_test_results])))\n",
    "print(\"\")\n",
    "print(\"Train Recall: {:.2f}% \".format(100*np.mean([result.recall for result in rbf_train_results])))\n",
    "print(\"Test Recall: {:.2f}% \".format(100*np.mean([result.recall for result in rbf_test_results])))\n",
    "print(\"\")\n",
    "print(\"Train F1: {:.2f}% \".format(100*np.mean([result.f1 for result in rbf_train_results])))\n",
    "print(\"Test F1: {:.2f}% \".format(100*np.mean([result.f1  for result in rbf_test_results])))"
   ]
  },
  {
   "cell_type": "markdown",
   "metadata": {
    "ExecuteTime": {
     "end_time": "2020-01-06T12:51:57.775406Z",
     "start_time": "2020-01-06T12:51:57.772403Z"
    }
   },
   "source": [
    "## Results Without Normalization"
   ]
  },
  {
   "cell_type": "code",
   "execution_count": 40,
   "metadata": {
    "ExecuteTime": {
     "end_time": "2020-01-09T12:28:07.326441Z",
     "start_time": "2020-01-09T12:28:07.282442Z"
    },
    "scrolled": true
   },
   "outputs": [
    {
     "name": "stdout",
     "output_type": "stream",
     "text": [
      "<< TREES >>\n",
      "Balanced Accuraty: 60.10% \n",
      "Precision: 41.07% \n",
      "Recall: 42.30% \n",
      "F1: 0.42 \n",
      "<< GLM >>\n",
      "Balanced Accuraty: 60.51% \n",
      "Precision: 60.86% \n",
      "Recall: 27.52% \n",
      "F1: 0.38 \n",
      "<< RBF >>\n",
      "Balanced Accuraty: 50.00% \n",
      "Precision: nan% \n",
      "Recall: 0.00% \n",
      "F1: nan \n"
     ]
    }
   ],
   "source": [
    "print(\"<< TREES >>\")\n",
    "print(\"Balanced Accuraty: {:.2f}% \".format(100*np.mean([result.balanced_accuracy for result in tree_test_results])))\n",
    "print(\"Precision: {:.2f}% \".format(100*np.mean([result.precision for result in tree_test_results])))\n",
    "print(\"Recall: {:.2f}% \".format(100*np.mean([result.recall for result in tree_test_results])))\n",
    "print(\"F1: {:.2f} \".format(np.mean([result.f1 for result in tree_test_results])))\n",
    "\n",
    "print(\"<< GLM >>\")\n",
    "print(\"Balanced Accuraty: {:.2f}% \".format(100*np.mean([result.balanced_accuracy for result in glm_test_results])))\n",
    "print(\"Precision: {:.2f}% \".format(100*np.mean([result.precision for result in glm_test_results])))\n",
    "print(\"Recall: {:.2f}% \".format(100*np.mean([result.recall for result in glm_test_results])))\n",
    "print(\"F1: {:.2f} \".format(np.mean([result.f1 for result in glm_test_results])))\n",
    "\n",
    "print(\"<< RBF >>\")\n",
    "print(\"Balanced Accuraty: {:.2f}% \".format(100*np.mean([result.balanced_accuracy for result in rbf_test_results])))\n",
    "print(\"Precision: {:.2f}% \".format(100*np.mean([result.precision for result in rbf_test_results])))\n",
    "print(\"Recall: {:.2f}% \".format(100*np.mean([result.recall for result in rbf_test_results])))\n",
    "print(\"F1: {:.2f} \".format(np.mean([result.f1 for result in rbf_test_results])))"
   ]
  },
  {
   "cell_type": "markdown",
   "metadata": {
    "ExecuteTime": {
     "end_time": "2020-01-07T12:28:22.055181Z",
     "start_time": "2020-01-07T12:28:22.051191Z"
    }
   },
   "source": [
    "## Detailed Analysis"
   ]
  },
  {
   "cell_type": "code",
   "execution_count": 41,
   "metadata": {
    "ExecuteTime": {
     "end_time": "2020-01-09T12:28:07.345440Z",
     "start_time": "2020-01-09T12:28:07.329447Z"
    },
    "scrolled": true
   },
   "outputs": [
    {
     "name": "stdout",
     "output_type": "stream",
     "text": [
      "<< TREE >>\n",
      "Médias\n",
      "Total Real Positives: 1922.00\n",
      "Total Real Negatives: 5289.00\n",
      "Total Predicted Positives: 1982.00\n",
      "Total Predicted Negatives: 5229.00\n",
      "\n",
      "True Positives: 813.00\n",
      "True Negatives: 4120.00\n",
      "False Positives: 1169.00\n",
      "False Negatives: 1109.00\n",
      "\n",
      "Precision: 0.41\n",
      "Recall: 0.42\n",
      "Accuracy Positive(Recall): 0.42\n",
      "Accuracy Negative: 0.78\n",
      "Balanced Accuracy: 0.60\n",
      "F1 Score:  0.42\n",
      "\n",
      "<< GLM >>\n",
      "Médias\n",
      "Total Real Positives: 1922.00\n",
      "Total Real Negatives: 5289.00\n",
      "Total Predicted Positives: 873.00\n",
      "Total Predicted Negatives: 6338.00\n",
      "\n",
      "True Positives: 529.00\n",
      "True Negatives: 4945.00\n",
      "False Positives: 344.00\n",
      "False Negatives: 1393.00\n",
      "\n",
      "Precision: 0.61\n",
      "Recall: 0.28\n",
      "Accuracy Positive(Recall): 0.28\n",
      "Accuracy Negative: 0.93\n",
      "Balanced Accuracy: 0.61\n",
      "F1 Score:  0.38\n",
      "\n",
      "<< RBF >>\n",
      "Médias\n",
      "Total Real Positives: 1922.00\n",
      "Total Real Negatives: 5289.00\n",
      "Total Predicted Positives: 0.00\n",
      "Total Predicted Negatives: 7211.00\n",
      "\n",
      "True Positives: 0.00\n",
      "True Negatives: 5289.00\n",
      "False Positives: 0.00\n",
      "False Negatives: 1922.00\n",
      "\n",
      "Precision: nan\n",
      "Recall: 0.00\n",
      "Accuracy Positive(Recall): 0.00\n",
      "Accuracy Negative: 1.00\n",
      "Balanced Accuracy: 0.50\n",
      "F1 Score:  nan\n",
      "\n"
     ]
    },
    {
     "name": "stderr",
     "output_type": "stream",
     "text": [
      "C:\\Users\\barban01\\AppData\\Local\\Continuum\\miniconda3\\envs\\pdg\\lib\\site-packages\\ipykernel_launcher.py:18: RuntimeWarning: invalid value encountered in longlong_scalars\n"
     ]
    }
   ],
   "source": [
    "print(\"<< TREE >>\")\n",
    "imprime_matriz_de_confusao_media(tree_test_results)\n",
    "print(\"<< GLM >>\")\n",
    "imprime_matriz_de_confusao_media(glm_test_results)\n",
    "print(\"<< RBF >>\")\n",
    "imprime_matriz_de_confusao_media(rbf_test_results)"
   ]
  },
  {
   "cell_type": "markdown",
   "metadata": {},
   "source": [
    "# Analysis - Normalized"
   ]
  },
  {
   "cell_type": "code",
   "execution_count": 45,
   "metadata": {
    "ExecuteTime": {
     "end_time": "2020-01-09T12:28:26.883737Z",
     "start_time": "2020-01-09T12:28:26.864703Z"
    }
   },
   "outputs": [],
   "source": [
    "features_X_old = features_X\n",
    "features_X = pd.DataFrame(sklearn.preprocessing.scale(features_X))"
   ]
  },
  {
   "cell_type": "markdown",
   "metadata": {
    "ExecuteTime": {
     "end_time": "2020-01-06T11:52:19.258953Z",
     "start_time": "2020-01-06T11:52:19.255951Z"
    }
   },
   "source": [
    "## Decision Tree"
   ]
  },
  {
   "cell_type": "code",
   "execution_count": 46,
   "metadata": {
    "ExecuteTime": {
     "end_time": "2020-01-09T12:28:28.844066Z",
     "start_time": "2020-01-09T12:28:28.841063Z"
    }
   },
   "outputs": [],
   "source": [
    "cartTree = DecisionTreeClassifier()"
   ]
  },
  {
   "cell_type": "code",
   "execution_count": 47,
   "metadata": {
    "ExecuteTime": {
     "end_time": "2020-01-09T12:28:29.906061Z",
     "start_time": "2020-01-09T12:28:29.379067Z"
    }
   },
   "outputs": [
    {
     "name": "stdout",
     "output_type": "stream",
     "text": [
      "--------------------------------------------------------------------------------\n",
      "K Fold - Rodada 0\n",
      "\n",
      "Fitting Tree\n",
      "--------------------------------------------------\n",
      "--------------------------------------------------------------------------------\n",
      "K Fold - Rodada 1\n",
      "\n",
      "Fitting Tree\n",
      "--------------------------------------------------\n",
      "--------------------------------------------------------------------------------\n",
      "K Fold - Rodada 2\n",
      "\n",
      "Fitting Tree\n",
      "--------------------------------------------------\n",
      "--------------------------------------------------------------------------------\n",
      "K Fold - Rodada 3\n",
      "\n",
      "Fitting Tree\n",
      "--------------------------------------------------\n",
      "--------------------------------------------------------------------------------\n",
      "K Fold - Rodada 4\n",
      "\n",
      "Fitting Tree\n",
      "--------------------------------------------------\n"
     ]
    }
   ],
   "source": [
    "tree_train_results = list()\n",
    "tree_test_results = list()\n",
    "pastas = stratified_k_fold.split(features_X, y_train)\n",
    "\n",
    "for i, (train_index, test_index) in enumerate(pastas):\n",
    "    print(\"-\"*80)\n",
    "    print(f\"K Fold - Rodada {i}\\n\")\n",
    "    \n",
    "    X_train_cv = features_X.iloc[train_index, : ]\n",
    "    y_train_cv = y_train.iloc[train_index]\n",
    "    \n",
    "    X_test_cv = features_X.iloc[test_index, : ]\n",
    "    y_test_cv = y_train.iloc[test_index]\n",
    "    \n",
    "    print(\"Fitting Tree\")\n",
    "    cartTree.fit(X_train_cv, y_train_cv)\n",
    "    print(\"-\"*50)\n",
    "    \n",
    "    predicted_train = cartTree.predict(X_train_cv)\n",
    "    tree_train_results.append(score_results(y_train_cv, predicted_train, \"CART Tree - Treinamento\", verbose=False))\n",
    "        \n",
    "    predicted_test = cartTree.predict(X_test_cv)\n",
    "    tree_test_results.append(score_results(y_test_cv, predicted_test, \"CART Tree - Teste\", verbose=False))"
   ]
  },
  {
   "cell_type": "markdown",
   "metadata": {},
   "source": [
    "## GLM\n"
   ]
  },
  {
   "cell_type": "code",
   "execution_count": 48,
   "metadata": {
    "ExecuteTime": {
     "end_time": "2020-01-09T12:28:32.588535Z",
     "start_time": "2020-01-09T12:28:32.517534Z"
    }
   },
   "outputs": [
    {
     "name": "stdout",
     "output_type": "stream",
     "text": [
      "--------------------------------------------------------------------------------\n",
      "K Fold - Rodada 0\n",
      "\n",
      "Creating GLM\n"
     ]
    },
    {
     "ename": "ValueError",
     "evalue": "The indices for endog and exog are not aligned",
     "output_type": "error",
     "traceback": [
      "\u001b[1;31m---------------------------------------------------------------------------\u001b[0m",
      "\u001b[1;31mValueError\u001b[0m                                Traceback (most recent call last)",
      "\u001b[1;32m<ipython-input-48-11e31cbdd2af>\u001b[0m in \u001b[0;36m<module>\u001b[1;34m\u001b[0m\n\u001b[0;32m     14\u001b[0m \u001b[1;33m\u001b[0m\u001b[0m\n\u001b[0;32m     15\u001b[0m     \u001b[0mprint\u001b[0m\u001b[1;33m(\u001b[0m\u001b[1;34m\"Creating GLM\"\u001b[0m\u001b[1;33m)\u001b[0m\u001b[1;33m\u001b[0m\u001b[1;33m\u001b[0m\u001b[0m\n\u001b[1;32m---> 16\u001b[1;33m     \u001b[0mglm\u001b[0m \u001b[1;33m=\u001b[0m \u001b[0msm\u001b[0m\u001b[1;33m.\u001b[0m\u001b[0mGLM\u001b[0m\u001b[1;33m(\u001b[0m\u001b[0mexog\u001b[0m \u001b[1;33m=\u001b[0m \u001b[0mX_train_cv\u001b[0m\u001b[1;33m,\u001b[0m \u001b[0mendog\u001b[0m \u001b[1;33m=\u001b[0m \u001b[0my_train_cv\u001b[0m\u001b[1;33m,\u001b[0m \u001b[0mfamily\u001b[0m \u001b[1;33m=\u001b[0m \u001b[0msm\u001b[0m\u001b[1;33m.\u001b[0m\u001b[0mfamilies\u001b[0m\u001b[1;33m.\u001b[0m\u001b[0mBinomial\u001b[0m\u001b[1;33m(\u001b[0m\u001b[1;33m)\u001b[0m\u001b[1;33m)\u001b[0m\u001b[1;33m\u001b[0m\u001b[1;33m\u001b[0m\u001b[0m\n\u001b[0m\u001b[0;32m     17\u001b[0m \u001b[1;33m\u001b[0m\u001b[0m\n\u001b[0;32m     18\u001b[0m     \u001b[0mprint\u001b[0m\u001b[1;33m(\u001b[0m\u001b[1;34m\"Fitting GLM\"\u001b[0m\u001b[1;33m)\u001b[0m\u001b[1;33m\u001b[0m\u001b[1;33m\u001b[0m\u001b[0m\n",
      "\u001b[1;32m~\\AppData\\Local\\Continuum\\miniconda3\\envs\\pdg\\lib\\site-packages\\statsmodels\\genmod\\generalized_linear_model.py\u001b[0m in \u001b[0;36m__init__\u001b[1;34m(self, endog, exog, family, offset, exposure, freq_weights, var_weights, missing, **kwargs)\u001b[0m\n\u001b[0;32m    289\u001b[0m                                   \u001b[0moffset\u001b[0m\u001b[1;33m=\u001b[0m\u001b[0moffset\u001b[0m\u001b[1;33m,\u001b[0m \u001b[0mexposure\u001b[0m\u001b[1;33m=\u001b[0m\u001b[0mexposure\u001b[0m\u001b[1;33m,\u001b[0m\u001b[1;33m\u001b[0m\u001b[1;33m\u001b[0m\u001b[0m\n\u001b[0;32m    290\u001b[0m                                   \u001b[0mfreq_weights\u001b[0m\u001b[1;33m=\u001b[0m\u001b[0mfreq_weights\u001b[0m\u001b[1;33m,\u001b[0m\u001b[1;33m\u001b[0m\u001b[1;33m\u001b[0m\u001b[0m\n\u001b[1;32m--> 291\u001b[1;33m                                   var_weights=var_weights, **kwargs)\n\u001b[0m\u001b[0;32m    292\u001b[0m         self._check_inputs(family, self.offset, self.exposure, self.endog,\n\u001b[0;32m    293\u001b[0m                            self.freq_weights, self.var_weights)\n",
      "\u001b[1;32m~\\AppData\\Local\\Continuum\\miniconda3\\envs\\pdg\\lib\\site-packages\\statsmodels\\base\\model.py\u001b[0m in \u001b[0;36m__init__\u001b[1;34m(self, endog, exog, **kwargs)\u001b[0m\n\u001b[0;32m    214\u001b[0m \u001b[1;33m\u001b[0m\u001b[0m\n\u001b[0;32m    215\u001b[0m     \u001b[1;32mdef\u001b[0m \u001b[0m__init__\u001b[0m\u001b[1;33m(\u001b[0m\u001b[0mself\u001b[0m\u001b[1;33m,\u001b[0m \u001b[0mendog\u001b[0m\u001b[1;33m,\u001b[0m \u001b[0mexog\u001b[0m\u001b[1;33m=\u001b[0m\u001b[1;32mNone\u001b[0m\u001b[1;33m,\u001b[0m \u001b[1;33m**\u001b[0m\u001b[0mkwargs\u001b[0m\u001b[1;33m)\u001b[0m\u001b[1;33m:\u001b[0m\u001b[1;33m\u001b[0m\u001b[1;33m\u001b[0m\u001b[0m\n\u001b[1;32m--> 216\u001b[1;33m         \u001b[0msuper\u001b[0m\u001b[1;33m(\u001b[0m\u001b[0mLikelihoodModel\u001b[0m\u001b[1;33m,\u001b[0m \u001b[0mself\u001b[0m\u001b[1;33m)\u001b[0m\u001b[1;33m.\u001b[0m\u001b[0m__init__\u001b[0m\u001b[1;33m(\u001b[0m\u001b[0mendog\u001b[0m\u001b[1;33m,\u001b[0m \u001b[0mexog\u001b[0m\u001b[1;33m,\u001b[0m \u001b[1;33m**\u001b[0m\u001b[0mkwargs\u001b[0m\u001b[1;33m)\u001b[0m\u001b[1;33m\u001b[0m\u001b[1;33m\u001b[0m\u001b[0m\n\u001b[0m\u001b[0;32m    217\u001b[0m         \u001b[0mself\u001b[0m\u001b[1;33m.\u001b[0m\u001b[0minitialize\u001b[0m\u001b[1;33m(\u001b[0m\u001b[1;33m)\u001b[0m\u001b[1;33m\u001b[0m\u001b[1;33m\u001b[0m\u001b[0m\n\u001b[0;32m    218\u001b[0m \u001b[1;33m\u001b[0m\u001b[0m\n",
      "\u001b[1;32m~\\AppData\\Local\\Continuum\\miniconda3\\envs\\pdg\\lib\\site-packages\\statsmodels\\base\\model.py\u001b[0m in \u001b[0;36m__init__\u001b[1;34m(self, endog, exog, **kwargs)\u001b[0m\n\u001b[0;32m     66\u001b[0m         \u001b[0mhasconst\u001b[0m \u001b[1;33m=\u001b[0m \u001b[0mkwargs\u001b[0m\u001b[1;33m.\u001b[0m\u001b[0mpop\u001b[0m\u001b[1;33m(\u001b[0m\u001b[1;34m'hasconst'\u001b[0m\u001b[1;33m,\u001b[0m \u001b[1;32mNone\u001b[0m\u001b[1;33m)\u001b[0m\u001b[1;33m\u001b[0m\u001b[1;33m\u001b[0m\u001b[0m\n\u001b[0;32m     67\u001b[0m         self.data = self._handle_data(endog, exog, missing, hasconst,\n\u001b[1;32m---> 68\u001b[1;33m                                       **kwargs)\n\u001b[0m\u001b[0;32m     69\u001b[0m         \u001b[0mself\u001b[0m\u001b[1;33m.\u001b[0m\u001b[0mk_constant\u001b[0m \u001b[1;33m=\u001b[0m \u001b[0mself\u001b[0m\u001b[1;33m.\u001b[0m\u001b[0mdata\u001b[0m\u001b[1;33m.\u001b[0m\u001b[0mk_constant\u001b[0m\u001b[1;33m\u001b[0m\u001b[1;33m\u001b[0m\u001b[0m\n\u001b[0;32m     70\u001b[0m         \u001b[0mself\u001b[0m\u001b[1;33m.\u001b[0m\u001b[0mexog\u001b[0m \u001b[1;33m=\u001b[0m \u001b[0mself\u001b[0m\u001b[1;33m.\u001b[0m\u001b[0mdata\u001b[0m\u001b[1;33m.\u001b[0m\u001b[0mexog\u001b[0m\u001b[1;33m\u001b[0m\u001b[1;33m\u001b[0m\u001b[0m\n",
      "\u001b[1;32m~\\AppData\\Local\\Continuum\\miniconda3\\envs\\pdg\\lib\\site-packages\\statsmodels\\base\\model.py\u001b[0m in \u001b[0;36m_handle_data\u001b[1;34m(self, endog, exog, missing, hasconst, **kwargs)\u001b[0m\n\u001b[0;32m     89\u001b[0m \u001b[1;33m\u001b[0m\u001b[0m\n\u001b[0;32m     90\u001b[0m     \u001b[1;32mdef\u001b[0m \u001b[0m_handle_data\u001b[0m\u001b[1;33m(\u001b[0m\u001b[0mself\u001b[0m\u001b[1;33m,\u001b[0m \u001b[0mendog\u001b[0m\u001b[1;33m,\u001b[0m \u001b[0mexog\u001b[0m\u001b[1;33m,\u001b[0m \u001b[0mmissing\u001b[0m\u001b[1;33m,\u001b[0m \u001b[0mhasconst\u001b[0m\u001b[1;33m,\u001b[0m \u001b[1;33m**\u001b[0m\u001b[0mkwargs\u001b[0m\u001b[1;33m)\u001b[0m\u001b[1;33m:\u001b[0m\u001b[1;33m\u001b[0m\u001b[1;33m\u001b[0m\u001b[0m\n\u001b[1;32m---> 91\u001b[1;33m         \u001b[0mdata\u001b[0m \u001b[1;33m=\u001b[0m \u001b[0mhandle_data\u001b[0m\u001b[1;33m(\u001b[0m\u001b[0mendog\u001b[0m\u001b[1;33m,\u001b[0m \u001b[0mexog\u001b[0m\u001b[1;33m,\u001b[0m \u001b[0mmissing\u001b[0m\u001b[1;33m,\u001b[0m \u001b[0mhasconst\u001b[0m\u001b[1;33m,\u001b[0m \u001b[1;33m**\u001b[0m\u001b[0mkwargs\u001b[0m\u001b[1;33m)\u001b[0m\u001b[1;33m\u001b[0m\u001b[1;33m\u001b[0m\u001b[0m\n\u001b[0m\u001b[0;32m     92\u001b[0m         \u001b[1;31m# kwargs arrays could have changed, easier to just attach here\u001b[0m\u001b[1;33m\u001b[0m\u001b[1;33m\u001b[0m\u001b[1;33m\u001b[0m\u001b[0m\n\u001b[0;32m     93\u001b[0m         \u001b[1;32mfor\u001b[0m \u001b[0mkey\u001b[0m \u001b[1;32min\u001b[0m \u001b[0mkwargs\u001b[0m\u001b[1;33m:\u001b[0m\u001b[1;33m\u001b[0m\u001b[1;33m\u001b[0m\u001b[0m\n",
      "\u001b[1;32m~\\AppData\\Local\\Continuum\\miniconda3\\envs\\pdg\\lib\\site-packages\\statsmodels\\base\\data.py\u001b[0m in \u001b[0;36mhandle_data\u001b[1;34m(endog, exog, missing, hasconst, **kwargs)\u001b[0m\n\u001b[0;32m    633\u001b[0m     \u001b[0mklass\u001b[0m \u001b[1;33m=\u001b[0m \u001b[0mhandle_data_class_factory\u001b[0m\u001b[1;33m(\u001b[0m\u001b[0mendog\u001b[0m\u001b[1;33m,\u001b[0m \u001b[0mexog\u001b[0m\u001b[1;33m)\u001b[0m\u001b[1;33m\u001b[0m\u001b[1;33m\u001b[0m\u001b[0m\n\u001b[0;32m    634\u001b[0m     return klass(endog, exog=exog, missing=missing, hasconst=hasconst,\n\u001b[1;32m--> 635\u001b[1;33m                  **kwargs)\n\u001b[0m",
      "\u001b[1;32m~\\AppData\\Local\\Continuum\\miniconda3\\envs\\pdg\\lib\\site-packages\\statsmodels\\base\\data.py\u001b[0m in \u001b[0;36m__init__\u001b[1;34m(self, endog, exog, missing, hasconst, **kwargs)\u001b[0m\n\u001b[0;32m     79\u001b[0m         \u001b[0mself\u001b[0m\u001b[1;33m.\u001b[0m\u001b[0mk_constant\u001b[0m \u001b[1;33m=\u001b[0m \u001b[1;36m0\u001b[0m\u001b[1;33m\u001b[0m\u001b[1;33m\u001b[0m\u001b[0m\n\u001b[0;32m     80\u001b[0m         \u001b[0mself\u001b[0m\u001b[1;33m.\u001b[0m\u001b[0m_handle_constant\u001b[0m\u001b[1;33m(\u001b[0m\u001b[0mhasconst\u001b[0m\u001b[1;33m)\u001b[0m\u001b[1;33m\u001b[0m\u001b[1;33m\u001b[0m\u001b[0m\n\u001b[1;32m---> 81\u001b[1;33m         \u001b[0mself\u001b[0m\u001b[1;33m.\u001b[0m\u001b[0m_check_integrity\u001b[0m\u001b[1;33m(\u001b[0m\u001b[1;33m)\u001b[0m\u001b[1;33m\u001b[0m\u001b[1;33m\u001b[0m\u001b[0m\n\u001b[0m\u001b[0;32m     82\u001b[0m         \u001b[0mself\u001b[0m\u001b[1;33m.\u001b[0m\u001b[0m_cache\u001b[0m \u001b[1;33m=\u001b[0m \u001b[1;33m{\u001b[0m\u001b[1;33m}\u001b[0m\u001b[1;33m\u001b[0m\u001b[1;33m\u001b[0m\u001b[0m\n\u001b[0;32m     83\u001b[0m \u001b[1;33m\u001b[0m\u001b[0m\n",
      "\u001b[1;32m~\\AppData\\Local\\Continuum\\miniconda3\\envs\\pdg\\lib\\site-packages\\statsmodels\\base\\data.py\u001b[0m in \u001b[0;36m_check_integrity\u001b[1;34m(self)\u001b[0m\n\u001b[0;32m    497\u001b[0m                 \u001b[1;33m(\u001b[0m\u001b[0mhasattr\u001b[0m\u001b[1;33m(\u001b[0m\u001b[0mendog\u001b[0m\u001b[1;33m,\u001b[0m \u001b[1;34m'index'\u001b[0m\u001b[1;33m)\u001b[0m \u001b[1;32mand\u001b[0m \u001b[0mhasattr\u001b[0m\u001b[1;33m(\u001b[0m\u001b[0mexog\u001b[0m\u001b[1;33m,\u001b[0m \u001b[1;34m'index'\u001b[0m\u001b[1;33m)\u001b[0m\u001b[1;33m)\u001b[0m \u001b[1;32mand\u001b[0m\u001b[1;33m\u001b[0m\u001b[1;33m\u001b[0m\u001b[0m\n\u001b[0;32m    498\u001b[0m                 not self.orig_endog.index.equals(self.orig_exog.index)):\n\u001b[1;32m--> 499\u001b[1;33m             \u001b[1;32mraise\u001b[0m \u001b[0mValueError\u001b[0m\u001b[1;33m(\u001b[0m\u001b[1;34m\"The indices for endog and exog are not aligned\"\u001b[0m\u001b[1;33m)\u001b[0m\u001b[1;33m\u001b[0m\u001b[1;33m\u001b[0m\u001b[0m\n\u001b[0m\u001b[0;32m    500\u001b[0m         \u001b[0msuper\u001b[0m\u001b[1;33m(\u001b[0m\u001b[0mPandasData\u001b[0m\u001b[1;33m,\u001b[0m \u001b[0mself\u001b[0m\u001b[1;33m)\u001b[0m\u001b[1;33m.\u001b[0m\u001b[0m_check_integrity\u001b[0m\u001b[1;33m(\u001b[0m\u001b[1;33m)\u001b[0m\u001b[1;33m\u001b[0m\u001b[1;33m\u001b[0m\u001b[0m\n\u001b[0;32m    501\u001b[0m \u001b[1;33m\u001b[0m\u001b[0m\n",
      "\u001b[1;31mValueError\u001b[0m: The indices for endog and exog are not aligned"
     ]
    }
   ],
   "source": [
    "glm_train_results = list()\n",
    "glm_test_results = list()\n",
    "pastas = stratified_k_fold.split(features_X, y_train)\n",
    "\n",
    "for i, (train_index, test_index) in enumerate(pastas):\n",
    "    print(\"-\"*80)\n",
    "    print(f\"K Fold - Rodada {i}\\n\")\n",
    "    \n",
    "    X_train_cv = features_X.iloc[train_index, : ]\n",
    "    y_train_cv = y_train.iloc[train_index]\n",
    "    \n",
    "    X_test_cv = features_X.iloc[test_index, : ]\n",
    "    y_test_cv = y_train.iloc[test_index]\n",
    "    \n",
    "    print(\"Creating GLM\")\n",
    "    glm = sm.GLM(exog = X_train_cv, endog = y_train_cv, family = sm.families.Binomial())\n",
    "    \n",
    "    print(\"Fitting GLM\")\n",
    "    predictor_glm = glm.fit()\n",
    "    print(predictor_glm.summary())\n",
    "    print(\"-\"*50)\n",
    "    \n",
    "    \n",
    "    predicted_train_probs = predictor_glm.predict(X_train_cv)\n",
    "    \n",
    "    predicted_train = (predicted_train_probs > GLM_TRESHOLD)\n",
    "    glm_train_results.append(score_results(y_train_cv, predicted_train, \"GLM - Treinamento\"))\n",
    "        \n",
    "    predicted_test_probs = predictor_glm.predict(X_test_cv)\n",
    "    predicted_test =  (predicted_test_probs > GLM_TRESHOLD )\n",
    "    glm_test_results.append(score_results(y_test_cv, predicted_test, \"GLM - Teste\", verbose = False))"
   ]
  },
  {
   "cell_type": "markdown",
   "metadata": {
    "ExecuteTime": {
     "end_time": "2020-01-06T12:35:17.189393Z",
     "start_time": "2020-01-06T12:35:17.182393Z"
    },
    "heading_collapsed": true
   },
   "source": [
    "## RBF"
   ]
  },
  {
   "cell_type": "code",
   "execution_count": 49,
   "metadata": {
    "ExecuteTime": {
     "end_time": "2020-01-09T12:28:33.964542Z",
     "start_time": "2020-01-09T12:28:33.961539Z"
    },
    "hidden": true
   },
   "outputs": [],
   "source": [
    "rbf_classifier = RBF.RBFClassifier(number_of_centers = 50, \n",
    "                               random_state = SEED, \n",
    "                               algorithm = LogisticRegression(class_weight=\"balanced\", solver = \"lbfgs\"))"
   ]
  },
  {
   "cell_type": "code",
   "execution_count": 50,
   "metadata": {
    "ExecuteTime": {
     "end_time": "2020-01-09T12:28:48.525993Z",
     "start_time": "2020-01-09T12:28:34.520956Z"
    },
    "hidden": true,
    "scrolled": true
   },
   "outputs": [
    {
     "name": "stdout",
     "output_type": "stream",
     "text": [
      "--------------------------------------------------------------------------------\n",
      "K Fold - Rodada 0\n",
      "\n",
      "Fitting RBF Network\n"
     ]
    },
    {
     "name": "stderr",
     "output_type": "stream",
     "text": [
      "C:\\Users\\barban01\\AppData\\Local\\Continuum\\miniconda3\\envs\\pdg\\lib\\site-packages\\sklearn\\utils\\validation.py:724: DataConversionWarning: A column-vector y was passed when a 1d array was expected. Please change the shape of y to (n_samples, ), for example using ravel().\n",
      "  y = column_or_1d(y, warn=True)\n"
     ]
    },
    {
     "name": "stdout",
     "output_type": "stream",
     "text": [
      "--------------------------------------------------\n",
      "--- RBF Network - Teste ---\n",
      "Matrix de Confusão\n",
      "[[122 936]\n",
      " [ 12 373]]\n",
      "Acurácia Balanceada:  54.21 % \n",
      "Falsos Positivos: 936, Falsos Negativos: 12\n",
      "Verdadeiros Positivos: 373, Verdadeiros Negativos: 122\n",
      "Precisao (tp/(tp+fp)): 28.50%\n",
      "Recall (tp/(tp+fn)): 96.88  %\n",
      "--------------------------------------------------------------------------------\n",
      "--------------------------------------------------------------------------------\n",
      "K Fold - Rodada 1\n",
      "\n",
      "Fitting RBF Network\n"
     ]
    },
    {
     "name": "stderr",
     "output_type": "stream",
     "text": [
      "C:\\Users\\barban01\\AppData\\Local\\Continuum\\miniconda3\\envs\\pdg\\lib\\site-packages\\sklearn\\utils\\validation.py:724: DataConversionWarning: A column-vector y was passed when a 1d array was expected. Please change the shape of y to (n_samples, ), for example using ravel().\n",
      "  y = column_or_1d(y, warn=True)\n"
     ]
    },
    {
     "name": "stdout",
     "output_type": "stream",
     "text": [
      "--------------------------------------------------\n",
      "--- RBF Network - Teste ---\n",
      "Matrix de Confusão\n",
      "[[119 939]\n",
      " [ 13 372]]\n",
      "Acurácia Balanceada:  53.94 % \n",
      "Falsos Positivos: 939, Falsos Negativos: 13\n",
      "Verdadeiros Positivos: 372, Verdadeiros Negativos: 119\n",
      "Precisao (tp/(tp+fp)): 28.38%\n",
      "Recall (tp/(tp+fn)): 96.62  %\n",
      "--------------------------------------------------------------------------------\n",
      "--------------------------------------------------------------------------------\n",
      "K Fold - Rodada 2\n",
      "\n",
      "Fitting RBF Network\n"
     ]
    },
    {
     "name": "stderr",
     "output_type": "stream",
     "text": [
      "C:\\Users\\barban01\\AppData\\Local\\Continuum\\miniconda3\\envs\\pdg\\lib\\site-packages\\sklearn\\utils\\validation.py:724: DataConversionWarning: A column-vector y was passed when a 1d array was expected. Please change the shape of y to (n_samples, ), for example using ravel().\n",
      "  y = column_or_1d(y, warn=True)\n"
     ]
    },
    {
     "name": "stdout",
     "output_type": "stream",
     "text": [
      "--------------------------------------------------\n",
      "--- RBF Network - Teste ---\n",
      "Matrix de Confusão\n",
      "[[156 902]\n",
      " [ 19 365]]\n",
      "Acurácia Balanceada:  54.90 % \n",
      "Falsos Positivos: 902, Falsos Negativos: 19\n",
      "Verdadeiros Positivos: 365, Verdadeiros Negativos: 156\n",
      "Precisao (tp/(tp+fp)): 28.81%\n",
      "Recall (tp/(tp+fn)): 95.05  %\n",
      "--------------------------------------------------------------------------------\n",
      "--------------------------------------------------------------------------------\n",
      "K Fold - Rodada 3\n",
      "\n",
      "Fitting RBF Network\n"
     ]
    },
    {
     "name": "stderr",
     "output_type": "stream",
     "text": [
      "C:\\Users\\barban01\\AppData\\Local\\Continuum\\miniconda3\\envs\\pdg\\lib\\site-packages\\sklearn\\utils\\validation.py:724: DataConversionWarning: A column-vector y was passed when a 1d array was expected. Please change the shape of y to (n_samples, ), for example using ravel().\n",
      "  y = column_or_1d(y, warn=True)\n"
     ]
    },
    {
     "name": "stdout",
     "output_type": "stream",
     "text": [
      "--------------------------------------------------\n",
      "--- RBF Network - Teste ---\n",
      "Matrix de Confusão\n",
      "[[102 956]\n",
      " [ 13 371]]\n",
      "Acurácia Balanceada:  53.13 % \n",
      "Falsos Positivos: 956, Falsos Negativos: 13\n",
      "Verdadeiros Positivos: 371, Verdadeiros Negativos: 102\n",
      "Precisao (tp/(tp+fp)): 27.96%\n",
      "Recall (tp/(tp+fn)): 96.61  %\n",
      "--------------------------------------------------------------------------------\n",
      "--------------------------------------------------------------------------------\n",
      "K Fold - Rodada 4\n",
      "\n",
      "Fitting RBF Network\n",
      "--------------------------------------------------\n",
      "--- RBF Network - Teste ---\n",
      "Matrix de Confusão\n",
      "[[109 948]\n",
      " [ 15 369]]\n",
      "Acurácia Balanceada:  53.20 % \n",
      "Falsos Positivos: 948, Falsos Negativos: 15\n",
      "Verdadeiros Positivos: 369, Verdadeiros Negativos: 109\n",
      "Precisao (tp/(tp+fp)): 28.02%\n",
      "Recall (tp/(tp+fn)): 96.09  %\n",
      "--------------------------------------------------------------------------------\n"
     ]
    },
    {
     "name": "stderr",
     "output_type": "stream",
     "text": [
      "C:\\Users\\barban01\\AppData\\Local\\Continuum\\miniconda3\\envs\\pdg\\lib\\site-packages\\sklearn\\utils\\validation.py:724: DataConversionWarning: A column-vector y was passed when a 1d array was expected. Please change the shape of y to (n_samples, ), for example using ravel().\n",
      "  y = column_or_1d(y, warn=True)\n"
     ]
    }
   ],
   "source": [
    "rbf_train_results = list()\n",
    "rbf_test_results = list()\n",
    "pastas = stratified_k_fold.split(features_X, y_train)\n",
    "\n",
    "for i, (train_index, test_index) in enumerate(pastas):\n",
    "    print(\"-\"*80)\n",
    "    print(f\"K Fold - Rodada {i}\\n\")\n",
    "    \n",
    "    X_train_cv = features_X.iloc[train_index, : ]\n",
    "    y_train_cv = y_train.iloc[train_index]\n",
    "    \n",
    "    X_test_cv = features_X.iloc[test_index, : ]\n",
    "    y_test_cv = y_train.iloc[test_index]\n",
    "    \n",
    "    print(\"Fitting RBF Network\")\n",
    "    rbf_classifier.fit(X_train_cv, y_train_cv)\n",
    "    print(\"-\"*50)\n",
    "    \n",
    "    predicted_train = rbf_classifier.predict(X_train_cv)\n",
    "    rbf_train_results.append(score_results(y_train_cv, predicted_train, \"RBF Network - Treinamento\"))\n",
    "        \n",
    "    predicted_test = rbf_classifier.predict(X_test_cv)\n",
    "    rbf_test_results.append(score_results(y_test_cv, predicted_test, \"RBF Network - Teste\", verbose = True))\n"
   ]
  },
  {
   "cell_type": "markdown",
   "metadata": {
    "ExecuteTime": {
     "end_time": "2020-01-06T12:51:57.775406Z",
     "start_time": "2020-01-06T12:51:57.772403Z"
    }
   },
   "source": [
    "## Results With Scaling"
   ]
  },
  {
   "cell_type": "code",
   "execution_count": 53,
   "metadata": {
    "ExecuteTime": {
     "end_time": "2020-01-09T13:35:29.355712Z",
     "start_time": "2020-01-09T13:35:29.339710Z"
    }
   },
   "outputs": [
    {
     "name": "stdout",
     "output_type": "stream",
     "text": [
      "## TREES\n",
      "\n",
      "* Balanced Accuraty: 60.46% \n",
      "* Precision: 41.52% \n",
      "* Recall: 42.87% \n",
      "* F1: 0.42 \n",
      "\n",
      "# GLM\n",
      "\n",
      "* Balanced Accuraty: nan% \n",
      "* Precision: nan% \n",
      "* Recall: nan% \n",
      "* F1: nan% \n",
      "\n",
      "# RBF\n",
      "\n",
      "* Balanced Accuraty: 53.87% \n",
      "* Precision: 28.33% \n",
      "* Recall: 96.25% \n",
      "* F1: 43.77% \n"
     ]
    }
   ],
   "source": [
    "print(\"## TREES\")\n",
    "print(\"\")\n",
    "print(\"* Balanced Accuraty: {:.2f}% \".format(100*np.mean([result.balanced_accuracy for result in tree_test_results])))\n",
    "print(\"* Precision: {:.2f}% \".format(100*np.mean([result.precision for result in tree_test_results])))\n",
    "print(\"* Recall: {:.2f}% \".format(100*np.mean([result.recall for result in tree_test_results])))\n",
    "print(\"* F1: {:.2f} \".format(np.mean([result.f1 for result in tree_test_results])))\n",
    "print(\"\")\n",
    "print(\"# GLM\")\n",
    "print(\"\")\n",
    "print(\"* Balanced Accuraty: {:.2f}% \".format(100*np.mean([result.balanced_accuracy for result in glm_test_results])))\n",
    "print(\"* Precision: {:.2f}% \".format(100*np.mean([result.precision for result in glm_test_results])))\n",
    "print(\"* Recall: {:.2f}% \".format(100*np.mean([result.recall for result in glm_test_results])))\n",
    "print(\"* F1: {:.2f}% \".format(100*np.mean([result.f1 for result in glm_test_results])))\n",
    "print(\"\")\n",
    "print(\"# RBF\")\n",
    "print(\"\")\n",
    "print(\"* Balanced Accuraty: {:.2f}% \".format(100*np.mean([result.balanced_accuracy for result in rbf_test_results])))\n",
    "print(\"* Precision: {:.2f}% \".format(100*np.mean([result.precision for result in rbf_test_results])))\n",
    "print(\"* Recall: {:.2f}% \".format(100*np.mean([result.recall for result in rbf_test_results])))\n",
    "print(\"* F1: {:.2f}% \".format(100*np.mean([result.f1 for result in rbf_test_results])))"
   ]
  },
  {
   "cell_type": "code",
   "execution_count": null,
   "metadata": {},
   "outputs": [],
   "source": []
  },
  {
   "cell_type": "code",
   "execution_count": 54,
   "metadata": {
    "ExecuteTime": {
     "end_time": "2020-01-09T13:36:15.407793Z",
     "start_time": "2020-01-09T13:36:15.399797Z"
    },
    "scrolled": true
   },
   "outputs": [
    {
     "name": "stdout",
     "output_type": "stream",
     "text": [
      "<< TREE >>\n",
      "Médias\n",
      "Total Real Positives: 1922.00\n",
      "Total Real Negatives: 5289.00\n",
      "Total Predicted Positives: 1985.00\n",
      "Total Predicted Negatives: 5226.00\n",
      "\n",
      "True Positives: 824.00\n",
      "True Negatives: 4128.00\n",
      "False Positives: 1161.00\n",
      "False Negatives: 1098.00\n",
      "\n",
      "Precision: 0.42\n",
      "Recall: 0.43\n",
      "Accuracy Positive(Recall): 0.43\n",
      "Accuracy Negative: 0.78\n",
      "Balanced Accuracy: 0.60\n",
      "F1 Score:  0.42\n",
      "\n",
      "<< GLM >>\n",
      "Médias\n",
      "Total Real Positives: 0.00\n",
      "Total Real Negatives: 0.00\n",
      "Total Predicted Positives: 0.00\n",
      "Total Predicted Negatives: 0.00\n",
      "\n",
      "True Positives: 0.00\n",
      "True Negatives: 0.00\n",
      "False Positives: 0.00\n",
      "False Negatives: 0.00\n",
      "\n",
      "Precision: nan\n",
      "Recall: nan\n",
      "Accuracy Positive(Recall): nan\n",
      "Accuracy Negative: nan\n",
      "Balanced Accuracy: nan\n",
      "F1 Score:  nan\n",
      "\n",
      "<< RBF >>\n",
      "Médias\n",
      "Total Real Positives: 1922.00\n",
      "Total Real Negatives: 5289.00\n",
      "Total Predicted Positives: 6531.00\n",
      "Total Predicted Negatives: 680.00\n",
      "\n",
      "True Positives: 1850.00\n",
      "True Negatives: 608.00\n",
      "False Positives: 4681.00\n",
      "False Negatives: 72.00\n",
      "\n",
      "Precision: 0.28\n",
      "Recall: 0.96\n",
      "Accuracy Positive(Recall): 0.96\n",
      "Accuracy Negative: 0.11\n",
      "Balanced Accuracy: 0.54\n",
      "F1 Score:  0.44\n",
      "\n"
     ]
    },
    {
     "name": "stderr",
     "output_type": "stream",
     "text": [
      "C:\\Users\\barban01\\AppData\\Local\\Continuum\\miniconda3\\envs\\pdg\\lib\\site-packages\\ipykernel_launcher.py:18: RuntimeWarning: invalid value encountered in double_scalars\n",
      "C:\\Users\\barban01\\AppData\\Local\\Continuum\\miniconda3\\envs\\pdg\\lib\\site-packages\\ipykernel_launcher.py:19: RuntimeWarning: invalid value encountered in double_scalars\n",
      "C:\\Users\\barban01\\AppData\\Local\\Continuum\\miniconda3\\envs\\pdg\\lib\\site-packages\\ipykernel_launcher.py:28: RuntimeWarning: invalid value encountered in double_scalars\n",
      "C:\\Users\\barban01\\AppData\\Local\\Continuum\\miniconda3\\envs\\pdg\\lib\\site-packages\\ipykernel_launcher.py:29: RuntimeWarning: invalid value encountered in double_scalars\n"
     ]
    }
   ],
   "source": [
    "print(\"<< TREE >>\")\n",
    "imprime_matriz_de_confusao_media(tree_test_results)\n",
    "print(\"<< GLM >>\")\n",
    "imprime_matriz_de_confusao_media(glm_test_results)\n",
    "print(\"<< RBF >>\")\n",
    "imprime_matriz_de_confusao_media(rbf_test_results)"
   ]
  },
  {
   "cell_type": "code",
   "execution_count": null,
   "metadata": {},
   "outputs": [],
   "source": []
  },
  {
   "cell_type": "code",
   "execution_count": null,
   "metadata": {},
   "outputs": [],
   "source": []
  }
 ],
 "metadata": {
  "kernelspec": {
   "display_name": "Python 3",
   "language": "python",
   "name": "python3"
  },
  "language_info": {
   "codemirror_mode": {
    "name": "ipython",
    "version": 3
   },
   "file_extension": ".py",
   "mimetype": "text/x-python",
   "name": "python",
   "nbconvert_exporter": "python",
   "pygments_lexer": "ipython3",
   "version": "3.7.3"
  },
  "latex_envs": {
   "LaTeX_envs_menu_present": true,
   "autoclose": false,
   "autocomplete": true,
   "bibliofile": "biblio.bib",
   "cite_by": "apalike",
   "current_citInitial": 1,
   "eqLabelWithNumbers": true,
   "eqNumInitial": 1,
   "hotkeys": {
    "equation": "Ctrl-E",
    "itemize": "Ctrl-I"
   },
   "labels_anchors": false,
   "latex_user_defs": false,
   "report_style_numbering": false,
   "user_envs_cfg": false
  },
  "toc": {
   "base_numbering": 1,
   "nav_menu": {},
   "number_sections": true,
   "sideBar": true,
   "skip_h1_title": false,
   "title_cell": "Table of Contents",
   "title_sidebar": "Contents",
   "toc_cell": false,
   "toc_position": {},
   "toc_section_display": true,
   "toc_window_display": false
  }
 },
 "nbformat": 4,
 "nbformat_minor": 2
}
